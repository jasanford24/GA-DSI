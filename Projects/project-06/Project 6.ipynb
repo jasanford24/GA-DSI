{
 "cells": [
  {
   "cell_type": "markdown",
   "metadata": {},
   "source": [
    "My model has ~63% accuracy accurately predicting a movies rating to be above or below the median rating, 8.3.  My model performs best when trying to predict ratings of recently released films.\n",
    "\n",
    "I took the top 250 movies off of IMDB and created a model predicting whether a movie was above or below the median rating of the 250 movies.  Dropping nulls put the total count down to 246 movies.  I Count Vectorized 'Writers', 'Directors', 'Actors', 'Genres', and 'Country'; and I included 'Year', 'imdbRating', 'imdbVotes', and 'Runtime'.  I did not include 'Awards' in my model as doing so would prevent my model from being able to accurately model recently released films.  I also didn't include Metascore since Metascore is pretty much what I'm trying to predict but labeled under a different metric.  I then created two different sets, one with limited features and one with all features.  I also used Eigan Vectors to reduce both sets of features in two additional sets.  I then ran Extra Trees and Random Forest on the select feature set, full feature set, and select/full bucket sets.  I found that 'Extra Trees Default Select Feature Accuracy' and 'Random Forest Default Select Feature Accuracy' were the two most accurate models with minimal difference between the two.  With random chance being around 51% for this dataset, my model makes 10-15% more accurate predictions at ~63% accuracy.  The top five features with highest importance are 'imdbVotes', 'Year', 'Runtime', 'Country: uk', and 'Genre: adventure'.\n",
    "\n",
    "With more time, I could emplement additional feature categories to make the model more accurate.  I also need to figure out why adding more features decreases the accuracy.  My model use to be ~5% more accurate until I changed stuff and messed around.  So if I had more time I'd fix that too."
   ]
  },
  {
   "cell_type": "code",
   "execution_count": 1,
   "metadata": {
    "collapsed": false
   },
   "outputs": [],
   "source": [
    "import pandas as pd\n",
    "import urllib\n",
    "import numpy as np\n",
    "import requests\n",
    "import json\n",
    "import re\n",
    "import matplotlib.pyplot as plt\n",
    "import seaborn as sns\n",
    "\n",
    "from imdbpie import Imdb\n",
    "from operator import itemgetter\n",
    "\n",
    "from sklearn.tree import DecisionTreeRegressor\n",
    "from sklearn.metrics import mean_squared_error, r2_score, classification_report, accuracy_score\n",
    "from sklearn.metrics import roc_auc_score, roc_curve, auc, confusion_matrix\n",
    "from sklearn.ensemble import RandomForestClassifier, ExtraTreesClassifier\n",
    "from sklearn.preprocessing import MinMaxScaler, StandardScaler\n",
    "from sklearn.cross_validation import KFold, cross_val_score, cross_val_predict, train_test_split\n",
    "from sklearn.feature_extraction.text import CountVectorizer\n",
    "from sklearn.decomposition import PCA\n",
    "\n",
    "from sklearn.linear_model import LogisticRegression, LogisticRegressionCV\n",
    "from sklearn.grid_search import GridSearchCV\n",
    "\n",
    "from nltk.tag import pos_tag\n",
    "from nltk.tokenize import WordPunctTokenizer\n",
    "\n",
    "from unidecode import unidecode\n",
    "\n",
    "%matplotlib inline"
   ]
  },
  {
   "cell_type": "code",
   "execution_count": 2,
   "metadata": {
    "collapsed": true
   },
   "outputs": [],
   "source": [
    "randy_state = 77"
   ]
  },
  {
   "cell_type": "code",
   "execution_count": 3,
   "metadata": {
    "collapsed": true
   },
   "outputs": [],
   "source": [
    "#Uses api to get top 250 movies off of IMDB\n",
    "def get_top_250():\n",
    "    response = requests.get('http://www.imdb.com/chart/top')\n",
    "    html = response.text\n",
    "    entries = re.findall(\"<a href.*?/title/(.*?)/\", html)\n",
    "    return list(set(entries))"
   ]
  },
  {
   "cell_type": "code",
   "execution_count": 4,
   "metadata": {
    "collapsed": true
   },
   "outputs": [],
   "source": [
    "#Gets the data for each movie\n",
    "def get_entry(entry):\n",
    "    res = requests.get('http://www.omdbapi.com/?i='+entry)\n",
    "    if res.status_code != 200:\n",
    "        print entry, res.status_code\n",
    "    else:\n",
    "        print '.',\n",
    "    try:\n",
    "        j = json.loads(res.text)\n",
    "    except ValueError:\n",
    "        j = None\n",
    "    return j"
   ]
  },
  {
   "cell_type": "code",
   "execution_count": 5,
   "metadata": {
    "collapsed": false
   },
   "outputs": [],
   "source": [
    "#Performs a cross_val_score\n",
    "def do_cross_val(model, alt):\n",
    "    cv = KFold(len(y), shuffle=True)\n",
    "    scores = cross_val_score(model, alt, y, cv=cv, n_jobs=-1)\n",
    "    return scores.mean()"
   ]
  },
  {
   "cell_type": "code",
   "execution_count": 6,
   "metadata": {
    "collapsed": true
   },
   "outputs": [],
   "source": [
    "#Creates buckets\n",
    "def eigenBucket(Ex):\n",
    "    f_df = StandardScaler().fit_transform(Ex)\n",
    "    cov_mat = np.cov(f_df.T)\n",
    "\n",
    "    eigenValues, eigenVectors = np.linalg.eig(cov_mat)\n",
    "    eig_pairs = [(np.abs(eigenValues[i]), eigenVectors[:,i]) for i in range(len(eigenValues))]\n",
    "    eig_pairs = sorted(eig_pairs, key=itemgetter(0))\n",
    "    eig_pairs.reverse()\n",
    "\n",
    "    pca = PCA(n_components=50)\n",
    "    pca.fit(f_df)\n",
    "\n",
    "    shape_size = eig_pairs[0][1].shape[0]\n",
    "\n",
    "    W = np.hstack((eig_pairs[0][1].reshape(shape_size,1), eig_pairs[1][1].reshape(shape_size,1))) # Our transformation matrix\n",
    "    return f_df.dot(W)"
   ]
  },
  {
   "cell_type": "code",
   "execution_count": 7,
   "metadata": {
    "collapsed": true
   },
   "outputs": [],
   "source": [
    "#Function to run the ExtraTrees and RandomForest Classifiers with several datasets.\n",
    "#(X, y, \"description\", \"ETC\"|\"RFC\")\n",
    "def extraTreestrial(Ex, Why, strang, classif):\n",
    "    if classif == \"ETC\":\n",
    "        etc = ExtraTreesClassifier(random_state=randy_state, n_jobs=-1)\n",
    "        etc.fit(Ex, Why)\n",
    "        print strang, do_cross_val(etc, Ex).round(3)\n",
    "    elif classif == \"RFC\":\n",
    "        etc = RandomForestClassifier(random_state=randy_state, n_jobs=-1)\n",
    "        etc.fit(Ex, Why)\n",
    "        print strang, do_cross_val(etc, Ex).round(3)"
   ]
  },
  {
   "cell_type": "code",
   "execution_count": 8,
   "metadata": {
    "collapsed": true
   },
   "outputs": [],
   "source": [
    "#Runs Count Vectorizer for select columns\n",
    "def tmnt(nam, rang, strng):\n",
    "    cvec = CountVectorizer(ngram_range=(rang,rang))\n",
    "    cvec.fit(df[nam])\n",
    "\n",
    "    columns = [nam + ': '+c for c in cvec.get_feature_names()]\n",
    "\n",
    "    director_df  = pd.DataFrame(cvec.transform(df[nam]).todense(), columns=columns)\n",
    "    \n",
    "    if strng == \"FULL\":\n",
    "        return director_df\n",
    "    elif strng == \"SELECT\":\n",
    "        temp_df = director_df\n",
    "        k_df = temp_df[[ind for ind, x in enumerate(director_df) if director_df[columns[ind]].sum() > 4]]\n",
    "\n",
    "        return k_df"
   ]
  },
  {
   "cell_type": "code",
   "execution_count": 9,
   "metadata": {
    "collapsed": true
   },
   "outputs": [],
   "source": [
    "entries = get_top_250()"
   ]
  },
  {
   "cell_type": "code",
   "execution_count": 10,
   "metadata": {
    "collapsed": false
   },
   "outputs": [
    {
     "name": "stdout",
     "output_type": "stream",
     "text": [
      ". . . . . . . . . . . . . . . . . . . . . . . . . . . . . . . . . . . . . . . . . . . . . . . . . . . . . . . . . . . . . . . . . . . . . . . . . . . . . . . . . . . . . . . . . . . . . . . . . . . . . . . . . . . . . . . . . . . . . . . . . . . . . . . . . . . . . . . . . . . . . . . . . . . . . . . . . . . . . . . . . . . . . . . . . . . . . . . . . . . . . . . . . . . . . . . . . . . . . . . . . . . . . . . . . . . . . . . . . . . . . . . . . . . . . . . . . . . . . . . . . . . . . . . . . .\n"
     ]
    }
   ],
   "source": [
    "entries_dict_list = [get_entry(e) for e in entries]"
   ]
  },
  {
   "cell_type": "code",
   "execution_count": 11,
   "metadata": {
    "collapsed": false
   },
   "outputs": [],
   "source": [
    "df = pd.DataFrame(entries_dict_list)\n",
    "del df['Type']\n",
    "del df['Poster']\n",
    "del df['Response']\n",
    "del df['Metascore']\n",
    "del df['Plot']"
   ]
  },
  {
   "cell_type": "code",
   "execution_count": 12,
   "metadata": {
    "collapsed": false
   },
   "outputs": [],
   "source": [
    "#Converts Runtime to INT\n",
    "df['Runtime'] = pd.Series([int(x.split(' ')[0]) for x in df['Runtime']])\n",
    "\n",
    "#Converts Year to INT\n",
    "df['Year'] = pd.Series([int(x) for x in df['Year']])\n",
    "\n",
    "#Converts IMDB Rating to FLOAT\n",
    "df['imdbRating'] = pd.Series([float(x) for x in df['imdbRating']])\n",
    "\n",
    "#Converts IMDB Votes to INT\n",
    "df['imdbVotes'] = pd.Series([int(x.replace(',', '')) for x in df['imdbVotes']])\n",
    "\n",
    "#df['Year'] = MinMaxScaler().fit_transform(df['Year'].astype(float).reshape(-1, 1))"
   ]
  },
  {
   "cell_type": "code",
   "execution_count": 13,
   "metadata": {
    "collapsed": false
   },
   "outputs": [],
   "source": [
    "#Converts N/A to NaNs in order to be dropped.\n",
    "df['Awards'] = df['Awards'].replace('N/A', np.nan)\n",
    "#May reconsider above.  Tokenizing may fix need for it.\n",
    "\n",
    "#Drops NaNs\n",
    "df.dropna(inplace=True)\n",
    "df = df.reset_index(drop=True)"
   ]
  },
  {
   "cell_type": "code",
   "execution_count": 14,
   "metadata": {
    "collapsed": false,
    "scrolled": false
   },
   "outputs": [
    {
     "data": {
      "text/html": [
       "<div>\n",
       "<table border=\"1\" class=\"dataframe\">\n",
       "  <thead>\n",
       "    <tr style=\"text-align: right;\">\n",
       "      <th></th>\n",
       "      <th>Actors</th>\n",
       "      <th>Awards</th>\n",
       "      <th>Country</th>\n",
       "      <th>Director</th>\n",
       "      <th>Genre</th>\n",
       "      <th>Language</th>\n",
       "      <th>Rated</th>\n",
       "      <th>Released</th>\n",
       "      <th>Runtime</th>\n",
       "      <th>Title</th>\n",
       "      <th>Writer</th>\n",
       "      <th>Year</th>\n",
       "      <th>imdbID</th>\n",
       "      <th>imdbRating</th>\n",
       "      <th>imdbVotes</th>\n",
       "    </tr>\n",
       "  </thead>\n",
       "  <tbody>\n",
       "    <tr>\n",
       "      <th>245</th>\n",
       "      <td>Sener Sen, Ugur Yücel, Sermin Hürmeric, Yesim ...</td>\n",
       "      <td>2 wins.</td>\n",
       "      <td>Turkey</td>\n",
       "      <td>Yavuz Turgul</td>\n",
       "      <td>Crime, Drama, Thriller</td>\n",
       "      <td>Turkish</td>\n",
       "      <td>N/A</td>\n",
       "      <td>29 Nov 1996</td>\n",
       "      <td>128</td>\n",
       "      <td>The Bandit</td>\n",
       "      <td>Yavuz Turgul</td>\n",
       "      <td>1996</td>\n",
       "      <td>tt0116231</td>\n",
       "      <td>8.6</td>\n",
       "      <td>34685</td>\n",
       "    </tr>\n",
       "  </tbody>\n",
       "</table>\n",
       "</div>"
      ],
      "text/plain": [
       "                                                Actors   Awards Country  \\\n",
       "245  Sener Sen, Ugur Yücel, Sermin Hürmeric, Yesim ...  2 wins.  Turkey   \n",
       "\n",
       "         Director                   Genre Language Rated     Released  \\\n",
       "245  Yavuz Turgul  Crime, Drama, Thriller  Turkish   N/A  29 Nov 1996   \n",
       "\n",
       "     Runtime       Title        Writer  Year     imdbID  imdbRating  imdbVotes  \n",
       "245      128  The Bandit  Yavuz Turgul  1996  tt0116231         8.6      34685  "
      ]
     },
     "execution_count": 14,
     "metadata": {},
     "output_type": "execute_result"
    }
   ],
   "source": [
    "df.tail(1)"
   ]
  },
  {
   "cell_type": "code",
   "execution_count": 15,
   "metadata": {
    "collapsed": false,
    "scrolled": true
   },
   "outputs": [
    {
     "name": "stderr",
     "output_type": "stream",
     "text": [
      "/Users/Jesse/anaconda/lib/python2.7/site-packages/ipykernel/__main__.py:3: SettingWithCopyWarning: \n",
      "A value is trying to be set on a copy of a slice from a DataFrame\n",
      "\n",
      "See the caveats in the documentation: http://pandas.pydata.org/pandas-docs/stable/indexing.html#indexing-view-versus-copy\n",
      "  app.launch_new_instance()\n",
      "/Users/Jesse/anaconda/lib/python2.7/site-packages/ipykernel/__main__.py:4: SettingWithCopyWarning: \n",
      "A value is trying to be set on a copy of a slice from a DataFrame\n",
      "\n",
      "See the caveats in the documentation: http://pandas.pydata.org/pandas-docs/stable/indexing.html#indexing-view-versus-copy\n"
     ]
    }
   ],
   "source": [
    "#Converts the text and removes everything inside of parenthesis\n",
    "for x in range(len(df['Writer'])):\n",
    "    df['Writer'][x] = unidecode(df['Writer'][x])\n",
    "    df['Writer'][x] = re.sub(' \\(.*?\\)','',df['Writer'][x], flags=re.DOTALL).strip()"
   ]
  },
  {
   "cell_type": "code",
   "execution_count": 16,
   "metadata": {
    "collapsed": true
   },
   "outputs": [],
   "source": [
    "dummy_rated = pd.get_dummies(df[\"Rated\"], prefix=\"rated: \")"
   ]
  },
  {
   "cell_type": "code",
   "execution_count": 17,
   "metadata": {
    "collapsed": false
   },
   "outputs": [],
   "source": [
    "final_df = pd.concat([tmnt('Writer', 2, \"SELECT\"), tmnt('Genre', 1, \"SELECT\")], axis=1)\n",
    "final_df = pd.concat([final_df, tmnt('Actors', 2, \"SELECT\")], axis=1)\n",
    "final_df = pd.concat([final_df, tmnt('Country', 1, \"SELECT\")], axis=1)\n",
    "final_df = pd.concat([final_df, tmnt('Director', 2, \"SELECT\")], axis=1)\n",
    "final_df = pd.concat([final_df, dummy_rated], axis=1)\n",
    "final_df = pd.concat([final_df, df['Year']], axis=1)\n",
    "final_df = pd.concat([final_df, df['Runtime']], axis=1)\n",
    "final_df['Year'] = MinMaxScaler().fit_transform(final_df['Year'].astype(float).reshape(-1, 1))\n",
    "final_df['Runtime'] = MinMaxScaler().fit_transform(final_df['Runtime'].astype(float).reshape(-1, 1))"
   ]
  },
  {
   "cell_type": "code",
   "execution_count": 18,
   "metadata": {
    "collapsed": false
   },
   "outputs": [],
   "source": [
    "alt_df = pd.concat([tmnt('Writer', 2, \"FULL\"), tmnt('Genre', 1, \"FULL\")], axis=1)\n",
    "alt_df = pd.concat([alt_df, tmnt('Actors', 2, \"FULL\")], axis=1)\n",
    "alt_df = pd.concat([alt_df, tmnt('Country', 1, \"FULL\")], axis=1)\n",
    "alt_df = pd.concat([alt_df, tmnt('Director', 2, \"FULL\")], axis=1)\n",
    "alt_df = pd.concat([alt_df, dummy_rated], axis=1)\n",
    "alt_df = pd.concat([alt_df, df['Year']], axis=1)\n",
    "alt_df = pd.concat([alt_df, df['Runtime']], axis=1)\n",
    "alt_df['Year'] = MinMaxScaler().fit_transform(alt_df['Year'].astype(float).reshape(-1, 1))\n",
    "alt_df['Runtime'] = MinMaxScaler().fit_transform(alt_df['Runtime'].astype(float).reshape(-1, 1))"
   ]
  },
  {
   "cell_type": "code",
   "execution_count": 43,
   "metadata": {
    "collapsed": false
   },
   "outputs": [],
   "source": [
    "X = final_df\n",
    "X_alt = alt_df\n",
    "y = df['imdbRating']>=df['imdbRating'].median()  #8.3"
   ]
  },
  {
   "cell_type": "code",
   "execution_count": 20,
   "metadata": {
    "collapsed": true
   },
   "outputs": [],
   "source": [
    "X_reduced = eigenBucket(X)\n",
    "X_reduced_alt = eigenBucket(X_alt)"
   ]
  },
  {
   "cell_type": "code",
   "execution_count": 21,
   "metadata": {
    "collapsed": false
   },
   "outputs": [
    {
     "name": "stdout",
     "output_type": "stream",
     "text": [
      "   Extra Trees Default Select Feature Accuracy:  0.565\n",
      "  Extra Trees Bucketed Select Feature Accuracy: "
     ]
    },
    {
     "name": "stderr",
     "output_type": "stream",
     "text": [
      "/Users/Jesse/anaconda/lib/python2.7/site-packages/sklearn/utils/validation.py:373: ComplexWarning: Casting complex values to real discards the imaginary part\n",
      "  array = np.array(array, dtype=dtype, order=order, copy=copy)\n"
     ]
    },
    {
     "name": "stdout",
     "output_type": "stream",
     "text": [
      " 0.565\n",
      "     Extra Trees Default Full Feature Accuracy:  0.516\n",
      "    Extra Trees Bucketed Full Feature Accuracy:  0.496\n",
      " Random Forest Default Select Feature Accuracy:  0.577\n",
      "Random Forest Bucketed Select Feature Accuracy:  0.553\n",
      "   Random Forest Default Full Feature Accuracy:  0.593\n",
      "  Random Forest Bucketed Full Feature Accuracy:  0.545\n"
     ]
    }
   ],
   "source": [
    "#Runs CrossVal on ExtraTreesClassifier\n",
    "extraTreestrial(X, y, \"   Extra Trees Default Select Feature Accuracy: \", \"ETC\")\n",
    "extraTreestrial(X_reduced, y, \"  Extra Trees Bucketed Select Feature Accuracy: \", \"ETC\")\n",
    "extraTreestrial(X_alt, y, \"     Extra Trees Default Full Feature Accuracy: \", \"ETC\")\n",
    "extraTreestrial(X_reduced_alt, y, \"    Extra Trees Bucketed Full Feature Accuracy: \", \"ETC\")\n",
    "\n",
    "extraTreestrial(X, y, \" Random Forest Default Select Feature Accuracy: \", \"RFC\")\n",
    "extraTreestrial(X_reduced, y, \"Random Forest Bucketed Select Feature Accuracy: \", \"RFC\")\n",
    "extraTreestrial(X_alt, y, \"   Random Forest Default Full Feature Accuracy: \", \"RFC\")\n",
    "extraTreestrial(X_reduced_alt, y, \"  Random Forest Bucketed Full Feature Accuracy: \", \"RFC\")"
   ]
  },
  {
   "cell_type": "code",
   "execution_count": null,
   "metadata": {
    "collapsed": true
   },
   "outputs": [],
   "source": []
  },
  {
   "cell_type": "code",
   "execution_count": null,
   "metadata": {
    "collapsed": false
   },
   "outputs": [],
   "source": []
  },
  {
   "cell_type": "code",
   "execution_count": 22,
   "metadata": {
    "collapsed": false
   },
   "outputs": [
    {
     "data": {
      "image/png": "[encoded data removed]",
      "text/plain": [
       "<matplotlib.figure.Figure at 0x118535610>"
      ]
     },
     "metadata": {},
     "output_type": "display_data"
    }
   ],
   "source": [
    "def distribution_plotter(column, data):\n",
    "    sns.set(rc={\"figure.figsize\": (10, 6)})\n",
    "    sns.set_style(\"dark\", {\"axes.facecolor\": \".9\"})\n",
    "    sns.set\n",
    "    dist = sns.distplot(data, hist_kws={'alpha':0.5}, kde_kws={'linewidth':5})\n",
    "    dist.set_title('Distribution of ' + column + '\\n', fontsize=24)\n",
    "\n",
    "testy = df['Year']\n",
    "testy = testy.dropna().to_frame()\n",
    "distribution_plotter('Release Year', testy['Year'])"
   ]
  },
  {
   "cell_type": "code",
   "execution_count": 23,
   "metadata": {
    "collapsed": false
   },
   "outputs": [
    {
     "data": {
      "image/png": "[encoded data removed]",
      "text/plain": [
       "<matplotlib.figure.Figure at 0x118887d50>"
      ]
     },
     "metadata": {},
     "output_type": "display_data"
    }
   ],
   "source": [
    "testy = df['Runtime']\n",
    "testy = testy.dropna().to_frame()\n",
    "distribution_plotter('Runtime', testy['Runtime'])"
   ]
  },
  {
   "cell_type": "code",
   "execution_count": null,
   "metadata": {
    "collapsed": false
   },
   "outputs": [],
   "source": []
  },
  {
   "cell_type": "code",
   "execution_count": 24,
   "metadata": {
    "collapsed": false
   },
   "outputs": [
    {
     "data": {
      "text/html": [
       "<div>\n",
       "<table border=\"1\" class=\"dataframe\">\n",
       "  <thead>\n",
       "    <tr style=\"text-align: right;\">\n",
       "      <th></th>\n",
       "      <th>et_importance</th>\n",
       "    </tr>\n",
       "  </thead>\n",
       "  <tbody>\n",
       "    <tr>\n",
       "      <th>Year</th>\n",
       "      <td>0.031442</td>\n",
       "    </tr>\n",
       "    <tr>\n",
       "      <th>Runtime</th>\n",
       "      <td>0.012094</td>\n",
       "    </tr>\n",
       "    <tr>\n",
       "      <th>Genre: thriller</th>\n",
       "      <td>0.007879</td>\n",
       "    </tr>\n",
       "    <tr>\n",
       "      <th>Country: canada</th>\n",
       "      <td>0.007832</td>\n",
       "    </tr>\n",
       "    <tr>\n",
       "      <th>Country: uk</th>\n",
       "      <td>0.007757</td>\n",
       "    </tr>\n",
       "    <tr>\n",
       "      <th>Director: ingmar bergman</th>\n",
       "      <td>0.007411</td>\n",
       "    </tr>\n",
       "    <tr>\n",
       "      <th>Actors: faye dunaway</th>\n",
       "      <td>0.007030</td>\n",
       "    </tr>\n",
       "    <tr>\n",
       "      <th>Writer: frank pierson</th>\n",
       "      <td>0.006832</td>\n",
       "    </tr>\n",
       "    <tr>\n",
       "      <th>Writer: tullio pinelli</th>\n",
       "      <td>0.006343</td>\n",
       "    </tr>\n",
       "    <tr>\n",
       "      <th>Country: usa</th>\n",
       "      <td>0.006127</td>\n",
       "    </tr>\n",
       "  </tbody>\n",
       "</table>\n",
       "</div>"
      ],
      "text/plain": [
       "                          et_importance\n",
       "Year                           0.031442\n",
       "Runtime                        0.012094\n",
       "Genre: thriller                0.007879\n",
       "Country: canada                0.007832\n",
       "Country: uk                    0.007757\n",
       "Director: ingmar bergman       0.007411\n",
       "Actors: faye dunaway           0.007030\n",
       "Writer: frank pierson          0.006832\n",
       "Writer: tullio pinelli         0.006343\n",
       "Country: usa                   0.006127"
      ]
     },
     "execution_count": 24,
     "metadata": {},
     "output_type": "execute_result"
    },
    {
     "data": {
      "image/png": "[encoded data removed]",
      "text/plain": [
       "<matplotlib.figure.Figure at 0x118a89e90>"
      ]
     },
     "metadata": {},
     "output_type": "display_data"
    }
   ],
   "source": [
    "etc = RandomForestClassifier(random_state=randy_state, n_jobs=-1)\n",
    "etc.fit(X_alt, y)\n",
    "\n",
    "importances = pd.DataFrame(etc.feature_importances_,\n",
    "                           index=X_alt.columns,\n",
    "                           columns=['et_importance']).sort_values('et_importance', ascending=False)\n",
    "\n",
    "                           \n",
    "importances.plot(kind='bar')\n",
    "importances.head(10)"
   ]
  },
  {
   "cell_type": "code",
   "execution_count": null,
   "metadata": {
    "collapsed": true
   },
   "outputs": [],
   "source": []
  },
  {
   "cell_type": "code",
   "execution_count": 25,
   "metadata": {
    "collapsed": false
   },
   "outputs": [],
   "source": [
    "X_train, X_test, Y_train, Y_test = train_test_split(final_df, y, test_size=0.6, random_state=77)"
   ]
  },
  {
   "cell_type": "code",
   "execution_count": 26,
   "metadata": {
    "collapsed": false
   },
   "outputs": [],
   "source": [
    "etc = RandomForestClassifier(class_weight=\"balanced\", random_state=randy_state, n_jobs=-1)\n",
    "etc.fit(X_train, Y_train)\n",
    "y_pred = etc.predict(X_test)"
   ]
  },
  {
   "cell_type": "code",
   "execution_count": 27,
   "metadata": {
    "collapsed": false
   },
   "outputs": [
    {
     "name": "stdout",
     "output_type": "stream",
     "text": [
      "             precision    recall  f1-score   support\n",
      "\n",
      "      False       0.53      0.61      0.57        70\n",
      "       True       0.60      0.51      0.55        78\n",
      "\n",
      "avg / total       0.57      0.56      0.56       148\n",
      "\n"
     ]
    }
   ],
   "source": [
    "print classification_report(Y_test,y_pred)"
   ]
  },
  {
   "cell_type": "code",
   "execution_count": 28,
   "metadata": {
    "collapsed": false
   },
   "outputs": [
    {
     "data": {
      "text/plain": [
       "GridSearchCV(cv=None, error_score='raise',\n",
       "       estimator=LogisticRegression(C=1.0, class_weight=None, dual=False, fit_intercept=True,\n",
       "          intercept_scaling=1, max_iter=100, multi_class='ovr', n_jobs=1,\n",
       "          penalty='l2', random_state=None, solver='liblinear', tol=0.0001,\n",
       "          verbose=0, warm_start=False),\n",
       "       fit_params={}, iid=True, n_jobs=1,\n",
       "       param_grid={'penalty': ['l1', 'l2'], 'C': array([  1.00000e-05,   1.32571e-05,   1.75751e-05,   2.32995e-05,\n",
       "         3.08884e-05,   4.09492e-05,   5.42868e-05,   7.19686e-05,\n",
       "         9.54095e-05,   1.26486e-04,   1.67683e-04,   2.22300e-04,\n",
       "         2.94705e-04,   3.90694e-04,   5.17947e-04,   6.8...6e+00,   4.29193e+00,   5.68987e+00,\n",
       "         7.54312e+00,   1.00000e+01]), 'solver': ['liblinear']},\n",
       "       pre_dispatch='2*n_jobs', refit=True, scoring=None, verbose=0)"
      ]
     },
     "execution_count": 28,
     "metadata": {},
     "output_type": "execute_result"
    }
   ],
   "source": [
    "logreg_parameters = {\n",
    "    'penalty':['l1','l2'],\n",
    "    'C':np.logspace(-5,1,50),\n",
    "    'solver':['liblinear']\n",
    "}\n",
    "\n",
    "\n",
    "model = GridSearchCV(LogisticRegression(), logreg_parameters)\n",
    "model.fit(final_df, y)"
   ]
  },
  {
   "cell_type": "code",
   "execution_count": 29,
   "metadata": {
    "collapsed": false
   },
   "outputs": [
    {
     "name": "stdout",
     "output_type": "stream",
     "text": [
      "             precision    recall  f1-score   support\n",
      "\n",
      "      False       0.80      0.86      0.83        70\n",
      "       True       0.86      0.81      0.83        78\n",
      "\n",
      "avg / total       0.83      0.83      0.83       148\n",
      "\n"
     ]
    }
   ],
   "source": [
    "logreg = model.best_estimator_\n",
    "y_pred = logreg.predict(X_test)\n",
    "y_score = logreg.decision_function(X_test)\n",
    "print classification_report(Y_test,y_pred)"
   ]
  },
  {
   "cell_type": "code",
   "execution_count": 30,
   "metadata": {
    "collapsed": false
   },
   "outputs": [
    {
     "data": {
      "image/png": "[encoded data removed]",
      "text/plain": [
       "<matplotlib.figure.Figure at 0x131221210>"
      ]
     },
     "metadata": {},
     "output_type": "display_data"
    }
   ],
   "source": [
    "\"\"\" Plot AUC\"\"\"\n",
    "\n",
    "FPR = dict()\n",
    "TPR = dict()\n",
    "ROC_AUC = dict()\n",
    "\n",
    "# For class 1, find the area under the curve\n",
    "FPR[1], TPR[1], _ = roc_curve(Y_test, y_score)\n",
    "ROC_AUC[1] = auc(FPR[1], TPR[1])\n",
    "\n",
    "# Plot of a ROC curve for class 1 (has_cancer)\n",
    "plt.figure(figsize=[11,9])\n",
    "plt.plot(FPR[1], TPR[1], label='ROC curve (area = %0.2f)' % ROC_AUC[1], linewidth=4)\n",
    "plt.plot([0, 1], [0, 1], 'k--', linewidth=4)\n",
    "plt.xlim([0.0, 1.0])\n",
    "plt.ylim([0.0, 1.05])\n",
    "plt.xlabel('False Positive Rate', fontsize=18)\n",
    "plt.ylabel('True Positive Rate', fontsize=18)\n",
    "plt.title('Predicting survival', fontsize=18)\n",
    "plt.legend(loc=\"lower right\")\n",
    "plt.show()"
   ]
  },
  {
   "cell_type": "code",
   "execution_count": null,
   "metadata": {
    "collapsed": true
   },
   "outputs": [],
   "source": []
  },
  {
   "cell_type": "code",
   "execution_count": null,
   "metadata": {
    "collapsed": false
   },
   "outputs": [],
   "source": []
  },
  {
   "cell_type": "code",
   "execution_count": 31,
   "metadata": {
    "collapsed": true
   },
   "outputs": [],
   "source": [
    "temp_df = final_df.T\n",
    "temp_df = temp_df[[ind for ind, x in enumerate(df['Year']) if x > 1980]].T\n",
    "ftest_df = temp_df.reset_index(drop=True)\n",
    "\n",
    "temp_df = df.T\n",
    "temp_df = temp_df[[ind for ind, x in enumerate(df['Year']) if x > 1980]].T\n",
    "fff_df = temp_df.reset_index(drop=True)"
   ]
  },
  {
   "cell_type": "code",
   "execution_count": 32,
   "metadata": {
    "collapsed": false
   },
   "outputs": [],
   "source": [
    "X = ftest_df\n",
    "y = fff_df['imdbRating']>=fff_df['imdbRating'].median()  #8.3"
   ]
  },
  {
   "cell_type": "code",
   "execution_count": 33,
   "metadata": {
    "collapsed": false
   },
   "outputs": [],
   "source": [
    "etc = ExtraTreesClassifier(random_state=randy_state, n_jobs=-1)\n",
    "etc.fit(X, y)\n",
    "\n",
    "cv = KFold(len(y), shuffle=True)\n",
    "scores = cross_val_score(etc, X, y, cv=cv, n_jobs=-1)"
   ]
  },
  {
   "cell_type": "code",
   "execution_count": 34,
   "metadata": {
    "collapsed": false
   },
   "outputs": [
    {
     "data": {
      "text/plain": [
       "0.5816993464052288"
      ]
     },
     "execution_count": 34,
     "metadata": {},
     "output_type": "execute_result"
    }
   ],
   "source": [
    "scores.mean()"
   ]
  },
  {
   "cell_type": "code",
   "execution_count": null,
   "metadata": {
    "collapsed": true
   },
   "outputs": [],
   "source": []
  }
 ],
 "metadata": {
  "anaconda-cloud": {},
  "kernelspec": {
   "display_name": "Python [Root]",
   "language": "python",
   "name": "Python [Root]"
  },
  "language_info": {
   "codemirror_mode": {
    "name": "ipython",
    "version": 2
   },
   "file_extension": ".py",
   "mimetype": "text/x-python",
   "name": "python",
   "nbconvert_exporter": "python",
   "pygments_lexer": "ipython2",
   "version": "2.7.12"
  }
 },
 "nbformat": 4,
 "nbformat_minor": 0
}
