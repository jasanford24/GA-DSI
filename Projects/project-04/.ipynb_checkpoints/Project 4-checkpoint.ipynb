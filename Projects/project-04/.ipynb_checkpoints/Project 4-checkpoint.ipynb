{
 "cells": [
  {
   "cell_type": "code",
   "execution_count": 1,
   "metadata": {
    "collapsed": true
   },
   "outputs": [],
   "source": [
    "import patsy\n",
    "import pandas as pd\n",
    "import seaborn as sns\n",
    "import numpy as np\n",
    "import matplotlib.pyplot as plt\n",
    "from datetime import datetime, date, time\n",
    "from pandas.tools.plotting import scatter_matrix\n",
    "\n",
    "from sklearn import datasets, linear_model\n",
    "from sklearn.grid_search import GridSearchCV\n",
    "from sklearn.cross_validation import train_test_split, cross_val_score\n",
    "from sklearn.linear_model import LogisticRegression, LogisticRegressionCV\n",
    "from sklearn.metrics import mean_squared_error, r2_score, classification_report, accuracy_score\n",
    "from sklearn.metrics import roc_auc_score, roc_curve, auc, confusion_matrix\n",
    "%matplotlib inline"
   ]
  },
  {
   "cell_type": "code",
   "execution_count": 2,
   "metadata": {
    "collapsed": false
   },
   "outputs": [],
   "source": [
    "## Load the data into a DataFrame\n",
    "master_df = pd.read_csv('master.csv', encoding='latin-1')\n",
    "glassdoor_df = pd.read_csv('glassdoor_df.csv', encoding='latin-1')\n",
    "del master_df['Unnamed: 0']\n",
    "pd.options.mode.chained_assignment = None"
   ]
  },
  {
   "cell_type": "code",
   "execution_count": 3,
   "metadata": {
    "collapsed": false
   },
   "outputs": [],
   "source": [
    "#Removes all NaN Salaries\n",
    "temp_df = master_df.T\n",
    "master_df = temp_df[[ind for ind, x in enumerate(master_df['salary']) if x > 0]].T\n",
    "master_df = master_df.reset_index(drop=True)"
   ]
  },
  {
   "cell_type": "code",
   "execution_count": 4,
   "metadata": {
    "collapsed": false
   },
   "outputs": [],
   "source": [
    "#Turns all title strings to lower case and replaces sr. with senior.\n",
    "master_df['title'] = map(lambda x: x.lower(), master_df['title'])\n",
    "master_df['summary'] = map(lambda x: x.lower(), master_df['summary'])\n",
    "master_df['title'] = (master_df['title'].replace( 'sr.','senior ', regex=True))\n",
    "master_df['title'] = (master_df['title'].replace( 'senior  ','senior ', regex=True))\n",
    "master_copy = master_df"
   ]
  },
  {
   "cell_type": "code",
   "execution_count": 5,
   "metadata": {
    "collapsed": false
   },
   "outputs": [],
   "source": [
    "#Remove title from database\n",
    "temp_df = master_df.T\n",
    "temp_df = temp_df[[ind for ind, x in enumerate(master_df['title']) if \"title\" not in x]].T\n",
    "master_df = temp_df.reset_index(drop=True)\n",
    "\n",
    "#Remove Intern from database\n",
    "temp_df = master_df.T\n",
    "temp_df = temp_df[[ind for ind, x in enumerate(master_df['title']) if \"intern\" not in x]].T\n",
    "master_df = temp_df.reset_index(drop=True)\n",
    "\n",
    "#Remove Devop from database\n",
    "temp_df = master_df.T\n",
    "temp_df = temp_df[[ind for ind, x in enumerate(master_df['title']) if \"devop\" not in x]].T\n",
    "master_df = temp_df.reset_index(drop=True)"
   ]
  },
  {
   "cell_type": "code",
   "execution_count": 6,
   "metadata": {
    "collapsed": false
   },
   "outputs": [],
   "source": [
    "def bin_titles(title):\n",
    "    if 'associate' in title:\n",
    "        return 0\n",
    "    elif 'junior' in title: \n",
    "        return 0\n",
    "    elif 'entry' in title: \n",
    "        return 0\n",
    "    elif 'senior' in title: \n",
    "        return 2\n",
    "    elif 'principal' in title: \n",
    "        return 2\n",
    "    elif 'lead' in title: \n",
    "        return 2\n",
    "    else: \n",
    "        return 1\n",
    "    \n",
    "        \n",
    "master_df['level'] = master_df[['title']].applymap(lambda x: bin_titles(x))"
   ]
  },
  {
   "cell_type": "code",
   "execution_count": 7,
   "metadata": {
    "collapsed": false,
    "scrolled": false
   },
   "outputs": [],
   "source": [
    "master_df['state'] = 'ELSE'"
   ]
  },
  {
   "cell_type": "code",
   "execution_count": 8,
   "metadata": {
    "collapsed": false
   },
   "outputs": [],
   "source": [
    "#turns location to State\n",
    "for x in range(len(master_df)):\n",
    "    if 'NY' in master_df['location'][x]:\n",
    "        master_df['state'][x] = 'NY'\n",
    "    if 'CA' in master_df['location'][x]:\n",
    "        master_df['state'][x] = 'CA'\n",
    "    if 'TN' in master_df['location'][x]:\n",
    "        master_df['state'][x] = 'TN'\n",
    "    if 'TX' in master_df['location'][x]:\n",
    "        master_df['state'][x] = 'TX'\n",
    "    if 'MA' in master_df['location'][x]:\n",
    "        master_df['state'][x] = 'MA'\n",
    "    if 'MD' in master_df['location'][x]:\n",
    "        master_df['state'][x] = 'MD'\n",
    "    if 'MI' in master_df['location'][x]:\n",
    "        master_df['state'][x] = 'MI'\n",
    "    if 'GA' in master_df['location'][x]:\n",
    "        master_df['state'][x] = 'GA'\n",
    "    if 'IL' in master_df['location'][x]:\n",
    "        master_df['state'][x] = 'IL'\n",
    "    if 'OH' in master_df['location'][x]:\n",
    "        master_df['state'][x] = 'OH'\n",
    "    if 'CO' in master_df['location'][x]:\n",
    "        master_df['state'][x] = 'CO'\n",
    "    if 'MN' in master_df['location'][x]:\n",
    "        master_df['state'][x] = 'MN'\n",
    "    if 'DC' in master_df['location'][x]:\n",
    "        master_df['state'][x] = 'DC'\n",
    "    if 'NJ' in master_df['location'][x]:\n",
    "        master_df['state'][x] = 'NJ'\n",
    "    if 'PA' in master_df['location'][x]:\n",
    "        master_df['state'][x] = 'PA'\n",
    "    if 'DE' in master_df['location'][x]:\n",
    "        master_df['state'][x] = 'DE'\n",
    "    if 'VA' in master_df['location'][x]:\n",
    "        master_df['state'][x] = 'VA'\n",
    "    if 'LA' in master_df['location'][x]:\n",
    "        master_df['state'][x] = 'LA'\n",
    "    if 'AZ' in master_df['location'][x]:\n",
    "        master_df['state'][x] = 'AZ'\n",
    "    if 'SC' in master_df['location'][x]:\n",
    "        master_df['state'][x] = 'SC'\n",
    "    if 'WA' in master_df['location'][x]:\n",
    "        master_df['state'][x] = 'WA'\n",
    "    if 'AK' in master_df['location'][x]:\n",
    "        master_df['state'][x] = 'AK'\n",
    "    if 'KY' in master_df['location'][x]:\n",
    "        master_df['state'][x] = 'KY'\n",
    "    if 'IN' in master_df['location'][x]:\n",
    "        master_df['state'][x] = 'IN'\n",
    "    if 'FL' in master_df['location'][x]:\n",
    "        master_df['state'][x] = 'FL'\n",
    "    if 'UT' in master_df['location'][x]:\n",
    "        master_df['state'][x] = 'UT'\n",
    "    if 'RI' in master_df['location'][x]:\n",
    "        master_df['state'][x] = 'RI'\n",
    "    if 'WV' in master_df['location'][x]:\n",
    "        master_df['state'][x] = 'WV'\n",
    "    if 'NC' in master_df['location'][x]:\n",
    "        master_df['state'][x] = 'NC'\n",
    "    if 'Hawaii' in master_df['location'][x]:\n",
    "        master_df['state'][x] = 'HI'\n",
    "    if 'Ohio' in master_df['location'][x]:\n",
    "        master_df['state'][x] = 'OH'\n",
    "    if 'Remote' in master_df['location'][x]:\n",
    "        master_df['state'][x] = 'ANY'"
   ]
  },
  {
   "cell_type": "code",
   "execution_count": 9,
   "metadata": {
    "collapsed": false
   },
   "outputs": [],
   "source": [
    "#Cleans Reviews Column\n",
    "master_df['reviews'] = (master_df['reviews'].replace( '[\\$,)]','', regex=True ).astype(float))\n",
    "master_df['reviews'] = master_df['reviews'].fillna(0)"
   ]
  },
  {
   "cell_type": "code",
   "execution_count": 10,
   "metadata": {
    "collapsed": false
   },
   "outputs": [],
   "source": [
    "#Cleans Stars Column\n",
    "master_df['stars'] = master_df['stars'].fillna(0)\n",
    "master_df['stars'] = master_df[['stars']].astype(float).applymap(lambda x: x//6/2)"
   ]
  },
  {
   "cell_type": "code",
   "execution_count": 11,
   "metadata": {
    "collapsed": false
   },
   "outputs": [],
   "source": [
    "def cleanup_salary(salary):\n",
    "    if \"year\" in str(salary):\n",
    "        temp = salary.strip(\" a year\")\n",
    "        temp = temp.split('-')\n",
    "        low_range = int(temp[0].strip().replace(\"$\",\"\").replace(\",\",\"\"))\n",
    "        high_range = int(temp[-1].strip().replace(\"$\",\"\").replace(\",\",\"\"))\n",
    "        avg = (low_range + high_range) / 2\n",
    "        salary_list = [low_range,high_range,avg]\n",
    "    elif \"month\" in str(salary):\n",
    "        temp = salary.replace(\"a month\",\"\")\n",
    "        temp = temp.split('-')\n",
    "        low_range = int(temp[0].replace(\"$\",\"\").replace(\",\",\"\"))*12\n",
    "        high_range = int(temp[-1].replace(\"$\",\"\").replace(\",\",\"\"))*12\n",
    "        avg = (low_range + high_range) / 2\n",
    "        salary_list = [low_range,high_range,avg]\n",
    "    elif \"hour\" in str(salary):\n",
    "        temp = salary.replace(\"an hour\",\"\")\n",
    "        temp = temp.split('-')\n",
    "        low_range = float(temp[0].replace(\"$\",\"\").replace(\",\",\"\"))*2080\n",
    "        high_range = float(temp[-1].replace(\"$\",\"\").replace(\",\",\"\"))*2080\n",
    "        avg = (low_range + high_range) / 2\n",
    "        salary_list = [low_range,high_range,avg]\n",
    "    else:\n",
    "        salary_list = [0,0,0]\n",
    "        low_range = 0\n",
    "        high_range = 0\n",
    "        avg = 0\n",
    "        \n",
    "    return low_range, high_range, avg\n",
    "\n",
    "master_df['salary_clean'] = master_df[['salary']].applymap(lambda x: cleanup_salary(x))\n",
    "\n",
    "master_df['salary'] = master_df['salary_clean']\n",
    "master_df.drop('salary_clean', axis=1, inplace=True)"
   ]
  },
  {
   "cell_type": "code",
   "execution_count": 83,
   "metadata": {
    "collapsed": false
   },
   "outputs": [
    {
     "data": {
      "text/html": [
       "<div>\n",
       "<table border=\"1\" class=\"dataframe\">\n",
       "  <thead>\n",
       "    <tr style=\"text-align: right;\">\n",
       "      <th></th>\n",
       "      <th>index</th>\n",
       "      <th>0</th>\n",
       "    </tr>\n",
       "  </thead>\n",
       "  <tbody>\n",
       "    <tr>\n",
       "      <th>0</th>\n",
       "      <td>analyst</td>\n",
       "      <td>407</td>\n",
       "    </tr>\n",
       "    <tr>\n",
       "      <th>1</th>\n",
       "      <td>research</td>\n",
       "      <td>404</td>\n",
       "    </tr>\n",
       "    <tr>\n",
       "      <th>2</th>\n",
       "      <td>data</td>\n",
       "      <td>368</td>\n",
       "    </tr>\n",
       "    <tr>\n",
       "      <th>3</th>\n",
       "      <td>scientist</td>\n",
       "      <td>289</td>\n",
       "    </tr>\n",
       "    <tr>\n",
       "      <th>4</th>\n",
       "      <td>&amp;</td>\n",
       "      <td>113</td>\n",
       "    </tr>\n",
       "  </tbody>\n",
       "</table>\n",
       "</div>"
      ],
      "text/plain": [
       "       index    0\n",
       "0    analyst  407\n",
       "1   research  404\n",
       "2       data  368\n",
       "3  scientist  289\n",
       "4          &  113"
      ]
     },
     "execution_count": 83,
     "metadata": {},
     "output_type": "execute_result"
    }
   ],
   "source": [
    "stacked = pd.DataFrame(master_df['title'].str.split().tolist()).stack()\n",
    "final = pd.DataFrame(stacked.value_counts())\n",
    "final.reset_index(inplace=True)\n",
    "final.head()"
   ]
  },
  {
   "cell_type": "code",
   "execution_count": 14,
   "metadata": {
    "collapsed": false
   },
   "outputs": [],
   "source": [
    "reg_cp = master_df\n",
    "reg_cp['data_t'] = 0\n",
    "reg_cp['scientist_t'] = 0\n",
    "reg_cp['analyst_t'] = 0\n",
    "reg_cp['research_t'] = 0\n",
    "reg_cp['engineer_t'] = 0\n",
    "reg_cp['quantitative_t'] = 0\n",
    "reg_cp['learning_t'] = 0\n",
    "reg_cp['machine_t'] = 0\n",
    "reg_cp['software_t'] = 0\n",
    "reg_cp['developer_t'] = 0\n",
    "reg_cp['statistical_t'] = 0"
   ]
  },
  {
   "cell_type": "code",
   "execution_count": 15,
   "metadata": {
    "collapsed": false
   },
   "outputs": [],
   "source": [
    "df_range = len(reg_cp)\n",
    "for x in range(df_range):\n",
    "    if 'data' in reg_cp['summary'][x]:\n",
    "        reg_cp['data_t'][x] = 1\n",
    "    if 'analyst' in reg_cp['summary'][x]:\n",
    "        reg_cp['analyst_t'][x] = 1\n",
    "    if 'learning' in reg_cp['summary'][x]:\n",
    "        reg_cp['learning_t'][x] = 1\n",
    "    if 'scientist' in reg_cp['summary'][x]:\n",
    "        reg_cp['scientist_t'][x] = 1\n",
    "    if 'engineer' in reg_cp['summary'][x]:\n",
    "        reg_cp['engineer_t'][x] = 1\n",
    "    if 'quantitative' in reg_cp['summary'][x]:\n",
    "        reg_cp['quantitative_t'][x] = 1\n",
    "    if 'research' in reg_cp['summary'][x]:\n",
    "        reg_cp['research_t'][x] = 1\n",
    "    if 'machine' in reg_cp['summary'][x]:\n",
    "        reg_cp['machine_t'][x] = 1\n",
    "    if 'software' in reg_cp['summary'][x]:\n",
    "        reg_cp['software_t'][x] = 1\n",
    "    if 'developer' in reg_cp['summary'][x]:\n",
    "        reg_cp['developer_t'][x] = 1\n",
    "    if 'statistical' in reg_cp['summary'][x]:\n",
    "        reg_cp['statistical_t'][x] = 1"
   ]
  },
  {
   "cell_type": "code",
   "execution_count": 84,
   "metadata": {
    "collapsed": false
   },
   "outputs": [
    {
     "data": {
      "text/html": [
       "<div>\n",
       "<table border=\"1\" class=\"dataframe\">\n",
       "  <thead>\n",
       "    <tr style=\"text-align: right;\">\n",
       "      <th></th>\n",
       "      <th>index</th>\n",
       "      <th>0</th>\n",
       "    </tr>\n",
       "  </thead>\n",
       "  <tbody>\n",
       "    <tr>\n",
       "      <th>0</th>\n",
       "      <td>and</td>\n",
       "      <td>1249</td>\n",
       "    </tr>\n",
       "    <tr>\n",
       "      <th>1</th>\n",
       "      <td>data</td>\n",
       "      <td>1143</td>\n",
       "    </tr>\n",
       "    <tr>\n",
       "      <th>2</th>\n",
       "      <td>to</td>\n",
       "      <td>699</td>\n",
       "    </tr>\n",
       "    <tr>\n",
       "      <th>3</th>\n",
       "      <td>the</td>\n",
       "      <td>624</td>\n",
       "    </tr>\n",
       "    <tr>\n",
       "      <th>4</th>\n",
       "      <td>a</td>\n",
       "      <td>558</td>\n",
       "    </tr>\n",
       "  </tbody>\n",
       "</table>\n",
       "</div>"
      ],
      "text/plain": [
       "  index     0\n",
       "0   and  1249\n",
       "1  data  1143\n",
       "2    to   699\n",
       "3   the   624\n",
       "4     a   558"
      ]
     },
     "execution_count": 84,
     "metadata": {},
     "output_type": "execute_result"
    }
   ],
   "source": [
    "stacked = pd.DataFrame(master_df['summary'].str.split().tolist()).stack()\n",
    "final = pd.DataFrame(stacked.value_counts())\n",
    "final.reset_index(inplace=True)\n",
    "final.head()"
   ]
  },
  {
   "cell_type": "code",
   "execution_count": 17,
   "metadata": {
    "collapsed": false
   },
   "outputs": [],
   "source": [
    "reg_cp['data'] = 0\n",
    "reg_cp['machine'] = 0\n",
    "reg_cp['experience'] = 0\n",
    "reg_cp['learning'] = 0\n",
    "reg_cp['scientists'] = 0\n",
    "reg_cp['scientist'] = 0\n",
    "reg_cp['health'] = 0\n",
    "reg_cp['degree'] = 0\n",
    "reg_cp['research'] = 0\n",
    "reg_cp['looking'] = 0\n",
    "reg_cp['analytics'] = 0"
   ]
  },
  {
   "cell_type": "code",
   "execution_count": 18,
   "metadata": {
    "collapsed": false
   },
   "outputs": [],
   "source": [
    "df_range = len(reg_cp)\n",
    "for x in range(df_range):\n",
    "    if 'data' in reg_cp['summary'][x]:\n",
    "        reg_cp['data'][x] = 1\n",
    "    if 'machine' in reg_cp['summary'][x]:\n",
    "        reg_cp['machine'][x] = 1\n",
    "    if 'experience' in reg_cp['summary'][x]:\n",
    "        reg_cp['experience'][x] = 1\n",
    "    if 'learning' in reg_cp['summary'][x]:\n",
    "        reg_cp['learning'][x] = 1\n",
    "    if 'scientists' in reg_cp['summary'][x]:\n",
    "        reg_cp['scientists'][x] = 1\n",
    "    if 'scientist' in reg_cp['summary'][x]:\n",
    "        reg_cp['scientist'][x] = 1\n",
    "    if 'health' in reg_cp['summary'][x]:\n",
    "        reg_cp['health'][x] = 1\n",
    "    if 'degree' in reg_cp['summary'][x]:\n",
    "        reg_cp['degree'][x] = 1\n",
    "    if 'research' in reg_cp['summary'][x]:\n",
    "        reg_cp['research'][x] = 1\n",
    "    if 'looking' in reg_cp['summary'][x]:\n",
    "        reg_cp['looking'][x] = 1\n",
    "    if 'analytics' in reg_cp['summary'][x]:\n",
    "        reg_cp['analytics'][x] = 1"
   ]
  },
  {
   "cell_type": "code",
   "execution_count": 19,
   "metadata": {
    "collapsed": false
   },
   "outputs": [],
   "source": [
    "copy_range = len(reg_cp)\n",
    "count = 0\n",
    "for x in range(copy_range):\n",
    "    count+=reg_cp['salary'][x][2]\n",
    "mean_sal = count/copy_range"
   ]
  },
  {
   "cell_type": "code",
   "execution_count": 20,
   "metadata": {
    "collapsed": false
   },
   "outputs": [],
   "source": [
    "reg_cp['salary_over_mean'] = 0"
   ]
  },
  {
   "cell_type": "code",
   "execution_count": 21,
   "metadata": {
    "collapsed": false
   },
   "outputs": [],
   "source": [
    "for x in range(len(master_df)):\n",
    "    if master_df['salary'][x][2] < mean_sal:\n",
    "        reg_cp['salary_over_mean'][x] = 0\n",
    "    else:\n",
    "        reg_cp['salary_over_mean'][x] = 1"
   ]
  },
  {
   "cell_type": "code",
   "execution_count": 24,
   "metadata": {
    "collapsed": false
   },
   "outputs": [],
   "source": [
    "def get_features(dataframe):\n",
    "    features = patsy.dmatrix('~ C(state)', dataframe)\n",
    "    X_df = pd.DataFrame(features, columns=features.design_info.column_names)\n",
    "    X_df.drop('Intercept', axis=1, inplace=True)\n",
    "    X_df = pd.concat([X_df, dataframe[['level', 'data_t', 'scientist_t', 'analyst_t', 'research_t', 'engineer_t',\n",
    "                                     'quantitative_t', 'learning_t', 'machine_t', 'software_t', 'developer_t',\n",
    "                                     'statistical_t', 'data', 'machine', 'experience', 'learning', 'scientists',\n",
    "                                     'scientist', 'health', 'degree', 'research', 'looking', 'analytics']]], axis=1)\n",
    "    return X_df\n",
    "df1 = get_features(reg_cp)"
   ]
  },
  {
   "cell_type": "code",
   "execution_count": 100,
   "metadata": {
    "collapsed": false
   },
   "outputs": [],
   "source": [
    "target = reg_cp['salary_over_mean']\n",
    "\n",
    "X_train, X_test, Y_train, Y_test = train_test_split(df1, target, test_size=0.69, random_state=40)"
   ]
  },
  {
   "cell_type": "code",
   "execution_count": 101,
   "metadata": {
    "collapsed": false
   },
   "outputs": [],
   "source": [
    "logreg = LogisticRegressionCV(Cs=5, cv=5, solver='liblinear', penalty='l2', scoring='f1_weighted')\n",
    "cv_model = logreg.fit(X_train, Y_train)\n",
    "\n",
    "y_pred = logreg.predict(X_test)\n",
    "y_score = logreg.decision_function(X_test)"
   ]
  },
  {
   "cell_type": "code",
   "execution_count": 102,
   "metadata": {
    "collapsed": false
   },
   "outputs": [
    {
     "name": "stdout",
     "output_type": "stream",
     "text": [
      "            predicted_over  predicted_under\n",
      "over_mean              464               26\n",
      "under_mean             115              143\n",
      "             precision    recall  f1-score   support\n",
      "\n",
      "          0       0.80      0.95      0.87       490\n",
      "          1       0.85      0.55      0.67       258\n",
      "\n",
      "avg / total       0.82      0.81      0.80       748\n",
      "\n"
     ]
    },
    {
     "data": {
      "image/png": "[encoded data removed]",
      "text/plain": [
       "<matplotlib.figure.Figure at 0x119403910>"
      ]
     },
     "metadata": {},
     "output_type": "display_data"
    }
   ],
   "source": [
    "conmat = np.array(confusion_matrix(Y_test, y_pred, labels=logreg.classes_))\n",
    "confusion = pd.DataFrame(conmat, index=['over_mean', 'under_mean'],\n",
    "                            columns=['predicted_over', 'predicted_under'])\n",
    "\n",
    "print(confusion)\n",
    "print classification_report(Y_test,y_pred)\n",
    "roc_auc_score(Y_test, y_score)\n",
    "\n",
    "\"\"\" Plot AUC\"\"\"\n",
    "\n",
    "FPR = dict()\n",
    "TPR = dict()\n",
    "ROC_AUC = dict()\n",
    "\n",
    "# For class 1, find the area under the curve\n",
    "FPR[1], TPR[1], _ = roc_curve(Y_test, y_score)\n",
    "ROC_AUC[1] = auc(FPR[1], TPR[1])\n",
    "\n",
    "# Plot of a ROC curve for class 1 (has_cancer)\n",
    "plt.figure(figsize=[11,9])\n",
    "plt.plot(FPR[1], TPR[1], label='ROC curve (area = %0.2f)' % ROC_AUC[1], linewidth=4)\n",
    "plt.plot([0, 1], [0, 1], 'k--', linewidth=4)\n",
    "plt.xlim([0.0, 1.0])\n",
    "plt.ylim([0.0, 1.05])\n",
    "plt.xlabel('False Positive Rate', fontsize=18)\n",
    "plt.ylabel('True Positive Rate', fontsize=18)\n",
    "plt.title('Receiver operating characteristic for high/low income', fontsize=18)\n",
    "plt.legend(loc=\"lower right\")\n",
    "plt.show()"
   ]
  },
  {
   "cell_type": "code",
   "execution_count": 103,
   "metadata": {
    "collapsed": false
   },
   "outputs": [],
   "source": [
    "C_vals = [0.0001, 0.001, 0.01, 0.1, .15, .25, .275, .33, 0.5, .66, 0.75, 1.0, 2.5, 5.0, 10.0, 100.0, 1000.0]\n",
    "penalties = ['l1','l2']\n",
    "\n",
    "\n",
    "gs = GridSearchCV(LogisticRegression(solver='liblinear'),\n",
    "                 {'C': C_vals,\n",
    "                 'penalty': penalties},\n",
    "                 cv=10)\n",
    "gs.fit(X_train,Y_train);"
   ]
  },
  {
   "cell_type": "code",
   "execution_count": 104,
   "metadata": {
    "collapsed": true
   },
   "outputs": [],
   "source": [
    "y_pred2 = gs.predict(X_test)\n",
    "y_score2 = gs.decision_function(X_test)"
   ]
  },
  {
   "cell_type": "code",
   "execution_count": 105,
   "metadata": {
    "collapsed": false
   },
   "outputs": [
    {
     "name": "stdout",
     "output_type": "stream",
     "text": [
      "            predicted_over  predicted_under\n",
      "over_mean              139              119\n",
      "under_mean              25              465\n",
      "             precision    recall  f1-score   support\n",
      "\n",
      "          0       0.80      0.95      0.87       490\n",
      "          1       0.85      0.54      0.66       258\n",
      "\n",
      "avg / total       0.81      0.81      0.79       748\n",
      "\n"
     ]
    },
    {
     "data": {
      "image/png": "[encoded data removed]",
      "text/plain": [
       "<matplotlib.figure.Figure at 0x11940f210>"
      ]
     },
     "metadata": {},
     "output_type": "display_data"
    }
   ],
   "source": [
    "conmat = np.array(confusion_matrix(Y_test, y_pred2, labels=[1,0]))\n",
    "confusion = pd.DataFrame(conmat, index=['over_mean', 'under_mean'],\n",
    "                            columns=['predicted_over', 'predicted_under'])\n",
    "\n",
    "print(confusion)\n",
    "print classification_report(Y_test,y_pred2)\n",
    "roc_auc_score(Y_test, y_score2)\n",
    "\n",
    "\"\"\" Plot AUC\"\"\"\n",
    "\n",
    "FPR = dict()\n",
    "TPR = dict()\n",
    "ROC_AUC = dict()\n",
    "\n",
    "# For class 1, find the area under the curve\n",
    "FPR[1], TPR[1], _ = roc_curve(Y_test, y_score2)\n",
    "ROC_AUC[1] = auc(FPR[1], TPR[1])\n",
    "\n",
    "#Plot of a ROC curve for class 1 (has_cancer)\n",
    "plt.figure(figsize=[11,9])\n",
    "plt.plot(FPR[1], TPR[1], label='ROC curve (area = %0.2f)' % ROC_AUC[1], linewidth=4)\n",
    "plt.plot([0, 1], [0, 1], 'k--', linewidth=4)\n",
    "plt.xlim([0.0, 1.0])\n",
    "plt.ylim([0.0, 1.05])\n",
    "plt.xlabel('False Positive Rate', fontsize=18)\n",
    "plt.ylabel('True Positive Rate', fontsize=18)\n",
    "plt.title('Predicting over or under mean', fontsize=18)\n",
    "plt.legend(loc=\"lower right\")\n",
    "plt.show()"
   ]
  },
  {
   "cell_type": "code",
   "execution_count": 106,
   "metadata": {
    "collapsed": false
   },
   "outputs": [
    {
     "name": "stdout",
     "output_type": "stream",
     "text": [
      "\n"
     ]
    }
   ],
   "source": [
    "'''\n",
    "test_idx = np.random.uniform(0, 1, len(df1)) <= 0.3\n",
    "train = df1[test_idx==True]\n",
    "test = df1[test_idx==False]\n",
    "\n",
    "#df2 = df1.drop('salary_low', axis=1)\n",
    "\n",
    "#USE THIS CODE TO RANDOMIZE TO GET RID OF ERROR\n",
    "#I WAS WRONG MAYDAY MAYDAY SOS-SOS-SOS\n",
    "'''\n",
    "print"
   ]
  },
  {
   "cell_type": "code",
   "execution_count": null,
   "metadata": {
    "collapsed": true
   },
   "outputs": [],
   "source": []
  },
  {
   "cell_type": "code",
   "execution_count": null,
   "metadata": {
    "collapsed": true
   },
   "outputs": [],
   "source": []
  }
 ],
 "metadata": {
  "anaconda-cloud": {},
  "kernelspec": {
   "display_name": "Python [Root]",
   "language": "python",
   "name": "Python [Root]"
  },
  "language_info": {
   "codemirror_mode": {
    "name": "ipython",
    "version": 2
   },
   "file_extension": ".py",
   "mimetype": "text/x-python",
   "name": "python",
   "nbconvert_exporter": "python",
   "pygments_lexer": "ipython2",
   "version": "2.7.12"
  }
 },
 "nbformat": 4,
 "nbformat_minor": 0
}
