{
 "cells": [
  {
   "cell_type": "markdown",
   "metadata": {},
   "source": [
    "# Project 1\n",
    "\n",
    "## Step 1: Open the `sat_scores.csv` file. Investigate the data, and answer the questions below.\n"
   ]
  },
  {
   "cell_type": "markdown",
   "metadata": {},
   "source": [
    "##### 1. What does the data describe?"
   ]
  },
  {
   "cell_type": "markdown",
   "metadata": {},
   "source": [
    "The data describes the participation rate of students in each state and DC and the average scores students get in both the math and verbal sections of the SAT."
   ]
  },
  {
   "cell_type": "markdown",
   "metadata": {},
   "source": [
    "##### 2. Does the data look complete? Are there any obvious issues with the observations?"
   ]
  },
  {
   "cell_type": "markdown",
   "metadata": {},
   "source": [
    "The data looks complete.  Issues:  Old data, low participation rate leads to higher math and verbal averages that aren't indicative of the states actual performance."
   ]
  },
  {
   "cell_type": "markdown",
   "metadata": {},
   "source": [
    "##### 3. Create a data dictionary for the dataset."
   ]
  },
  {
   "cell_type": "markdown",
   "metadata": {
    "collapsed": true
   },
   "source": [
    "State: Abbreviation of each state in the US and DC.\n",
    "Rate: Participation rate of students in each state.\n",
    "Verbal: average score in the verbal section in each state.\n",
    "Math: average score in the math section in each state.\n",
    "'All' represents the average of all the states."
   ]
  },
  {
   "cell_type": "markdown",
   "metadata": {},
   "source": [
    "## Step 2: Load the data."
   ]
  },
  {
   "cell_type": "markdown",
   "metadata": {},
   "source": [
    "##### 4. Load the data into a list of lists"
   ]
  },
  {
   "cell_type": "code",
   "execution_count": 219,
   "metadata": {
    "collapsed": false
   },
   "outputs": [],
   "source": [
    "import numpy as np\n",
    "import scipy.stats as stats\n",
    "import csv\n",
    "import seaborn as sns\n",
    "import pandas as pd\n",
    "%matplotlib inline\n",
    "\n",
    "rows = []\n",
    "\n",
    "with open('../assets/sat_scores.csv', 'r') as f:\n",
    "    reader = csv.reader(f)\n",
    "    for row in reader:\n",
    "        rows.append(row)"
   ]
  },
  {
   "cell_type": "markdown",
   "metadata": {},
   "source": [
    "##### 5. Print the data"
   ]
  },
  {
   "cell_type": "code",
   "execution_count": 206,
   "metadata": {
    "collapsed": false
   },
   "outputs": [
    {
     "name": "stdout",
     "output_type": "stream",
     "text": [
      "[['State', 'Rate', 'Verbal', 'Math'], ['CT', '82', '509', '510'], ['NJ', '81', '499', '513'], ['MA', '79', '511', '515'], ['NY', '77', '495', '505'], ['NH', '72', '520', '516'], ['RI', '71', '501', '499'], ['PA', '71', '500', '499'], ['VT', '69', '511', '506'], ['ME', '69', '506', '500'], ['VA', '68', '510', '501'], ['DE', '67', '501', '499'], ['MD', '65', '508', '510'], ['NC', '65', '493', '499'], ['GA', '63', '491', '489'], ['IN', '60', '499', '501'], ['SC', '57', '486', '488'], ['DC', '56', '482', '474'], ['OR', '55', '526', '526'], ['FL', '54', '498', '499'], ['WA', '53', '527', '527'], ['TX', '53', '493', '499'], ['HI', '52', '485', '515'], ['AK', '51', '514', '510'], ['CA', '51', '498', '517'], ['AZ', '34', '523', '525'], ['NV', '33', '509', '515'], ['CO', '31', '539', '542'], ['OH', '26', '534', '439'], ['MT', '23', '539', '539'], ['WV', '18', '527', '512'], ['ID', '17', '543', '542'], ['TN', '13', '562', '553'], ['NM', '13', '551', '542'], ['IL', '12', '576', '589'], ['KY', '12', '550', '550'], ['WY', '11', '547', '545'], ['MI', '11', '561', '572'], ['MN', '9', '580', '589'], ['KS', '9', '577', '580'], ['AL', '9', '559', '554'], ['NE', '8', '562', '568'], ['OK', '8', '567', '561'], ['MO', '8', '577', '577'], ['LA', '7', '564', '562'], ['WI', '6', '584', '596'], ['AR', '6', '562', '550'], ['UT', '5', '575', '570'], ['IA', '5', '593', '603'], ['SD', '4', '577', '582'], ['ND', '4', '592', '599'], ['MS', '4', '566', '551'], ['All', '45', '506', '514']]\n"
     ]
    }
   ],
   "source": [
    "print rows"
   ]
  },
  {
   "cell_type": "markdown",
   "metadata": {
    "collapsed": true
   },
   "source": [
    "##### 6. Extract a list of the labels from the data, and remove them from the data."
   ]
  },
  {
   "cell_type": "code",
   "execution_count": 207,
   "metadata": {
    "collapsed": false
   },
   "outputs": [],
   "source": [
    "header = rows[0]\n",
    "data = rows[1:-1]"
   ]
  },
  {
   "cell_type": "markdown",
   "metadata": {},
   "source": [
    "##### 7. Create a list of State names extracted from the data. (Hint: use the list of labels to index on the State column)"
   ]
  },
  {
   "cell_type": "code",
   "execution_count": 208,
   "metadata": {
    "collapsed": false
   },
   "outputs": [
    {
     "name": "stdout",
     "output_type": "stream",
     "text": [
      "['AK', 'AL', 'AR', 'AZ', 'CA', 'CO', 'CT', 'DC', 'DE', 'FL', 'GA', 'HI', 'IA', 'ID', 'IL', 'IN', 'KS', 'KY', 'LA', 'MA', 'MD', 'ME', 'MI', 'MN', 'MO', 'MS', 'MT', 'NC', 'ND', 'NE', 'NH', 'NJ', 'NM', 'NV', 'NY', 'OH', 'OK', 'OR', 'PA', 'RI', 'SC', 'SD', 'TN', 'TX', 'UT', 'VA', 'VT', 'WA', 'WI', 'WV', 'WY']\n"
     ]
    }
   ],
   "source": [
    "state_names = [x for x,y,z,d in data]\n",
    "state_names.sort()\n",
    "print state_names"
   ]
  },
  {
   "cell_type": "markdown",
   "metadata": {},
   "source": [
    "##### 8. Print the types of each column"
   ]
  },
  {
   "cell_type": "code",
   "execution_count": 209,
   "metadata": {
    "collapsed": false
   },
   "outputs": [
    {
     "data": {
      "text/plain": [
       "[(str, str, str, str),\n",
       " (str, str, str, str),\n",
       " (str, str, str, str),\n",
       " (str, str, str, str),\n",
       " (str, str, str, str),\n",
       " (str, str, str, str),\n",
       " (str, str, str, str),\n",
       " (str, str, str, str),\n",
       " (str, str, str, str),\n",
       " (str, str, str, str),\n",
       " (str, str, str, str),\n",
       " (str, str, str, str),\n",
       " (str, str, str, str),\n",
       " (str, str, str, str),\n",
       " (str, str, str, str),\n",
       " (str, str, str, str),\n",
       " (str, str, str, str),\n",
       " (str, str, str, str),\n",
       " (str, str, str, str),\n",
       " (str, str, str, str),\n",
       " (str, str, str, str),\n",
       " (str, str, str, str),\n",
       " (str, str, str, str),\n",
       " (str, str, str, str),\n",
       " (str, str, str, str),\n",
       " (str, str, str, str),\n",
       " (str, str, str, str),\n",
       " (str, str, str, str),\n",
       " (str, str, str, str),\n",
       " (str, str, str, str),\n",
       " (str, str, str, str),\n",
       " (str, str, str, str),\n",
       " (str, str, str, str),\n",
       " (str, str, str, str),\n",
       " (str, str, str, str),\n",
       " (str, str, str, str),\n",
       " (str, str, str, str),\n",
       " (str, str, str, str),\n",
       " (str, str, str, str),\n",
       " (str, str, str, str),\n",
       " (str, str, str, str),\n",
       " (str, str, str, str),\n",
       " (str, str, str, str),\n",
       " (str, str, str, str),\n",
       " (str, str, str, str),\n",
       " (str, str, str, str),\n",
       " (str, str, str, str),\n",
       " (str, str, str, str),\n",
       " (str, str, str, str),\n",
       " (str, str, str, str),\n",
       " (str, str, str, str)]"
      ]
     },
     "execution_count": 209,
     "metadata": {},
     "output_type": "execute_result"
    }
   ],
   "source": [
    "type_list = [(type(x),type(y),type(z),type(d)) for x,y,z,d in data]\n",
    "type_list"
   ]
  },
  {
   "cell_type": "markdown",
   "metadata": {},
   "source": [
    "##### 9. Do any types need to be reassigned? If so, go ahead and do it."
   ]
  },
  {
   "cell_type": "code",
   "execution_count": 210,
   "metadata": {
    "collapsed": false
   },
   "outputs": [
    {
     "data": {
      "text/plain": [
       "[('CT', 82, 509, 510),\n",
       " ('NJ', 81, 499, 513),\n",
       " ('MA', 79, 511, 515),\n",
       " ('NY', 77, 495, 505),\n",
       " ('NH', 72, 520, 516),\n",
       " ('RI', 71, 501, 499),\n",
       " ('PA', 71, 500, 499),\n",
       " ('VT', 69, 511, 506),\n",
       " ('ME', 69, 506, 500),\n",
       " ('VA', 68, 510, 501),\n",
       " ('DE', 67, 501, 499),\n",
       " ('MD', 65, 508, 510),\n",
       " ('NC', 65, 493, 499),\n",
       " ('GA', 63, 491, 489),\n",
       " ('IN', 60, 499, 501),\n",
       " ('SC', 57, 486, 488),\n",
       " ('DC', 56, 482, 474),\n",
       " ('OR', 55, 526, 526),\n",
       " ('FL', 54, 498, 499),\n",
       " ('WA', 53, 527, 527),\n",
       " ('TX', 53, 493, 499),\n",
       " ('HI', 52, 485, 515),\n",
       " ('AK', 51, 514, 510),\n",
       " ('CA', 51, 498, 517),\n",
       " ('AZ', 34, 523, 525),\n",
       " ('NV', 33, 509, 515),\n",
       " ('CO', 31, 539, 542),\n",
       " ('OH', 26, 534, 439),\n",
       " ('MT', 23, 539, 539),\n",
       " ('WV', 18, 527, 512),\n",
       " ('ID', 17, 543, 542),\n",
       " ('TN', 13, 562, 553),\n",
       " ('NM', 13, 551, 542),\n",
       " ('IL', 12, 576, 589),\n",
       " ('KY', 12, 550, 550),\n",
       " ('WY', 11, 547, 545),\n",
       " ('MI', 11, 561, 572),\n",
       " ('MN', 9, 580, 589),\n",
       " ('KS', 9, 577, 580),\n",
       " ('AL', 9, 559, 554),\n",
       " ('NE', 8, 562, 568),\n",
       " ('OK', 8, 567, 561),\n",
       " ('MO', 8, 577, 577),\n",
       " ('LA', 7, 564, 562),\n",
       " ('WI', 6, 584, 596),\n",
       " ('AR', 6, 562, 550),\n",
       " ('UT', 5, 575, 570),\n",
       " ('IA', 5, 593, 603),\n",
       " ('SD', 4, 577, 582),\n",
       " ('ND', 4, 592, 599),\n",
       " ('MS', 4, 566, 551)]"
      ]
     },
     "execution_count": 210,
     "metadata": {},
     "output_type": "execute_result"
    }
   ],
   "source": [
    "type_recast_list = [(x,int(y),int(z),int(d)) for x,y,z,d in data]\n",
    "type_recast_list"
   ]
  },
  {
   "cell_type": "markdown",
   "metadata": {},
   "source": [
    "##### 10. Create a dictionary for each column mapping the State to its respective value for that column. "
   ]
  },
  {
   "cell_type": "code",
   "execution_count": 211,
   "metadata": {
    "collapsed": false
   },
   "outputs": [
    {
     "data": {
      "text/plain": [
       "{'AK': [51, 514, 510],\n",
       " 'AL': [9, 559, 554],\n",
       " 'AR': [6, 562, 550],\n",
       " 'AZ': [34, 523, 525],\n",
       " 'CA': [51, 498, 517],\n",
       " 'CO': [31, 539, 542],\n",
       " 'CT': [82, 509, 510],\n",
       " 'DC': [56, 482, 474],\n",
       " 'DE': [67, 501, 499],\n",
       " 'FL': [54, 498, 499],\n",
       " 'GA': [63, 491, 489],\n",
       " 'HI': [52, 485, 515],\n",
       " 'IA': [5, 593, 603],\n",
       " 'ID': [17, 543, 542],\n",
       " 'IL': [12, 576, 589],\n",
       " 'IN': [60, 499, 501],\n",
       " 'KS': [9, 577, 580],\n",
       " 'KY': [12, 550, 550],\n",
       " 'LA': [7, 564, 562],\n",
       " 'MA': [79, 511, 515],\n",
       " 'MD': [65, 508, 510],\n",
       " 'ME': [69, 506, 500],\n",
       " 'MI': [11, 561, 572],\n",
       " 'MN': [9, 580, 589],\n",
       " 'MO': [8, 577, 577],\n",
       " 'MS': [4, 566, 551],\n",
       " 'MT': [23, 539, 539],\n",
       " 'NC': [65, 493, 499],\n",
       " 'ND': [4, 592, 599],\n",
       " 'NE': [8, 562, 568],\n",
       " 'NH': [72, 520, 516],\n",
       " 'NJ': [81, 499, 513],\n",
       " 'NM': [13, 551, 542],\n",
       " 'NV': [33, 509, 515],\n",
       " 'NY': [77, 495, 505],\n",
       " 'OH': [26, 534, 439],\n",
       " 'OK': [8, 567, 561],\n",
       " 'OR': [55, 526, 526],\n",
       " 'PA': [71, 500, 499],\n",
       " 'RI': [71, 501, 499],\n",
       " 'SC': [57, 486, 488],\n",
       " 'SD': [4, 577, 582],\n",
       " 'TN': [13, 562, 553],\n",
       " 'TX': [53, 493, 499],\n",
       " 'UT': [5, 575, 570],\n",
       " 'VA': [68, 510, 501],\n",
       " 'VT': [69, 511, 506],\n",
       " 'WA': [53, 527, 527],\n",
       " 'WI': [6, 584, 596],\n",
       " 'WV': [18, 527, 512],\n",
       " 'WY': [11, 547, 545]}"
      ]
     },
     "execution_count": 211,
     "metadata": {},
     "output_type": "execute_result"
    }
   ],
   "source": [
    "dict = {x: [y, z, d] for x,y,z,d in type_recast_list}\n",
    "dict"
   ]
  },
  {
   "cell_type": "markdown",
   "metadata": {},
   "source": [
    "##### 11. Create a dictionary with the values for each of the numeric columns"
   ]
  },
  {
   "cell_type": "code",
   "execution_count": 212,
   "metadata": {
    "collapsed": false
   },
   "outputs": [
    {
     "data": {
      "text/plain": [
       "[{'Rate': [82,\n",
       "   81,\n",
       "   79,\n",
       "   77,\n",
       "   72,\n",
       "   71,\n",
       "   71,\n",
       "   69,\n",
       "   69,\n",
       "   68,\n",
       "   67,\n",
       "   65,\n",
       "   65,\n",
       "   63,\n",
       "   60,\n",
       "   57,\n",
       "   56,\n",
       "   55,\n",
       "   54,\n",
       "   53,\n",
       "   53,\n",
       "   52,\n",
       "   51,\n",
       "   51,\n",
       "   34,\n",
       "   33,\n",
       "   31,\n",
       "   26,\n",
       "   23,\n",
       "   18,\n",
       "   17,\n",
       "   13,\n",
       "   13,\n",
       "   12,\n",
       "   12,\n",
       "   11,\n",
       "   11,\n",
       "   9,\n",
       "   9,\n",
       "   9,\n",
       "   8,\n",
       "   8,\n",
       "   8,\n",
       "   7,\n",
       "   6,\n",
       "   6,\n",
       "   5,\n",
       "   5,\n",
       "   4,\n",
       "   4,\n",
       "   4]},\n",
       " {'Verbal': [509,\n",
       "   499,\n",
       "   511,\n",
       "   495,\n",
       "   520,\n",
       "   501,\n",
       "   500,\n",
       "   511,\n",
       "   506,\n",
       "   510,\n",
       "   501,\n",
       "   508,\n",
       "   493,\n",
       "   491,\n",
       "   499,\n",
       "   486,\n",
       "   482,\n",
       "   526,\n",
       "   498,\n",
       "   527,\n",
       "   493,\n",
       "   485,\n",
       "   514,\n",
       "   498,\n",
       "   523,\n",
       "   509,\n",
       "   539,\n",
       "   534,\n",
       "   539,\n",
       "   527,\n",
       "   543,\n",
       "   562,\n",
       "   551,\n",
       "   576,\n",
       "   550,\n",
       "   547,\n",
       "   561,\n",
       "   580,\n",
       "   577,\n",
       "   559,\n",
       "   562,\n",
       "   567,\n",
       "   577,\n",
       "   564,\n",
       "   584,\n",
       "   562,\n",
       "   575,\n",
       "   593,\n",
       "   577,\n",
       "   592,\n",
       "   566]},\n",
       " {'Math': [510,\n",
       "   513,\n",
       "   515,\n",
       "   505,\n",
       "   516,\n",
       "   499,\n",
       "   499,\n",
       "   506,\n",
       "   500,\n",
       "   501,\n",
       "   499,\n",
       "   510,\n",
       "   499,\n",
       "   489,\n",
       "   501,\n",
       "   488,\n",
       "   474,\n",
       "   526,\n",
       "   499,\n",
       "   527,\n",
       "   499,\n",
       "   515,\n",
       "   510,\n",
       "   517,\n",
       "   525,\n",
       "   515,\n",
       "   542,\n",
       "   439,\n",
       "   539,\n",
       "   512,\n",
       "   542,\n",
       "   553,\n",
       "   542,\n",
       "   589,\n",
       "   550,\n",
       "   545,\n",
       "   572,\n",
       "   589,\n",
       "   580,\n",
       "   554,\n",
       "   568,\n",
       "   561,\n",
       "   577,\n",
       "   562,\n",
       "   596,\n",
       "   550,\n",
       "   570,\n",
       "   603,\n",
       "   582,\n",
       "   599,\n",
       "   551]}]"
      ]
     },
     "execution_count": 212,
     "metadata": {},
     "output_type": "execute_result"
    }
   ],
   "source": [
    "rate_list = [y for x,y,z,d in type_recast_list]\n",
    "first_dict = {\"Rate\": rate_list}\n",
    "\n",
    "verbal_list = [z for x,y,z,d in type_recast_list]\n",
    "second_dict = {\"Verbal\": verbal_list}\n",
    "\n",
    "math_list = [d for x,y,z,d in type_recast_list]\n",
    "third_dict = {\"Math\": math_list}\n",
    "\n",
    "dict_list = [first_dict,second_dict,third_dict]\n",
    "dict_list"
   ]
  },
  {
   "cell_type": "markdown",
   "metadata": {},
   "source": [
    "## Step 3: Describe the data"
   ]
  },
  {
   "cell_type": "markdown",
   "metadata": {},
   "source": [
    "##### 12. Print the min and max of each column"
   ]
  },
  {
   "cell_type": "code",
   "execution_count": 213,
   "metadata": {
    "collapsed": false
   },
   "outputs": [
    {
     "name": "stdout",
     "output_type": "stream",
     "text": [
      "Rate Min:  4\n",
      "Rate Max:  82\n",
      "Verbal Min:  482\n",
      "Verbal Max:  593\n",
      "Math Min:  439\n",
      "Math Max:  603\n"
     ]
    }
   ],
   "source": [
    "rate_list.sort()\n",
    "print \"Rate Min: \", rate_list[0]\n",
    "print \"Rate Max: \", rate_list[-1]\n",
    "\n",
    "verbal_list.sort()\n",
    "print \"Verbal Min: \", verbal_list[0]\n",
    "print \"Verbal Max: \", verbal_list[-1]\n",
    "\n",
    "math_list.sort()\n",
    "print \"Math Min: \", math_list[0]\n",
    "print \"Math Max: \", math_list[-1]"
   ]
  },
  {
   "cell_type": "markdown",
   "metadata": {},
   "source": [
    "##### 13. Write a function using only list comprehensions, no loops, to compute Standard Deviation. Print the Standard Deviation of each numeric column."
   ]
  },
  {
   "cell_type": "code",
   "execution_count": 214,
   "metadata": {
    "collapsed": false
   },
   "outputs": [
    {
     "name": "stdout",
     "output_type": "stream",
     "text": [
      "Standard Deviation of Rate:  27.2792386761\n",
      "Standard Deviation of Verbal:  33.0319826842\n",
      "Standard Deviation of Math:  35.9298731731\n"
     ]
    }
   ],
   "source": [
    "rate_mean = np.mean(rate_list)\n",
    "rate_mean_2 = [(x-rate_mean)**2 for x in rate_list]\n",
    "rate_mean_3 = np.sqrt(np.mean(rate_mean_2))\n",
    "print \"Standard Deviation of Rate: \", rate_mean_3\n",
    "\n",
    "verbal_mean = np.mean(verbal_list)\n",
    "verbal_mean_2 = [(x-verbal_mean)**2 for x in verbal_list]\n",
    "verbal_mean_3 = np.sqrt(np.mean(verbal_mean_2))\n",
    "print \"Standard Deviation of Verbal: \", verbal_mean_3\n",
    "\n",
    "math_mean = np.mean(math_list)\n",
    "math_mean_2 = [(x-math_mean)**2 for x in math_list]\n",
    "math_mean_3 = np.sqrt(np.mean(math_mean_2))\n",
    "print \"Standard Deviation of Math: \", math_mean_3"
   ]
  },
  {
   "cell_type": "code",
   "execution_count": 215,
   "metadata": {
    "collapsed": false
   },
   "outputs": [
    {
     "name": "stdout",
     "output_type": "stream",
     "text": [
      "Rate mean:  37.0\n",
      "Rate median:  33.0\n",
      "Rate mode:  4\n",
      "\n",
      "Verbal mean:  532.529411765\n",
      "Verbal median:  527.0\n",
      "Verbal mode:  562\n",
      "\n",
      "Math mean:  531.843137255\n",
      "Math median:  525.0\n",
      "Math mode:  499\n"
     ]
    }
   ],
   "source": [
    "rate_median = np.median(rate_list)\n",
    "verbal_median = np.median(verbal_list)\n",
    "math_median = np.median(math_list)\n",
    "\n",
    "rate_mode = stats.mode(rate_list).mode[0]\n",
    "verbal_mode = stats.mode(verbal_list).mode[0]\n",
    "math_mode = stats.mode(math_list).mode[0]\n",
    "\n",
    "print \"Rate mean: \", rate_mean\n",
    "print \"Rate median: \", rate_median\n",
    "print \"Rate mode: \", rate_mode\n",
    "\n",
    "print \"\\nVerbal mean: \", verbal_mean\n",
    "print \"Verbal median: \", verbal_median\n",
    "print \"Verbal mode: \", verbal_mode\n",
    "\n",
    "print \"\\nMath mean: \", math_mean\n",
    "print \"Math median: \", math_median\n",
    "print \"Math mode: \", math_mode"
   ]
  },
  {
   "cell_type": "markdown",
   "metadata": {},
   "source": [
    "## Step 4: Visualize the data"
   ]
  },
  {
   "cell_type": "markdown",
   "metadata": {
    "collapsed": true
   },
   "source": [
    "##### 14. Using MatPlotLib and PyPlot, plot the distribution of the Rate using histograms."
   ]
  },
  {
   "cell_type": "code",
   "execution_count": 216,
   "metadata": {
    "collapsed": false
   },
   "outputs": [
    {
     "data": {
      "image/png": "[encoded data removed]",
      "text/plain": [
       "<matplotlib.figure.Figure at 0x11e832790>"
      ]
     },
     "metadata": {},
     "output_type": "display_data"
    }
   ],
   "source": [
    "def distribution_plotter(column, data):\n",
    "    sns.set(rc={\"figure.figsize\": (10, 6)})\n",
    "    sns.set_style(\"dark\", {\"axes.facecolor\": \".9\"})\n",
    "    dist = sns.distplot(data, hist_kws={'alpha':0.5}, kde_kws={'linewidth':5})\n",
    "    dist.set_title('Distribution of ' + column + '\\n', fontsize=24)\n",
    "\n",
    "distribution_plotter('Rate', first_dict['Rate'])"
   ]
  },
  {
   "cell_type": "markdown",
   "metadata": {},
   "source": [
    "##### 15. Plot the Math distribution"
   ]
  },
  {
   "cell_type": "code",
   "execution_count": 217,
   "metadata": {
    "collapsed": false
   },
   "outputs": [
    {
     "data": {
      "image/png": "[encoded data removed]",
      "text/plain": [
       "<matplotlib.figure.Figure at 0x11cbd5690>"
      ]
     },
     "metadata": {},
     "output_type": "display_data"
    }
   ],
   "source": [
    "distribution_plotter('Math', third_dict['Math'])"
   ]
  },
  {
   "cell_type": "markdown",
   "metadata": {},
   "source": [
    "##### 16. Plot the Verbal distribution"
   ]
  },
  {
   "cell_type": "code",
   "execution_count": 218,
   "metadata": {
    "collapsed": false
   },
   "outputs": [
    {
     "data": {
      "image/png": "[encoded data removed]",
      "text/plain": [
       "<matplotlib.figure.Figure at 0x11c9489d0>"
      ]
     },
     "metadata": {},
     "output_type": "display_data"
    }
   ],
   "source": [
    "distribution_plotter('Verbal', second_dict['Verbal'])"
   ]
  },
  {
   "cell_type": "markdown",
   "metadata": {},
   "source": [
    "##### 17. What is the typical assumption for data distribution?"
   ]
  },
  {
   "cell_type": "markdown",
   "metadata": {
    "collapsed": false
   },
   "source": [
    "The typical assumption is that it would be a bell curve.  That there would be a mean near the middle with upper and lower scores being less likely."
   ]
  },
  {
   "cell_type": "markdown",
   "metadata": {},
   "source": [
    "##### 18. Does that distribution hold true for our data?"
   ]
  },
  {
   "cell_type": "markdown",
   "metadata": {
    "collapsed": false
   },
   "source": [
    "No. The low participation States create a surge of scores at a higher average throwing off the bell curve."
   ]
  },
  {
   "cell_type": "markdown",
   "metadata": {},
   "source": [
    "##### 19. Plot some scatterplots. **BONUS**: Use a PyPlot `figure` to present multiple plots at once."
   ]
  },
  {
   "cell_type": "code",
   "execution_count": 198,
   "metadata": {
    "collapsed": false
   },
   "outputs": [
    {
     "data": {
      "image/png": "[encoded data removed]",
      "text/plain": [
       "<matplotlib.figure.Figure at 0x11b252f90>"
      ]
     },
     "metadata": {},
     "output_type": "display_data"
    }
   ],
   "source": [
    "df = pd.read_csv('../assets/sat_scores.csv')\n",
    "df = df[df['State'] != 'All']\n",
    "\n",
    "sns.set(color_codes=True)\n",
    "ax = sns.regplot(x=\"Rate\", y=\"Verbal\", data=df)\n",
    "az = sns.regplot(x=\"Rate\", y=\"Math\", data=df)"
   ]
  },
  {
   "cell_type": "markdown",
   "metadata": {},
   "source": [
    "##### 20. Are there any interesting relationships to note?"
   ]
  },
  {
   "cell_type": "markdown",
   "metadata": {
    "collapsed": false
   },
   "source": [
    "Lower participation rate has higher average scores while high participation rate has lower average scores.  States with lower participation scores are more likely to score higher as the SAT is optional and students with strong acedemic capabilities are more likely to take the test than poorly performing students."
   ]
  },
  {
   "cell_type": "markdown",
   "metadata": {},
   "source": [
    "##### 21. Create box plots for each variable. "
   ]
  },
  {
   "cell_type": "code",
   "execution_count": 200,
   "metadata": {
    "collapsed": false
   },
   "outputs": [
    {
     "data": {
      "image/png": "[encoded data removed]",
      "text/plain": [
       "<matplotlib.figure.Figure at 0x11cb5b490>"
      ]
     },
     "metadata": {},
     "output_type": "display_data"
    }
   ],
   "source": [
    "sns.set_style(\"darkgrid\")\n",
    "ax = sns.boxplot(x=df[\"Rate\"])"
   ]
  },
  {
   "cell_type": "code",
   "execution_count": 201,
   "metadata": {
    "collapsed": false
   },
   "outputs": [
    {
     "data": {
      "image/png": "[encoded data removed]",
      "text/plain": [
       "<matplotlib.figure.Figure at 0x11b2df410>"
      ]
     },
     "metadata": {},
     "output_type": "display_data"
    }
   ],
   "source": [
    "az = sns.boxplot(x=df[\"Verbal\"])"
   ]
  },
  {
   "cell_type": "code",
   "execution_count": 202,
   "metadata": {
    "collapsed": false
   },
   "outputs": [
    {
     "data": {
      "image/png": "[encoded data removed]",
      "text/plain": [
       "<matplotlib.figure.Figure at 0x11b2df250>"
      ]
     },
     "metadata": {},
     "output_type": "display_data"
    }
   ],
   "source": [
    "ad = sns.boxplot(x=df[\"Math\"])"
   ]
  },
  {
   "cell_type": "markdown",
   "metadata": {},
   "source": [
    "##### BONUS: Using Tableau, create a heat map for each variable using a map of the US. "
   ]
  },
  {
   "cell_type": "markdown",
   "metadata": {},
   "source": [
    "# ![](../assets/Rate.png) 2001 Rate of Student Participation in the SAT"
   ]
  },
  {
   "cell_type": "markdown",
   "metadata": {},
   "source": [
    "# ![](../assets/Math.png) 2001 SAT Verbal Scores"
   ]
  },
  {
   "cell_type": "markdown",
   "metadata": {},
   "source": [
    "# ![](../assets/Math.png) 2001 SAT Math Scores"
   ]
  },
  {
   "cell_type": "code",
   "execution_count": null,
   "metadata": {
    "collapsed": true
   },
   "outputs": [],
   "source": []
  }
 ],
 "metadata": {
  "anaconda-cloud": {},
  "kernelspec": {
   "display_name": "Python [Root]",
   "language": "python",
   "name": "Python [Root]"
  },
  "language_info": {
   "codemirror_mode": {
    "name": "ipython",
    "version": 2
   },
   "file_extension": ".py",
   "mimetype": "text/x-python",
   "name": "python",
   "nbconvert_exporter": "python",
   "pygments_lexer": "ipython2",
   "version": "2.7.12"
  }
 },
 "nbformat": 4,
 "nbformat_minor": 0
}
