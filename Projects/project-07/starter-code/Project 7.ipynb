{
 "cells": [
  {
   "cell_type": "markdown",
   "metadata": {
    "focus": true,
    "id": "d21ca30e-294e-4146-8e4f-a5c331f7a36e"
   },
   "source": [
    "# Project 7 \n",
    "\n",
    "In this project, you will implement the the clustering techniques that you've learned this week. \n",
    "\n",
    "#### Step 1: Load the python libraries that you will need for this project "
   ]
  },
  {
   "cell_type": "code",
   "execution_count": 128,
   "metadata": {
    "collapsed": false,
    "focus": false,
    "id": "78c3bb3f-f513-437b-94f8-bc363b6e7a8b"
   },
   "outputs": [],
   "source": [
    "import pandas as pd \n",
    "import numpy as np\n",
    "import sklearn\n",
    "import psycopg2 as psy\n",
    "import seaborn as sns\n",
    "import matplotlib.pyplot as plt\n",
    "\n",
    "from sklearn.cluster import DBSCAN\n",
    "\n",
    "from sklearn import cluster, datasets, preprocessing, metrics\n",
    "from scipy.stats import linregress\n",
    "from sklearn.preprocessing import StandardScaler\n",
    "from sklearn.decomposition import PCA \n",
    "\n",
    "from sklearn.linear_model import LogisticRegression, LogisticRegressionCV\n",
    "from sklearn.grid_search import GridSearchCV\n",
    "\n",
    "from sqlalchemy import create_engine\n",
    "\n",
    "%matplotlib inline"
   ]
  },
  {
   "cell_type": "code",
   "execution_count": 2,
   "metadata": {
    "collapsed": true
   },
   "outputs": [],
   "source": [
    "%load_ext sql"
   ]
  },
  {
   "cell_type": "code",
   "execution_count": 3,
   "metadata": {
    "collapsed": false
   },
   "outputs": [],
   "source": [
    "engine = create_engine('postgresql://localhost')"
   ]
  },
  {
   "cell_type": "markdown",
   "metadata": {
    "focus": false,
    "id": "2c6f52ae-e694-463c-87d8-1974726c2e7a"
   },
   "source": [
    "#### Step 2: Examine your data "
   ]
  },
  {
   "cell_type": "code",
   "execution_count": 4,
   "metadata": {
    "collapsed": true,
    "focus": false,
    "id": "0f64db5a-e176-46a1-a10b-8c7db09437bc"
   },
   "outputs": [],
   "source": [
    "cc_df = pd.read_csv(\"../assets/airport_cancellations.csv\")\n",
    "op_df = pd.read_csv(\"../assets/Airport_operations.csv\")\n",
    "ap_df = pd.read_csv(\"../assets/airports.csv\")"
   ]
  },
  {
   "cell_type": "markdown",
   "metadata": {
    "focus": false,
    "id": "3690c265-ac0f-484d-ac79-f42da341e4cd"
   },
   "source": [
    "### Intro: Write a problem statement / aim for this project"
   ]
  },
  {
   "cell_type": "markdown",
   "metadata": {
    "focus": false,
    "id": "58297e17-aa21-4d1d-a46b-a36a4b92aac7"
   },
   "source": [
    "Figure out why there's delays and recommend improvements."
   ]
  },
  {
   "cell_type": "markdown",
   "metadata": {
    "focus": false,
    "id": "a3cccc0e-8531-4dfe-bb23-8c632aa7404e"
   },
   "source": [
    "### Part 1: Create a PostgreSQL database "
   ]
  },
  {
   "cell_type": "markdown",
   "metadata": {
    "focus": false,
    "id": "b51ca850-aa85-43e1-b7cd-627af62f5fe8"
   },
   "source": [
    "#### 1. Let's create a database where we can house our airport data"
   ]
  },
  {
   "cell_type": "code",
   "execution_count": 5,
   "metadata": {
    "collapsed": false
   },
   "outputs": [
    {
     "data": {
      "text/plain": [
       "'Connected: None@None'"
      ]
     },
     "execution_count": 5,
     "metadata": {},
     "output_type": "execute_result"
    }
   ],
   "source": [
    "%%sql\n",
    "postgresql://localhost"
   ]
  },
  {
   "cell_type": "markdown",
   "metadata": {
    "focus": false,
    "id": "b40e2d2b-5535-42c6-94d6-083b3e428b14"
   },
   "source": [
    "Load our csv files into tables"
   ]
  },
  {
   "cell_type": "code",
   "execution_count": 6,
   "metadata": {
    "collapsed": false,
    "focus": false,
    "id": "5cb41423-7467-4005-964c-9b423c3af977"
   },
   "outputs": [
    {
     "name": "stdout",
     "output_type": "stream",
     "text": [
      "(psycopg2.ProgrammingError) relation \"airports\" already exists\n",
      " [SQL: 'CREATE TABLE airports\\n(KEY integer, LocID varchar, AP_NAME varchar, ALIAS varchar, Facility_Type varchar, \\n FAA_REGION varchar, COUNTY varchar, CITY varchar, STATE varchar, AP_Type varchar, \\n LATITUDE double precision, LONGITUDE double precision, Boundary_Data_Available varchar);']\n"
     ]
    }
   ],
   "source": [
    "%%sql\n",
    "CREATE TABLE airports\n",
    "(KEY integer, LocID varchar, AP_NAME varchar, ALIAS varchar, Facility_Type varchar, \n",
    " FAA_REGION varchar, COUNTY varchar, CITY varchar, STATE varchar, AP_Type varchar, \n",
    " LATITUDE double precision, LONGITUDE double precision, Boundary_Data_Available varchar);\n",
    "\n",
    "CREATE TABLE cancellations\n",
    "(Airport varchar, Year float(1), Departure_Cancellations float(1),\n",
    " Arrival_Cancellations float(1), Departure_Diversions float(1),\n",
    " Arrival_Diversions float(1));\n",
    "\n",
    "CREATE TABLE operations\n",
    "(airport varchar, year integer, departures integer, arrivals integer,\n",
    " percent_ontime_gate_departures float(4), percent_ontime_airport_departures float(4),\n",
    " percent_ontime_gate_arrivals float(4), average_gate_departure_delay float(2),\n",
    " average_taxi_out_time float(2), average_taxi_out_delay float(2),\n",
    " average_airport_departure_delay float(2), average_airborne_delay float(2),\n",
    " average_taxi_delay float(2), average_block_delay float(2),\n",
    " average_gate_arrival_delay float(2));\n",
    "\n",
    "\n",
    "COPY airports FROM '/Users/Jesse/Documents/GA-DSI/projects/projects-weekly/project-07/assets/airports.csv' WITH CSV HEADER DELIMITER ',';\n",
    "COPY cancellations FROM '/Users/Jesse/Documents/GA-DSI/projects/projects-weekly/project-07/assets/airport_cancellations.csv' WITH CSV HEADER DELIMITER ',';\n",
    "COPY operations FROM '/Users/Jesse/Documents/GA-DSI/projects/projects-weekly/project-07/assets/Airport_operations.csv' WITH CSV HEADER DELIMITER ',';"
   ]
  },
  {
   "cell_type": "markdown",
   "metadata": {
    "focus": false,
    "id": "a0ca5023-4860-4d86-ae40-218d120ece17"
   },
   "source": [
    "Join airport_cancellations.csv and airports.csv into one table"
   ]
  },
  {
   "cell_type": "code",
   "execution_count": 7,
   "metadata": {
    "collapsed": false
   },
   "outputs": [],
   "source": [
    "# This section of code accomplishes the above requirement but is commented out since I don't use it.\n",
    "\n",
    "# %%sql\n",
    "# SELECT\n",
    "#     *\n",
    "# FROM cancellations c\n",
    "# JOIN operations o\n",
    "# ON (o.airport = c.Airport AND o.year = c.Year)\n",
    "# LEFT JOIN airports a\n",
    "# ON a.locid = c.Airport\n",
    "# WHERE c.airport = 'SJU';"
   ]
  },
  {
   "cell_type": "markdown",
   "metadata": {
    "focus": false,
    "id": "a5fa5f85-1cd6-4ab6-b936-93e9c951e1b7"
   },
   "source": [
    "Query the database for our intial data"
   ]
  },
  {
   "cell_type": "code",
   "execution_count": 8,
   "metadata": {
    "collapsed": false,
    "focus": false,
    "id": "385da01a-0b74-47bc-9757-447e46fa194a"
   },
   "outputs": [],
   "source": [
    "# df = pd.read_sql('''\n",
    "# SELECT\n",
    "#     *\n",
    "# FROM cancellations c\n",
    "# JOIN operations o\n",
    "# ON (o.airport = c.Airport AND o.year = c.Year)\n",
    "# LEFT JOIN airports a\n",
    "# ON a.locid = c.Airport\n",
    "# ORDER BY\n",
    "#     c.airport,\n",
    "#     c.year;\n",
    "# ''', engine)\n",
    "\n",
    "\n",
    "# df = df.T.drop_duplicates(subset=[1], keep='first').T\n",
    "# del df['boundary_data_available']\n",
    "# del df['facility_type']\n",
    "# del df['county']\n",
    "# del df['alias']"
   ]
  },
  {
   "cell_type": "markdown",
   "metadata": {},
   "source": [
    "# Following sections are useless so ignore it unless you don't want to"
   ]
  },
  {
   "cell_type": "code",
   "execution_count": 142,
   "metadata": {
    "collapsed": false
   },
   "outputs": [],
   "source": [
    "deets = pd.read_sql('''\n",
    "SELECT\n",
    "    *\n",
    "FROM operations o\n",
    "LEFT JOIN airports a\n",
    "ON a.locid = o.Airport\n",
    "ORDER BY\n",
    "    o.airport,\n",
    "    o.year;\n",
    "''', engine)"
   ]
  },
  {
   "cell_type": "code",
   "execution_count": null,
   "metadata": {
    "collapsed": true
   },
   "outputs": [],
   "source": [
    "departs = pd.read_sql('''\n",
    "SELECT\n",
    "    c.airport,\n",
    "    c.year,\n",
    "    o.percent_ontime_gate_departures,\n",
    "    o.percent_ontime_airport_departures,\n",
    "    a.faa_region\n",
    "FROM cancellations c\n",
    "JOIN operations o\n",
    "ON (o.airport = c.Airport AND o.year = c.Year)\n",
    "LEFT JOIN airports a\n",
    "ON a.locid = c.Airport\n",
    "GROUP BY\n",
    "    c.airport,\n",
    "    c.year,\n",
    "    o.percent_ontime_gate_departures,\n",
    "    o.percent_ontime_airport_departures,\n",
    "    a.faa_region\n",
    "ORDER BY\n",
    "    c.airport,\n",
    "    c.year;\n",
    "''', engine)"
   ]
  },
  {
   "cell_type": "code",
   "execution_count": 11,
   "metadata": {
    "collapsed": false
   },
   "outputs": [],
   "source": [
    "t1_df = departs.groupby('airport').apply(lambda v: linregress(v.year, v.percent_ontime_gate_departures)[0]).to_frame()\n",
    "t2_df = departs.groupby('airport').apply(lambda v: linregress(v.year, v.percent_ontime_airport_departures)[0]).to_frame()\n",
    "\n",
    "y1_df = departs.groupby('faa_region').apply(lambda v: linregress(v.year, v.percent_ontime_gate_departures)[0]).to_frame()\n",
    "y2_df = departs.groupby('faa_region').apply(lambda v: linregress(v.year, v.percent_ontime_airport_departures)[0]).to_frame()"
   ]
  },
  {
   "cell_type": "code",
   "execution_count": 67,
   "metadata": {
    "collapsed": false
   },
   "outputs": [],
   "source": [
    "t1_df.sort_values(by=0, inplace=True)\n",
    "tt1_df = t1_df.head(10)\n",
    "\n",
    "t2_df.sort_values(by=0, inplace=True)\n",
    "tt2_df = t2_df.head(10)\n",
    "\n",
    "y1_df.sort_values(by=0, ascending=False, inplace=True)\n",
    "yy1_df = y1_df\n",
    "\n",
    "y2_df.sort_values(by=0, inplace=True)\n",
    "yy2_df = y2_df"
   ]
  },
  {
   "cell_type": "code",
   "execution_count": 70,
   "metadata": {
    "collapsed": false
   },
   "outputs": [
    {
     "data": {
      "image/png": "[encoded data removed]",
      "text/plain": [
       "<matplotlib.figure.Figure at 0x127fbd5d0>"
      ]
     },
     "metadata": {},
     "output_type": "display_data"
    }
   ],
   "source": [
    "ax = yy1_df[0].plot(kind='barh')\n",
    "ax.invert_yaxis()\n",
    "ax.set_xlabel('Ontime Gate Departure Slope 2004-2014', fontsize=18)\n",
    "ax.set_ylabel('Airport', fontsize=18)\n",
    "ax.set_title('Percent Change Ontime Gate Departures by FAA-Region', fontsize=24, y=1.01);"
   ]
  },
  {
   "cell_type": "code",
   "execution_count": 14,
   "metadata": {
    "collapsed": false
   },
   "outputs": [
    {
     "data": {
      "image/png": "[encoded data removed]",
      "text/plain": [
       "<matplotlib.figure.Figure at 0x1187bb910>"
      ]
     },
     "metadata": {},
     "output_type": "display_data"
    }
   ],
   "source": [
    "ax = tt1_df[0].plot(kind='barh')\n",
    "ax.invert_xaxis()\n",
    "ax.invert_yaxis()\n",
    "ax.set_xlabel('Ontime Gate Departure Slope 2004-2014', fontsize=18)\n",
    "ax.set_ylabel('Airport', fontsize=18)\n",
    "ax.set_title('Percent Ontime Gate Departure', fontsize=24, y=1.01);"
   ]
  },
  {
   "cell_type": "code",
   "execution_count": 126,
   "metadata": {
    "collapsed": false,
    "scrolled": true
   },
   "outputs": [
    {
     "data": {
      "image/png": "[encoded data removed]",
      "text/plain": [
       "<matplotlib.figure.Figure at 0x1208d4050>"
      ]
     },
     "metadata": {},
     "output_type": "display_data"
    }
   ],
   "source": [
    "ax = tt2_df[0].plot(kind='barh')\n",
    "ax.invert_xaxis()\n",
    "ax.invert_yaxis()\n",
    "ax.set_xlabel('Ontime Airport Departure Slope 2004-2014', fontsize=18)\n",
    "ax.set_ylabel('Airport', fontsize=18)\n",
    "ax.set_title('Percent Slope Decrease Ontime Airport Departure', fontsize=24, y=1.01);"
   ]
  },
  {
   "cell_type": "code",
   "execution_count": 16,
   "metadata": {
    "collapsed": true
   },
   "outputs": [],
   "source": [
    "new_columns = op_df.columns.values\n",
    "new_columns[2] = 'departures'\n",
    "new_columns[3] = 'arrivals'\n",
    "new_columns[4] = 'percent_ontime_gate_departures'\n",
    "new_columns[5] = 'percent_ontime_airport_departures'\n",
    "new_columns[6] = 'percent_ontime_gate_arrivals'\n",
    "new_columns[9] = 'average_taxi_out_delay'\n",
    "op_df.columns = new_columns "
   ]
  },
  {
   "cell_type": "markdown",
   "metadata": {
    "focus": false,
    "id": "0b511b59-41ea-478f-bf2d-7e392dc9edaa"
   },
   "source": [
    "#### 1.2 What are the risks and assumptions of our data? "
   ]
  },
  {
   "cell_type": "markdown",
   "metadata": {
    "focus": false,
    "id": "0936ff6a-6919-4436-9fc1-d6ef90d5ba9e"
   },
   "source": [
    "#### Assumptions:\n",
    "\n",
    "#### Risks:\n",
    "I don't know what I'm doing"
   ]
  },
  {
   "cell_type": "markdown",
   "metadata": {
    "focus": false,
    "id": "e97b4707-0f0e-4f6a-90ab-fbb634c2305d"
   },
   "source": [
    "### Part 2: Exploratory Data Analysis"
   ]
  },
  {
   "cell_type": "markdown",
   "metadata": {
    "focus": false,
    "id": "6be9cf88-1b92-4360-b424-a495d5e2d4ba"
   },
   "source": [
    "#### 2.1 Plot and Describe the Data"
   ]
  },
  {
   "cell_type": "code",
   "execution_count": 19,
   "metadata": {
    "collapsed": false,
    "focus": false,
    "id": "41ff90a9-0d50-4a8e-97c4-fe429fffc1f7"
   },
   "outputs": [
    {
     "data": {
      "text/html": [
       "<div>\n",
       "<table border=\"1\" class=\"dataframe\">\n",
       "  <thead>\n",
       "    <tr style=\"text-align: right;\">\n",
       "      <th></th>\n",
       "      <th>airport</th>\n",
       "      <th>year</th>\n",
       "      <th>departures</th>\n",
       "      <th>arrivals</th>\n",
       "      <th>percent_ontime_gate_departures</th>\n",
       "      <th>percent_ontime_airport_departures</th>\n",
       "      <th>percent_ontime_gate_arrivals</th>\n",
       "      <th>average_gate_departure_delay</th>\n",
       "      <th>average_taxi_out_time</th>\n",
       "      <th>average_taxi_out_delay</th>\n",
       "      <th>average airport departure delay</th>\n",
       "      <th>average airborne delay</th>\n",
       "      <th>average taxi in delay</th>\n",
       "      <th>average block delay</th>\n",
       "      <th>average gate arrival delay</th>\n",
       "    </tr>\n",
       "  </thead>\n",
       "  <tbody>\n",
       "    <tr>\n",
       "      <th>0</th>\n",
       "      <td>ABQ</td>\n",
       "      <td>2004</td>\n",
       "      <td>53971</td>\n",
       "      <td>53818</td>\n",
       "      <td>0.8030</td>\n",
       "      <td>0.7809</td>\n",
       "      <td>0.7921</td>\n",
       "      <td>10.38</td>\n",
       "      <td>9.89</td>\n",
       "      <td>2.43</td>\n",
       "      <td>12.10</td>\n",
       "      <td>2.46</td>\n",
       "      <td>0.83</td>\n",
       "      <td>2.55</td>\n",
       "      <td>10.87</td>\n",
       "    </tr>\n",
       "    <tr>\n",
       "      <th>1</th>\n",
       "      <td>ABQ</td>\n",
       "      <td>2005</td>\n",
       "      <td>51829</td>\n",
       "      <td>51877</td>\n",
       "      <td>0.8140</td>\n",
       "      <td>0.7922</td>\n",
       "      <td>0.8001</td>\n",
       "      <td>9.60</td>\n",
       "      <td>9.79</td>\n",
       "      <td>2.29</td>\n",
       "      <td>11.20</td>\n",
       "      <td>2.26</td>\n",
       "      <td>0.89</td>\n",
       "      <td>2.34</td>\n",
       "      <td>10.24</td>\n",
       "    </tr>\n",
       "    <tr>\n",
       "      <th>2</th>\n",
       "      <td>ABQ</td>\n",
       "      <td>2006</td>\n",
       "      <td>49682</td>\n",
       "      <td>51199</td>\n",
       "      <td>0.7983</td>\n",
       "      <td>0.7756</td>\n",
       "      <td>0.7746</td>\n",
       "      <td>10.84</td>\n",
       "      <td>9.89</td>\n",
       "      <td>2.16</td>\n",
       "      <td>12.33</td>\n",
       "      <td>2.12</td>\n",
       "      <td>0.84</td>\n",
       "      <td>2.66</td>\n",
       "      <td>11.82</td>\n",
       "    </tr>\n",
       "    <tr>\n",
       "      <th>3</th>\n",
       "      <td>ABQ</td>\n",
       "      <td>2007</td>\n",
       "      <td>53255</td>\n",
       "      <td>53611</td>\n",
       "      <td>0.8005</td>\n",
       "      <td>0.7704</td>\n",
       "      <td>0.7647</td>\n",
       "      <td>11.29</td>\n",
       "      <td>10.34</td>\n",
       "      <td>2.40</td>\n",
       "      <td>12.95</td>\n",
       "      <td>2.19</td>\n",
       "      <td>1.29</td>\n",
       "      <td>3.06</td>\n",
       "      <td>12.71</td>\n",
       "    </tr>\n",
       "    <tr>\n",
       "      <th>4</th>\n",
       "      <td>ABQ</td>\n",
       "      <td>2008</td>\n",
       "      <td>49589</td>\n",
       "      <td>49512</td>\n",
       "      <td>0.8103</td>\n",
       "      <td>0.7844</td>\n",
       "      <td>0.7875</td>\n",
       "      <td>10.79</td>\n",
       "      <td>10.41</td>\n",
       "      <td>2.41</td>\n",
       "      <td>12.32</td>\n",
       "      <td>1.82</td>\n",
       "      <td>1.03</td>\n",
       "      <td>2.79</td>\n",
       "      <td>11.48</td>\n",
       "    </tr>\n",
       "  </tbody>\n",
       "</table>\n",
       "</div>"
      ],
      "text/plain": [
       "  airport  year  departures  arrivals  percent_ontime_gate_departures  \\\n",
       "0     ABQ  2004       53971     53818                          0.8030   \n",
       "1     ABQ  2005       51829     51877                          0.8140   \n",
       "2     ABQ  2006       49682     51199                          0.7983   \n",
       "3     ABQ  2007       53255     53611                          0.8005   \n",
       "4     ABQ  2008       49589     49512                          0.8103   \n",
       "\n",
       "   percent_ontime_airport_departures  percent_ontime_gate_arrivals  \\\n",
       "0                             0.7809                        0.7921   \n",
       "1                             0.7922                        0.8001   \n",
       "2                             0.7756                        0.7746   \n",
       "3                             0.7704                        0.7647   \n",
       "4                             0.7844                        0.7875   \n",
       "\n",
       "   average_gate_departure_delay  average_taxi_out_time  \\\n",
       "0                         10.38                   9.89   \n",
       "1                          9.60                   9.79   \n",
       "2                         10.84                   9.89   \n",
       "3                         11.29                  10.34   \n",
       "4                         10.79                  10.41   \n",
       "\n",
       "   average_taxi_out_delay  average airport departure delay  \\\n",
       "0                    2.43                            12.10   \n",
       "1                    2.29                            11.20   \n",
       "2                    2.16                            12.33   \n",
       "3                    2.40                            12.95   \n",
       "4                    2.41                            12.32   \n",
       "\n",
       "   average airborne delay  average taxi in delay  average block delay  \\\n",
       "0                    2.46                   0.83                 2.55   \n",
       "1                    2.26                   0.89                 2.34   \n",
       "2                    2.12                   0.84                 2.66   \n",
       "3                    2.19                   1.29                 3.06   \n",
       "4                    1.82                   1.03                 2.79   \n",
       "\n",
       "   average gate arrival delay  \n",
       "0                       10.87  \n",
       "1                       10.24  \n",
       "2                       11.82  \n",
       "3                       12.71  \n",
       "4                       11.48  "
      ]
     },
     "execution_count": 19,
     "metadata": {},
     "output_type": "execute_result"
    }
   ],
   "source": [
    "op_df.head()"
   ]
  },
  {
   "cell_type": "markdown",
   "metadata": {
    "focus": false,
    "id": "3d12188d-3aa9-4d47-a0e8-b5d6e8f071de"
   },
   "source": [
    "#### Are there any unique values? "
   ]
  },
  {
   "cell_type": "markdown",
   "metadata": {
    "collapsed": true,
    "focus": false,
    "id": "d76cfc84-4d16-4f6f-aca8-3dc77d3b8f5c"
   },
   "source": [
    "Uhhhhh yes?"
   ]
  },
  {
   "cell_type": "markdown",
   "metadata": {
    "focus": false,
    "id": "e2ddc27c-94d6-4ab1-95ef-1093bb2726b0"
   },
   "source": [
    "### Part 3: Data Mining"
   ]
  },
  {
   "cell_type": "markdown",
   "metadata": {
    "focus": false,
    "id": "a746fd8c-fdb0-45c3-9e17-ad4c89360055"
   },
   "source": [
    "#### 3.1 Create Dummy Variables"
   ]
  },
  {
   "cell_type": "code",
   "execution_count": 20,
   "metadata": {
    "collapsed": false,
    "focus": false,
    "id": "eae97f78-3695-4777-91c5-f282dfd26e96"
   },
   "outputs": [],
   "source": [
    "#dummy_ranks = pd.get_dummies(ap_df['FAA REGION'], prefix=\"region\")\n",
    "#op_df = op_df[op_df.columns.values].join(dummy_ranks.ix[:, :])"
   ]
  },
  {
   "cell_type": "markdown",
   "metadata": {
    "focus": false,
    "id": "c9b12f39-5410-42d7-aff9-859c0b2ccb70"
   },
   "source": [
    "#### 3.2 Format and Clean the Data"
   ]
  },
  {
   "cell_type": "code",
   "execution_count": null,
   "metadata": {
    "collapsed": false,
    "focus": false,
    "id": "c2f083d5-edf1-4380-a245-13c77315daa7"
   },
   "outputs": [],
   "source": []
  },
  {
   "cell_type": "markdown",
   "metadata": {
    "focus": false,
    "id": "27db8e3b-27d2-4420-bbab-1ddbba3dc3e5"
   },
   "source": [
    "### Part 4: Define the Data"
   ]
  },
  {
   "cell_type": "markdown",
   "metadata": {
    "focus": false,
    "id": "9bcb3ba6-8c35-470c-a821-47d7ba6a32f2"
   },
   "source": [
    "#### 4.1 Confirm that the dataset has a normal distribution. How can you tell? "
   ]
  },
  {
   "cell_type": "code",
   "execution_count": null,
   "metadata": {
    "collapsed": false,
    "focus": false,
    "id": "9c365cbd-7b6d-46bf-b4e4-b0e2e7bd5ff6"
   },
   "outputs": [],
   "source": []
  },
  {
   "cell_type": "markdown",
   "metadata": {
    "focus": false,
    "id": "17457da4-1175-4348-b10a-99f41f7a24dd"
   },
   "source": [
    "#### 4.2 Find correlations in the data"
   ]
  },
  {
   "cell_type": "code",
   "execution_count": null,
   "metadata": {
    "collapsed": false,
    "focus": false,
    "id": "78003f34-c0d8-40f6-bafe-e0892df3f1ca"
   },
   "outputs": [],
   "source": []
  },
  {
   "cell_type": "markdown",
   "metadata": {
    "focus": false,
    "id": "886b49bf-d7fa-41b0-b94c-740345580d88"
   },
   "source": [
    "#### 4.3 What is the value of understanding correlations before PCA? "
   ]
  },
  {
   "cell_type": "markdown",
   "metadata": {
    "focus": false,
    "id": "192df272-c2b1-46da-bcfa-c2b02d7445a8"
   },
   "source": [
    "Answer: "
   ]
  },
  {
   "cell_type": "markdown",
   "metadata": {
    "focus": false,
    "id": "904cda18-4a60-4b05-8502-139beb44c1f0"
   },
   "source": [
    "#### 4.4 Validate your findings using statistical analysis"
   ]
  },
  {
   "cell_type": "code",
   "execution_count": null,
   "metadata": {
    "collapsed": true,
    "focus": false,
    "id": "d2f5bd48-a2c8-4511-b3c6-fcb4889db4a7"
   },
   "outputs": [],
   "source": []
  },
  {
   "cell_type": "markdown",
   "metadata": {
    "focus": false,
    "id": "87689b59-fda0-4a07-a9d3-95936deaf8ee"
   },
   "source": [
    "#### 4.5 How can you improve your overall analysis? "
   ]
  },
  {
   "cell_type": "markdown",
   "metadata": {
    "focus": false,
    "id": "000bc40d-e033-4621-82a4-e09717947fb3"
   },
   "source": [
    "Answer: "
   ]
  },
  {
   "cell_type": "markdown",
   "metadata": {
    "focus": false,
    "id": "cea5d879-f180-448a-bd50-b30b2b7d6d28"
   },
   "source": [
    "### Part 5: Perform a PCA"
   ]
  },
  {
   "cell_type": "markdown",
   "metadata": {
    "focus": false,
    "id": "27c1212c-3490-45ff-a6da-501075f3eee5"
   },
   "source": [
    "#### 5.1 Conduct the PCA"
   ]
  },
  {
   "cell_type": "code",
   "execution_count": 21,
   "metadata": {
    "collapsed": false,
    "scrolled": true
   },
   "outputs": [
    {
     "data": {
      "text/html": [
       "<div>\n",
       "<table border=\"1\" class=\"dataframe\">\n",
       "  <thead>\n",
       "    <tr style=\"text-align: right;\">\n",
       "      <th></th>\n",
       "      <th>departures</th>\n",
       "      <th>arrivals</th>\n",
       "      <th>percent_ontime_gate_departures</th>\n",
       "      <th>percent_ontime_airport_departures</th>\n",
       "      <th>percent_ontime_gate_arrivals</th>\n",
       "      <th>average_gate_departure_delay</th>\n",
       "      <th>average_taxi_out_time</th>\n",
       "      <th>average_taxi_out_delay</th>\n",
       "      <th>average airport departure delay</th>\n",
       "      <th>average airborne delay</th>\n",
       "      <th>average taxi in delay</th>\n",
       "      <th>average block delay</th>\n",
       "      <th>average gate arrival delay</th>\n",
       "    </tr>\n",
       "  </thead>\n",
       "  <tbody>\n",
       "    <tr>\n",
       "      <th>0</th>\n",
       "      <td>53971</td>\n",
       "      <td>53818</td>\n",
       "      <td>0.8030</td>\n",
       "      <td>0.7809</td>\n",
       "      <td>0.7921</td>\n",
       "      <td>10.38</td>\n",
       "      <td>9.89</td>\n",
       "      <td>2.43</td>\n",
       "      <td>12.10</td>\n",
       "      <td>2.46</td>\n",
       "      <td>0.83</td>\n",
       "      <td>2.55</td>\n",
       "      <td>10.87</td>\n",
       "    </tr>\n",
       "    <tr>\n",
       "      <th>1</th>\n",
       "      <td>51829</td>\n",
       "      <td>51877</td>\n",
       "      <td>0.8140</td>\n",
       "      <td>0.7922</td>\n",
       "      <td>0.8001</td>\n",
       "      <td>9.60</td>\n",
       "      <td>9.79</td>\n",
       "      <td>2.29</td>\n",
       "      <td>11.20</td>\n",
       "      <td>2.26</td>\n",
       "      <td>0.89</td>\n",
       "      <td>2.34</td>\n",
       "      <td>10.24</td>\n",
       "    </tr>\n",
       "    <tr>\n",
       "      <th>2</th>\n",
       "      <td>49682</td>\n",
       "      <td>51199</td>\n",
       "      <td>0.7983</td>\n",
       "      <td>0.7756</td>\n",
       "      <td>0.7746</td>\n",
       "      <td>10.84</td>\n",
       "      <td>9.89</td>\n",
       "      <td>2.16</td>\n",
       "      <td>12.33</td>\n",
       "      <td>2.12</td>\n",
       "      <td>0.84</td>\n",
       "      <td>2.66</td>\n",
       "      <td>11.82</td>\n",
       "    </tr>\n",
       "    <tr>\n",
       "      <th>3</th>\n",
       "      <td>53255</td>\n",
       "      <td>53611</td>\n",
       "      <td>0.8005</td>\n",
       "      <td>0.7704</td>\n",
       "      <td>0.7647</td>\n",
       "      <td>11.29</td>\n",
       "      <td>10.34</td>\n",
       "      <td>2.40</td>\n",
       "      <td>12.95</td>\n",
       "      <td>2.19</td>\n",
       "      <td>1.29</td>\n",
       "      <td>3.06</td>\n",
       "      <td>12.71</td>\n",
       "    </tr>\n",
       "    <tr>\n",
       "      <th>4</th>\n",
       "      <td>49589</td>\n",
       "      <td>49512</td>\n",
       "      <td>0.8103</td>\n",
       "      <td>0.7844</td>\n",
       "      <td>0.7875</td>\n",
       "      <td>10.79</td>\n",
       "      <td>10.41</td>\n",
       "      <td>2.41</td>\n",
       "      <td>12.32</td>\n",
       "      <td>1.82</td>\n",
       "      <td>1.03</td>\n",
       "      <td>2.79</td>\n",
       "      <td>11.48</td>\n",
       "    </tr>\n",
       "  </tbody>\n",
       "</table>\n",
       "</div>"
      ],
      "text/plain": [
       "   departures  arrivals  percent_ontime_gate_departures  \\\n",
       "0       53971     53818                          0.8030   \n",
       "1       51829     51877                          0.8140   \n",
       "2       49682     51199                          0.7983   \n",
       "3       53255     53611                          0.8005   \n",
       "4       49589     49512                          0.8103   \n",
       "\n",
       "   percent_ontime_airport_departures  percent_ontime_gate_arrivals  \\\n",
       "0                             0.7809                        0.7921   \n",
       "1                             0.7922                        0.8001   \n",
       "2                             0.7756                        0.7746   \n",
       "3                             0.7704                        0.7647   \n",
       "4                             0.7844                        0.7875   \n",
       "\n",
       "   average_gate_departure_delay  average_taxi_out_time  \\\n",
       "0                         10.38                   9.89   \n",
       "1                          9.60                   9.79   \n",
       "2                         10.84                   9.89   \n",
       "3                         11.29                  10.34   \n",
       "4                         10.79                  10.41   \n",
       "\n",
       "   average_taxi_out_delay  average airport departure delay  \\\n",
       "0                    2.43                            12.10   \n",
       "1                    2.29                            11.20   \n",
       "2                    2.16                            12.33   \n",
       "3                    2.40                            12.95   \n",
       "4                    2.41                            12.32   \n",
       "\n",
       "   average airborne delay  average taxi in delay  average block delay  \\\n",
       "0                    2.46                   0.83                 2.55   \n",
       "1                    2.26                   0.89                 2.34   \n",
       "2                    2.12                   0.84                 2.66   \n",
       "3                    2.19                   1.29                 3.06   \n",
       "4                    1.82                   1.03                 2.79   \n",
       "\n",
       "   average gate arrival delay  \n",
       "0                       10.87  \n",
       "1                       10.24  \n",
       "2                       11.82  \n",
       "3                       12.71  \n",
       "4                       11.48  "
      ]
     },
     "execution_count": 21,
     "metadata": {},
     "output_type": "execute_result"
    }
   ],
   "source": [
    "op_df.ix[:,2:].head()"
   ]
  },
  {
   "cell_type": "code",
   "execution_count": 107,
   "metadata": {
    "collapsed": true,
    "focus": false,
    "id": "98fd6a42-89e0-4621-a70d-1e2c8c4bb975"
   },
   "outputs": [],
   "source": [
    "x = op_df.ix[:,2:14].values\n",
    "y = op_df.ix[:,0].values"
   ]
  },
  {
   "cell_type": "code",
   "execution_count": 108,
   "metadata": {
    "collapsed": false
   },
   "outputs": [],
   "source": [
    "xStand = StandardScaler().fit_transform(x)"
   ]
  },
  {
   "cell_type": "code",
   "execution_count": 109,
   "metadata": {
    "collapsed": true
   },
   "outputs": [],
   "source": [
    "covMat = np.cov(xStand.T)\n",
    "eigenValues, eigenVectors = np.linalg.eig(covMat)"
   ]
  },
  {
   "cell_type": "code",
   "execution_count": 110,
   "metadata": {
    "collapsed": false
   },
   "outputs": [],
   "source": [
    "eigenPairs = [(np.abs(eigenValues[i]), eigenVectors[:,i]) for i in range(len(eigenValues))]\n",
    "eigenPairs.sort(reverse=True)"
   ]
  },
  {
   "cell_type": "code",
   "execution_count": 111,
   "metadata": {
    "collapsed": true
   },
   "outputs": [],
   "source": [
    "totalEigen = sum(eigenValues)\n",
    "varExpl = [(i / totalEigen)*100 for i in sorted(eigenValues, reverse=True)]\n",
    "cumulvarExpl = np.cumsum(varExpl)"
   ]
  },
  {
   "cell_type": "code",
   "execution_count": 112,
   "metadata": {
    "collapsed": true
   },
   "outputs": [],
   "source": [
    "airports_pca = PCA(n_components=3)\n",
    "airports_pca.fit(xStand)\n",
    "X = airports_pca.transform(xStand)"
   ]
  },
  {
   "cell_type": "code",
   "execution_count": 114,
   "metadata": {
    "collapsed": false
   },
   "outputs": [],
   "source": [
    "weight_2d_projection = np.hstack((eigenPairs[0][1].reshape(eigenVectors.shape[1],1),\n",
    "                                  eigenPairs[1][1].reshape(eigenVectors.shape[1],1)))"
   ]
  },
  {
   "cell_type": "code",
   "execution_count": 115,
   "metadata": {
    "collapsed": false
   },
   "outputs": [],
   "source": [
    "poo = op_df.ix[:,2:14]\n",
    "poo = (poo - poo.mean()) / poo.std()"
   ]
  },
  {
   "cell_type": "code",
   "execution_count": 116,
   "metadata": {
    "collapsed": false
   },
   "outputs": [],
   "source": [
    "Z = poo.dot(weight_2d_projection)"
   ]
  },
  {
   "cell_type": "code",
   "execution_count": 117,
   "metadata": {
    "collapsed": false
   },
   "outputs": [
    {
     "name": "stdout",
     "output_type": "stream",
     "text": [
      "[ 47.57620567  81.76648321  88.80868815  92.9094282   96.80559213\n",
      "  98.19321523  98.92422853  99.53016479  99.96782207  99.99273407\n",
      "  99.99860957 100.        ]\n"
     ]
    }
   ],
   "source": [
    "tot = sum(eigenValues)\n",
    "var_exp = [(i / tot)*100 for i in sorted(eigenValues, reverse=True)]\n",
    "cum_var_exp = np.cumsum(var_exp)\n",
    "print cum_var_exp"
   ]
  },
  {
   "cell_type": "code",
   "execution_count": 118,
   "metadata": {
    "collapsed": false,
    "scrolled": true
   },
   "outputs": [],
   "source": [
    "X = pd.DataFrame(X)"
   ]
  },
  {
   "cell_type": "code",
   "execution_count": 127,
   "metadata": {
    "collapsed": false
   },
   "outputs": [
    {
     "data": {
      "image/png": "[encoded data removed]",
      "text/plain": [
       "<matplotlib.figure.Figure at 0x122be50d0>"
      ]
     },
     "metadata": {},
     "output_type": "display_data"
    }
   ],
   "source": [
    "fig = plt.figure(figsize=(9,7))\n",
    "ax = fig.gca()\n",
    "ax = sns.regplot(Z.iloc[:,0], poo['percent_ontime_gate_departures'].values,\n",
    "                 fit_reg=True, scatter_kws={'s':70}, ax=ax)\n",
    "\n",
    "ax.set_xlabel('principal component 1', fontsize=16)\n",
    "ax.set_ylabel('percent_ontime_gate_departures', fontsize=16)\n",
    "\n",
    "\n",
    "for tick in ax.xaxis.get_major_ticks():\n",
    "    tick.label.set_fontsize(12) \n",
    "    \n",
    "for tick in ax.yaxis.get_major_ticks():\n",
    "    tick.label.set_fontsize(12) \n",
    "    \n",
    "ax.set_title('PC1 vs percent on-time gate departures\\n', fontsize=20)\n",
    "\n",
    "plt.show()"
   ]
  },
  {
   "cell_type": "markdown",
   "metadata": {},
   "source": [
    "### Part 6: Additional Analysis\n",
    "Include any other models you'd like to run here. These can include regressions, classifications, or clusters. "
   ]
  },
  {
   "cell_type": "code",
   "execution_count": 121,
   "metadata": {
    "collapsed": false
   },
   "outputs": [
    {
     "data": {
      "text/plain": [
       "KMeans(copy_x=True, init='k-means++', max_iter=300, n_clusters=3, n_init=10,\n",
       "    n_jobs=1, precompute_distances='auto', random_state=None, tol=0.0001,\n",
       "    verbose=0)"
      ]
     },
     "execution_count": 121,
     "metadata": {},
     "output_type": "execute_result"
    }
   ],
   "source": [
    "k = 3\n",
    "kmeans = cluster.KMeans(n_clusters=k)\n",
    "kmeans.fit(X)"
   ]
  },
  {
   "cell_type": "code",
   "execution_count": 122,
   "metadata": {
    "collapsed": true
   },
   "outputs": [],
   "source": [
    "labels = kmeans.labels_\n",
    "centroids = kmeans.cluster_centers_\n",
    "inertia = kmeans.inertia_"
   ]
  },
  {
   "cell_type": "code",
   "execution_count": 123,
   "metadata": {
    "collapsed": false
   },
   "outputs": [
    {
     "data": {
      "text/plain": [
       "0.49608547595191566"
      ]
     },
     "execution_count": 123,
     "metadata": {},
     "output_type": "execute_result"
    }
   ],
   "source": [
    "metrics.silhouette_score(X, labels, metric='euclidean')"
   ]
  },
  {
   "cell_type": "code",
   "execution_count": 140,
   "metadata": {
    "collapsed": false
   },
   "outputs": [
    {
     "data": {
      "text/html": [
       "<div>\n",
       "<table border=\"1\" class=\"dataframe\">\n",
       "  <thead>\n",
       "    <tr style=\"text-align: right;\">\n",
       "      <th></th>\n",
       "      <th>Key</th>\n",
       "      <th>LocID</th>\n",
       "      <th>AP_NAME</th>\n",
       "      <th>ALIAS</th>\n",
       "      <th>Facility Type</th>\n",
       "      <th>FAA REGION</th>\n",
       "      <th>COUNTY</th>\n",
       "      <th>CITY</th>\n",
       "      <th>STATE</th>\n",
       "      <th>AP Type</th>\n",
       "      <th>Latitude</th>\n",
       "      <th>Longitude</th>\n",
       "      <th>Boundary Data Available</th>\n",
       "    </tr>\n",
       "  </thead>\n",
       "  <tbody>\n",
       "    <tr>\n",
       "      <th>0</th>\n",
       "      <td>3443.0</td>\n",
       "      <td>STX</td>\n",
       "      <td>HENRY E ROHLSEN</td>\n",
       "      <td>Henry E Rohlsen Int'l Airport</td>\n",
       "      <td>Airport</td>\n",
       "      <td>ASO</td>\n",
       "      <td>-VIRGIN ISLANDS-</td>\n",
       "      <td>CHRISTIANSTED</td>\n",
       "      <td>VI</td>\n",
       "      <td>Public Use</td>\n",
       "      <td>17.701556</td>\n",
       "      <td>-64.801722</td>\n",
       "      <td>Yes</td>\n",
       "    </tr>\n",
       "    <tr>\n",
       "      <th>1</th>\n",
       "      <td>5088.0</td>\n",
       "      <td>X64</td>\n",
       "      <td>PATILLAS</td>\n",
       "      <td>NaN</td>\n",
       "      <td>Airport</td>\n",
       "      <td>ASO</td>\n",
       "      <td>#NAME?</td>\n",
       "      <td>PATILLAS</td>\n",
       "      <td>PR</td>\n",
       "      <td>Public Use</td>\n",
       "      <td>17.982189</td>\n",
       "      <td>-66.019330</td>\n",
       "      <td>No</td>\n",
       "    </tr>\n",
       "    <tr>\n",
       "      <th>2</th>\n",
       "      <td>2886.0</td>\n",
       "      <td>PSE</td>\n",
       "      <td>MERCEDITA</td>\n",
       "      <td>Aeropuerto Mercedita</td>\n",
       "      <td>Airport</td>\n",
       "      <td>ASO</td>\n",
       "      <td>#NAME?</td>\n",
       "      <td>PONCE</td>\n",
       "      <td>PR</td>\n",
       "      <td>Public Use</td>\n",
       "      <td>18.008306</td>\n",
       "      <td>-66.563028</td>\n",
       "      <td>Yes</td>\n",
       "    </tr>\n",
       "    <tr>\n",
       "      <th>3</th>\n",
       "      <td>2879.0</td>\n",
       "      <td>VQS</td>\n",
       "      <td>ANTONIO RIVERA RODRIGUEZ</td>\n",
       "      <td>Aeropuerto Antonio Rivera Rodr�guez</td>\n",
       "      <td>Airport</td>\n",
       "      <td>ASO</td>\n",
       "      <td>#NAME?</td>\n",
       "      <td>ISLA DE VIEQUES</td>\n",
       "      <td>PR</td>\n",
       "      <td>Public Use</td>\n",
       "      <td>18.134811</td>\n",
       "      <td>-65.493617</td>\n",
       "      <td>Yes</td>\n",
       "    </tr>\n",
       "    <tr>\n",
       "      <th>4</th>\n",
       "      <td>2883.0</td>\n",
       "      <td>X63</td>\n",
       "      <td>HUMACAO</td>\n",
       "      <td>Aeropuerto Regional De Humacao</td>\n",
       "      <td>Airport</td>\n",
       "      <td>ASO</td>\n",
       "      <td>#NAME?</td>\n",
       "      <td>HUMACAO</td>\n",
       "      <td>PR</td>\n",
       "      <td>Public Use</td>\n",
       "      <td>18.138017</td>\n",
       "      <td>-65.800718</td>\n",
       "      <td>Yes</td>\n",
       "    </tr>\n",
       "    <tr>\n",
       "      <th>5</th>\n",
       "      <td>2884.0</td>\n",
       "      <td>RVR</td>\n",
       "      <td>JOSE APONTE DE LA TORRE</td>\n",
       "      <td>Aeropuerto Jos� Aponte De La Torre</td>\n",
       "      <td>Airport</td>\n",
       "      <td>ASO</td>\n",
       "      <td>#NAME?</td>\n",
       "      <td>CEIBA</td>\n",
       "      <td>PR</td>\n",
       "      <td>Public Use</td>\n",
       "      <td>18.245269</td>\n",
       "      <td>-65.643381</td>\n",
       "      <td>Yes</td>\n",
       "    </tr>\n",
       "    <tr>\n",
       "      <th>6</th>\n",
       "      <td>2881.0</td>\n",
       "      <td>MAZ</td>\n",
       "      <td>EUGENIO MARIA DE HOSTOS</td>\n",
       "      <td>Aeropuerto Eugenio Mar�a De Hostos</td>\n",
       "      <td>Airport</td>\n",
       "      <td>ASO</td>\n",
       "      <td>#NAME?</td>\n",
       "      <td>MAYAGUEZ</td>\n",
       "      <td>PR</td>\n",
       "      <td>Public Use</td>\n",
       "      <td>18.255694</td>\n",
       "      <td>-67.148472</td>\n",
       "      <td>Yes</td>\n",
       "    </tr>\n",
       "    <tr>\n",
       "      <th>7</th>\n",
       "      <td>5087.0</td>\n",
       "      <td>X95</td>\n",
       "      <td>DIEGO JIMENEZ TORRES</td>\n",
       "      <td>NaN</td>\n",
       "      <td>Airport</td>\n",
       "      <td>ASO</td>\n",
       "      <td>#NAME?</td>\n",
       "      <td>FAJARDO</td>\n",
       "      <td>PR</td>\n",
       "      <td>Public Use</td>\n",
       "      <td>18.308010</td>\n",
       "      <td>-65.661828</td>\n",
       "      <td>No</td>\n",
       "    </tr>\n",
       "    <tr>\n",
       "      <th>8</th>\n",
       "      <td>5086.0</td>\n",
       "      <td>CPX</td>\n",
       "      <td>BENJAMIN RIVERA NORIEGA</td>\n",
       "      <td>NaN</td>\n",
       "      <td>Airport</td>\n",
       "      <td>ASO</td>\n",
       "      <td>#NAME?</td>\n",
       "      <td>ISLA DE CULEBRA</td>\n",
       "      <td>PR</td>\n",
       "      <td>Public Use</td>\n",
       "      <td>18.313289</td>\n",
       "      <td>-65.304324</td>\n",
       "      <td>No</td>\n",
       "    </tr>\n",
       "    <tr>\n",
       "      <th>9</th>\n",
       "      <td>3442.0</td>\n",
       "      <td>STT</td>\n",
       "      <td>CYRIL E KING</td>\n",
       "      <td>Cyril E King International Airport</td>\n",
       "      <td>Airport</td>\n",
       "      <td>ASO</td>\n",
       "      <td>-VIRGIN ISLANDS-</td>\n",
       "      <td>CHARLOTTE AMALIE</td>\n",
       "      <td>VI</td>\n",
       "      <td>Public Use</td>\n",
       "      <td>18.337306</td>\n",
       "      <td>-64.973361</td>\n",
       "      <td>Yes</td>\n",
       "    </tr>\n",
       "    <tr>\n",
       "      <th>10</th>\n",
       "      <td>2885.0</td>\n",
       "      <td>SJU</td>\n",
       "      <td>LUIS MUNOZ MARIN INTL</td>\n",
       "      <td>Aeropuerto Int'l Luis Mu�oz Marin</td>\n",
       "      <td>Airport</td>\n",
       "      <td>ASO</td>\n",
       "      <td>#NAME?</td>\n",
       "      <td>SAN JUAN</td>\n",
       "      <td>PR</td>\n",
       "      <td>Federalized/Commercial</td>\n",
       "      <td>18.439295</td>\n",
       "      <td>-66.002004</td>\n",
       "      <td>Yes</td>\n",
       "    </tr>\n",
       "    <tr>\n",
       "      <th>11</th>\n",
       "      <td>2880.0</td>\n",
       "      <td>ABO</td>\n",
       "      <td>ANTONIO/NERY/JUARBE POL</td>\n",
       "      <td>Aeropuerto Antonio Juarbe</td>\n",
       "      <td>Airport</td>\n",
       "      <td>ASO</td>\n",
       "      <td>#NAME?</td>\n",
       "      <td>ARECIBO</td>\n",
       "      <td>PR</td>\n",
       "      <td>Public Use</td>\n",
       "      <td>18.451111</td>\n",
       "      <td>-66.675556</td>\n",
       "      <td>Yes</td>\n",
       "    </tr>\n",
       "    <tr>\n",
       "      <th>12</th>\n",
       "      <td>2882.0</td>\n",
       "      <td>SIG</td>\n",
       "      <td>FERNANDO LUIS RIBAS DOMINICCI</td>\n",
       "      <td>Aeropuerto De La Isla Grande</td>\n",
       "      <td>Airport</td>\n",
       "      <td>ASO</td>\n",
       "      <td>#NAME?</td>\n",
       "      <td>SAN JUAN</td>\n",
       "      <td>PR</td>\n",
       "      <td>Public Use</td>\n",
       "      <td>18.456791</td>\n",
       "      <td>-66.098463</td>\n",
       "      <td>Yes</td>\n",
       "    </tr>\n",
       "    <tr>\n",
       "      <th>13</th>\n",
       "      <td>2887.0</td>\n",
       "      <td>BQN</td>\n",
       "      <td>RAFAEL HERNANDEZ</td>\n",
       "      <td>Aeropuerto Rafael Hern�ndez</td>\n",
       "      <td>Airport</td>\n",
       "      <td>ASO</td>\n",
       "      <td>#NAME?</td>\n",
       "      <td>AGUADILLA</td>\n",
       "      <td>PR</td>\n",
       "      <td>Public Use</td>\n",
       "      <td>18.494861</td>\n",
       "      <td>-67.129444</td>\n",
       "      <td>Yes</td>\n",
       "    </tr>\n",
       "    <tr>\n",
       "      <th>14</th>\n",
       "      <td>974.0</td>\n",
       "      <td>ITO</td>\n",
       "      <td>HILO INTL</td>\n",
       "      <td>Hilo Int'l Airport</td>\n",
       "      <td>Airport</td>\n",
       "      <td>AWP</td>\n",
       "      <td>HAWAII</td>\n",
       "      <td>HILO</td>\n",
       "      <td>HI</td>\n",
       "      <td>Public Use</td>\n",
       "      <td>19.720263</td>\n",
       "      <td>-155.048470</td>\n",
       "      <td>Yes</td>\n",
       "    </tr>\n",
       "    <tr>\n",
       "      <th>15</th>\n",
       "      <td>979.0</td>\n",
       "      <td>KOA</td>\n",
       "      <td>KONA INTL AT KEAHOLE</td>\n",
       "      <td>Kona Int'l Airport At Keahole</td>\n",
       "      <td>Airport</td>\n",
       "      <td>AWP</td>\n",
       "      <td>HAWAII</td>\n",
       "      <td>KAILUA/KONA</td>\n",
       "      <td>HI</td>\n",
       "      <td>Public Use</td>\n",
       "      <td>19.738766</td>\n",
       "      <td>-156.045631</td>\n",
       "      <td>Yes</td>\n",
       "    </tr>\n",
       "    <tr>\n",
       "      <th>16</th>\n",
       "      <td>985.0</td>\n",
       "      <td>MUE</td>\n",
       "      <td>WAIMEA-KOHALA</td>\n",
       "      <td>Waimea-Kohala Airport</td>\n",
       "      <td>Airport</td>\n",
       "      <td>AWP</td>\n",
       "      <td>HAWAII</td>\n",
       "      <td>KAMUELA</td>\n",
       "      <td>HI</td>\n",
       "      <td>Public Use</td>\n",
       "      <td>20.001327</td>\n",
       "      <td>-155.668107</td>\n",
       "      <td>Yes</td>\n",
       "    </tr>\n",
       "    <tr>\n",
       "      <th>17</th>\n",
       "      <td>984.0</td>\n",
       "      <td>UPP</td>\n",
       "      <td>UPOLU</td>\n",
       "      <td>Upolu Airport</td>\n",
       "      <td>Airport</td>\n",
       "      <td>AWP</td>\n",
       "      <td>HAWAII</td>\n",
       "      <td>HAWI</td>\n",
       "      <td>HI</td>\n",
       "      <td>Public Use</td>\n",
       "      <td>20.265194</td>\n",
       "      <td>-155.859944</td>\n",
       "      <td>Yes</td>\n",
       "    </tr>\n",
       "    <tr>\n",
       "      <th>18</th>\n",
       "      <td>980.0</td>\n",
       "      <td>LNY</td>\n",
       "      <td>LANAI</td>\n",
       "      <td>Lanai Airport</td>\n",
       "      <td>Airport</td>\n",
       "      <td>AWP</td>\n",
       "      <td>MAUI</td>\n",
       "      <td>LANAI CITY</td>\n",
       "      <td>HI</td>\n",
       "      <td>Public Use</td>\n",
       "      <td>20.785611</td>\n",
       "      <td>-156.951418</td>\n",
       "      <td>Yes</td>\n",
       "    </tr>\n",
       "    <tr>\n",
       "      <th>19</th>\n",
       "      <td>973.0</td>\n",
       "      <td>HNM</td>\n",
       "      <td>HANA</td>\n",
       "      <td>Hana Airport</td>\n",
       "      <td>Airport</td>\n",
       "      <td>AWP</td>\n",
       "      <td>MAUI</td>\n",
       "      <td>HANA</td>\n",
       "      <td>HI</td>\n",
       "      <td>Public Use</td>\n",
       "      <td>20.795637</td>\n",
       "      <td>-156.014438</td>\n",
       "      <td>Yes</td>\n",
       "    </tr>\n",
       "    <tr>\n",
       "      <th>20</th>\n",
       "      <td>976.0</td>\n",
       "      <td>OGG</td>\n",
       "      <td>KAHULUI</td>\n",
       "      <td>Kahului Airport</td>\n",
       "      <td>Airport</td>\n",
       "      <td>AWP</td>\n",
       "      <td>MAUI</td>\n",
       "      <td>KAHULUI</td>\n",
       "      <td>HI</td>\n",
       "      <td>Federalized/Commercial</td>\n",
       "      <td>20.898650</td>\n",
       "      <td>-156.430458</td>\n",
       "      <td>Yes</td>\n",
       "    </tr>\n",
       "    <tr>\n",
       "      <th>21</th>\n",
       "      <td>982.0</td>\n",
       "      <td>MKK</td>\n",
       "      <td>MOLOKAI</td>\n",
       "      <td>Molokai Airport</td>\n",
       "      <td>Airport</td>\n",
       "      <td>AWP</td>\n",
       "      <td>MAUI</td>\n",
       "      <td>KAUNAKAKAI</td>\n",
       "      <td>HI</td>\n",
       "      <td>Public Use</td>\n",
       "      <td>21.152886</td>\n",
       "      <td>-157.096256</td>\n",
       "      <td>Yes</td>\n",
       "    </tr>\n",
       "    <tr>\n",
       "      <th>22</th>\n",
       "      <td>978.0</td>\n",
       "      <td>LUP</td>\n",
       "      <td>KALAUPAPA</td>\n",
       "      <td>Kalaupapa Airport</td>\n",
       "      <td>Airport</td>\n",
       "      <td>AWP</td>\n",
       "      <td>KALAWAO</td>\n",
       "      <td>KALAUPAPA</td>\n",
       "      <td>HI</td>\n",
       "      <td>Public Use</td>\n",
       "      <td>21.211040</td>\n",
       "      <td>-156.973597</td>\n",
       "      <td>Yes</td>\n",
       "    </tr>\n",
       "    <tr>\n",
       "      <th>23</th>\n",
       "      <td>977.0</td>\n",
       "      <td>JRF</td>\n",
       "      <td>KALAELOA (JOHN RODGERS FIELD)</td>\n",
       "      <td>Kalaeloa Airport</td>\n",
       "      <td>Airport</td>\n",
       "      <td>AWP</td>\n",
       "      <td>HONOLULU</td>\n",
       "      <td>KAPOLEI</td>\n",
       "      <td>HI</td>\n",
       "      <td>Public Use</td>\n",
       "      <td>21.307354</td>\n",
       "      <td>-158.070302</td>\n",
       "      <td>Yes</td>\n",
       "    </tr>\n",
       "    <tr>\n",
       "      <th>24</th>\n",
       "      <td>975.0</td>\n",
       "      <td>HNL</td>\n",
       "      <td>HONOLULU INTL</td>\n",
       "      <td>Honolulu Int'l Airport</td>\n",
       "      <td>Airport</td>\n",
       "      <td>AWP</td>\n",
       "      <td>HONOLULU</td>\n",
       "      <td>HONOLULU</td>\n",
       "      <td>HI</td>\n",
       "      <td>Federalized/Commercial</td>\n",
       "      <td>21.318681</td>\n",
       "      <td>-157.922429</td>\n",
       "      <td>Yes</td>\n",
       "    </tr>\n",
       "    <tr>\n",
       "      <th>25</th>\n",
       "      <td>972.0</td>\n",
       "      <td>HDH</td>\n",
       "      <td>DILLINGHAM AIRFIELD</td>\n",
       "      <td>Dillingham Airfield</td>\n",
       "      <td>Airport</td>\n",
       "      <td>AWP</td>\n",
       "      <td>HONOLULU</td>\n",
       "      <td>MOKULEIA</td>\n",
       "      <td>HI</td>\n",
       "      <td>Public Use</td>\n",
       "      <td>21.579474</td>\n",
       "      <td>-158.197281</td>\n",
       "      <td>Yes</td>\n",
       "    </tr>\n",
       "    <tr>\n",
       "      <th>26</th>\n",
       "      <td>983.0</td>\n",
       "      <td>PAK</td>\n",
       "      <td>PORT ALLEN</td>\n",
       "      <td>Port Allen Airport</td>\n",
       "      <td>Airport</td>\n",
       "      <td>AWP</td>\n",
       "      <td>KAUAI</td>\n",
       "      <td>HANAPEPE</td>\n",
       "      <td>HI</td>\n",
       "      <td>Public Use</td>\n",
       "      <td>21.896944</td>\n",
       "      <td>-159.603167</td>\n",
       "      <td>Yes</td>\n",
       "    </tr>\n",
       "    <tr>\n",
       "      <th>27</th>\n",
       "      <td>981.0</td>\n",
       "      <td>LIH</td>\n",
       "      <td>LIHUE</td>\n",
       "      <td>Lihue Airport</td>\n",
       "      <td>Airport</td>\n",
       "      <td>AWP</td>\n",
       "      <td>KAUAI</td>\n",
       "      <td>LIHUE</td>\n",
       "      <td>HI</td>\n",
       "      <td>Public Use</td>\n",
       "      <td>21.975983</td>\n",
       "      <td>-159.338958</td>\n",
       "      <td>Yes</td>\n",
       "    </tr>\n",
       "    <tr>\n",
       "      <th>28</th>\n",
       "      <td>811.0</td>\n",
       "      <td>EYW</td>\n",
       "      <td>KEY WEST INTL</td>\n",
       "      <td>Key West Int'l Airport</td>\n",
       "      <td>Airport</td>\n",
       "      <td>ASO</td>\n",
       "      <td>MONROE</td>\n",
       "      <td>KEY WEST</td>\n",
       "      <td>FL</td>\n",
       "      <td>Federalized/Commercial</td>\n",
       "      <td>24.556111</td>\n",
       "      <td>-81.759556</td>\n",
       "      <td>Yes</td>\n",
       "    </tr>\n",
       "    <tr>\n",
       "      <th>29</th>\n",
       "      <td>866.0</td>\n",
       "      <td>MTH</td>\n",
       "      <td>THE FLORIDA KEYS MARATHON</td>\n",
       "      <td>Marathon Airport</td>\n",
       "      <td>Airport</td>\n",
       "      <td>ASO</td>\n",
       "      <td>MONROE</td>\n",
       "      <td>MARATHON</td>\n",
       "      <td>FL</td>\n",
       "      <td>Public Use</td>\n",
       "      <td>24.726194</td>\n",
       "      <td>-81.051361</td>\n",
       "      <td>Yes</td>\n",
       "    </tr>\n",
       "    <tr>\n",
       "      <th>...</th>\n",
       "      <td>...</td>\n",
       "      <td>...</td>\n",
       "      <td>...</td>\n",
       "      <td>...</td>\n",
       "      <td>...</td>\n",
       "      <td>...</td>\n",
       "      <td>...</td>\n",
       "      <td>...</td>\n",
       "      <td>...</td>\n",
       "      <td>...</td>\n",
       "      <td>...</td>\n",
       "      <td>...</td>\n",
       "      <td>...</td>\n",
       "    </tr>\n",
       "    <tr>\n",
       "      <th>5137</th>\n",
       "      <td>239.0</td>\n",
       "      <td>OTZ</td>\n",
       "      <td>RALPH WIEN MEMORIAL</td>\n",
       "      <td>Ralph Wien Memorial Airport</td>\n",
       "      <td>Airport</td>\n",
       "      <td>AAL</td>\n",
       "      <td>KOBUK</td>\n",
       "      <td>KOTZEBUE</td>\n",
       "      <td>AK</td>\n",
       "      <td>Public Use</td>\n",
       "      <td>66.884694</td>\n",
       "      <td>-162.598500</td>\n",
       "      <td>Yes</td>\n",
       "    </tr>\n",
       "    <tr>\n",
       "      <th>5138</th>\n",
       "      <td>3983.0</td>\n",
       "      <td>SHG</td>\n",
       "      <td>SHUNGNAK</td>\n",
       "      <td>NaN</td>\n",
       "      <td>Airport</td>\n",
       "      <td>AAL</td>\n",
       "      <td>KOBUK</td>\n",
       "      <td>SHUNGNAK</td>\n",
       "      <td>AK</td>\n",
       "      <td>Public Use</td>\n",
       "      <td>66.888083</td>\n",
       "      <td>-157.162417</td>\n",
       "      <td>No</td>\n",
       "    </tr>\n",
       "    <tr>\n",
       "      <th>5139</th>\n",
       "      <td>4039.0</td>\n",
       "      <td>2A4</td>\n",
       "      <td>VOR LAKE WATERLANE</td>\n",
       "      <td>NaN</td>\n",
       "      <td>Airport</td>\n",
       "      <td>AAL</td>\n",
       "      <td>YUKON-KOYUKUK</td>\n",
       "      <td>BETTLES</td>\n",
       "      <td>AK</td>\n",
       "      <td>Public Use</td>\n",
       "      <td>66.899253</td>\n",
       "      <td>-151.471553</td>\n",
       "      <td>No</td>\n",
       "    </tr>\n",
       "    <tr>\n",
       "      <th>5140</th>\n",
       "      <td>3863.0</td>\n",
       "      <td>OBU</td>\n",
       "      <td>KOBUK</td>\n",
       "      <td>NaN</td>\n",
       "      <td>Airport</td>\n",
       "      <td>AAL</td>\n",
       "      <td>KOBUK</td>\n",
       "      <td>KOBUK</td>\n",
       "      <td>AK</td>\n",
       "      <td>Public Use</td>\n",
       "      <td>66.912333</td>\n",
       "      <td>-156.897333</td>\n",
       "      <td>No</td>\n",
       "    </tr>\n",
       "    <tr>\n",
       "      <th>5141</th>\n",
       "      <td>3730.0</td>\n",
       "      <td>BTT</td>\n",
       "      <td>BETTLES</td>\n",
       "      <td>NaN</td>\n",
       "      <td>Airport</td>\n",
       "      <td>AAL</td>\n",
       "      <td>YUKON-KOYUKUK</td>\n",
       "      <td>BETTLES</td>\n",
       "      <td>AK</td>\n",
       "      <td>Public Use</td>\n",
       "      <td>66.913944</td>\n",
       "      <td>-151.529056</td>\n",
       "      <td>No</td>\n",
       "    </tr>\n",
       "    <tr>\n",
       "      <th>5142</th>\n",
       "      <td>3780.0</td>\n",
       "      <td>DCK</td>\n",
       "      <td>DAHL CREEK</td>\n",
       "      <td>NaN</td>\n",
       "      <td>Airport</td>\n",
       "      <td>AAL</td>\n",
       "      <td>KOBUK</td>\n",
       "      <td>DAHL CREEK</td>\n",
       "      <td>AK</td>\n",
       "      <td>Public Use</td>\n",
       "      <td>66.943338</td>\n",
       "      <td>-156.904674</td>\n",
       "      <td>No</td>\n",
       "    </tr>\n",
       "    <tr>\n",
       "      <th>5143</th>\n",
       "      <td>3736.0</td>\n",
       "      <td>IAN</td>\n",
       "      <td>BOB BAKER MEMORIAL</td>\n",
       "      <td>NaN</td>\n",
       "      <td>Airport</td>\n",
       "      <td>AAL</td>\n",
       "      <td>KOBUK</td>\n",
       "      <td>KIANA</td>\n",
       "      <td>AK</td>\n",
       "      <td>Public Use</td>\n",
       "      <td>66.975954</td>\n",
       "      <td>-160.436534</td>\n",
       "      <td>No</td>\n",
       "    </tr>\n",
       "    <tr>\n",
       "      <th>5144</th>\n",
       "      <td>4037.0</td>\n",
       "      <td>VEE</td>\n",
       "      <td>VENETIE</td>\n",
       "      <td>NaN</td>\n",
       "      <td>Airport</td>\n",
       "      <td>AAL</td>\n",
       "      <td>UPPER YUKON</td>\n",
       "      <td>VENETIE</td>\n",
       "      <td>AK</td>\n",
       "      <td>Public Use</td>\n",
       "      <td>67.008675</td>\n",
       "      <td>-146.366358</td>\n",
       "      <td>No</td>\n",
       "    </tr>\n",
       "    <tr>\n",
       "      <th>5145</th>\n",
       "      <td>204.0</td>\n",
       "      <td>AFM</td>\n",
       "      <td>AMBLER</td>\n",
       "      <td>Ambler Airport</td>\n",
       "      <td>Airport</td>\n",
       "      <td>AAL</td>\n",
       "      <td>NORTHWEST ARCTIC</td>\n",
       "      <td>AMBLER</td>\n",
       "      <td>AK</td>\n",
       "      <td>Public Use</td>\n",
       "      <td>67.106314</td>\n",
       "      <td>-157.857472</td>\n",
       "      <td>Yes</td>\n",
       "    </tr>\n",
       "    <tr>\n",
       "      <th>5146</th>\n",
       "      <td>3772.0</td>\n",
       "      <td>CXF</td>\n",
       "      <td>COLDFOOT</td>\n",
       "      <td>NaN</td>\n",
       "      <td>Airport</td>\n",
       "      <td>AAL</td>\n",
       "      <td>UPPER YUKON</td>\n",
       "      <td>COLDFOOT</td>\n",
       "      <td>AK</td>\n",
       "      <td>Public Use</td>\n",
       "      <td>67.252179</td>\n",
       "      <td>-150.203878</td>\n",
       "      <td>No</td>\n",
       "    </tr>\n",
       "    <tr>\n",
       "      <th>5147</th>\n",
       "      <td>4050.0</td>\n",
       "      <td>WSM</td>\n",
       "      <td>WISEMAN</td>\n",
       "      <td>NaN</td>\n",
       "      <td>Airport</td>\n",
       "      <td>AAL</td>\n",
       "      <td>YUKON-KOYUKUK</td>\n",
       "      <td>WISEMAN</td>\n",
       "      <td>AK</td>\n",
       "      <td>Public Use</td>\n",
       "      <td>67.404573</td>\n",
       "      <td>-150.122742</td>\n",
       "      <td>No</td>\n",
       "    </tr>\n",
       "    <tr>\n",
       "      <th>5148</th>\n",
       "      <td>3747.0</td>\n",
       "      <td>WCR</td>\n",
       "      <td>CHANDALAR LAKE</td>\n",
       "      <td>NaN</td>\n",
       "      <td>Airport</td>\n",
       "      <td>AAL</td>\n",
       "      <td>UPPER YUKON</td>\n",
       "      <td>CHANDALAR LAKE</td>\n",
       "      <td>AK</td>\n",
       "      <td>Public Use</td>\n",
       "      <td>67.504517</td>\n",
       "      <td>-148.483222</td>\n",
       "      <td>No</td>\n",
       "    </tr>\n",
       "    <tr>\n",
       "      <th>5149</th>\n",
       "      <td>3922.0</td>\n",
       "      <td>WTK</td>\n",
       "      <td>NOATAK</td>\n",
       "      <td>NaN</td>\n",
       "      <td>Airport</td>\n",
       "      <td>AAL</td>\n",
       "      <td>KOBUK</td>\n",
       "      <td>NOATAK</td>\n",
       "      <td>AK</td>\n",
       "      <td>Public Use</td>\n",
       "      <td>67.561167</td>\n",
       "      <td>-162.980417</td>\n",
       "      <td>No</td>\n",
       "    </tr>\n",
       "    <tr>\n",
       "      <th>5150</th>\n",
       "      <td>3860.0</td>\n",
       "      <td>KVL</td>\n",
       "      <td>KIVALINA</td>\n",
       "      <td>NaN</td>\n",
       "      <td>Airport</td>\n",
       "      <td>AAL</td>\n",
       "      <td>KODIAK ISLAND</td>\n",
       "      <td>KIVALINA</td>\n",
       "      <td>AK</td>\n",
       "      <td>Public Use</td>\n",
       "      <td>67.736151</td>\n",
       "      <td>-164.563496</td>\n",
       "      <td>No</td>\n",
       "    </tr>\n",
       "    <tr>\n",
       "      <th>5151</th>\n",
       "      <td>3748.0</td>\n",
       "      <td>5CD</td>\n",
       "      <td>CHANDALAR SHELF</td>\n",
       "      <td>NaN</td>\n",
       "      <td>Airport</td>\n",
       "      <td>AAL</td>\n",
       "      <td>UPPER YUKON</td>\n",
       "      <td>CHANDALAR CAMP</td>\n",
       "      <td>AK</td>\n",
       "      <td>Public Use</td>\n",
       "      <td>68.065439</td>\n",
       "      <td>-149.579739</td>\n",
       "      <td>No</td>\n",
       "    </tr>\n",
       "    <tr>\n",
       "      <th>5152</th>\n",
       "      <td>3721.0</td>\n",
       "      <td>ARC</td>\n",
       "      <td>ARCTIC VILLAGE</td>\n",
       "      <td>NaN</td>\n",
       "      <td>Airport</td>\n",
       "      <td>AAL</td>\n",
       "      <td>UPPER YUKON</td>\n",
       "      <td>ARCTIC VILLAGE</td>\n",
       "      <td>AK</td>\n",
       "      <td>Public Use</td>\n",
       "      <td>68.114669</td>\n",
       "      <td>-145.579415</td>\n",
       "      <td>No</td>\n",
       "    </tr>\n",
       "    <tr>\n",
       "      <th>5153</th>\n",
       "      <td>3716.0</td>\n",
       "      <td>AKP</td>\n",
       "      <td>ANAKTUVUK PASS</td>\n",
       "      <td>NaN</td>\n",
       "      <td>Airport</td>\n",
       "      <td>AAL</td>\n",
       "      <td>YUKON-KOYUKUK</td>\n",
       "      <td>ANAKTUVUK PASS</td>\n",
       "      <td>AK</td>\n",
       "      <td>Public Use</td>\n",
       "      <td>68.133597</td>\n",
       "      <td>-151.743342</td>\n",
       "      <td>No</td>\n",
       "    </tr>\n",
       "    <tr>\n",
       "      <th>5154</th>\n",
       "      <td>3943.0</td>\n",
       "      <td>PHO</td>\n",
       "      <td>POINT HOPE</td>\n",
       "      <td>NaN</td>\n",
       "      <td>Airport</td>\n",
       "      <td>AAL</td>\n",
       "      <td>KOBUK</td>\n",
       "      <td>POINT HOPE</td>\n",
       "      <td>AK</td>\n",
       "      <td>Public Use</td>\n",
       "      <td>68.348750</td>\n",
       "      <td>-166.799278</td>\n",
       "      <td>No</td>\n",
       "    </tr>\n",
       "    <tr>\n",
       "      <th>5155</th>\n",
       "      <td>3808.0</td>\n",
       "      <td>GBH</td>\n",
       "      <td>GALBRAITH LAKE</td>\n",
       "      <td>NaN</td>\n",
       "      <td>Airport</td>\n",
       "      <td>AAL</td>\n",
       "      <td>NOME</td>\n",
       "      <td>GALBRAITH LAKE</td>\n",
       "      <td>AK</td>\n",
       "      <td>Public Use</td>\n",
       "      <td>68.479667</td>\n",
       "      <td>-149.489917</td>\n",
       "      <td>No</td>\n",
       "    </tr>\n",
       "    <tr>\n",
       "      <th>5156</th>\n",
       "      <td>4035.0</td>\n",
       "      <td>UMT</td>\n",
       "      <td>UMIAT</td>\n",
       "      <td>NaN</td>\n",
       "      <td>Airport</td>\n",
       "      <td>AAL</td>\n",
       "      <td>BARROW</td>\n",
       "      <td>UMIAT</td>\n",
       "      <td>AK</td>\n",
       "      <td>Public Use</td>\n",
       "      <td>69.371113</td>\n",
       "      <td>-152.134983</td>\n",
       "      <td>No</td>\n",
       "    </tr>\n",
       "    <tr>\n",
       "      <th>5157</th>\n",
       "      <td>3944.0</td>\n",
       "      <td>PIZ</td>\n",
       "      <td>POINT LAY LRRS</td>\n",
       "      <td>NaN</td>\n",
       "      <td>Airport</td>\n",
       "      <td>AAL</td>\n",
       "      <td>BARROW</td>\n",
       "      <td>POINT LAY</td>\n",
       "      <td>AK</td>\n",
       "      <td>Public Use</td>\n",
       "      <td>69.732889</td>\n",
       "      <td>-163.005333</td>\n",
       "      <td>No</td>\n",
       "    </tr>\n",
       "    <tr>\n",
       "      <th>5158</th>\n",
       "      <td>3723.0</td>\n",
       "      <td>BTI</td>\n",
       "      <td>BARTER ISLAND LRRS</td>\n",
       "      <td>NaN</td>\n",
       "      <td>Airport</td>\n",
       "      <td>AAL</td>\n",
       "      <td>UPPER YUKON</td>\n",
       "      <td>BARTER ISLAND LRRS</td>\n",
       "      <td>AK</td>\n",
       "      <td>Public Use</td>\n",
       "      <td>70.133989</td>\n",
       "      <td>-143.581867</td>\n",
       "      <td>No</td>\n",
       "    </tr>\n",
       "    <tr>\n",
       "      <th>5159</th>\n",
       "      <td>214.0</td>\n",
       "      <td>SCC</td>\n",
       "      <td>DEADHORSE</td>\n",
       "      <td>Deadhorse Airport</td>\n",
       "      <td>Airport</td>\n",
       "      <td>AAL</td>\n",
       "      <td>NORTH SLOPE</td>\n",
       "      <td>DEADHORSE</td>\n",
       "      <td>AK</td>\n",
       "      <td>Public Use</td>\n",
       "      <td>70.195546</td>\n",
       "      <td>-148.465790</td>\n",
       "      <td>Yes</td>\n",
       "    </tr>\n",
       "    <tr>\n",
       "      <th>5160</th>\n",
       "      <td>3927.0</td>\n",
       "      <td>AQT</td>\n",
       "      <td>NUIQSUT</td>\n",
       "      <td>NaN</td>\n",
       "      <td>Airport</td>\n",
       "      <td>AAL</td>\n",
       "      <td>NORTH SLOPE</td>\n",
       "      <td>NUIQSUT</td>\n",
       "      <td>AK</td>\n",
       "      <td>Public Use</td>\n",
       "      <td>70.209833</td>\n",
       "      <td>-151.006472</td>\n",
       "      <td>No</td>\n",
       "    </tr>\n",
       "    <tr>\n",
       "      <th>5161</th>\n",
       "      <td>207.0</td>\n",
       "      <td>ATK</td>\n",
       "      <td>ATQASUK EDWARD BURNELL SR MEMORIAL</td>\n",
       "      <td>Atqasuk Airport</td>\n",
       "      <td>Airport</td>\n",
       "      <td>AAL</td>\n",
       "      <td>NORTH SLOPE</td>\n",
       "      <td>ATQASUK</td>\n",
       "      <td>AK</td>\n",
       "      <td>Public Use</td>\n",
       "      <td>70.467111</td>\n",
       "      <td>-157.435667</td>\n",
       "      <td>Yes</td>\n",
       "    </tr>\n",
       "    <tr>\n",
       "      <th>5162</th>\n",
       "      <td>4040.0</td>\n",
       "      <td>AWI</td>\n",
       "      <td>WAINWRIGHT</td>\n",
       "      <td>NaN</td>\n",
       "      <td>Airport</td>\n",
       "      <td>AAL</td>\n",
       "      <td>BARROW</td>\n",
       "      <td>WAINWRIGHT</td>\n",
       "      <td>AK</td>\n",
       "      <td>Public Use</td>\n",
       "      <td>70.638000</td>\n",
       "      <td>-159.994750</td>\n",
       "      <td>No</td>\n",
       "    </tr>\n",
       "    <tr>\n",
       "      <th>5163</th>\n",
       "      <td>251.0</td>\n",
       "      <td>BRW</td>\n",
       "      <td>WILEY POST-WILL ROGERS MEMORIAL</td>\n",
       "      <td>Wiley Post-Will Rogers Memorial</td>\n",
       "      <td>Airport</td>\n",
       "      <td>AAL</td>\n",
       "      <td>NORTH SLOPE</td>\n",
       "      <td>BARROW</td>\n",
       "      <td>AK</td>\n",
       "      <td>Public Use</td>\n",
       "      <td>71.284889</td>\n",
       "      <td>-156.768583</td>\n",
       "      <td>Yes</td>\n",
       "    </tr>\n",
       "    <tr>\n",
       "      <th>5164</th>\n",
       "      <td>NaN</td>\n",
       "      <td>NaN</td>\n",
       "      <td>NaN</td>\n",
       "      <td>NaN</td>\n",
       "      <td>NaN</td>\n",
       "      <td>NaN</td>\n",
       "      <td>NaN</td>\n",
       "      <td>NaN</td>\n",
       "      <td>NaN</td>\n",
       "      <td>NaN</td>\n",
       "      <td>NaN</td>\n",
       "      <td>NaN</td>\n",
       "      <td>NaN</td>\n",
       "    </tr>\n",
       "    <tr>\n",
       "      <th>5165</th>\n",
       "      <td>NaN</td>\n",
       "      <td>NaN</td>\n",
       "      <td>NaN</td>\n",
       "      <td>NaN</td>\n",
       "      <td>NaN</td>\n",
       "      <td>NaN</td>\n",
       "      <td>NaN</td>\n",
       "      <td>NaN</td>\n",
       "      <td>NaN</td>\n",
       "      <td>NaN</td>\n",
       "      <td>NaN</td>\n",
       "      <td>NaN</td>\n",
       "      <td>NaN</td>\n",
       "    </tr>\n",
       "    <tr>\n",
       "      <th>5166</th>\n",
       "      <td>NaN</td>\n",
       "      <td>NaN</td>\n",
       "      <td>NaN</td>\n",
       "      <td>NaN</td>\n",
       "      <td>NaN</td>\n",
       "      <td>NaN</td>\n",
       "      <td>NaN</td>\n",
       "      <td>NaN</td>\n",
       "      <td>NaN</td>\n",
       "      <td>NaN</td>\n",
       "      <td>NaN</td>\n",
       "      <td>NaN</td>\n",
       "      <td>NaN</td>\n",
       "    </tr>\n",
       "  </tbody>\n",
       "</table>\n",
       "<p>5167 rows × 13 columns</p>\n",
       "</div>"
      ],
      "text/plain": [
       "         Key LocID                             AP_NAME  \\\n",
       "0     3443.0   STX                     HENRY E ROHLSEN   \n",
       "1     5088.0   X64                            PATILLAS   \n",
       "2     2886.0   PSE                           MERCEDITA   \n",
       "3     2879.0   VQS            ANTONIO RIVERA RODRIGUEZ   \n",
       "4     2883.0   X63                             HUMACAO   \n",
       "5     2884.0   RVR             JOSE APONTE DE LA TORRE   \n",
       "6     2881.0   MAZ             EUGENIO MARIA DE HOSTOS   \n",
       "7     5087.0   X95                DIEGO JIMENEZ TORRES   \n",
       "8     5086.0   CPX             BENJAMIN RIVERA NORIEGA   \n",
       "9     3442.0   STT                        CYRIL E KING   \n",
       "10    2885.0   SJU               LUIS MUNOZ MARIN INTL   \n",
       "11    2880.0   ABO             ANTONIO/NERY/JUARBE POL   \n",
       "12    2882.0   SIG       FERNANDO LUIS RIBAS DOMINICCI   \n",
       "13    2887.0   BQN                    RAFAEL HERNANDEZ   \n",
       "14     974.0   ITO                           HILO INTL   \n",
       "15     979.0   KOA                KONA INTL AT KEAHOLE   \n",
       "16     985.0   MUE                       WAIMEA-KOHALA   \n",
       "17     984.0   UPP                               UPOLU   \n",
       "18     980.0   LNY                               LANAI   \n",
       "19     973.0   HNM                                HANA   \n",
       "20     976.0   OGG                             KAHULUI   \n",
       "21     982.0   MKK                             MOLOKAI   \n",
       "22     978.0   LUP                           KALAUPAPA   \n",
       "23     977.0   JRF       KALAELOA (JOHN RODGERS FIELD)   \n",
       "24     975.0   HNL                       HONOLULU INTL   \n",
       "25     972.0   HDH                 DILLINGHAM AIRFIELD   \n",
       "26     983.0   PAK                          PORT ALLEN   \n",
       "27     981.0   LIH                               LIHUE   \n",
       "28     811.0   EYW                       KEY WEST INTL   \n",
       "29     866.0   MTH           THE FLORIDA KEYS MARATHON   \n",
       "...      ...   ...                                 ...   \n",
       "5137   239.0   OTZ                 RALPH WIEN MEMORIAL   \n",
       "5138  3983.0   SHG                            SHUNGNAK   \n",
       "5139  4039.0   2A4                  VOR LAKE WATERLANE   \n",
       "5140  3863.0   OBU                               KOBUK   \n",
       "5141  3730.0   BTT                             BETTLES   \n",
       "5142  3780.0   DCK                          DAHL CREEK   \n",
       "5143  3736.0   IAN                  BOB BAKER MEMORIAL   \n",
       "5144  4037.0   VEE                             VENETIE   \n",
       "5145   204.0   AFM                              AMBLER   \n",
       "5146  3772.0   CXF                            COLDFOOT   \n",
       "5147  4050.0   WSM                             WISEMAN   \n",
       "5148  3747.0   WCR                      CHANDALAR LAKE   \n",
       "5149  3922.0   WTK                              NOATAK   \n",
       "5150  3860.0   KVL                            KIVALINA   \n",
       "5151  3748.0   5CD                     CHANDALAR SHELF   \n",
       "5152  3721.0   ARC                      ARCTIC VILLAGE   \n",
       "5153  3716.0   AKP                      ANAKTUVUK PASS   \n",
       "5154  3943.0   PHO                          POINT HOPE   \n",
       "5155  3808.0   GBH                      GALBRAITH LAKE   \n",
       "5156  4035.0   UMT                               UMIAT   \n",
       "5157  3944.0   PIZ                      POINT LAY LRRS   \n",
       "5158  3723.0   BTI                  BARTER ISLAND LRRS   \n",
       "5159   214.0   SCC                           DEADHORSE   \n",
       "5160  3927.0   AQT                             NUIQSUT   \n",
       "5161   207.0   ATK  ATQASUK EDWARD BURNELL SR MEMORIAL   \n",
       "5162  4040.0   AWI                          WAINWRIGHT   \n",
       "5163   251.0   BRW     WILEY POST-WILL ROGERS MEMORIAL   \n",
       "5164     NaN   NaN                                 NaN   \n",
       "5165     NaN   NaN                                 NaN   \n",
       "5166     NaN   NaN                                 NaN   \n",
       "\n",
       "                                    ALIAS Facility Type FAA REGION  \\\n",
       "0           Henry E Rohlsen Int'l Airport       Airport        ASO   \n",
       "1                                     NaN       Airport        ASO   \n",
       "2                    Aeropuerto Mercedita       Airport        ASO   \n",
       "3     Aeropuerto Antonio Rivera Rodr�guez       Airport        ASO   \n",
       "4          Aeropuerto Regional De Humacao       Airport        ASO   \n",
       "5      Aeropuerto Jos� Aponte De La Torre       Airport        ASO   \n",
       "6      Aeropuerto Eugenio Mar�a De Hostos       Airport        ASO   \n",
       "7                                     NaN       Airport        ASO   \n",
       "8                                     NaN       Airport        ASO   \n",
       "9      Cyril E King International Airport       Airport        ASO   \n",
       "10      Aeropuerto Int'l Luis Mu�oz Marin       Airport        ASO   \n",
       "11              Aeropuerto Antonio Juarbe       Airport        ASO   \n",
       "12           Aeropuerto De La Isla Grande       Airport        ASO   \n",
       "13            Aeropuerto Rafael Hern�ndez       Airport        ASO   \n",
       "14                     Hilo Int'l Airport       Airport        AWP   \n",
       "15          Kona Int'l Airport At Keahole       Airport        AWP   \n",
       "16                  Waimea-Kohala Airport       Airport        AWP   \n",
       "17                          Upolu Airport       Airport        AWP   \n",
       "18                          Lanai Airport       Airport        AWP   \n",
       "19                           Hana Airport       Airport        AWP   \n",
       "20                        Kahului Airport       Airport        AWP   \n",
       "21                        Molokai Airport       Airport        AWP   \n",
       "22                      Kalaupapa Airport       Airport        AWP   \n",
       "23                       Kalaeloa Airport       Airport        AWP   \n",
       "24                 Honolulu Int'l Airport       Airport        AWP   \n",
       "25                    Dillingham Airfield       Airport        AWP   \n",
       "26                     Port Allen Airport       Airport        AWP   \n",
       "27                          Lihue Airport       Airport        AWP   \n",
       "28                 Key West Int'l Airport       Airport        ASO   \n",
       "29                       Marathon Airport       Airport        ASO   \n",
       "...                                   ...           ...        ...   \n",
       "5137          Ralph Wien Memorial Airport       Airport        AAL   \n",
       "5138                                  NaN       Airport        AAL   \n",
       "5139                                  NaN       Airport        AAL   \n",
       "5140                                  NaN       Airport        AAL   \n",
       "5141                                  NaN       Airport        AAL   \n",
       "5142                                  NaN       Airport        AAL   \n",
       "5143                                  NaN       Airport        AAL   \n",
       "5144                                  NaN       Airport        AAL   \n",
       "5145                       Ambler Airport       Airport        AAL   \n",
       "5146                                  NaN       Airport        AAL   \n",
       "5147                                  NaN       Airport        AAL   \n",
       "5148                                  NaN       Airport        AAL   \n",
       "5149                                  NaN       Airport        AAL   \n",
       "5150                                  NaN       Airport        AAL   \n",
       "5151                                  NaN       Airport        AAL   \n",
       "5152                                  NaN       Airport        AAL   \n",
       "5153                                  NaN       Airport        AAL   \n",
       "5154                                  NaN       Airport        AAL   \n",
       "5155                                  NaN       Airport        AAL   \n",
       "5156                                  NaN       Airport        AAL   \n",
       "5157                                  NaN       Airport        AAL   \n",
       "5158                                  NaN       Airport        AAL   \n",
       "5159                    Deadhorse Airport       Airport        AAL   \n",
       "5160                                  NaN       Airport        AAL   \n",
       "5161                      Atqasuk Airport       Airport        AAL   \n",
       "5162                                  NaN       Airport        AAL   \n",
       "5163      Wiley Post-Will Rogers Memorial       Airport        AAL   \n",
       "5164                                  NaN           NaN        NaN   \n",
       "5165                                  NaN           NaN        NaN   \n",
       "5166                                  NaN           NaN        NaN   \n",
       "\n",
       "                COUNTY                CITY STATE                 AP Type  \\\n",
       "0     -VIRGIN ISLANDS-       CHRISTIANSTED    VI              Public Use   \n",
       "1               #NAME?            PATILLAS    PR              Public Use   \n",
       "2               #NAME?               PONCE    PR              Public Use   \n",
       "3               #NAME?     ISLA DE VIEQUES    PR              Public Use   \n",
       "4               #NAME?             HUMACAO    PR              Public Use   \n",
       "5               #NAME?               CEIBA    PR              Public Use   \n",
       "6               #NAME?            MAYAGUEZ    PR              Public Use   \n",
       "7               #NAME?             FAJARDO    PR              Public Use   \n",
       "8               #NAME?     ISLA DE CULEBRA    PR              Public Use   \n",
       "9     -VIRGIN ISLANDS-    CHARLOTTE AMALIE    VI              Public Use   \n",
       "10              #NAME?            SAN JUAN    PR  Federalized/Commercial   \n",
       "11              #NAME?             ARECIBO    PR              Public Use   \n",
       "12              #NAME?            SAN JUAN    PR              Public Use   \n",
       "13              #NAME?           AGUADILLA    PR              Public Use   \n",
       "14              HAWAII                HILO    HI              Public Use   \n",
       "15              HAWAII         KAILUA/KONA    HI              Public Use   \n",
       "16              HAWAII             KAMUELA    HI              Public Use   \n",
       "17              HAWAII                HAWI    HI              Public Use   \n",
       "18                MAUI          LANAI CITY    HI              Public Use   \n",
       "19                MAUI                HANA    HI              Public Use   \n",
       "20                MAUI             KAHULUI    HI  Federalized/Commercial   \n",
       "21                MAUI          KAUNAKAKAI    HI              Public Use   \n",
       "22             KALAWAO           KALAUPAPA    HI              Public Use   \n",
       "23            HONOLULU             KAPOLEI    HI              Public Use   \n",
       "24            HONOLULU            HONOLULU    HI  Federalized/Commercial   \n",
       "25            HONOLULU            MOKULEIA    HI              Public Use   \n",
       "26               KAUAI            HANAPEPE    HI              Public Use   \n",
       "27               KAUAI               LIHUE    HI              Public Use   \n",
       "28              MONROE            KEY WEST    FL  Federalized/Commercial   \n",
       "29              MONROE            MARATHON    FL              Public Use   \n",
       "...                ...                 ...   ...                     ...   \n",
       "5137             KOBUK            KOTZEBUE    AK              Public Use   \n",
       "5138             KOBUK            SHUNGNAK    AK              Public Use   \n",
       "5139     YUKON-KOYUKUK             BETTLES    AK              Public Use   \n",
       "5140             KOBUK               KOBUK    AK              Public Use   \n",
       "5141     YUKON-KOYUKUK             BETTLES    AK              Public Use   \n",
       "5142             KOBUK          DAHL CREEK    AK              Public Use   \n",
       "5143             KOBUK               KIANA    AK              Public Use   \n",
       "5144       UPPER YUKON             VENETIE    AK              Public Use   \n",
       "5145  NORTHWEST ARCTIC              AMBLER    AK              Public Use   \n",
       "5146       UPPER YUKON            COLDFOOT    AK              Public Use   \n",
       "5147     YUKON-KOYUKUK             WISEMAN    AK              Public Use   \n",
       "5148       UPPER YUKON      CHANDALAR LAKE    AK              Public Use   \n",
       "5149             KOBUK              NOATAK    AK              Public Use   \n",
       "5150     KODIAK ISLAND            KIVALINA    AK              Public Use   \n",
       "5151       UPPER YUKON      CHANDALAR CAMP    AK              Public Use   \n",
       "5152       UPPER YUKON      ARCTIC VILLAGE    AK              Public Use   \n",
       "5153     YUKON-KOYUKUK      ANAKTUVUK PASS    AK              Public Use   \n",
       "5154             KOBUK          POINT HOPE    AK              Public Use   \n",
       "5155              NOME      GALBRAITH LAKE    AK              Public Use   \n",
       "5156            BARROW               UMIAT    AK              Public Use   \n",
       "5157            BARROW           POINT LAY    AK              Public Use   \n",
       "5158       UPPER YUKON  BARTER ISLAND LRRS    AK              Public Use   \n",
       "5159       NORTH SLOPE           DEADHORSE    AK              Public Use   \n",
       "5160       NORTH SLOPE             NUIQSUT    AK              Public Use   \n",
       "5161       NORTH SLOPE             ATQASUK    AK              Public Use   \n",
       "5162            BARROW          WAINWRIGHT    AK              Public Use   \n",
       "5163       NORTH SLOPE              BARROW    AK              Public Use   \n",
       "5164               NaN                 NaN   NaN                     NaN   \n",
       "5165               NaN                 NaN   NaN                     NaN   \n",
       "5166               NaN                 NaN   NaN                     NaN   \n",
       "\n",
       "       Latitude   Longitude Boundary Data Available  \n",
       "0     17.701556  -64.801722                     Yes  \n",
       "1     17.982189  -66.019330                      No  \n",
       "2     18.008306  -66.563028                     Yes  \n",
       "3     18.134811  -65.493617                     Yes  \n",
       "4     18.138017  -65.800718                     Yes  \n",
       "5     18.245269  -65.643381                     Yes  \n",
       "6     18.255694  -67.148472                     Yes  \n",
       "7     18.308010  -65.661828                      No  \n",
       "8     18.313289  -65.304324                      No  \n",
       "9     18.337306  -64.973361                     Yes  \n",
       "10    18.439295  -66.002004                     Yes  \n",
       "11    18.451111  -66.675556                     Yes  \n",
       "12    18.456791  -66.098463                     Yes  \n",
       "13    18.494861  -67.129444                     Yes  \n",
       "14    19.720263 -155.048470                     Yes  \n",
       "15    19.738766 -156.045631                     Yes  \n",
       "16    20.001327 -155.668107                     Yes  \n",
       "17    20.265194 -155.859944                     Yes  \n",
       "18    20.785611 -156.951418                     Yes  \n",
       "19    20.795637 -156.014438                     Yes  \n",
       "20    20.898650 -156.430458                     Yes  \n",
       "21    21.152886 -157.096256                     Yes  \n",
       "22    21.211040 -156.973597                     Yes  \n",
       "23    21.307354 -158.070302                     Yes  \n",
       "24    21.318681 -157.922429                     Yes  \n",
       "25    21.579474 -158.197281                     Yes  \n",
       "26    21.896944 -159.603167                     Yes  \n",
       "27    21.975983 -159.338958                     Yes  \n",
       "28    24.556111  -81.759556                     Yes  \n",
       "29    24.726194  -81.051361                     Yes  \n",
       "...         ...         ...                     ...  \n",
       "5137  66.884694 -162.598500                     Yes  \n",
       "5138  66.888083 -157.162417                      No  \n",
       "5139  66.899253 -151.471553                      No  \n",
       "5140  66.912333 -156.897333                      No  \n",
       "5141  66.913944 -151.529056                      No  \n",
       "5142  66.943338 -156.904674                      No  \n",
       "5143  66.975954 -160.436534                      No  \n",
       "5144  67.008675 -146.366358                      No  \n",
       "5145  67.106314 -157.857472                     Yes  \n",
       "5146  67.252179 -150.203878                      No  \n",
       "5147  67.404573 -150.122742                      No  \n",
       "5148  67.504517 -148.483222                      No  \n",
       "5149  67.561167 -162.980417                      No  \n",
       "5150  67.736151 -164.563496                      No  \n",
       "5151  68.065439 -149.579739                      No  \n",
       "5152  68.114669 -145.579415                      No  \n",
       "5153  68.133597 -151.743342                      No  \n",
       "5154  68.348750 -166.799278                      No  \n",
       "5155  68.479667 -149.489917                      No  \n",
       "5156  69.371113 -152.134983                      No  \n",
       "5157  69.732889 -163.005333                      No  \n",
       "5158  70.133989 -143.581867                      No  \n",
       "5159  70.195546 -148.465790                     Yes  \n",
       "5160  70.209833 -151.006472                      No  \n",
       "5161  70.467111 -157.435667                     Yes  \n",
       "5162  70.638000 -159.994750                      No  \n",
       "5163  71.284889 -156.768583                     Yes  \n",
       "5164        NaN         NaN                     NaN  \n",
       "5165        NaN         NaN                     NaN  \n",
       "5166        NaN         NaN                     NaN  \n",
       "\n",
       "[5167 rows x 13 columns]"
      ]
     },
     "execution_count": 140,
     "metadata": {},
     "output_type": "execute_result"
    }
   ],
   "source": [
    "ap_df"
   ]
  },
  {
   "cell_type": "code",
   "execution_count": 151,
   "metadata": {
    "collapsed": false
   },
   "outputs": [],
   "source": [
    "dummy_df = X\n",
    "dummy_df['label'] = labels"
   ]
  },
  {
   "cell_type": "code",
   "execution_count": 152,
   "metadata": {
    "collapsed": false,
    "scrolled": false
   },
   "outputs": [
    {
     "data": {
      "text/plain": [
       "<seaborn.axisgrid.PairGrid at 0x1265b2450>"
      ]
     },
     "execution_count": 152,
     "metadata": {},
     "output_type": "execute_result"
    },
    {
     "data": {
      "image/png": "[encoded data removed]",
      "text/plain": [
       "<matplotlib.figure.Figure at 0x124c34650>"
      ]
     },
     "metadata": {},
     "output_type": "display_data"
    }
   ],
   "source": [
    "cols = dummy_df.columns[:-1]\n",
    "sns.pairplot(dummy_df, x_vars=cols, y_vars= cols, hue='label')"
   ]
  },
  {
   "cell_type": "code",
   "execution_count": 153,
   "metadata": {
    "collapsed": false
   },
   "outputs": [
    {
     "data": {
      "text/plain": [
       "<seaborn.axisgrid.PairGrid at 0x120929950>"
      ]
     },
     "execution_count": 153,
     "metadata": {},
     "output_type": "execute_result"
    },
    {
     "data": {
      "image/png": "[encoded data removed]",
      "text/plain": [
       "<matplotlib.figure.Figure at 0x11f1a0990>"
      ]
     },
     "metadata": {},
     "output_type": "display_data"
    }
   ],
   "source": [
    "dummy_df = X\n",
    "dummy_df['label'] = deets['faa_region']\n",
    "\n",
    "cols = dummy_df.columns[:-1]\n",
    "sns.pairplot(dummy_df, x_vars=cols, y_vars= cols, hue='label')"
   ]
  },
  {
   "cell_type": "markdown",
   "metadata": {
    "focus": false,
    "id": "023d9120-1eb3-4f20-b083-5a8fa1605f06"
   },
   "source": [
    "### Part 7: Write an analysis plan of your findings "
   ]
  },
  {
   "cell_type": "markdown",
   "metadata": {
    "focus": false,
    "id": "dc0ce0b7-c246-4d76-a01d-88fa0d37fe95"
   },
   "source": [
    "Create a writeup on the interpretation of findings including an executive summary with conclusions and next steps. Put it on your blog, and include the link here."
   ]
  },
  {
   "cell_type": "markdown",
   "metadata": {
    "focus": false,
    "id": "140af42e-0757-400e-ae39-0410a54d2581"
   },
   "source": [
    "https://jasanford24.github.io/2016/11/09/project-seven.html"
   ]
  },
  {
   "cell_type": "markdown",
   "metadata": {},
   "source": [
    "Which operational features are most correlated with delays?"
   ]
  },
  {
   "cell_type": "markdown",
   "metadata": {},
   "source": [
    " "
   ]
  },
  {
   "cell_type": "markdown",
   "metadata": {},
   "source": [
    "What should the airport's next steps be?"
   ]
  },
  {
   "cell_type": "markdown",
   "metadata": {},
   "source": [
    "Improve Memphis International Airport. "
   ]
  },
  {
   "cell_type": "markdown",
   "metadata": {
    "focus": false,
    "id": "8e08640c-4901-4724-9805-32c518521b2f"
   },
   "source": [
    "### Bonus: Copy your Database to AWS "
   ]
  },
  {
   "cell_type": "markdown",
   "metadata": {
    "focus": false,
    "id": "bf5d7088-46cd-4c47-9fcc-c1fd200cd164"
   },
   "source": [
    "Make sure to properly document all of the features of your dataset"
   ]
  },
  {
   "cell_type": "code",
   "execution_count": null,
   "metadata": {
    "collapsed": false,
    "focus": false,
    "id": "d181acff-8a70-40e9-8e39-fdc2b95550a2"
   },
   "outputs": [],
   "source": []
  },
  {
   "cell_type": "markdown",
   "metadata": {
    "focus": false,
    "id": "63387c7b-3c90-4732-808c-298225e1c0fb"
   },
   "source": [
    "### Bonus: Create a 3-Dimensional Plot of your new dataset with PCA applied"
   ]
  },
  {
   "cell_type": "code",
   "execution_count": null,
   "metadata": {
    "collapsed": true,
    "focus": false,
    "id": "b6fece51-aa23-4572-8d1d-c9c83701899d"
   },
   "outputs": [],
   "source": []
  }
 ],
 "metadata": {
  "anaconda-cloud": {},
  "kernelspec": {
   "display_name": "Python [Root]",
   "language": "python",
   "name": "Python [Root]"
  },
  "language_info": {
   "codemirror_mode": {
    "name": "ipython",
    "version": 2
   },
   "file_extension": ".py",
   "mimetype": "text/x-python",
   "name": "python",
   "nbconvert_exporter": "python",
   "pygments_lexer": "ipython2",
   "version": "2.7.12"
  }
 },
 "nbformat": 4,
 "nbformat_minor": 0
}
