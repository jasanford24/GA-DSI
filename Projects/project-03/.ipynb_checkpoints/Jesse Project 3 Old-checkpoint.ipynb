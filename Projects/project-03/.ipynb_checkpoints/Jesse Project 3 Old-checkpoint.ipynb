{
 "cells": [
  {
   "cell_type": "code",
   "execution_count": 85,
   "metadata": {
    "collapsed": false
   },
   "outputs": [],
   "source": [
    "import pandas as pd\n",
    "import seaborn as sns\n",
    "import numpy as np\n",
    "import matplotlib.pyplot as plt\n",
    "from datetime import datetime, date, time\n",
    "from sklearn import datasets, linear_model\n",
    "from sklearn.metrics import mean_squared_error\n",
    "from pandas.tools.plotting import scatter_matrix\n",
    "%matplotlib inline\n",
    "\n",
    "## Load the data into a DataFrame\n",
    "djs = pd.read_csv('assets/Iowa_Liquor_sales_sample_10pct.csv', encoding='latin-1')\n",
    "df = pd.read_csv('assets/iowa_15.csv', encoding='latin-1')\n",
    "\n",
    "pd.options.mode.chained_assignment = None"
   ]
  },
  {
   "cell_type": "code",
   "execution_count": 86,
   "metadata": {
    "collapsed": true
   },
   "outputs": [],
   "source": [
    "#Converts Date to parsible format.\n",
    "djs['Date'] = [datetime.strptime(x, '%m/%d/%Y').date() for x in djs['Date']]\n",
    "djs['Date'] = pd.to_datetime(djs[\"Date\"])\n",
    "djs['Year'], djs['Month'] = djs['Date'].dt.year, djs['Date'].dt.month"
   ]
  },
  {
   "cell_type": "code",
   "execution_count": 87,
   "metadata": {
    "collapsed": false
   },
   "outputs": [],
   "source": [
    "#Removes spaces from column names.\n",
    "djs.columns = djs.columns.str.strip()\n",
    "djs.columns = [x.replace(' ', '_') for x in djs.columns]"
   ]
  },
  {
   "cell_type": "code",
   "execution_count": 88,
   "metadata": {
    "collapsed": false
   },
   "outputs": [],
   "source": [
    "#Sam's Club\n",
    "key = djs[['Store_Number', 'County', 'County_Number', 'Zip_Code', 'City']]\n",
    "key.drop_duplicates(inplace=True)\n",
    "key.set_index('Store_Number', inplace=True)\n",
    "\n",
    "key = key[pd.notnull(key['County_Number'])]\n",
    "KeyHelp = key.T\n",
    "\n",
    "count_len = len(djs['County_Number'])\n",
    "county_len = len(djs['County'])\n",
    "\n",
    "for i in range(count_len):\n",
    "   if np.isnan(djs['County_Number'][i]):\n",
    "       try:\n",
    "           djs['County_Number'][i]= KeyHelp[djs['Store_Number'][i]][1]\n",
    "       except: \n",
    "           djs['County_Number'][i]\n",
    "\n",
    "for i in range(county_len):\n",
    "   try:\n",
    "       if np.isnan(djs['County'][i]):\n",
    "           djs['County'][i]= KeyHelp[djs['Store_Number'][i]][0]\n",
    "   except: \n",
    "       djs['County'][i]\n",
    "\n",
    "\n",
    "        \n",
    "key.set_index('Zip_Code', inplace=True)\n",
    "KeyHelp=key.T\n",
    "\n",
    "for i in range(count_len):\n",
    "   if np.isnan(djs['County_Number'][i]):\n",
    "       try:\n",
    "           djs['County_Number'][i]= KeyHelp[djs['Zip_Code'][i]][1]\n",
    "       except: \n",
    "           djs['County_Number'][i]\n",
    "\n",
    "for i in range(county_len):\n",
    "   try:\n",
    "       if np.isnan(djs['County'][i]):\n",
    "           djs['County'][i]= KeyHelp[djs['Zip_Code'][i]][0]\n",
    "   except: \n",
    "       djs['County'][i]\n",
    "\n",
    "\n",
    "\n",
    "key.set_index('City', inplace=True)\n",
    "KeyHelp=key.T\n",
    "\n",
    "for i in range(count_len):\n",
    "   if np.isnan(djs['County_Number'][i]):\n",
    "       try:\n",
    "           djs['County_Number'][i]= KeyHelp[djs['City'][i]][1]\n",
    "       except: \n",
    "           djs['County_Number'][i]\n",
    "\n",
    "for i in range(county_len):\n",
    "   try:\n",
    "       if np.isnan(djs['County'][i]):\n",
    "           djs['County'][i]= KeyHelp[djs['City'][i]][0]\n",
    "   except: \n",
    "       djs['County'][i]"
   ]
  },
  {
   "cell_type": "code",
   "execution_count": 90,
   "metadata": {
    "collapsed": true
   },
   "outputs": [],
   "source": [
    "djs.dropna(inplace=True)\n",
    "djs = djs.reset_index(drop=True)"
   ]
  },
  {
   "cell_type": "code",
   "execution_count": 91,
   "metadata": {
    "collapsed": false
   },
   "outputs": [],
   "source": [
    "#DOUG'S CODE OF CONDUCT\n",
    "\n",
    "#Converts State Bottle Cost Series to Float\n",
    "djs['State_Bottle_Cost'] = (djs['State_Bottle_Cost'].replace( '[\\$,)]','', regex=True )\\\n",
    "                            .replace( '[(]','-',   regex=True ).astype(float))\n",
    "\n",
    "#Converts State Bottle Retail Series to Float\n",
    "djs['State_Bottle_Retail'] = (djs['State_Bottle_Retail'].replace( '[\\$,)]','', regex=True )\\\n",
    "                              .replace( '[(]','-',   regex=True ).astype(float))\n",
    "\n",
    "#Converts Sale Dollars Series to Float\n",
    "djs['Sale_(Dollars)'] = (djs['Sale_(Dollars)'].replace( '[\\$,)]','', regex=True )\\\n",
    "                         .replace( '[(]','-',   regex=True ).astype(float))\n",
    "\n",
    "#Converts City names to all CAPS\n",
    "djs['City'] = map(lambda x: x.upper(), djs['City'])\n",
    "\n",
    "#Calculates profit per transaction\n",
    "djs['Profit'] = djs['Sale_(Dollars)'] - (djs['State_Bottle_Cost'] * djs['Bottles_Sold'])"
   ]
  },
  {
   "cell_type": "code",
   "execution_count": 92,
   "metadata": {
    "collapsed": false,
    "scrolled": true
   },
   "outputs": [
    {
     "name": "stderr",
     "output_type": "stream",
     "text": [
      "/Users/Jesse/anaconda/lib/python2.7/site-packages/ipykernel/__main__.py:16: FutureWarning: sort(columns=....) is deprecated, use sort_values(by=.....)\n"
     ]
    }
   ],
   "source": [
    "#Creating dataframe with City/County name and estimated 2015 population\n",
    "name_pop_df = df[['NAME', 'POPESTIMATE2015']]\n",
    "name_pop_df['NAME'] = (name_pop_df['NAME'].replace( ' city','', regex=True ))\n",
    "\n",
    "#Cleaning data.  Removing NAME with \"(pt.)\"\n",
    "temp_df = name_pop_df.T\n",
    "name_pop_df = temp_df[[ind for ind, x in enumerate(name_pop_df['NAME']) if \"(pt.)\" not in x]].T\n",
    "name_pop_df = name_pop_df.reset_index(drop=True)\n",
    "\n",
    "#Cleaning data.  Removing NAME with \"Balance\"\n",
    "temp_df = name_pop_df.T\n",
    "name_pop_df = temp_df[[ind for ind, x in enumerate(name_pop_df['NAME']) if \"Balance\" not in x]].T\n",
    "name_pop_df = name_pop_df.reset_index(drop=True)\n",
    "\n",
    "#Sorts dataframe alphabetically by NAME and remove duplicates.\n",
    "name_pop_df = name_pop_df.sort(columns=['NAME'])\n",
    "name_pop_df = name_pop_df.drop_duplicates(keep='first').reset_index(drop=True)"
   ]
  },
  {
   "cell_type": "code",
   "execution_count": 93,
   "metadata": {
    "collapsed": false
   },
   "outputs": [],
   "source": [
    "#Add County Population\n",
    "county_pop_df = name_pop_df.T\n",
    "county_pop_df = county_pop_df[[ind for ind, x in enumerate(name_pop_df['NAME']) if \"County\" in x]].T\n",
    "county_pop_df['NAME'] = (county_pop_df['NAME'].replace( ' County','', regex=True ))\n",
    "county_pop_df = county_pop_df.reset_index(drop=True)\n",
    "county_pop_df = county_pop_df.set_index(county_pop_df['NAME'])\n",
    "del county_pop_df['NAME']\n",
    "djs = djs.merge(county_pop_df, how='left', left_on=\"County\", right_index=True)\n",
    "djs.rename(columns={'POPESTIMATE2015':'County_Pop'}, inplace = True)\n",
    "\n",
    "#Add City Population\n",
    "city_pop_df = name_pop_df.T\n",
    "city_pop_df = city_pop_df[[ind for ind, x in enumerate(name_pop_df['NAME']) if \"County\" not in x]].T\n",
    "city_pop_df = city_pop_df.reset_index(drop=True)\n",
    "city_pop_df['NAME'] = map(lambda x: x.upper(), city_pop_df['NAME'])\n",
    "city_pop_df = city_pop_df.set_index(city_pop_df['NAME'])\n",
    "del city_pop_df['NAME']\n",
    "djs = djs.merge(city_pop_df, how='left', left_on=\"City\", right_index=True)\n",
    "djs.rename(columns={'POPESTIMATE2015':'City_Pop'}, inplace = True)"
   ]
  },
  {
   "cell_type": "code",
   "execution_count": 94,
   "metadata": {
    "collapsed": false,
    "scrolled": true
   },
   "outputs": [
    {
     "name": "stderr",
     "output_type": "stream",
     "text": [
      "/Users/Jesse/anaconda/lib/python2.7/site-packages/ipykernel/__main__.py:3: FutureWarning: sort(columns=....) is deprecated, use sort_values(by=.....)\n",
      "  app.launch_new_instance()\n",
      "/Users/Jesse/anaconda/lib/python2.7/site-packages/ipykernel/__main__.py:10: FutureWarning: sort(columns=....) is deprecated, use sort_values(by=.....)\n"
     ]
    }
   ],
   "source": [
    "#Add Store Count per City \n",
    "store_count = djs[['Store_Number', 'City']]\n",
    "store_count = store_count.sort('Store_Number').drop_duplicates()\n",
    "store_count = store_count.groupby('City').count()\n",
    "store_count.rename(columns={'Store_Number':'Store_Count_City'}, inplace = True)\n",
    "djs = djs.merge(store_count, how='left', left_on='City', right_index=True)\n",
    "\n",
    "#Add Store Count per County\n",
    "store_count = djs[['Store_Number', 'County']]\n",
    "store_count = store_count.sort('Store_Number').drop_duplicates()\n",
    "store_count = store_count.groupby('County').count()\n",
    "store_count.rename(columns={'Store_Number':'Store_Count_County'}, inplace = True)\n",
    "djs = djs.merge(store_count, how='left', left_on='County', right_index=True)"
   ]
  },
  {
   "cell_type": "code",
   "execution_count": 95,
   "metadata": {
    "collapsed": false
   },
   "outputs": [],
   "source": [
    "#Add Profit by City\n",
    "djs_profit_by_city = djs.groupby(['City'])['Profit'].agg(([np.sum]))\n",
    "djs_profit_by_city.rename(columns={'sum':'Profit_City'}, inplace = True)\n",
    "djs = djs.merge(djs_profit_by_city, how='left', left_on='City', right_index=True)\n",
    "\n",
    "#Add Profit by County\n",
    "djs_profit_by_county = djs.groupby(['County'])['Profit'].agg(([np.sum]))\n",
    "djs_profit_by_county.rename(columns={'sum':'Profit_County'}, inplace = True)\n",
    "djs = djs.merge(djs_profit_by_county, how='left', left_on='County', right_index=True)\n",
    "\n",
    "#Add Profit by Store\n",
    "djs_profit_by_store = djs.groupby(['Store_Number'])['Profit'].agg(([np.sum]))\n",
    "djs_profit_by_store.rename(columns={'sum':'Profit_Store'}, inplace = True)\n",
    "djs = djs.merge(djs_profit_by_store, how='left', left_on='Store_Number', right_index=True)"
   ]
  },
  {
   "cell_type": "code",
   "execution_count": 96,
   "metadata": {
    "collapsed": false
   },
   "outputs": [
    {
     "data": {
      "text/html": [
       "<div>\n",
       "<table border=\"1\" class=\"dataframe\">\n",
       "  <thead>\n",
       "    <tr style=\"text-align: right;\">\n",
       "      <th></th>\n",
       "      <th>Date</th>\n",
       "      <th>Store_Number</th>\n",
       "      <th>City</th>\n",
       "      <th>Zip_Code</th>\n",
       "      <th>County_Number</th>\n",
       "      <th>County</th>\n",
       "      <th>Category</th>\n",
       "      <th>Category_Name</th>\n",
       "      <th>Vendor_Number</th>\n",
       "      <th>Item_Number</th>\n",
       "      <th>...</th>\n",
       "      <th>Year</th>\n",
       "      <th>Month</th>\n",
       "      <th>Profit</th>\n",
       "      <th>County_Pop</th>\n",
       "      <th>City_Pop</th>\n",
       "      <th>Store_Count_City</th>\n",
       "      <th>Store_Count_County</th>\n",
       "      <th>Profit_City</th>\n",
       "      <th>Profit_County</th>\n",
       "      <th>Profit_Store</th>\n",
       "    </tr>\n",
       "  </thead>\n",
       "  <tbody>\n",
       "    <tr>\n",
       "      <th>0</th>\n",
       "      <td>2015-11-04</td>\n",
       "      <td>3717</td>\n",
       "      <td>SUMNER</td>\n",
       "      <td>50674</td>\n",
       "      <td>9.0</td>\n",
       "      <td>Bremer</td>\n",
       "      <td>1051100.0</td>\n",
       "      <td>APRICOT BRANDIES</td>\n",
       "      <td>55</td>\n",
       "      <td>54436</td>\n",
       "      <td>...</td>\n",
       "      <td>2015</td>\n",
       "      <td>11</td>\n",
       "      <td>27.00</td>\n",
       "      <td>24722</td>\n",
       "      <td>2009</td>\n",
       "      <td>1</td>\n",
       "      <td>9</td>\n",
       "      <td>3848.59</td>\n",
       "      <td>69164.91</td>\n",
       "      <td>3848.59</td>\n",
       "    </tr>\n",
       "    <tr>\n",
       "      <th>1</th>\n",
       "      <td>2016-03-02</td>\n",
       "      <td>2614</td>\n",
       "      <td>DAVENPORT</td>\n",
       "      <td>52807</td>\n",
       "      <td>82.0</td>\n",
       "      <td>Scott</td>\n",
       "      <td>1011100.0</td>\n",
       "      <td>BLENDED WHISKIES</td>\n",
       "      <td>395</td>\n",
       "      <td>27605</td>\n",
       "      <td>...</td>\n",
       "      <td>2016</td>\n",
       "      <td>3</td>\n",
       "      <td>13.76</td>\n",
       "      <td>172126</td>\n",
       "      <td>102582</td>\n",
       "      <td>43</td>\n",
       "      <td>66</td>\n",
       "      <td>569564.98</td>\n",
       "      <td>823175.13</td>\n",
       "      <td>59826.88</td>\n",
       "    </tr>\n",
       "    <tr>\n",
       "      <th>2</th>\n",
       "      <td>2016-02-11</td>\n",
       "      <td>2106</td>\n",
       "      <td>CEDAR FALLS</td>\n",
       "      <td>50613</td>\n",
       "      <td>7.0</td>\n",
       "      <td>Black Hawk</td>\n",
       "      <td>1011200.0</td>\n",
       "      <td>STRAIGHT BOURBON WHISKIES</td>\n",
       "      <td>65</td>\n",
       "      <td>19067</td>\n",
       "      <td>...</td>\n",
       "      <td>2016</td>\n",
       "      <td>2</td>\n",
       "      <td>151.20</td>\n",
       "      <td>133455</td>\n",
       "      <td>41255</td>\n",
       "      <td>17</td>\n",
       "      <td>73</td>\n",
       "      <td>216331.32</td>\n",
       "      <td>645252.18</td>\n",
       "      <td>58916.88</td>\n",
       "    </tr>\n",
       "    <tr>\n",
       "      <th>3</th>\n",
       "      <td>2016-02-03</td>\n",
       "      <td>2501</td>\n",
       "      <td>AMES</td>\n",
       "      <td>50010</td>\n",
       "      <td>85.0</td>\n",
       "      <td>Story</td>\n",
       "      <td>1071100.0</td>\n",
       "      <td>AMERICAN COCKTAILS</td>\n",
       "      <td>395</td>\n",
       "      <td>59154</td>\n",
       "      <td>...</td>\n",
       "      <td>2016</td>\n",
       "      <td>2</td>\n",
       "      <td>28.50</td>\n",
       "      <td>96021</td>\n",
       "      <td>65060</td>\n",
       "      <td>25</td>\n",
       "      <td>38</td>\n",
       "      <td>327565.86</td>\n",
       "      <td>358929.57</td>\n",
       "      <td>58282.38</td>\n",
       "    </tr>\n",
       "    <tr>\n",
       "      <th>4</th>\n",
       "      <td>2015-08-18</td>\n",
       "      <td>3654</td>\n",
       "      <td>BELMOND</td>\n",
       "      <td>50421</td>\n",
       "      <td>99.0</td>\n",
       "      <td>Wright</td>\n",
       "      <td>1031080.0</td>\n",
       "      <td>VODKA 80 PROOF</td>\n",
       "      <td>297</td>\n",
       "      <td>35918</td>\n",
       "      <td>...</td>\n",
       "      <td>2015</td>\n",
       "      <td>8</td>\n",
       "      <td>43.20</td>\n",
       "      <td>12773</td>\n",
       "      <td>2314</td>\n",
       "      <td>3</td>\n",
       "      <td>10</td>\n",
       "      <td>11449.65</td>\n",
       "      <td>31025.70</td>\n",
       "      <td>3962.20</td>\n",
       "    </tr>\n",
       "  </tbody>\n",
       "</table>\n",
       "<p>5 rows × 28 columns</p>\n",
       "</div>"
      ],
      "text/plain": [
       "        Date  Store_Number         City Zip_Code  County_Number      County  \\\n",
       "0 2015-11-04          3717       SUMNER    50674            9.0      Bremer   \n",
       "1 2016-03-02          2614    DAVENPORT    52807           82.0       Scott   \n",
       "2 2016-02-11          2106  CEDAR FALLS    50613            7.0  Black Hawk   \n",
       "3 2016-02-03          2501         AMES    50010           85.0       Story   \n",
       "4 2015-08-18          3654      BELMOND    50421           99.0      Wright   \n",
       "\n",
       "    Category              Category_Name  Vendor_Number  Item_Number  \\\n",
       "0  1051100.0           APRICOT BRANDIES             55        54436   \n",
       "1  1011100.0           BLENDED WHISKIES            395        27605   \n",
       "2  1011200.0  STRAIGHT BOURBON WHISKIES             65        19067   \n",
       "3  1071100.0         AMERICAN COCKTAILS            395        59154   \n",
       "4  1031080.0             VODKA 80 PROOF            297        35918   \n",
       "\n",
       "       ...       Year  Month  Profit  County_Pop  City_Pop  Store_Count_City  \\\n",
       "0      ...       2015     11   27.00       24722      2009                 1   \n",
       "1      ...       2016      3   13.76      172126    102582                43   \n",
       "2      ...       2016      2  151.20      133455     41255                17   \n",
       "3      ...       2016      2   28.50       96021     65060                25   \n",
       "4      ...       2015      8   43.20       12773      2314                 3   \n",
       "\n",
       "   Store_Count_County  Profit_City  Profit_County  Profit_Store  \n",
       "0                   9      3848.59       69164.91       3848.59  \n",
       "1                  66    569564.98      823175.13      59826.88  \n",
       "2                  73    216331.32      645252.18      58916.88  \n",
       "3                  38    327565.86      358929.57      58282.38  \n",
       "4                  10     11449.65       31025.70       3962.20  \n",
       "\n",
       "[5 rows x 28 columns]"
      ]
     },
     "execution_count": 96,
     "metadata": {},
     "output_type": "execute_result"
    }
   ],
   "source": [
    "djs.head()"
   ]
  },
  {
   "cell_type": "code",
   "execution_count": 116,
   "metadata": {
    "collapsed": false
   },
   "outputs": [
    {
     "data": {
      "text/plain": [
       "376"
      ]
     },
     "execution_count": 116,
     "metadata": {},
     "output_type": "execute_result"
    }
   ],
   "source": [
    "#Creates a Dataframe with City Data.\n",
    "city_df = djs[['City', 'City_Pop', 'Profit_City', 'Store_Count_City']]\n",
    "city_df = city_df.set_index(city_df['City'])\n",
    "del city_df['City']\n",
    "city_df.drop_duplicates(inplace=True)\n",
    "city_df.head()"
   ]
  },
  {
   "cell_type": "code",
   "execution_count": 120,
   "metadata": {
    "collapsed": false,
    "scrolled": true
   },
   "outputs": [
    {
     "data": {
      "text/html": [
       "<div>\n",
       "<table border=\"1\" class=\"dataframe\">\n",
       "  <thead>\n",
       "    <tr style=\"text-align: right;\">\n",
       "      <th></th>\n",
       "      <th>County_Number</th>\n",
       "      <th>County_Pop</th>\n",
       "      <th>Profit_County</th>\n",
       "      <th>Store_Count_County</th>\n",
       "    </tr>\n",
       "    <tr>\n",
       "      <th>County</th>\n",
       "      <th></th>\n",
       "      <th></th>\n",
       "      <th></th>\n",
       "      <th></th>\n",
       "    </tr>\n",
       "  </thead>\n",
       "  <tbody>\n",
       "    <tr>\n",
       "      <th>Bremer</th>\n",
       "      <td>9.0</td>\n",
       "      <td>24722</td>\n",
       "      <td>69164.91</td>\n",
       "      <td>9</td>\n",
       "    </tr>\n",
       "    <tr>\n",
       "      <th>Scott</th>\n",
       "      <td>82.0</td>\n",
       "      <td>172126</td>\n",
       "      <td>823175.13</td>\n",
       "      <td>66</td>\n",
       "    </tr>\n",
       "    <tr>\n",
       "      <th>Black Hawk</th>\n",
       "      <td>7.0</td>\n",
       "      <td>133455</td>\n",
       "      <td>645252.18</td>\n",
       "      <td>73</td>\n",
       "    </tr>\n",
       "    <tr>\n",
       "      <th>Story</th>\n",
       "      <td>85.0</td>\n",
       "      <td>96021</td>\n",
       "      <td>358929.57</td>\n",
       "      <td>38</td>\n",
       "    </tr>\n",
       "    <tr>\n",
       "      <th>Wright</th>\n",
       "      <td>99.0</td>\n",
       "      <td>12773</td>\n",
       "      <td>31025.70</td>\n",
       "      <td>10</td>\n",
       "    </tr>\n",
       "  </tbody>\n",
       "</table>\n",
       "</div>"
      ],
      "text/plain": [
       "            County_Number County_Pop  Profit_County  Store_Count_County\n",
       "County                                                                 \n",
       "Bremer                9.0      24722       69164.91                   9\n",
       "Scott                82.0     172126      823175.13                  66\n",
       "Black Hawk            7.0     133455      645252.18                  73\n",
       "Story                85.0      96021      358929.57                  38\n",
       "Wright               99.0      12773       31025.70                  10"
      ]
     },
     "execution_count": 120,
     "metadata": {},
     "output_type": "execute_result"
    }
   ],
   "source": [
    "#Creates a Dataframe with County Data.\n",
    "county_df = djs[['County_Number', 'County', 'County_Pop', 'Profit_County', 'Store_Count_County']]\n",
    "county_df = county_df.set_index(county_df['County'])\n",
    "del county_df['County']\n",
    "county_df.drop_duplicates(inplace=True)\n",
    "county_df.head()"
   ]
  },
  {
   "cell_type": "code",
   "execution_count": 100,
   "metadata": {
    "collapsed": false
   },
   "outputs": [
    {
     "name": "stdout",
     "output_type": "stream",
     "text": [
      "MSE: 41580.5323722\n"
     ]
    },
    {
     "data": {
      "image/png": "[encoded data removed]",
      "text/plain": [
       "<matplotlib.figure.Figure at 0x11a4f9fd0>"
      ]
     },
     "metadata": {},
     "output_type": "display_data"
    },
    {
     "data": {
      "image/png": "[encoded data removed]",
      "text/plain": [
       "<matplotlib.figure.Figure at 0x11a4f90d0>"
      ]
     },
     "metadata": {},
     "output_type": "display_data"
    }
   ],
   "source": [
    "#Sets up regression mapping State_Bottle_Retail and Bottles_Sold to Sale_Dollars\n",
    "targets = djs['Sale_(Dollars)']\n",
    "djstargets = pd.DataFrame(targets)\n",
    "lm = linear_model.LinearRegression()\n",
    "X = djs[[\"State_Bottle_Retail\", \"Bottles_Sold\"]]\n",
    "y = djstargets[\"Sale_(Dollars)\"]\n",
    "\n",
    "model = lm.fit(X,y)\n",
    "predictions = lm.predict(X)\n",
    "\n",
    "#Creates graph of predicted values\n",
    "print \"MSE:\", mean_squared_error(y, predictions)\n",
    "plt.figure(figsize=(8,8))\n",
    "plt.scatter(predictions, y, s=30, c='r', marker='+', zorder=10)\n",
    "plt.xlabel(\"Predicted Values from Price and Bottles Sold\")\n",
    "plt.ylabel(\"Actual Sales\")\n",
    "plt.show()\n",
    "\n",
    "plt.figure(figsize=(8,8))\n",
    "plt.scatter(predictions, y - predictions, c = 'b', marker = '+')\n",
    "plt.axhline(0, color='r');\n",
    "plt.xlabel(\"Predictions\")\n",
    "plt.ylabel(\"Residuals\");"
   ]
  },
  {
   "cell_type": "code",
   "execution_count": 101,
   "metadata": {
    "collapsed": false,
    "scrolled": true
   },
   "outputs": [
    {
     "data": {
      "image/png": "[encoded data removed]",
      "text/plain": [
       "<matplotlib.figure.Figure at 0x11a79d650>"
      ]
     },
     "metadata": {},
     "output_type": "display_data"
    }
   ],
   "source": [
    "#Heatmap mapping correlation\n",
    "sns.heatmap(djs.corr());"
   ]
  },
  {
   "cell_type": "code",
   "execution_count": 102,
   "metadata": {
    "collapsed": false
   },
   "outputs": [
    {
     "name": "stdout",
     "output_type": "stream",
     "text": [
      "\n"
     ]
    }
   ],
   "source": [
    "'''scatter_matrix(djs[['Date', 'Zip_Code','Sale_(Dollars)', 'State_Bottle_Retail','State_Bottle_Cost', 'Bottles_Sold']], alpha=0.2, figsize=(12, 12), diagonal='Sale_(Dollars)')\n",
    "\n",
    "\n",
    "plt.plot_date(djs['Date'], djs['Sale_(Dollars)'])\n",
    "plt.show()'''\n",
    "print"
   ]
  },
  {
   "cell_type": "code",
   "execution_count": 103,
   "metadata": {
    "collapsed": false
   },
   "outputs": [
    {
     "name": "stdout",
     "output_type": "stream",
     "text": [
      "MSE: 41580.12281\n"
     ]
    },
    {
     "data": {
      "image/png": "[encoded data removed]",
      "text/plain": [
       "<matplotlib.figure.Figure at 0x10a4cc910>"
      ]
     },
     "metadata": {},
     "output_type": "display_data"
    },
    {
     "data": {
      "image/png": "[encoded data removed]",
      "text/plain": [
       "<matplotlib.figure.Figure at 0x124042d10>"
      ]
     },
     "metadata": {},
     "output_type": "display_data"
    }
   ],
   "source": [
    "#Sets up regression mapping State_Bottle_Retail, Bottles_Sold, and County_Number to Sale_Dollars\n",
    "targets = djs['Sale_(Dollars)']\n",
    "djstargets = pd.DataFrame(targets)\n",
    "lm = linear_model.LinearRegression()\n",
    "X = djs[[\"State_Bottle_Retail\", \"Bottles_Sold\", \"County_Number\"]]\n",
    "y = djstargets[\"Sale_(Dollars)\"]\n",
    "\n",
    "model = lm.fit(X,y)\n",
    "predictions = lm.predict(X)\n",
    "\n",
    "\n",
    "#Creates graph of predicted values.\n",
    "print \"MSE:\", mean_squared_error(y, predictions)\n",
    "plt.figure(figsize=(8,8))\n",
    "plt.scatter(predictions, y, s=30, c='r', marker='+', zorder=10)\n",
    "plt.xlabel(\"Predicted Values from Price and Bottles Sold and County Number\")\n",
    "plt.ylabel(\"Actual Sales\")\n",
    "plt.show()\n",
    "\n",
    "plt.figure(figsize=(8,8))\n",
    "plt.scatter(predictions, y - predictions, c = 'b', marker = '+')\n",
    "plt.axhline(0, color='r');\n",
    "plt.xlabel(\"Predictions\")\n",
    "plt.ylabel(\"Residuals\");"
   ]
  },
  {
   "cell_type": "code",
   "execution_count": 104,
   "metadata": {
    "collapsed": true
   },
   "outputs": [],
   "source": [
    "train_data=djs.loc[djs['Year'] != 2016]\n",
    "test_data=djs.loc[djs['Year'] == 2016]"
   ]
  },
  {
   "cell_type": "code",
   "execution_count": 105,
   "metadata": {
    "collapsed": true
   },
   "outputs": [],
   "source": [
    "#Define test X\n",
    "test_X=test_data[['State_Bottle_Cost', 'Bottles_Sold', 'County_Number']]"
   ]
  },
  {
   "cell_type": "code",
   "execution_count": 113,
   "metadata": {
    "collapsed": false
   },
   "outputs": [
    {
     "name": "stdout",
     "output_type": "stream",
     "text": [
      "MSE: 43034.8071689\n"
     ]
    },
    {
     "data": {
      "image/png": "[encoded data removed]",
      "text/plain": [
       "<matplotlib.figure.Figure at 0x11a566fd0>"
      ]
     },
     "metadata": {},
     "output_type": "display_data"
    }
   ],
   "source": [
    "#Sets up regression mapping State_Bottle_Cost, Bottles_Sold, and County_Number to Sale_Dollars\n",
    "lr=linear_model.LinearRegression()\n",
    "train_X=train_data[['State_Bottle_Cost', 'Bottles_Sold', 'County_Number' ]]\n",
    "train_Y=train_data[['Sale_(Dollars)']]\n",
    "\n",
    "lr_model=lr.fit(train_X,train_Y)\n",
    "predictions=lr_model.predict(train_X)\n",
    "\n",
    "#Creates graph of predicted values.\n",
    "print \"MSE:\", mean_squared_error(train_Y, predictions)\n",
    "plt.figure(figsize=(8,8))\n",
    "plt.scatter(predictions, train_Y, s=30, c='r', marker='+', zorder=10)\n",
    "plt.xlabel(\"Predicted Values from Price and Bottles Sold\")\n",
    "plt.ylabel(\"Actual Sales\")\n",
    "plt.show()"
   ]
  },
  {
   "cell_type": "code",
   "execution_count": 109,
   "metadata": {
    "collapsed": false
   },
   "outputs": [
    {
     "data": {
      "text/html": [
       "<div>\n",
       "<table border=\"1\" class=\"dataframe\">\n",
       "  <thead>\n",
       "    <tr style=\"text-align: right;\">\n",
       "      <th></th>\n",
       "      <th>County_Number</th>\n",
       "      <th>Bottles_Sold</th>\n",
       "      <th>State_Bottle_Cost</th>\n",
       "    </tr>\n",
       "  </thead>\n",
       "  <tbody>\n",
       "    <tr>\n",
       "      <th>0</th>\n",
       "      <td>1.0</td>\n",
       "      <td>4650</td>\n",
       "      <td>5438.68</td>\n",
       "    </tr>\n",
       "    <tr>\n",
       "      <th>1</th>\n",
       "      <td>2.0</td>\n",
       "      <td>955</td>\n",
       "      <td>2377.94</td>\n",
       "    </tr>\n",
       "    <tr>\n",
       "      <th>2</th>\n",
       "      <td>3.0</td>\n",
       "      <td>7450</td>\n",
       "      <td>10411.70</td>\n",
       "    </tr>\n",
       "    <tr>\n",
       "      <th>3</th>\n",
       "      <td>4.0</td>\n",
       "      <td>8171</td>\n",
       "      <td>9903.40</td>\n",
       "    </tr>\n",
       "    <tr>\n",
       "      <th>4</th>\n",
       "      <td>5.0</td>\n",
       "      <td>1694</td>\n",
       "      <td>1982.02</td>\n",
       "    </tr>\n",
       "  </tbody>\n",
       "</table>\n",
       "</div>"
      ],
      "text/plain": [
       "   County_Number  Bottles_Sold  State_Bottle_Cost\n",
       "0            1.0          4650            5438.68\n",
       "1            2.0           955            2377.94\n",
       "2            3.0          7450           10411.70\n",
       "3            4.0          8171            9903.40\n",
       "4            5.0          1694            1982.02"
      ]
     },
     "execution_count": 109,
     "metadata": {},
     "output_type": "execute_result"
    }
   ],
   "source": [
    "county_values= pd.pivot_table(djs, index='County_Number', values=['State_Bottle_Cost', 'Bottles_Sold'], aggfunc=np.sum)\n",
    "county_values.reset_index(inplace=True)\n",
    "county_values.head()"
   ]
  },
  {
   "cell_type": "code",
   "execution_count": 110,
   "metadata": {
    "collapsed": true
   },
   "outputs": [],
   "source": [
    "yhat_counties=lr_model.predict(county_values)\n",
    "counties_predicted=pd.DataFrame(yhat_counties)"
   ]
  },
  {
   "cell_type": "code",
   "execution_count": 111,
   "metadata": {
    "collapsed": false
   },
   "outputs": [
    {
     "name": "stderr",
     "output_type": "stream",
     "text": [
      "/Users/Jesse/anaconda/lib/python2.7/site-packages/ipykernel/__main__.py:4: FutureWarning: sort(columns=....) is deprecated, use sort_values(by=.....)\n"
     ]
    },
    {
     "data": {
      "text/html": [
       "<div>\n",
       "<table border=\"1\" class=\"dataframe\">\n",
       "  <thead>\n",
       "    <tr style=\"text-align: right;\">\n",
       "      <th></th>\n",
       "      <th>County_Number</th>\n",
       "      <th>Total_Sales_Predicted</th>\n",
       "    </tr>\n",
       "  </thead>\n",
       "  <tbody>\n",
       "    <tr>\n",
       "      <th>76</th>\n",
       "      <td>77.0</td>\n",
       "      <td>7662.190388</td>\n",
       "    </tr>\n",
       "    <tr>\n",
       "      <th>56</th>\n",
       "      <td>57.0</td>\n",
       "      <td>3247.485998</td>\n",
       "    </tr>\n",
       "    <tr>\n",
       "      <th>81</th>\n",
       "      <td>82.0</td>\n",
       "      <td>2715.620845</td>\n",
       "    </tr>\n",
       "    <tr>\n",
       "      <th>6</th>\n",
       "      <td>7.0</td>\n",
       "      <td>2286.758991</td>\n",
       "    </tr>\n",
       "    <tr>\n",
       "      <th>51</th>\n",
       "      <td>52.0</td>\n",
       "      <td>1953.235953</td>\n",
       "    </tr>\n",
       "  </tbody>\n",
       "</table>\n",
       "</div>"
      ],
      "text/plain": [
       "    County_Number  Total_Sales_Predicted\n",
       "76           77.0            7662.190388\n",
       "56           57.0            3247.485998\n",
       "81           82.0            2715.620845\n",
       "6             7.0            2286.758991\n",
       "51           52.0            1953.235953"
      ]
     },
     "execution_count": 111,
     "metadata": {},
     "output_type": "execute_result"
    }
   ],
   "source": [
    "CountyP_Df=pd.concat([county_values['County_Number'], counties_predicted/1000], axis=1)\n",
    "CountyP_Df.columns=['County_Number', 'Total_Sales_Predicted']\n",
    "#CountyP_Df.applymap[lambda: x/1000 for x in CountyP_Df['Total_Sales_Predicted']]\n",
    "test = CountyP_Df.sort('Total_Sales_Predicted', ascending =False)\n",
    "test.head()"
   ]
  },
  {
   "cell_type": "code",
   "execution_count": 112,
   "metadata": {
    "collapsed": false
   },
   "outputs": [
    {
     "data": {
      "image/png": "[encoded data removed]",
      "text/plain": [
       "<matplotlib.figure.Figure at 0x120a09750>"
      ]
     },
     "metadata": {},
     "output_type": "display_data"
    }
   ],
   "source": [
    "plt.figure(figsize=(8,8))\n",
    "plt.scatter(county_values['County_Number'], CountyP_Df['Total_Sales_Predicted'], s=30, c='blue', marker='+', zorder=10)\n",
    "plt.xlabel(\"Counties\")\n",
    "plt.ylabel(\"Predicted Sales (in thousands)\")\n",
    "plt.show()"
   ]
  }
 ],
 "metadata": {
  "anaconda-cloud": {},
  "kernelspec": {
   "display_name": "Python [Root]",
   "language": "python",
   "name": "Python [Root]"
  },
  "language_info": {
   "codemirror_mode": {
    "name": "ipython",
    "version": 2
   },
   "file_extension": ".py",
   "mimetype": "text/x-python",
   "name": "python",
   "nbconvert_exporter": "python",
   "pygments_lexer": "ipython2",
   "version": "2.7.12"
  }
 },
 "nbformat": 4,
 "nbformat_minor": 0
}
