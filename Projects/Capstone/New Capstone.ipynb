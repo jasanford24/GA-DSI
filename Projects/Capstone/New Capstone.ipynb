{
 "cells": [
  {
   "cell_type": "markdown",
   "metadata": {
    "collapsed": true
   },
   "source": [
    "# Capstone"
   ]
  },
  {
   "cell_type": "markdown",
   "metadata": {},
   "source": [
    "### Stock Data Source\n",
    "\n",
    "*Plan to replace this in the future with a self updating pull using pandas_datareader.data<br>*\n",
    "\n",
    "- Dow Jones Data Source\n",
    "https://fred.stlouisfed.org/series/DJIA/downloaddata\n",
    "\n",
    "- SP500 Data Source\n",
    "https://fred.stlouisfed.org/series/SP500/downloaddata"
   ]
  },
  {
   "cell_type": "markdown",
   "metadata": {},
   "source": [
    "## Imports"
   ]
  },
  {
   "cell_type": "code",
   "execution_count": 16,
   "metadata": {
    "collapsed": false,
    "hide_input": false
   },
   "outputs": [],
   "source": [
    "import pandas as pd\n",
    "import numpy as np\n",
    "import matplotlib.pyplot as plt\n",
    "import seaborn as sns\n",
    "import re\n",
    "import os\n",
    "import zipfile\n",
    "import glob\n",
    "import urllib\n",
    "import logging\n",
    "import pickle\n",
    "import xgboost\n",
    "import time\n",
    "\n",
    "from sklearn import datasets, linear_model\n",
    "from sklearn.metrics import mean_squared_error\n",
    "\n",
    "from sklearn.linear_model import LogisticRegression, LogisticRegressionCV\n",
    "from sklearn.model_selection import train_test_split\n",
    "\n",
    "from sklearn.preprocessing import StandardScaler\n",
    "\n",
    "from sklearn.metrics import classification_report\n",
    "from sklearn.metrics import roc_auc_score\n",
    "from sklearn.metrics import roc_curve\n",
    "from sklearn.metrics import auc\n",
    "from sklearn.metrics import confusion_matrix\n",
    "from sklearn.neighbors import KNeighborsClassifier\n",
    "from sklearn.grid_search import GridSearchCV\n",
    "from sklearn.model_selection import cross_val_predict\n",
    "\n",
    "\n",
    "from sklearn.model_selection import cross_val_score\n",
    "from sklearn.tree import DecisionTreeClassifier\n",
    "from sklearn.ensemble import RandomForestClassifier, ExtraTreesClassifier, BaggingClassifier\n",
    "\n",
    "# Deprecated yet if I use the new version it breaks my code so this stays in until I fix it.\n",
    "from sklearn.cross_validation import StratifiedKFold\n",
    "\n",
    "\n",
    "from pydub import AudioSegment\n",
    "from pydub.playback import play\n",
    "\n",
    "from datetime import datetime, date, time, timedelta\n",
    "import pandas_datareader.data as web\n",
    "\n",
    "\n",
    "seinfeld = AudioSegment.from_mp3(\"theme.mp3\")[:11500]\n",
    "plt.style.use('fivethirtyeight')\n",
    "%matplotlib inline"
   ]
  },
  {
   "cell_type": "markdown",
   "metadata": {},
   "source": [
    "## Logging"
   ]
  },
  {
   "cell_type": "code",
   "execution_count": 3,
   "metadata": {
    "collapsed": true,
    "hide_input": false
   },
   "outputs": [],
   "source": [
    "logging.basicConfig(level=logging.DEBUG)\n",
    "logger = logging.getLogger(__name__)\n",
    "logger.setLevel(logging.DEBUG)\n",
    "\n",
    "# create a file handler\n",
    "handler = logging.FileHandler('logfile.log')\n",
    "handler.setLevel(logging.DEBUG)\n",
    "\n",
    "# create a logging format\n",
    "formatter = logging.Formatter('%(asctime)s - %(message)s')\n",
    "handler.setFormatter(formatter)\n",
    "\n",
    "# add the handlers to the logger\n",
    "logger.addHandler(handler)"
   ]
  },
  {
   "cell_type": "markdown",
   "metadata": {},
   "source": [
    "## SP500 Download"
   ]
  },
  {
   "cell_type": "code",
   "execution_count": 315,
   "metadata": {
    "collapsed": false,
    "hide_input": false
   },
   "outputs": [],
   "source": [
    "df = pd.read_csv('/Users/Jesse/Downloads/SP500.csv')\n",
    "df['VALUE'] = df['VALUE'].replace('.', np.nan)\n",
    "df.dropna(inplace=True)\n",
    "df.reset_index(drop=True, inplace=True)\n",
    "df['Date'] = pd.to_datetime(df['DATE'])\n",
    "\n",
    "df['DATE'] = [''.join(re.findall('(\\d*)', df['DATE'][x])[::2]) for x in range(len(df))]\n",
    "\n",
    "df['Date'] = df['Date'] - timedelta(days=1)\n",
    "df['Date'] = [str(df['Date'][x].year) + '{:02d}'.format(df['Date'][x].month) + '{:02d}'.format(df['Date'][x].day) for x in range(len(df))]\n",
    "\n",
    "\n",
    "\n",
    "# This whole section is a temporary bandaide.\n",
    "# Better implementation to replace the above section on TO-DO list.\n",
    "start = datetime(2015, 02, 20)\n",
    "end = datetime(2016, 11, 23)\n",
    "moob = web.DataReader('SPY', 'google', start, end)\n",
    "moob.reset_index(inplace=True)\n",
    "ddf = pd.read_csv('/Users/Jesse/Downloads/SP500.csv')\n",
    "ddf['VALUE'] = ddf['VALUE'].replace('.', np.nan)\n",
    "ddf.dropna(inplace=True)\n",
    "ddf.reset_index(drop=True, inplace=True)\n",
    "ddf['DATE'] = pd.to_datetime(ddf['DATE'])\n",
    "moob.set_index(moob['Date'], inplace=True)\n",
    "ddf.set_index(ddf['DATE'], inplace=True)\n",
    "ddf['Open'] = moob['Open']\n",
    "ddf['Close'] = moob['Close']\n",
    "ddf['day_diff'] = ddf['Close'] - ddf['Open']\n",
    "ddf.reset_index(drop=True, inplace=True)"
   ]
  },
  {
   "cell_type": "markdown",
   "metadata": {},
   "source": [
    "# Functions"
   ]
  },
  {
   "cell_type": "markdown",
   "metadata": {},
   "source": [
    "## Data Download"
   ]
  },
  {
   "cell_type": "code",
   "execution_count": 5,
   "metadata": {
    "collapsed": true
   },
   "outputs": [],
   "source": [
    "# Needs more work but pulls data from gdelt and saves it system.\n",
    "def download_data(day_of, day_before):\n",
    "    day_before_begin = 144500    # 9:45 am (EST) :  2:45 pm (GMT)\n",
    "    day_before_end   = 234500    # 6:45 pm (EST) : 11:45 pm (GMT)\n",
    "    day_of_begin     = 0         # 7:00 pm (EST) : 12:00 am (GMT)\n",
    "    day_of_end       = 143000    # 9:30 am (EST) :  2:30 pm (GMT)\n",
    "    while (day_before_begin <= day_before_end):\n",
    "        x1 = day_before + str(day_before_begin) + '.gkg.csv.zip'\n",
    "        x2 = 'http://data.gdeltproject.org/gdeltv2/' + x1\n",
    "        day_before_begin+=1500\n",
    "        if str(60) in str(day_before_begin):\n",
    "            day_before_begin+=4000\n",
    "        x3 = 'capzips/' + x1\n",
    "        urllib.urlretrieve(x2, x3)\n",
    "        \n",
    "    while (day_of_begin <= day_of_end):\n",
    "        x1 = day_of + '{:06d}'.format(day_of_begin) + '.gkg.csv.zip'\n",
    "        x2 = 'http://data.gdeltproject.org/gdeltv2/' + x1\n",
    "        day_of_begin+=1500\n",
    "        if str(60) in str(day_of_begin):\n",
    "            day_of_begin+=4000\n",
    "        x3 = 'capzips/' + x1\n",
    "        urllib.urlretrieve(x2, x3)\n",
    "    extract_zip()\n",
    "\n",
    "# Reads every zip file in the folder and extracts them then deletes the zip.\n",
    "def extract_zip():\n",
    "    for name in glob.glob('capzips/*.zip'):\n",
    "        try:\n",
    "            with zipfile.ZipFile(name, 'r') as myzip:\n",
    "                myzip.extractall('capzips/')\n",
    "                os.remove(name)\n",
    "        except:\n",
    "            os.remove(name)"
   ]
  },
  {
   "cell_type": "markdown",
   "metadata": {},
   "source": [
    "## CSV to DataFrame"
   ]
  },
  {
   "cell_type": "code",
   "execution_count": 6,
   "metadata": {
    "collapsed": true
   },
   "outputs": [],
   "source": [
    "# Opens every csv and puts the data into a dataframe\n",
    "def csv_to_df_no_GCAM():\n",
    "    csv_df = pd.DataFrame()\n",
    "    #count=0\n",
    "    for name in glob.glob('capzips/*.csv'):\n",
    "        try:\n",
    "            logger.debug('File name: %s', name)\n",
    "            temp_df = pd.read_csv(name, header=None, sep=\"\\t\", usecols=[1,15])\n",
    "            temp_df['Date'], temp_df['TONE'] = temp_df[1], temp_df[15]\n",
    "            temp_df = temp_df[['Date', 'TONE']]\n",
    "            \n",
    "            # This section is necessary do not remove.\n",
    "            if temp_df['Date'].dtypes != 'int64':\n",
    "                temp_df.dropna(inplace=True)\n",
    "                temp_df['Date'] = temp_df['Date'].astype(int)\n",
    "        \n",
    "            csv_df = pd.concat((csv_df,temp_df), ignore_index=True)\n",
    "        except:\n",
    "            logger.debug('File is empty: %s', name)\n",
    "        #count+=1\n",
    "    return csv_df\n",
    "\n",
    "\n",
    "# Deletes the CSVs\n",
    "def delete_csv():\n",
    "    for name in glob.glob('capzips/*.csv'):\n",
    "        os.remove(name)"
   ]
  },
  {
   "cell_type": "markdown",
   "metadata": {},
   "source": [
    "## Random Functions"
   ]
  },
  {
   "cell_type": "code",
   "execution_count": 7,
   "metadata": {
    "collapsed": true
   },
   "outputs": [],
   "source": [
    "# Used to run data collection in specified time increments.\n",
    "# Current implementation takes 5 minutes to run.\n",
    "def run_time(t, x):\n",
    "    if x == 'm':\n",
    "        return t/5\n",
    "    else:\n",
    "        return (t*60)/5\n",
    "\n",
    "\n",
    "def tone_parse(cvs):\n",
    "    cvs['tone'] = [float(x.split(',')[0]) for x in cvs['TONE']]\n",
    "    cvs['positive_score'] = [float(x.split(',')[1]) for x in cvs['TONE']]\n",
    "    cvs['negative_score'] = [float(x.split(',')[2]) for x in cvs['TONE']]\n",
    "    cvs['polarity'] = [float(x.split(',')[3]) for x in cvs['TONE']]\n",
    "    cvs['activity'] = [float(x.split(',')[4]) for x in cvs['TONE']]\n",
    "    cvs['word_count'] = [int(x.split(',')[6]) for x in cvs['TONE']]\n",
    "    cvs.pop('TONE')\n",
    "    return cvs"
   ]
  },
  {
   "cell_type": "markdown",
   "metadata": {},
   "source": [
    "## Main"
   ]
  },
  {
   "cell_type": "code",
   "execution_count": 8,
   "metadata": {
    "collapsed": false
   },
   "outputs": [],
   "source": [
    "def main_func(time_run):\n",
    "    if time_run == 0:\n",
    "        return \"Not enough time to finish one loop.\"\n",
    "    \n",
    "    # We good fam.\n",
    "    try:\n",
    "        final_df = pd.read_pickle('last_df.pkl')\n",
    "    except IOError:\n",
    "        final_df = pd.DataFrame()\n",
    "    \n",
    "    \n",
    "    # Prevents my program from running over and breaking.\n",
    "    if len(final_df)+time_run >= len(df):\n",
    "        upper_bound = len(df)-1\n",
    "    else:\n",
    "        upper_bound = len(final_df)+time_run\n",
    "    \n",
    "    # Main for loop that downloads, cleans, and stores relevant data.\n",
    "    for p in range(len(final_df), upper_bound):\n",
    "        # Downloads the data from the internet for the specified date.\n",
    "        download_data(df['DATE'][p], df['Date'][p])\n",
    "        \n",
    "        \n",
    "        # --------- TONE Section -------- #\n",
    "        csv_df = tone_parse(csv_to_df_no_GCAM())\n",
    "        csv_df['Date'] = [pd.to_datetime(datetime.strptime(str(x), '%Y%m%d%H%M%S')) for x in csv_df['Date']]\n",
    "        csv_df = csv_df.set_index('Date')\n",
    "        csv_df = csv_df.resample('h').mean()\n",
    "        csv_df.dropna(inplace=True)\n",
    "        csv_df.reset_index(inplace=True)\n",
    "        temp = csv_df.columns[1:]\n",
    "        test = pd.DataFrame([np.polyfit(csv_df.index, csv_df[x],1)[0] for x in csv_df.columns[1:].tolist()]).T\n",
    "        test.columns = temp.tolist()\n",
    "        # --------- TONE Section -------- #\n",
    "\n",
    "        \n",
    "        final_df = pd.concat([final_df, test], ignore_index=True)\n",
    "        delete_csv()\n",
    "        final_df['Date'] = df['DATE']\n",
    "        pd.to_pickle(final_df, 'last_df.pkl')\n",
    "        final_df = pd.read_pickle('last_df.pkl')\n",
    "    play(seinfeld)"
   ]
  },
  {
   "cell_type": "code",
   "execution_count": 9,
   "metadata": {
    "collapsed": false
   },
   "outputs": [],
   "source": [
    "# Runs main function\n",
    "# main_func(run_time(20, 'm')) # m = minutes, h = hours      1 loop = ~5 minutes"
   ]
  },
  {
   "cell_type": "code",
   "execution_count": 316,
   "metadata": {
    "collapsed": false,
    "scrolled": true
   },
   "outputs": [
    {
     "data": {
      "text/html": [
       "<div>\n",
       "<table border=\"1\" class=\"dataframe\">\n",
       "  <thead>\n",
       "    <tr style=\"text-align: right;\">\n",
       "      <th></th>\n",
       "      <th>Date</th>\n",
       "      <th>activity</th>\n",
       "      <th>negative_score</th>\n",
       "      <th>polarity</th>\n",
       "      <th>positive_score</th>\n",
       "      <th>tone</th>\n",
       "      <th>word_count</th>\n",
       "      <th>value</th>\n",
       "      <th>shifted_value</th>\n",
       "      <th>Volatility</th>\n",
       "      <th>value_binary</th>\n",
       "    </tr>\n",
       "  </thead>\n",
       "  <tbody>\n",
       "    <tr>\n",
       "      <th>0</th>\n",
       "      <td>20150303</td>\n",
       "      <td>-0.002042</td>\n",
       "      <td>-0.004188</td>\n",
       "      <td>-0.004990</td>\n",
       "      <td>-0.000803</td>\n",
       "      <td>0.003385</td>\n",
       "      <td>0.099662</td>\n",
       "      <td>-0.35</td>\n",
       "      <td>1.21</td>\n",
       "      <td>5.935257</td>\n",
       "      <td>0</td>\n",
       "    </tr>\n",
       "    <tr>\n",
       "      <th>1</th>\n",
       "      <td>20150304</td>\n",
       "      <td>-0.002408</td>\n",
       "      <td>-0.003338</td>\n",
       "      <td>-0.002785</td>\n",
       "      <td>0.000552</td>\n",
       "      <td>0.003890</td>\n",
       "      <td>0.921975</td>\n",
       "      <td>-0.17</td>\n",
       "      <td>-0.35</td>\n",
       "      <td>4.521195</td>\n",
       "      <td>0</td>\n",
       "    </tr>\n",
       "    <tr>\n",
       "      <th>2</th>\n",
       "      <td>20150305</td>\n",
       "      <td>-0.003321</td>\n",
       "      <td>-0.008528</td>\n",
       "      <td>-0.006243</td>\n",
       "      <td>0.002284</td>\n",
       "      <td>0.010812</td>\n",
       "      <td>0.444884</td>\n",
       "      <td>-0.16</td>\n",
       "      <td>-0.17</td>\n",
       "      <td>4.578665</td>\n",
       "      <td>0</td>\n",
       "    </tr>\n",
       "    <tr>\n",
       "      <th>3</th>\n",
       "      <td>20150306</td>\n",
       "      <td>0.004545</td>\n",
       "      <td>0.001455</td>\n",
       "      <td>0.001000</td>\n",
       "      <td>-0.000455</td>\n",
       "      <td>-0.001911</td>\n",
       "      <td>0.292905</td>\n",
       "      <td>-1.92</td>\n",
       "      <td>-0.16</td>\n",
       "      <td>4.177226</td>\n",
       "      <td>0</td>\n",
       "    </tr>\n",
       "    <tr>\n",
       "      <th>4</th>\n",
       "      <td>20150309</td>\n",
       "      <td>-0.012258</td>\n",
       "      <td>-0.012414</td>\n",
       "      <td>-0.008342</td>\n",
       "      <td>0.004072</td>\n",
       "      <td>0.016486</td>\n",
       "      <td>-0.678822</td>\n",
       "      <td>0.62</td>\n",
       "      <td>-1.92</td>\n",
       "      <td>6.621512</td>\n",
       "      <td>1</td>\n",
       "    </tr>\n",
       "  </tbody>\n",
       "</table>\n",
       "</div>"
      ],
      "text/plain": [
       "       Date  activity  negative_score  polarity  positive_score      tone  \\\n",
       "0  20150303 -0.002042       -0.004188 -0.004990       -0.000803  0.003385   \n",
       "1  20150304 -0.002408       -0.003338 -0.002785        0.000552  0.003890   \n",
       "2  20150305 -0.003321       -0.008528 -0.006243        0.002284  0.010812   \n",
       "3  20150306  0.004545        0.001455  0.001000       -0.000455 -0.001911   \n",
       "4  20150309 -0.012258       -0.012414 -0.008342        0.004072  0.016486   \n",
       "\n",
       "   word_count  value  shifted_value  Volatility  value_binary  \n",
       "0    0.099662  -0.35           1.21    5.935257             0  \n",
       "1    0.921975  -0.17          -0.35    4.521195             0  \n",
       "2    0.444884  -0.16          -0.17    4.578665             0  \n",
       "3    0.292905  -1.92          -0.16    4.177226             0  \n",
       "4   -0.678822   0.62          -1.92    6.621512             1  "
      ]
     },
     "execution_count": 316,
     "metadata": {},
     "output_type": "execute_result"
    }
   ],
   "source": [
    "testDF = pd.read_pickle('last_df.pkl')\n",
    "testDF['value'] = ddf['day_diff']\n",
    "testDF['shifted_value'] = testDF[[7]].shift()\n",
    "testDF['Volatility'] = (testDF['value'].rolling(window=7,center=False).std()*np.sqrt(52)).shift()\n",
    "testDF.dropna(inplace=True)\n",
    "testDF.reset_index(drop=True, inplace=True)\n",
    "testDF['value_binary'] = [1 if float(x) > 0 else 0 for x in testDF['value']]\n",
    "testDF.head()"
   ]
  },
  {
   "cell_type": "code",
   "execution_count": 360,
   "metadata": {
    "collapsed": false,
    "scrolled": true
   },
   "outputs": [
    {
     "name": "stdout",
     "output_type": "stream",
     "text": [
      "Mean S&P500 Model Performance: 13.1817 Ignore.\n",
      "Mean S&P500  Base Performance: 6.4615 Ignore.\n",
      "Mean of Model Accuracy: 0.536614173228\n",
      "Mean of  Base Accuracy: 0.511811023622\n",
      "Model Standard Deviation: 0.041\n",
      "Number of times model is better than random chance. Out of 100: 84\n"
     ]
    }
   ],
   "source": [
    "# Test Model Performance by finding mean scores of 100 runs.\n",
    "# Problem is this finds the mean of different Y's which have different values every time.\n",
    "# This is bad.\n",
    "\n",
    "final_results = []\n",
    "default_results = []\n",
    "test_results = []\n",
    "base_accuracy = []\n",
    "better_count = 0\n",
    "\n",
    "for count in range(100):\n",
    "    X = testDF[[1,2,3,4,5,6,8,9]]\n",
    "    y = testDF[\"value_binary\"]\n",
    "\n",
    "    X_train, X_test, Y_train, Y_test = train_test_split(X, y, test_size=0.3, stratify=y)\n",
    "    \n",
    "    \n",
    "    \n",
    "#     X_train = testDF[[1,2,3,4,5,6,8,9]][:-10]\n",
    "#     Y_train = testDF['value_binary'][:-10]\n",
    "\n",
    "#     X_test = testDF[[1,2,3,4,5,6,8,9]][-10:]\n",
    "#     Y_test = testDF['value_binary'][-10:]\n",
    "\n",
    "    \n",
    "    \n",
    "    #lr = xgboost.XGBClassifier()\n",
    "    lr = LogisticRegressionCV(Cs=15, cv=10)\n",
    "    lr.fit(X_train,Y_train)\n",
    "\n",
    "    y_pred = lr.predict(X_test)\n",
    "\n",
    "    #--------This section needs to be re-evaluated and editted--------#  Done?\n",
    "    Y_test_index = pd.DataFrame(Y_test).reset_index()\n",
    "    Y_test_and_predict = pd.concat((Y_test_index, pd.DataFrame(y_pred)),axis=1)\n",
    "\n",
    "    Y_test_and_predict = Y_test_and_predict.set_index('index')\n",
    "    Y_test_and_predict['guess'] = Y_test_and_predict[0]\n",
    "    Y_test_and_predict.pop(0)\n",
    "    fest = pd.concat((Y_test_and_predict, testDF['value']), axis=1).dropna()\n",
    "    fest.reset_index(drop=True, inplace=True)\n",
    "\n",
    "    positive, negative = 0, 0\n",
    "    for x in range(len(fest)):\n",
    "        if fest['guess'][x] == 1:\n",
    "            if fest['value_binary'][x] == fest['guess'][x]:\n",
    "                positive += abs(fest['value'][x])\n",
    "            else:\n",
    "                negative += abs(fest['value'][x])\n",
    "    #---------------------------------------------------------------#\n",
    "    \n",
    "    results = positive - negative\n",
    "    final_results.append(results)\n",
    "    \n",
    "    conmat = confusion_matrix(Y_test, y_pred, labels=[1,0])\n",
    "    test_results.append((conmat[0][0]+conmat[1][1])/float(len(Y_test)))\n",
    "    \n",
    "    #if conmat[0][0] + conmat[0][1] > conmat[1][0] + conmat[1][1]:\n",
    "    base_accuracy.append((conmat[0][0]+conmat[0][1])/float(len(Y_test)))\n",
    "    #else:\n",
    "    #    base_accuracy.append((conmat[1][0]+conmat[1][1])/float(len(Y_test)))\n",
    "    \n",
    "    right_pos = [x for x in fest['value'] if x > 0]\n",
    "    right_neg = [x for x in fest['value'] if x < 0]\n",
    "    dresults = np.sum(right_pos) - abs(np.sum(right_neg))\n",
    "    default_results.append(dresults)\n",
    "    \n",
    "    if results >= dresults:\n",
    "        better_count+=1\n",
    "print \"Mean S&P500 Model Performance:\", np.mean(final_results), \"Ignore.\"\n",
    "print \"Mean S&P500  Base Performance:\", np.mean(default_results), \"Ignore.\"\n",
    "print 'Mean of Model Accuracy:', np.mean(test_results)\n",
    "print 'Mean of  Base Accuracy:', np.mean(base_accuracy)\n",
    "print 'Model Standard Deviation:', np.std(test_results).round(3)\n",
    "print 'Number of times model is better than random chance. Out of 100:', better_count"
   ]
  },
  {
   "cell_type": "code",
   "execution_count": null,
   "metadata": {
    "collapsed": false
   },
   "outputs": [],
   "source": []
  },
  {
   "cell_type": "code",
   "execution_count": 361,
   "metadata": {
    "collapsed": false
   },
   "outputs": [
    {
     "name": "stdout",
     "output_type": "stream",
     "text": [
      "       predicted_over  predicted_under\n",
      "over               35               30\n",
      "under              32               30\n",
      "             precision    recall  f1-score   support\n",
      "\n",
      "          0       0.50      0.48      0.49        62\n",
      "          1       0.52      0.54      0.53        65\n",
      "\n",
      "avg / total       0.51      0.51      0.51       127\n",
      "\n"
     ]
    }
   ],
   "source": [
    "conmat = np.array(confusion_matrix(Y_test, y_pred, labels=[1,0]))\n",
    "confusion = pd.DataFrame(conmat, index=['over', 'under'],\n",
    "                            columns=['predicted_over','predicted_under'])\n",
    "\n",
    "print(confusion)\n",
    "print classification_report(Y_test,y_pred)"
   ]
  },
  {
   "cell_type": "code",
   "execution_count": 33,
   "metadata": {
    "collapsed": false
   },
   "outputs": [],
   "source": [
    "    # seaborn pairplot #\n",
    "#sns.pairplot(testDF[[1,2,3,4,5,6,7,8,9]])"
   ]
  },
  {
   "cell_type": "markdown",
   "metadata": {},
   "source": [
    "# Linear Regression"
   ]
  },
  {
   "cell_type": "code",
   "execution_count": 319,
   "metadata": {
    "collapsed": false
   },
   "outputs": [],
   "source": [
    "lm = linear_model.LinearRegression()\n",
    "\n",
    "X = testDF[[1,2,3,4,5,6,8,9]]\n",
    "y = testDF[\"value\"]\n",
    "\n",
    "model = lm.fit(X, y)\n",
    "predictions = model.predict(X)"
   ]
  },
  {
   "cell_type": "code",
   "execution_count": 320,
   "metadata": {
    "collapsed": true
   },
   "outputs": [
    {
     "name": "stdout",
     "output_type": "stream",
     "text": [
      "MSE: 1.8024064598\n"
     ]
    },
    {
     "data": {
      "image/png": "[encoded data removed]",
      "text/plain": [
       "<matplotlib.figure.Figure at 0x11da21c50>"
      ]
     },
     "metadata": {},
     "output_type": "display_data"
    }
   ],
   "source": [
    "print \"MSE:\", mean_squared_error(y, predictions)\n",
    "plt.figure(figsize=(16,8))\n",
    "plt.scatter(predictions, y, s=30, c='r', marker='+', zorder=10)\n",
    "plt.xlabel(\"Predicted Values\")\n",
    "plt.ylabel(\"Actual VALUES\")\n",
    "plt.show()"
   ]
  },
  {
   "cell_type": "markdown",
   "metadata": {},
   "source": [
    "# Logistic Regression"
   ]
  },
  {
   "cell_type": "code",
   "execution_count": 381,
   "metadata": {
    "collapsed": false
   },
   "outputs": [
    {
     "name": "stdout",
     "output_type": "stream",
     "text": [
      "        predicted_over  predicted_under\n",
      "over               13                9\n",
      "under               9               12\n",
      "             precision    recall  f1-score   support\n",
      "\n",
      "          0       0.57      0.57      0.57        21\n",
      "          1       0.59      0.59      0.59        22\n",
      "\n",
      "avg / total       0.58      0.58      0.58        43\n",
      "\n"
     ]
    }
   ],
   "source": [
    "#Single Logistic Regression model.\n",
    "X = testDF[[1,2,3,4,5,6,8,9]]\n",
    "y = testDF[\"value_binary\"]\n",
    "\n",
    "X_train, X_test, Y_train, Y_test = train_test_split(X, y, test_size=0.1, stratify=y, random_state=69)\n",
    "\n",
    "# X_train = testDF[[1,2,3,4,5,6,8,9]][:-20]\n",
    "# Y_train = testDF['value_binary'][:-20]\n",
    "\n",
    "# X_test = testDF[[1,2,3,4,5,6,8,9]][-20:]\n",
    "# Y_test = testDF['value_binary'][-20:]\n",
    "\n",
    "\n",
    "#lr = xgboost.XGBClassifier()\n",
    "lr = LogisticRegressionCV(Cs=20, cv=10)\n",
    "lr.fit(X_train, Y_train)\n",
    "\n",
    "#cv = StratifiedKFold(y, n_folds=100, shuffle=True, random_state=69)\n",
    "#y_pred = cross_val_predict(lr, X, y, cv=cv, n_jobs=-1)\n",
    "\n",
    "y_pred = lr.predict(X_test)\n",
    "# y_score = lr.decision_function(X_test)\n",
    "\n",
    "conmat = np.array(confusion_matrix(Y_test, y_pred, labels=[1,0]))\n",
    "confusion = pd.DataFrame(conmat, index=['over', 'under'],\n",
    "                            columns=['predicted_over','predicted_under'])\n",
    "\n",
    "print(confusion)\n",
    "print classification_report(Y_test,y_pred)"
   ]
  },
  {
   "cell_type": "code",
   "execution_count": 363,
   "metadata": {
    "collapsed": false
   },
   "outputs": [
    {
     "name": "stdout",
     "output_type": "stream",
     "text": [
      "0.534278959811 0.510638297872\n"
     ]
    }
   ],
   "source": [
    "number=0\n",
    "base=0\n",
    "for x in range(len(y)):\n",
    "    if y[x] == y_pred[x]:\n",
    "        number+=1\n",
    "    if y[x] == 1:\n",
    "        base+=1\n",
    "print number/float(len(y)), base/float(len(y))"
   ]
  },
  {
   "cell_type": "code",
   "execution_count": 380,
   "metadata": {
    "collapsed": true
   },
   "outputs": [
    {
     "name": "stdout",
     "output_type": "stream",
     "text": [
      "ROC Area Under Curve Score:"
     ]
    },
    {
     "ename": "ValueError",
     "evalue": "Found input variables with inconsistent numbers of samples: [43, 12]",
     "output_type": "error",
     "traceback": [
      "\u001b[0;31m--------------------------------------------------------------------------\u001b[0m",
      "\u001b[0;31mValueError\u001b[0m                               Traceback (most recent call last)",
      "\u001b[0;32m<ipython-input-380-83384cd53172>\u001b[0m in \u001b[0;36m<module>\u001b[0;34m()\u001b[0m\n\u001b[0;32m----> 1\u001b[0;31m \u001b[0;32mprint\u001b[0m \u001b[0;34m'ROC Area Under Curve Score:'\u001b[0m\u001b[0;34m,\u001b[0m \u001b[0mroc_auc_score\u001b[0m\u001b[0;34m(\u001b[0m\u001b[0mY_test\u001b[0m\u001b[0;34m,\u001b[0m \u001b[0my_score\u001b[0m\u001b[0;34m)\u001b[0m\u001b[0;34m\u001b[0m\u001b[0m\n\u001b[0m\u001b[1;32m      2\u001b[0m \u001b[0;34m\"\"\" Plot AUC\"\"\"\u001b[0m\u001b[0;34m\u001b[0m\u001b[0m\n\u001b[1;32m      3\u001b[0m \u001b[0;34m\u001b[0m\u001b[0m\n\u001b[1;32m      4\u001b[0m \u001b[0mFPR\u001b[0m \u001b[0;34m=\u001b[0m \u001b[0mdict\u001b[0m\u001b[0;34m(\u001b[0m\u001b[0;34m)\u001b[0m\u001b[0;34m\u001b[0m\u001b[0m\n\u001b[1;32m      5\u001b[0m \u001b[0mTPR\u001b[0m \u001b[0;34m=\u001b[0m \u001b[0mdict\u001b[0m\u001b[0;34m(\u001b[0m\u001b[0;34m)\u001b[0m\u001b[0;34m\u001b[0m\u001b[0m\n",
      "\u001b[0;32m/Users/Jesse/anaconda/lib/python2.7/site-packages/sklearn/metrics/ranking.pyc\u001b[0m in \u001b[0;36mroc_auc_score\u001b[0;34m(y_true, y_score, average, sample_weight)\u001b[0m\n\u001b[1;32m    258\u001b[0m     return _average_binary_score(\n\u001b[1;32m    259\u001b[0m         \u001b[0m_binary_roc_auc_score\u001b[0m\u001b[0;34m,\u001b[0m \u001b[0my_true\u001b[0m\u001b[0;34m,\u001b[0m \u001b[0my_score\u001b[0m\u001b[0;34m,\u001b[0m \u001b[0maverage\u001b[0m\u001b[0;34m,\u001b[0m\u001b[0;34m\u001b[0m\u001b[0m\n\u001b[0;32m--> 260\u001b[0;31m         sample_weight=sample_weight)\n\u001b[0m\u001b[1;32m    261\u001b[0m \u001b[0;34m\u001b[0m\u001b[0m\n\u001b[1;32m    262\u001b[0m \u001b[0;34m\u001b[0m\u001b[0m\n",
      "\u001b[0;32m/Users/Jesse/anaconda/lib/python2.7/site-packages/sklearn/metrics/base.pyc\u001b[0m in \u001b[0;36m_average_binary_score\u001b[0;34m(binary_metric, y_true, y_score, average, sample_weight)\u001b[0m\n\u001b[1;32m     82\u001b[0m \u001b[0;34m\u001b[0m\u001b[0m\n\u001b[1;32m     83\u001b[0m     \u001b[0;32mif\u001b[0m \u001b[0my_type\u001b[0m \u001b[0;34m==\u001b[0m \u001b[0;34m\"binary\"\u001b[0m\u001b[0;34m:\u001b[0m\u001b[0;34m\u001b[0m\u001b[0m\n\u001b[0;32m---> 84\u001b[0;31m         \u001b[0;32mreturn\u001b[0m \u001b[0mbinary_metric\u001b[0m\u001b[0;34m(\u001b[0m\u001b[0my_true\u001b[0m\u001b[0;34m,\u001b[0m \u001b[0my_score\u001b[0m\u001b[0;34m,\u001b[0m \u001b[0msample_weight\u001b[0m\u001b[0;34m=\u001b[0m\u001b[0msample_weight\u001b[0m\u001b[0;34m)\u001b[0m\u001b[0;34m\u001b[0m\u001b[0m\n\u001b[0m\u001b[1;32m     85\u001b[0m \u001b[0;34m\u001b[0m\u001b[0m\n\u001b[1;32m     86\u001b[0m     \u001b[0mcheck_consistent_length\u001b[0m\u001b[0;34m(\u001b[0m\u001b[0my_true\u001b[0m\u001b[0;34m,\u001b[0m \u001b[0my_score\u001b[0m\u001b[0;34m,\u001b[0m \u001b[0msample_weight\u001b[0m\u001b[0;34m)\u001b[0m\u001b[0;34m\u001b[0m\u001b[0m\n",
      "\u001b[0;32m/Users/Jesse/anaconda/lib/python2.7/site-packages/sklearn/metrics/ranking.pyc\u001b[0m in \u001b[0;36m_binary_roc_auc_score\u001b[0;34m(y_true, y_score, sample_weight)\u001b[0m\n\u001b[1;32m    253\u001b[0m \u001b[0;34m\u001b[0m\u001b[0m\n\u001b[1;32m    254\u001b[0m         fpr, tpr, tresholds = roc_curve(y_true, y_score,\n\u001b[0;32m--> 255\u001b[0;31m                                         sample_weight=sample_weight)\n\u001b[0m\u001b[1;32m    256\u001b[0m         \u001b[0;32mreturn\u001b[0m \u001b[0mauc\u001b[0m\u001b[0;34m(\u001b[0m\u001b[0mfpr\u001b[0m\u001b[0;34m,\u001b[0m \u001b[0mtpr\u001b[0m\u001b[0;34m,\u001b[0m \u001b[0mreorder\u001b[0m\u001b[0;34m=\u001b[0m\u001b[0mTrue\u001b[0m\u001b[0;34m)\u001b[0m\u001b[0;34m\u001b[0m\u001b[0m\n\u001b[1;32m    257\u001b[0m \u001b[0;34m\u001b[0m\u001b[0m\n",
      "\u001b[0;32m/Users/Jesse/anaconda/lib/python2.7/site-packages/sklearn/metrics/ranking.pyc\u001b[0m in \u001b[0;36mroc_curve\u001b[0;34m(y_true, y_score, pos_label, sample_weight, drop_intermediate)\u001b[0m\n\u001b[1;32m    503\u001b[0m     \"\"\"\n\u001b[1;32m    504\u001b[0m     fps, tps, thresholds = _binary_clf_curve(\n\u001b[0;32m--> 505\u001b[0;31m         y_true, y_score, pos_label=pos_label, sample_weight=sample_weight)\n\u001b[0m\u001b[1;32m    506\u001b[0m \u001b[0;34m\u001b[0m\u001b[0m\n\u001b[1;32m    507\u001b[0m     \u001b[0;31m# Attempt to drop thresholds corresponding to points in between and\u001b[0m\u001b[0;34m\u001b[0m\u001b[0;34m\u001b[0m\u001b[0m\n",
      "\u001b[0;32m/Users/Jesse/anaconda/lib/python2.7/site-packages/sklearn/metrics/ranking.pyc\u001b[0m in \u001b[0;36m_binary_clf_curve\u001b[0;34m(y_true, y_score, pos_label, sample_weight)\u001b[0m\n\u001b[1;32m    295\u001b[0m         \u001b[0mDecreasing\u001b[0m \u001b[0mscore\u001b[0m \u001b[0mvalues\u001b[0m\u001b[0;34m.\u001b[0m\u001b[0;34m\u001b[0m\u001b[0m\n\u001b[1;32m    296\u001b[0m     \"\"\"\n\u001b[0;32m--> 297\u001b[0;31m     \u001b[0mcheck_consistent_length\u001b[0m\u001b[0;34m(\u001b[0m\u001b[0my_true\u001b[0m\u001b[0;34m,\u001b[0m \u001b[0my_score\u001b[0m\u001b[0;34m)\u001b[0m\u001b[0;34m\u001b[0m\u001b[0m\n\u001b[0m\u001b[1;32m    298\u001b[0m     \u001b[0my_true\u001b[0m \u001b[0;34m=\u001b[0m \u001b[0mcolumn_or_1d\u001b[0m\u001b[0;34m(\u001b[0m\u001b[0my_true\u001b[0m\u001b[0;34m)\u001b[0m\u001b[0;34m\u001b[0m\u001b[0m\n\u001b[1;32m    299\u001b[0m     \u001b[0my_score\u001b[0m \u001b[0;34m=\u001b[0m \u001b[0mcolumn_or_1d\u001b[0m\u001b[0;34m(\u001b[0m\u001b[0my_score\u001b[0m\u001b[0;34m)\u001b[0m\u001b[0;34m\u001b[0m\u001b[0m\n",
      "\u001b[0;32m/Users/Jesse/anaconda/lib/python2.7/site-packages/sklearn/utils/validation.pyc\u001b[0m in \u001b[0;36mcheck_consistent_length\u001b[0;34m(*arrays)\u001b[0m\n\u001b[1;32m    179\u001b[0m     \u001b[0;32mif\u001b[0m \u001b[0mlen\u001b[0m\u001b[0;34m(\u001b[0m\u001b[0muniques\u001b[0m\u001b[0;34m)\u001b[0m \u001b[0;34m>\u001b[0m \u001b[0;36m1\u001b[0m\u001b[0;34m:\u001b[0m\u001b[0;34m\u001b[0m\u001b[0m\n\u001b[1;32m    180\u001b[0m         raise ValueError(\"Found input variables with inconsistent numbers of\"\n\u001b[0;32m--> 181\u001b[0;31m                          \" samples: %r\" % [int(l) for l in lengths])\n\u001b[0m\u001b[1;32m    182\u001b[0m \u001b[0;34m\u001b[0m\u001b[0m\n\u001b[1;32m    183\u001b[0m \u001b[0;34m\u001b[0m\u001b[0m\n",
      "\u001b[0;31mValueError\u001b[0m: Found input variables with inconsistent numbers of samples: [43, 12]"
     ]
    }
   ],
   "source": [
    "print 'ROC Area Under Curve Score:', roc_auc_score(Y_test, y_score)\n",
    "\"\"\" Plot AUC\"\"\"\n",
    "\n",
    "FPR = dict()\n",
    "TPR = dict()\n",
    "ROC_AUC = dict()\n",
    "\n",
    "# For class 1, find the area under the curve\n",
    "FPR[1], TPR[1], _ = roc_curve(Y_test, y_score)\n",
    "ROC_AUC[1] = auc(FPR[1], TPR[1])\n",
    "\n",
    "# Plot of a ROC curve for class 1 (has_cancer)\n",
    "plt.figure(figsize=[11,9])\n",
    "plt.plot(FPR[1], TPR[1], label='ROC curve (area = %0.2f)' % ROC_AUC[1], linewidth=4)\n",
    "plt.plot([0, 1], [0, 1], 'k--', linewidth=4)\n",
    "plt.xlim([0.0, 1.0])\n",
    "plt.ylim([0.0, 1.05])\n",
    "plt.xlabel('False Positive Rate', fontsize=18)\n",
    "plt.ylabel('True Positive Rate', fontsize=18)\n",
    "plt.title('Receiver operating characteristic for high/low income', fontsize=18)\n",
    "plt.legend(loc=\"lower right\")\n",
    "plt.show()"
   ]
  },
  {
   "cell_type": "code",
   "execution_count": 369,
   "metadata": {
    "collapsed": false,
    "scrolled": true
   },
   "outputs": [
    {
     "data": {
      "text/html": [
       "<div>\n",
       "<table border=\"1\" class=\"dataframe\">\n",
       "  <thead>\n",
       "    <tr style=\"text-align: right;\">\n",
       "      <th></th>\n",
       "      <th>features</th>\n",
       "      <th>coef</th>\n",
       "    </tr>\n",
       "  </thead>\n",
       "  <tbody>\n",
       "    <tr>\n",
       "      <th>2</th>\n",
       "      <td>polarity</td>\n",
       "      <td>21.0803</td>\n",
       "    </tr>\n",
       "    <tr>\n",
       "      <th>3</th>\n",
       "      <td>positive_score</td>\n",
       "      <td>16.3118</td>\n",
       "    </tr>\n",
       "    <tr>\n",
       "      <th>4</th>\n",
       "      <td>tone</td>\n",
       "      <td>11.5433</td>\n",
       "    </tr>\n",
       "    <tr>\n",
       "      <th>1</th>\n",
       "      <td>negative_score</td>\n",
       "      <td>4.76849</td>\n",
       "    </tr>\n",
       "    <tr>\n",
       "      <th>5</th>\n",
       "      <td>word_count</td>\n",
       "      <td>0.111645</td>\n",
       "    </tr>\n",
       "    <tr>\n",
       "      <th>7</th>\n",
       "      <td>Volatility</td>\n",
       "      <td>0.0331253</td>\n",
       "    </tr>\n",
       "    <tr>\n",
       "      <th>6</th>\n",
       "      <td>shifted_value</td>\n",
       "      <td>-0.115684</td>\n",
       "    </tr>\n",
       "    <tr>\n",
       "      <th>0</th>\n",
       "      <td>activity</td>\n",
       "      <td>-16.5201</td>\n",
       "    </tr>\n",
       "  </tbody>\n",
       "</table>\n",
       "</div>"
      ],
      "text/plain": [
       "         features       coef\n",
       "2        polarity    21.0803\n",
       "3  positive_score    16.3118\n",
       "4            tone    11.5433\n",
       "1  negative_score    4.76849\n",
       "5      word_count   0.111645\n",
       "7      Volatility  0.0331253\n",
       "6   shifted_value  -0.115684\n",
       "0        activity   -16.5201"
      ]
     },
     "execution_count": 369,
     "metadata": {},
     "output_type": "execute_result"
    }
   ],
   "source": [
    "coef = pd.DataFrame([X.columns.values.tolist(), lr.coef_[0].tolist()], index=['features', 'coef']).T\n",
    "coef.sort_values(by='coef', ascending=False)"
   ]
  },
  {
   "cell_type": "code",
   "execution_count": 376,
   "metadata": {
    "collapsed": false
   },
   "outputs": [
    {
     "name": "stdout",
     "output_type": "stream",
     "text": [
      "       predicted_over  predicted_under\n",
      "over               13                9\n",
      "under               9               12\n",
      "             precision    recall  f1-score   support\n",
      "\n",
      "          0       0.57      0.57      0.57        21\n",
      "          1       0.59      0.59      0.59        22\n",
      "\n",
      "avg / total       0.58      0.58      0.58        43\n",
      "\n"
     ]
    }
   ],
   "source": [
    "# Unused section used to increase True Positives.\n",
    "# Further testing is required.\n",
    "\n",
    "Y_pp = pd.DataFrame(lr.predict_proba(X_test), columns=['class_0_pp','class_1_pp'])\n",
    "Y_pp['pred_class_thresh50'] = y_pred\n",
    "\n",
    "# Adjust number to change how it predicts. default = 0.5\n",
    "Y_pp['pred_class_thresh_adjust'] = [1 if x >= 0.5 else 0 for x in Y_pp.class_1_pp.values]\n",
    "\n",
    "#print(Y_pp.iloc[0:10])\n",
    "\n",
    "conmat_10 = np.array(confusion_matrix(Y_test, Y_pp['pred_class_thresh_adjust'].values, labels=[1,0]))\n",
    "\n",
    "confusion_10 = pd.DataFrame(conmat_10, index=['over', 'under'],\n",
    "                            columns=['predicted_over','predicted_under'])\n",
    "\n",
    "print(confusion_10)\n",
    "print classification_report(Y_test,y_pred)"
   ]
  },
  {
   "cell_type": "code",
   "execution_count": 382,
   "metadata": {
    "collapsed": false
   },
   "outputs": [
    {
     "name": "stdout",
     "output_type": "stream",
     "text": [
      "       predicted_over  predicted_under\n",
      "over               19                3\n",
      "under              20                1\n",
      "             precision    recall  f1-score   support\n",
      "\n",
      "          0       0.25      0.05      0.08        21\n",
      "          1       0.49      0.86      0.62        22\n",
      "\n",
      "avg / total       0.37      0.47      0.36        43\n",
      "\n"
     ]
    }
   ],
   "source": [
    "# This method of optimization decreases precision and increases False Negatives and decreases True Positives\n",
    "\n",
    "logreg = LogisticRegression(solver='liblinear')\n",
    "C_vals = [0.0001, 0.001, 0.01, 0.1, .15, .25, .275, .33, 0.5, .66, 0.75, 1.0, 2.5, 5.0, 10.0, 100.0, 1000.0]\n",
    "penalties = ['l1','l2']\n",
    "\n",
    "gs = GridSearchCV(logreg, {'penalty': penalties, 'C': C_vals}, verbose=False, cv=20)\n",
    "gs.fit(X_train, Y_train)\n",
    "\n",
    "logreg = LogisticRegression(C=gs.best_params_['C'],penalty=gs.best_params_['penalty'])\n",
    "cv_model = logreg.fit(X_train, Y_train)\n",
    "cv_pred = cv_model.predict(X_test)\n",
    "\n",
    "conmat = np.array(confusion_matrix(Y_test, cv_pred, labels=[1,0]))\n",
    "confusion = pd.DataFrame(conmat, index=['over', 'under'],\n",
    "                            columns=['predicted_over','predicted_under'])\n",
    "print(confusion)\n",
    "print classification_report(Y_test, cv_pred)"
   ]
  },
  {
   "cell_type": "markdown",
   "metadata": {},
   "source": [
    "# Cluster Models."
   ]
  },
  {
   "cell_type": "code",
   "execution_count": 383,
   "metadata": {
    "collapsed": false
   },
   "outputs": [
    {
     "name": "stdout",
     "output_type": "stream",
     "text": [
      "Decision Tree Score:\t0.511 ± 0.23\n",
      "Random Forest Score:\t0.487 ± 0.233\n",
      "Extra Trees Score:\t0.478 ± 0.241\n",
      "Nearest Neighbor Score:\t0.522 ± 0.231\n",
      "\n",
      "Decision Tree Bagging Score:\t0.49 ± 0.212\n",
      "Random Forest Bagging Score:\t0.515 ± 0.232\n",
      "Extra Trees Bagging Score:\t0.485 ± 0.208\n",
      "Nearest Neighbor Bagging Score:\t0.529 ± 0.237\n"
     ]
    }
   ],
   "source": [
    "cv = StratifiedKFold(y, n_folds=100, shuffle=True, random_state=69)\n",
    "\n",
    "dt = DecisionTreeClassifier(class_weight='balanced')\n",
    "rf = RandomForestClassifier(class_weight='balanced')\n",
    "et = ExtraTreesClassifier(class_weight='balanced')\n",
    "kc = KNeighborsClassifier()\n",
    "\n",
    "bdt = BaggingClassifier(dt)\n",
    "brf = BaggingClassifier(rf)\n",
    "bet = BaggingClassifier(et)\n",
    "bkc = BaggingClassifier(kc)\n",
    "\n",
    "cdt = cross_val_score(dt, X, y, cv=cv, n_jobs=-1)\n",
    "crf = cross_val_score(rf, X, y, cv=cv, n_jobs=-1)\n",
    "cet = cross_val_score(et, X, y, cv=cv, n_jobs=-1)\n",
    "ckc = cross_val_score(kc, X, y, cv=cv, n_jobs=-1)\n",
    "\n",
    "cbdt = cross_val_score(bdt, X, y, cv=cv, n_jobs=-1)\n",
    "cbrf = cross_val_score(brf, X, y, cv=cv, n_jobs=-1)\n",
    "cbet = cross_val_score(bet, X, y, cv=cv, n_jobs=-1)\n",
    "cbkc = cross_val_score(bkc, X, y, cv=cv, n_jobs=-1)\n",
    "\n",
    "\n",
    "print(\"{} Score:\\t{:0.3} ± {:0.3}\".format(\"Decision Tree\", cdt.mean().round(3), cdt.std().round(3)))\n",
    "print(\"{} Score:\\t{:0.3} ± {:0.3}\".format(\"Random Forest\", crf.mean().round(3), crf.std().round(3)))\n",
    "print(\"{} Score:\\t{:0.3} ± {:0.3}\".format(\"Extra Trees\", cet.mean().round(3), cet.std().round(3)))\n",
    "print(\"{} Score:\\t{:0.3} ± {:0.3}\".format(\"Nearest Neighbor\", ckc.mean().round(3), ckc.std().round(3)))\n",
    "print \n",
    "print(\"{} Score:\\t{:0.3} ± {:0.3}\".format(\"Decision Tree Bagging\", cbdt.mean().round(3), cbdt.std().round(3)))\n",
    "print(\"{} Score:\\t{:0.3} ± {:0.3}\".format(\"Random Forest Bagging\", cbrf.mean().round(3), cbrf.std().round(3)))\n",
    "print(\"{} Score:\\t{:0.3} ± {:0.3}\".format(\"Extra Trees Bagging\", cbet.mean().round(3), cbet.std().round(3)))\n",
    "print(\"{} Score:\\t{:0.3} ± {:0.3}\".format(\"Nearest Neighbor Bagging\", cbkc.mean().round(3), cbkc.std().round(3)))"
   ]
  },
  {
   "cell_type": "code",
   "execution_count": 384,
   "metadata": {
    "collapsed": false
   },
   "outputs": [
    {
     "data": {
      "text/html": [
       "<div>\n",
       "<table border=\"1\" class=\"dataframe\">\n",
       "  <thead>\n",
       "    <tr style=\"text-align: right;\">\n",
       "      <th></th>\n",
       "      <th>dt_importance</th>\n",
       "      <th>rf_importance</th>\n",
       "      <th>et_importance</th>\n",
       "    </tr>\n",
       "  </thead>\n",
       "  <tbody>\n",
       "    <tr>\n",
       "      <th>word_count</th>\n",
       "      <td>0.218548</td>\n",
       "      <td>0.128044</td>\n",
       "      <td>0.138525</td>\n",
       "    </tr>\n",
       "    <tr>\n",
       "      <th>activity</th>\n",
       "      <td>0.143334</td>\n",
       "      <td>0.128995</td>\n",
       "      <td>0.113543</td>\n",
       "    </tr>\n",
       "    <tr>\n",
       "      <th>positive_score</th>\n",
       "      <td>0.129244</td>\n",
       "      <td>0.145315</td>\n",
       "      <td>0.123635</td>\n",
       "    </tr>\n",
       "    <tr>\n",
       "      <th>tone</th>\n",
       "      <td>0.123594</td>\n",
       "      <td>0.107795</td>\n",
       "      <td>0.125758</td>\n",
       "    </tr>\n",
       "    <tr>\n",
       "      <th>polarity</th>\n",
       "      <td>0.118615</td>\n",
       "      <td>0.129202</td>\n",
       "      <td>0.124039</td>\n",
       "    </tr>\n",
       "    <tr>\n",
       "      <th>Volatility</th>\n",
       "      <td>0.114418</td>\n",
       "      <td>0.118252</td>\n",
       "      <td>0.131187</td>\n",
       "    </tr>\n",
       "    <tr>\n",
       "      <th>shifted_value</th>\n",
       "      <td>0.100988</td>\n",
       "      <td>0.124638</td>\n",
       "      <td>0.108398</td>\n",
       "    </tr>\n",
       "    <tr>\n",
       "      <th>negative_score</th>\n",
       "      <td>0.051260</td>\n",
       "      <td>0.117760</td>\n",
       "      <td>0.134915</td>\n",
       "    </tr>\n",
       "  </tbody>\n",
       "</table>\n",
       "</div>"
      ],
      "text/plain": [
       "                dt_importance  rf_importance  et_importance\n",
       "word_count           0.218548       0.128044       0.138525\n",
       "activity             0.143334       0.128995       0.113543\n",
       "positive_score       0.129244       0.145315       0.123635\n",
       "tone                 0.123594       0.107795       0.125758\n",
       "polarity             0.118615       0.129202       0.124039\n",
       "Volatility           0.114418       0.118252       0.131187\n",
       "shifted_value        0.100988       0.124638       0.108398\n",
       "negative_score       0.051260       0.117760       0.134915"
      ]
     },
     "execution_count": 384,
     "metadata": {},
     "output_type": "execute_result"
    },
    {
     "data": {
      "image/png": "[encoded data removed]",
      "text/plain": [
       "<matplotlib.figure.Figure at 0x126bc12d0>"
      ]
     },
     "metadata": {},
     "output_type": "display_data"
    }
   ],
   "source": [
    "dt.fit(X, y)\n",
    "rf.fit(X, y)\n",
    "et.fit(X, y)\n",
    "kc.fit(X, y)\n",
    "\n",
    "importances = pd.DataFrame(zip(dt.feature_importances_,\n",
    "                               rf.feature_importances_,\n",
    "                               et.feature_importances_),\n",
    "                           index=X.columns,\n",
    "                           columns=['dt_importance',\n",
    "                                    'rf_importance',\n",
    "                                    'et_importance']).sort_values('dt_importance',\n",
    "                                                                   ascending=False)\n",
    "\n",
    "                           \n",
    "importances.plot(kind='bar', figsize=(15,8))\n",
    "importances.head(10)"
   ]
  },
  {
   "cell_type": "code",
   "execution_count": 385,
   "metadata": {
    "collapsed": false
   },
   "outputs": [
    {
     "name": "stdout",
     "output_type": "stream",
     "text": [
      "       predicted_over  predicted_under\n",
      "over               13                9\n",
      "under              10               11\n",
      "             precision    recall  f1-score   support\n",
      "\n",
      "          0       0.55      0.52      0.54        21\n",
      "          1       0.57      0.59      0.58        22\n",
      "\n",
      "avg / total       0.56      0.56      0.56        43\n",
      "\n",
      "ROC Area Under Curve Score: 0.595238095238\n"
     ]
    },
    {
     "data": {
      "image/png": "[encoded data removed]",
      "text/plain": [
       "<matplotlib.figure.Figure at 0x12781eb90>"
      ]
     },
     "metadata": {},
     "output_type": "display_data"
    }
   ],
   "source": [
    "# GridSearch ExtraTrees. Unused.\n",
    "\n",
    "gs2 = GridSearchCV(ExtraTreesClassifier(min_samples_leaf=10),\n",
    "                  {'n_estimators': np.arange(10,50,10),\n",
    "                  'max_features': np.arange(1,5,1)},\n",
    "                  cv=10)\n",
    "gs2.fit(X_train,Y_train)\n",
    "y_pred2 = gs2.predict_proba(X_test)\n",
    "tempDF = pd.DataFrame(y_pred2)\n",
    "tempDF['actual'] = np.array(Y_test)\n",
    "tempDF['threshold'] = tempDF[1].map(lambda x: 0 if x < 0.5 else 1)\n",
    "\n",
    "\n",
    "\n",
    "conmat = np.array(confusion_matrix(Y_test, tempDF['threshold'], labels=[1,0]))\n",
    "confusion = pd.DataFrame(conmat, index=['over', 'under'],\n",
    "                            columns=['predicted_over','predicted_under'])\n",
    "\n",
    "print(confusion)\n",
    "print classification_report(Y_test, tempDF['threshold'])\n",
    "\n",
    "print 'ROC Area Under Curve Score:', roc_auc_score(Y_test, tempDF[1])\n",
    "\"\"\" Plot AUC\"\"\"\n",
    "\n",
    "FPR = dict()\n",
    "TPR = dict()\n",
    "ROC_AUC = dict()\n",
    "\n",
    "# For class 1, find the area under the curve\n",
    "FPR[1], TPR[1], _ = roc_curve(Y_test, tempDF[1])\n",
    "ROC_AUC[1] = auc(FPR[1], TPR[1])\n",
    "\n",
    "# Plot of a ROC curve for class 1\n",
    "plt.figure(figsize=[11,9])\n",
    "plt.plot(FPR[1], TPR[1], label='ROC curve (area = %0.2f)' % ROC_AUC[1], linewidth=4)\n",
    "plt.plot([0, 1], [0, 1], 'k--', linewidth=4)\n",
    "plt.xlim([0.0, 1.0])\n",
    "plt.ylim([0.0, 1.05])\n",
    "plt.xlabel('False Positive Rate', fontsize=18)\n",
    "plt.ylabel('True Positive Rate', fontsize=18)\n",
    "plt.title('Stock Prediction', fontsize=18)\n",
    "plt.legend(loc=\"lower right\")\n",
    "plt.show()"
   ]
  },
  {
   "cell_type": "code",
   "execution_count": null,
   "metadata": {
    "collapsed": true
   },
   "outputs": [],
   "source": []
  },
  {
   "cell_type": "code",
   "execution_count": null,
   "metadata": {
    "collapsed": true
   },
   "outputs": [],
   "source": []
  },
  {
   "cell_type": "code",
   "execution_count": null,
   "metadata": {
    "collapsed": false
   },
   "outputs": [],
   "source": []
  },
  {
   "cell_type": "code",
   "execution_count": null,
   "metadata": {
    "collapsed": false
   },
   "outputs": [],
   "source": []
  },
  {
   "cell_type": "code",
   "execution_count": null,
   "metadata": {
    "collapsed": false
   },
   "outputs": [],
   "source": []
  },
  {
   "cell_type": "markdown",
   "metadata": {},
   "source": [
    "# Test Data Prep"
   ]
  },
  {
   "cell_type": "code",
   "execution_count": 330,
   "metadata": {
    "collapsed": false,
    "scrolled": true
   },
   "outputs": [
    {
     "data": {
      "text/html": [
       "<div>\n",
       "<table border=\"1\" class=\"dataframe\">\n",
       "  <thead>\n",
       "    <tr style=\"text-align: right;\">\n",
       "      <th></th>\n",
       "      <th>Date</th>\n",
       "      <th>day_diff</th>\n",
       "      <th>Volatility</th>\n",
       "      <th>shifted_value</th>\n",
       "      <th>DATE</th>\n",
       "    </tr>\n",
       "  </thead>\n",
       "  <tbody>\n",
       "    <tr>\n",
       "      <th>0</th>\n",
       "      <td>20161123</td>\n",
       "      <td>0.72</td>\n",
       "      <td>5.172164</td>\n",
       "      <td>0.07</td>\n",
       "      <td>20161122</td>\n",
       "    </tr>\n",
       "    <tr>\n",
       "      <th>1</th>\n",
       "      <td>20161125</td>\n",
       "      <td>0.42</td>\n",
       "      <td>4.542368</td>\n",
       "      <td>0.72</td>\n",
       "      <td>20161124</td>\n",
       "    </tr>\n",
       "    <tr>\n",
       "      <th>2</th>\n",
       "      <td>20161128</td>\n",
       "      <td>-0.68</td>\n",
       "      <td>3.936496</td>\n",
       "      <td>0.42</td>\n",
       "      <td>20161127</td>\n",
       "    </tr>\n",
       "    <tr>\n",
       "      <th>3</th>\n",
       "      <td>20161129</td>\n",
       "      <td>0.39</td>\n",
       "      <td>4.949014</td>\n",
       "      <td>-0.68</td>\n",
       "      <td>20161128</td>\n",
       "    </tr>\n",
       "    <tr>\n",
       "      <th>4</th>\n",
       "      <td>20161130</td>\n",
       "      <td>-1.25</td>\n",
       "      <td>4.509871</td>\n",
       "      <td>0.39</td>\n",
       "      <td>20161129</td>\n",
       "    </tr>\n",
       "    <tr>\n",
       "      <th>5</th>\n",
       "      <td>20161201</td>\n",
       "      <td>-1.16</td>\n",
       "      <td>5.721169</td>\n",
       "      <td>-1.25</td>\n",
       "      <td>20161130</td>\n",
       "    </tr>\n",
       "    <tr>\n",
       "      <th>6</th>\n",
       "      <td>20161202</td>\n",
       "      <td>0.01</td>\n",
       "      <td>5.817609</td>\n",
       "      <td>-1.16</td>\n",
       "      <td>20161201</td>\n",
       "    </tr>\n",
       "    <tr>\n",
       "      <th>7</th>\n",
       "      <td>20161205</td>\n",
       "      <td>0.35</td>\n",
       "      <td>5.794579</td>\n",
       "      <td>0.01</td>\n",
       "      <td>20161204</td>\n",
       "    </tr>\n",
       "    <tr>\n",
       "      <th>8</th>\n",
       "      <td>20161206</td>\n",
       "      <td>0.48</td>\n",
       "      <td>5.343821</td>\n",
       "      <td>0.35</td>\n",
       "      <td>20161205</td>\n",
       "    </tr>\n",
       "    <tr>\n",
       "      <th>9</th>\n",
       "      <td>20161207</td>\n",
       "      <td>3.08</td>\n",
       "      <td>5.413430</td>\n",
       "      <td>0.48</td>\n",
       "      <td>20161206</td>\n",
       "    </tr>\n",
       "    <tr>\n",
       "      <th>10</th>\n",
       "      <td>20161208</td>\n",
       "      <td>0.58</td>\n",
       "      <td>10.359875</td>\n",
       "      <td>3.08</td>\n",
       "      <td>20161207</td>\n",
       "    </tr>\n",
       "    <tr>\n",
       "      <th>11</th>\n",
       "      <td>20161209</td>\n",
       "      <td>1.10</td>\n",
       "      <td>10.391616</td>\n",
       "      <td>0.58</td>\n",
       "      <td>20161208</td>\n",
       "    </tr>\n",
       "  </tbody>\n",
       "</table>\n",
       "</div>"
      ],
      "text/plain": [
       "        Date  day_diff  Volatility  shifted_value      DATE\n",
       "0   20161123      0.72    5.172164           0.07  20161122\n",
       "1   20161125      0.42    4.542368           0.72  20161124\n",
       "2   20161128     -0.68    3.936496           0.42  20161127\n",
       "3   20161129      0.39    4.949014          -0.68  20161128\n",
       "4   20161130     -1.25    4.509871           0.39  20161129\n",
       "5   20161201     -1.16    5.721169          -1.25  20161130\n",
       "6   20161202      0.01    5.817609          -1.16  20161201\n",
       "7   20161205      0.35    5.794579           0.01  20161204\n",
       "8   20161206      0.48    5.343821           0.35  20161205\n",
       "9   20161207      3.08    5.413430           0.48  20161206\n",
       "10  20161208      0.58   10.359875           3.08  20161207\n",
       "11  20161209      1.10   10.391616           0.58  20161208"
      ]
     },
     "execution_count": 330,
     "metadata": {},
     "output_type": "execute_result"
    }
   ],
   "source": [
    "start = datetime(2016, 11, 14)\n",
    "end = datetime(2016, 12, 13)\n",
    "moob = web.DataReader('SPY', 'google', start, end)\n",
    "moob.reset_index(inplace=True)\n",
    "moob['day_diff'] = moob['Close'] - moob['Open']\n",
    "moob = moob[[0,6]]\n",
    "moob['Volatility'] = (moob['day_diff'].rolling(window=7,center=False).std()*np.sqrt(52)).shift()\n",
    "moob['shifted_value'] = moob[[1]].shift()\n",
    "moob.dropna(inplace=True)\n",
    "moob.reset_index(drop=True, inplace=True)\n",
    "moob['DATE'] = moob['Date']\n",
    "\n",
    "moob['Date'] = [str(moob['Date'][x].year) + '{:02d}'.format(moob['Date'][x].month) + '{:02d}'.format(moob['Date'][x].day) for x in range(len(moob))]\n",
    "\n",
    "moob['DATE'] = moob['DATE'] - timedelta(days=1)\n",
    "moob['DATE'] = [str(moob['DATE'][x].year) + '{:02d}'.format(moob['DATE'][x].month) + '{:02d}'.format(moob['DATE'][x].day) for x in range(len(moob))]\n",
    "moob"
   ]
  },
  {
   "cell_type": "code",
   "execution_count": 143,
   "metadata": {
    "collapsed": false
   },
   "outputs": [],
   "source": [
    "def predict_today()\n",
    "    test_variable = time.strftime(\"%Y%m%d\")\n",
    "    date_variable = pd.to_datetime(test_variable)\n",
    "    date_variable = date_variable - timedelta(days=1)\n",
    "    date_variable = str(date_variable.year) + '{:02d}'.format(date_variable.month) + '{:02d}'.format(date_variable.day)\n",
    "\n",
    "    download_data(test_variable, date_variable)\n",
    "    csv_df = tone_parse(csv_to_df_no_GCAM())\n",
    "    csv_df['Date'] = [pd.to_datetime(datetime.strptime(str(x), '%Y%m%d%H%M%S')) for x in csv_df['Date']]\n",
    "    csv_df = csv_df.set_index('Date')\n",
    "    csv_df = csv_df.resample('h').mean()\n",
    "    csv_df.dropna(inplace=True)\n",
    "    csv_df.reset_index(inplace=True)\n",
    "    temp = csv_df.columns[1:]\n",
    "    test = pd.DataFrame([np.polyfit(csv_df.index, csv_df[x],1)[0] for x in csv_df.columns[1:].tolist()]).T\n",
    "    test.columns = temp.tolist()\n",
    "    delete_csv()\n",
    "    test['shifted_value'] = testdata['value'][11]\n",
    "    roll_test = moob['day_diff'].rolling(window=7,center=False).std()*np.sqrt(52)\n",
    "    test['Volatility'] = roll_test[len(roll_test)-1]\n",
    "    return test"
   ]
  },
  {
   "cell_type": "code",
   "execution_count": null,
   "metadata": {
    "collapsed": false
   },
   "outputs": [],
   "source": [
    "# test = predict_today()"
   ]
  },
  {
   "cell_type": "code",
   "execution_count": 335,
   "metadata": {
    "collapsed": false
   },
   "outputs": [],
   "source": [
    "test = pd.DataFrame([np.polyfit(csv_df.index, csv_df[x],1)[0] for x in csv_df.columns[1:].tolist()]).T\n",
    "test.columns = temp.tolist()\n",
    "test['shifted_value'] = testdata['value'][11]\n",
    "roll_test = moob['day_diff'].rolling(window=7,center=False).std()*np.sqrt(52)\n",
    "test['Volatility'] = roll_test[len(roll_test)-1]"
   ]
  },
  {
   "cell_type": "code",
   "execution_count": 336,
   "metadata": {
    "collapsed": false
   },
   "outputs": [
    {
     "data": {
      "text/html": [
       "<div>\n",
       "<table border=\"1\" class=\"dataframe\">\n",
       "  <thead>\n",
       "    <tr style=\"text-align: right;\">\n",
       "      <th></th>\n",
       "      <th>tone</th>\n",
       "      <th>positive_score</th>\n",
       "      <th>negative_score</th>\n",
       "      <th>polarity</th>\n",
       "      <th>activity</th>\n",
       "      <th>word_count</th>\n",
       "      <th>shifted_value</th>\n",
       "      <th>Volatility</th>\n",
       "    </tr>\n",
       "  </thead>\n",
       "  <tbody>\n",
       "    <tr>\n",
       "      <th>0</th>\n",
       "      <td>0.021992</td>\n",
       "      <td>0.005142</td>\n",
       "      <td>-0.01685</td>\n",
       "      <td>-0.011708</td>\n",
       "      <td>-0.021844</td>\n",
       "      <td>-8.938504</td>\n",
       "      <td>1.1</td>\n",
       "      <td>9.269924</td>\n",
       "    </tr>\n",
       "  </tbody>\n",
       "</table>\n",
       "</div>"
      ],
      "text/plain": [
       "       tone  positive_score  negative_score  polarity  activity  word_count  \\\n",
       "0  0.021992        0.005142        -0.01685 -0.011708 -0.021844   -8.938504   \n",
       "\n",
       "   shifted_value  Volatility  \n",
       "0            1.1    9.269924  "
      ]
     },
     "execution_count": 336,
     "metadata": {},
     "output_type": "execute_result"
    }
   ],
   "source": [
    "test"
   ]
  },
  {
   "cell_type": "code",
   "execution_count": 87,
   "metadata": {
    "collapsed": false
   },
   "outputs": [],
   "source": [
    "def main_func_test(time_run):\n",
    "    if time_run == 0:\n",
    "        return \"Not enough time to finish one loop.\"\n",
    "    \n",
    "    # We good fam.\n",
    "    try:\n",
    "        final_df = pd.read_pickle('test_data.pkl')\n",
    "    except IOError:\n",
    "        final_df = pd.DataFrame()\n",
    "    \n",
    "    \n",
    "    # Prevents my program from running over and breaking.\n",
    "    if len(final_df)+time_run >= len(moob):\n",
    "        upper_bound = len(moob)\n",
    "    else:\n",
    "        upper_bound = len(final_df)+time_run\n",
    "    \n",
    "    # Main for loop that downloads, cleans, and stores relevant data.\n",
    "    for p in range(len(final_df), upper_bound):\n",
    "        # Downloads the data from the internet for the specified date.\n",
    "        download_data(moob['Date'][p], moob['DATE'][p])\n",
    "        \n",
    "        \n",
    "        # --------- TONE Section -------- #\n",
    "        csv_df = tone_parse(csv_to_df_no_GCAM())\n",
    "        csv_df['Date'] = [pd.to_datetime(datetime.strptime(str(x), '%Y%m%d%H%M%S')) for x in csv_df['Date']]\n",
    "        csv_df = csv_df.set_index('Date')\n",
    "        csv_df = csv_df.resample('h').mean()\n",
    "        csv_df.dropna(inplace=True)\n",
    "        csv_df.reset_index(inplace=True)\n",
    "        temp = csv_df.columns[1:]\n",
    "        test = pd.DataFrame([np.polyfit(csv_df.index, csv_df[x],1)[0] for x in csv_df.columns[1:].tolist()]).T\n",
    "        test.columns = temp.tolist()\n",
    "        # --------- TONE Section -------- #\n",
    "\n",
    "        \n",
    "        final_df = pd.concat([final_df, test], ignore_index=True)\n",
    "        delete_csv()\n",
    "        final_df['Date'] = moob['Date']\n",
    "        pd.to_pickle(final_df, 'test_data.pkl')\n",
    "        final_df = pd.read_pickle('test_data.pkl')\n",
    "    play(seinfeld)"
   ]
  },
  {
   "cell_type": "code",
   "execution_count": 93,
   "metadata": {
    "collapsed": false
   },
   "outputs": [],
   "source": [
    "# Runs main function\n",
    "# main_func_test(run_time(70, 'm')) # m = minutes, h = hours      1 loop = ~5 minutes"
   ]
  },
  {
   "cell_type": "code",
   "execution_count": 349,
   "metadata": {
    "collapsed": true
   },
   "outputs": [],
   "source": [
    "testdata = pd.read_pickle('test_data.pkl')\n",
    "testdata['value'] = moob['day_diff']\n",
    "testdata['shifted_value'] = moob['shifted_value']\n",
    "testdata['Volatility'] = moob['Volatility']\n",
    "testdata['value_binary'] = [1 if float(x) > 0 else 0 for x in testdata['value']]"
   ]
  },
  {
   "cell_type": "code",
   "execution_count": null,
   "metadata": {
    "collapsed": false
   },
   "outputs": [],
   "source": []
  },
  {
   "cell_type": "code",
   "execution_count": null,
   "metadata": {
    "collapsed": false
   },
   "outputs": [],
   "source": []
  },
  {
   "cell_type": "code",
   "execution_count": null,
   "metadata": {
    "collapsed": false
   },
   "outputs": [],
   "source": []
  },
  {
   "cell_type": "code",
   "execution_count": 390,
   "metadata": {
    "collapsed": false
   },
   "outputs": [
    {
     "name": "stdout",
     "output_type": "stream",
     "text": [
      "       predicted_over  predicted_under\n",
      "over                6                3\n",
      "under               1                2\n",
      "             precision    recall  f1-score   support\n",
      "\n",
      "          0       0.40      0.67      0.50         3\n",
      "          1       0.86      0.67      0.75         9\n",
      "\n",
      "avg / total       0.74      0.67      0.69        12\n",
      "\n"
     ]
    }
   ],
   "source": [
    "#Single Logistic Regression model.\n",
    "#X = testDF[[1,2,3,4,5,6,8,9]]\n",
    "#y = testDF[\"value_binary\"]\n",
    "\n",
    "#X_train, X_test, Y_train, Y_test = train_test_split(X, y, test_size=0.1, stratify=y, random_state=69)\n",
    "\n",
    "X_train = testDF[[1,2,3,4,5,6,8,9]]\n",
    "Y_train = testDF['value_binary']\n",
    "\n",
    "X_test = testdata[[1,2,3,4,5,6,8,9]]\n",
    "Y_test = testdata['value_binary']\n",
    "\n",
    "\n",
    "lr = xgboost.XGBClassifier()\n",
    "#lr = LogisticRegressionCV(Cs=20, cv=10)\n",
    "lr.fit(X_train, Y_train)\n",
    "\n",
    "# cv = StratifiedKFold(y, n_folds=100, shuffle=True, random_state=69)\n",
    "# y_pred = cross_val_predict(lr, X, y, cv=cv, n_jobs=-1)\n",
    "\n",
    "y_pred = lr.predict(X_test)\n",
    "#y_score = lr.decision_function(X_test)\n",
    "\n",
    "conmat = np.array(confusion_matrix(Y_test, y_pred, labels=[1,0]))\n",
    "confusion = pd.DataFrame(conmat, index=['over', 'under'],\n",
    "                            columns=['predicted_over','predicted_under'])\n",
    "\n",
    "print(confusion)\n",
    "print classification_report(Y_test,y_pred)"
   ]
  },
  {
   "cell_type": "code",
   "execution_count": 353,
   "metadata": {
    "collapsed": false
   },
   "outputs": [
    {
     "name": "stdout",
     "output_type": "stream",
     "text": [
      "Mean S&P500 Model Performance: 7.93\n",
      "Mean S&P500  Base Performance: 1.61\n",
      "Mean of Model Accuracy: 0.666666666667\n",
      "Mean of  Base Accuracy: 0.75\n",
      "Model Standard Deviation: 0.0\n",
      "Number of times model is better than random chance. Out of 1: 1\n"
     ]
    }
   ],
   "source": [
    "# Test Model Performance by finding mean scores of 100 runs.\n",
    "# Problem is this finds the mean of different Y's which have different values every time.\n",
    "# This is bad.\n",
    "\n",
    "final_results = []\n",
    "default_results = []\n",
    "test_results = []\n",
    "base_accuracy = []\n",
    "better_count = 0\n",
    "\n",
    "for count in range(1):\n",
    "    #X = testDF[[1,2,3,4,5,6,8,9]]\n",
    "    #y = testDF[\"value_binary\"]\n",
    "\n",
    "    #X_train, X_test, Y_train, Y_test = train_test_split(X, y, test_size=0.3, stratify=y)\n",
    "    \n",
    "    \n",
    "    \n",
    "    X_train = testDF[[1,2,3,4,5,6,8,9]]\n",
    "    Y_train = testDF['value_binary']\n",
    "\n",
    "    X_test = testdata[[1,2,3,4,5,6,8,9]]\n",
    "    Y_test = testdata['value_binary']\n",
    "\n",
    "    \n",
    "    \n",
    "    lr = xgboost.XGBClassifier()\n",
    "    #lr = LogisticRegressionCV(Cs=10, cv=10)\n",
    "    lr.fit(X_train,Y_train)\n",
    "\n",
    "    y_pred = lr.predict(X_test)\n",
    "\n",
    "    #--------This section needs to be re-evaluated and editted--------#  Done?\n",
    "    Y_test_index = pd.DataFrame(Y_test).reset_index()\n",
    "    Y_test_and_predict = pd.concat((Y_test_index, pd.DataFrame(y_pred)),axis=1)\n",
    "\n",
    "    Y_test_and_predict = Y_test_and_predict.set_index('index')\n",
    "    Y_test_and_predict['guess'] = Y_test_and_predict[0]\n",
    "    Y_test_and_predict.pop(0)\n",
    "    fest = pd.concat((Y_test_and_predict, testDF['value']), axis=1).dropna()\n",
    "    fest.reset_index(drop=True, inplace=True)\n",
    "\n",
    "    positive, negative = 0, 0\n",
    "    for x in range(len(fest)):\n",
    "        if fest['guess'][x] == 1:\n",
    "            if fest['value_binary'][x] == fest['guess'][x]:\n",
    "                positive += abs(fest['value'][x])\n",
    "            else:\n",
    "                negative += abs(fest['value'][x])\n",
    "    #---------------------------------------------------------------#\n",
    "    \n",
    "    results = positive - negative\n",
    "    final_results.append(results)\n",
    "    \n",
    "    conmat = confusion_matrix(Y_test, y_pred, labels=[1,0])\n",
    "    test_results.append((conmat[0][0]+conmat[1][1])/float(len(Y_test)))\n",
    "    \n",
    "    #if conmat[0][0] + conmat[0][1] > conmat[1][0] + conmat[1][1]:\n",
    "    base_accuracy.append((conmat[0][0]+conmat[0][1])/float(len(Y_test)))\n",
    "    #else:\n",
    "    #    base_accuracy.append((conmat[1][0]+conmat[1][1])/float(len(Y_test)))\n",
    "    \n",
    "    right_pos = [x for x in fest['value'] if x > 0]\n",
    "    right_neg = [x for x in fest['value'] if x < 0]\n",
    "    dresults = np.sum(right_pos) - abs(np.sum(right_neg))\n",
    "    default_results.append(dresults)\n",
    "    \n",
    "    if results >= dresults:\n",
    "        better_count+=1\n",
    "print \"Mean S&P500 Model Performance:\", np.mean(final_results)\n",
    "print \"Mean S&P500  Base Performance:\", np.mean(default_results)\n",
    "print 'Mean of Model Accuracy:', np.mean(test_results)\n",
    "print 'Mean of  Base Accuracy:', np.mean(base_accuracy)\n",
    "print 'Model Standard Deviation:', np.std(test_results).round(3)\n",
    "print 'Number of times model is better than random chance. Out of 1:', better_count"
   ]
  },
  {
   "cell_type": "code",
   "execution_count": 355,
   "metadata": {
    "collapsed": false
   },
   "outputs": [],
   "source": [
    "update_df = pd.concat((testDF, testdata), ignore_index=True)"
   ]
  },
  {
   "cell_type": "code",
   "execution_count": 407,
   "metadata": {
    "collapsed": false,
    "scrolled": true
   },
   "outputs": [
    {
     "name": "stdout",
     "output_type": "stream",
     "text": [
      "           XG Boost - Predict Down\n",
      "Logistic Regression - Predict Down\n",
      "        Extra Trees - Predict Down\n"
     ]
    }
   ],
   "source": [
    "X_train = update_df[[1,2,3,4,5,6,8,9]]\n",
    "Y_train = update_df['value_binary']\n",
    "X_test = test[[4,2,3,1,0,5,6,7]]\n",
    "\n",
    "for x in range(2):\n",
    "    if x == 0:\n",
    "        lr = xgboost.XGBClassifier()\n",
    "        lr.fit(X_train, Y_train)\n",
    "        y_pred = lr.predict(X_test)\n",
    "        if y_pred[0]==0:\n",
    "            print '           XG Boost - Predict Down'\n",
    "        else:\n",
    "            print \"           XG Boost - Predict Up\"\n",
    "    else:\n",
    "        lr = LogisticRegressionCV(Cs=20, cv=10)\n",
    "        lr.fit(X_train, Y_train)\n",
    "        y_pred = lr.predict(X_test)\n",
    "        if y_pred[0]==0:\n",
    "            print 'Logistic Regression - Predict Down'\n",
    "        else:\n",
    "            print \"Logistic Regression - Predict Up\"\n",
    "\n",
    "\n",
    "gs2 = GridSearchCV(ExtraTreesClassifier(min_samples_leaf=10),\n",
    "                  {'n_estimators': np.arange(10,50,10),\n",
    "                  'max_features': np.arange(1,5,1)},\n",
    "                  cv=10)\n",
    "\n",
    "gs2.fit(X_train,Y_train)\n",
    "y_pred2 = gs2.predict_proba(X_test)\n",
    "tempDF = pd.DataFrame(y_pred2)\n",
    "if tempDF[1][0] > .5:\n",
    "    print '        Extra Trees - Predict Up'\n",
    "else:\n",
    "    print \"        Extra Trees - Predict Down\""
   ]
  },
  {
   "cell_type": "code",
   "execution_count": null,
   "metadata": {
    "collapsed": false
   },
   "outputs": [],
   "source": []
  },
  {
   "cell_type": "code",
   "execution_count": null,
   "metadata": {
    "collapsed": false
   },
   "outputs": [],
   "source": []
  },
  {
   "cell_type": "code",
   "execution_count": null,
   "metadata": {
    "collapsed": false
   },
   "outputs": [],
   "source": []
  },
  {
   "cell_type": "code",
   "execution_count": null,
   "metadata": {
    "collapsed": true
   },
   "outputs": [],
   "source": []
  },
  {
   "cell_type": "code",
   "execution_count": null,
   "metadata": {
    "collapsed": false
   },
   "outputs": [],
   "source": []
  },
  {
   "cell_type": "code",
   "execution_count": null,
   "metadata": {
    "collapsed": false
   },
   "outputs": [],
   "source": []
  },
  {
   "cell_type": "code",
   "execution_count": null,
   "metadata": {
    "collapsed": false
   },
   "outputs": [],
   "source": []
  },
  {
   "cell_type": "code",
   "execution_count": null,
   "metadata": {
    "collapsed": false
   },
   "outputs": [],
   "source": []
  },
  {
   "cell_type": "code",
   "execution_count": 394,
   "metadata": {
    "collapsed": true
   },
   "outputs": [],
   "source": [
    "start = datetime(2015, 2, 22)\n",
    "end = datetime(2016, 12, 13)\n",
    "t = web.DataReader('SPY', 'google', start, end)\n",
    "t.reset_index(inplace=True)\n",
    "t['day_diff'] = t['Close'] - t['Open']\n",
    "t['high_diff'] = t['High'] - t['Open']"
   ]
  },
  {
   "cell_type": "code",
   "execution_count": 398,
   "metadata": {
    "collapsed": false
   },
   "outputs": [
    {
     "data": {
      "text/html": [
       "<div>\n",
       "<table border=\"1\" class=\"dataframe\">\n",
       "  <thead>\n",
       "    <tr style=\"text-align: right;\">\n",
       "      <th></th>\n",
       "      <th>Date</th>\n",
       "      <th>Open</th>\n",
       "      <th>High</th>\n",
       "      <th>Low</th>\n",
       "      <th>Close</th>\n",
       "      <th>Volume</th>\n",
       "      <th>day_diff</th>\n",
       "      <th>high_diff</th>\n",
       "    </tr>\n",
       "  </thead>\n",
       "  <tbody>\n",
       "    <tr>\n",
       "      <th>0</th>\n",
       "      <td>2015-02-23</td>\n",
       "      <td>210.94</td>\n",
       "      <td>211.21</td>\n",
       "      <td>210.48</td>\n",
       "      <td>211.21</td>\n",
       "      <td>74411054</td>\n",
       "      <td>0.27</td>\n",
       "      <td>0.27</td>\n",
       "    </tr>\n",
       "    <tr>\n",
       "      <th>1</th>\n",
       "      <td>2015-02-24</td>\n",
       "      <td>211.12</td>\n",
       "      <td>212.05</td>\n",
       "      <td>210.76</td>\n",
       "      <td>211.81</td>\n",
       "      <td>72472263</td>\n",
       "      <td>0.69</td>\n",
       "      <td>0.93</td>\n",
       "    </tr>\n",
       "    <tr>\n",
       "      <th>2</th>\n",
       "      <td>2015-02-25</td>\n",
       "      <td>211.66</td>\n",
       "      <td>212.24</td>\n",
       "      <td>211.22</td>\n",
       "      <td>211.63</td>\n",
       "      <td>73061687</td>\n",
       "      <td>-0.03</td>\n",
       "      <td>0.58</td>\n",
       "    </tr>\n",
       "    <tr>\n",
       "      <th>3</th>\n",
       "      <td>2015-02-26</td>\n",
       "      <td>211.52</td>\n",
       "      <td>211.71</td>\n",
       "      <td>210.65</td>\n",
       "      <td>211.38</td>\n",
       "      <td>72697868</td>\n",
       "      <td>-0.14</td>\n",
       "      <td>0.19</td>\n",
       "    </tr>\n",
       "    <tr>\n",
       "      <th>4</th>\n",
       "      <td>2015-02-27</td>\n",
       "      <td>211.26</td>\n",
       "      <td>211.58</td>\n",
       "      <td>210.60</td>\n",
       "      <td>210.66</td>\n",
       "      <td>108075972</td>\n",
       "      <td>-0.60</td>\n",
       "      <td>0.32</td>\n",
       "    </tr>\n",
       "  </tbody>\n",
       "</table>\n",
       "</div>"
      ],
      "text/plain": [
       "        Date    Open    High     Low   Close     Volume  day_diff  high_diff\n",
       "0 2015-02-23  210.94  211.21  210.48  211.21   74411054      0.27       0.27\n",
       "1 2015-02-24  211.12  212.05  210.76  211.81   72472263      0.69       0.93\n",
       "2 2015-02-25  211.66  212.24  211.22  211.63   73061687     -0.03       0.58\n",
       "3 2015-02-26  211.52  211.71  210.65  211.38   72697868     -0.14       0.19\n",
       "4 2015-02-27  211.26  211.58  210.60  210.66  108075972     -0.60       0.32"
      ]
     },
     "execution_count": 398,
     "metadata": {},
     "output_type": "execute_result"
    }
   ],
   "source": [
    "t.head()"
   ]
  },
  {
   "cell_type": "code",
   "execution_count": 402,
   "metadata": {
    "collapsed": false
   },
   "outputs": [],
   "source": [
    "test_list = [t['high_diff'][x] for x in range(len(t)) if t['day_diff'][x] < 0]"
   ]
  },
  {
   "cell_type": "code",
   "execution_count": 404,
   "metadata": {
    "collapsed": false
   },
   "outputs": [
    {
     "name": "stdout",
     "output_type": "stream",
     "text": [
      "Average High on days that Closed lower than it Opened. 0.530747663551\n"
     ]
    }
   ],
   "source": [
    "print 'Average High on days that Closed lower than it Opened.', np.mean(test_list)"
   ]
  },
  {
   "cell_type": "code",
   "execution_count": 406,
   "metadata": {
    "collapsed": false
   },
   "outputs": [],
   "source": [
    "pd.to_pickle(test, 'today_predict.pkl')"
   ]
  },
  {
   "cell_type": "code",
   "execution_count": null,
   "metadata": {
    "collapsed": true
   },
   "outputs": [],
   "source": []
  }
 ],
 "metadata": {
  "anaconda-cloud": {},
  "kernelspec": {
   "display_name": "Python [Root]",
   "language": "python",
   "name": "Python [Root]"
  },
  "language_info": {
   "codemirror_mode": {
    "name": "ipython",
    "version": 2
   },
   "file_extension": ".py",
   "mimetype": "text/x-python",
   "name": "python",
   "nbconvert_exporter": "python",
   "pygments_lexer": "ipython2",
   "version": "2.7.12"
  },
  "toc": {
   "nav_menu": {
    "height": "120px",
    "width": "252px"
   },
   "navigate_menu": true,
   "number_sections": false,
   "sideBar": true,
   "threshold": 4,
   "toc_cell": false,
   "toc_position": {
    "height": "620px",
    "left": "0px",
    "right": "1102px",
    "top": "106px",
    "width": "178px"
   },
   "toc_section_display": "block",
   "toc_window_display": true
  }
 },
 "nbformat": 4,
 "nbformat_minor": 0
}
