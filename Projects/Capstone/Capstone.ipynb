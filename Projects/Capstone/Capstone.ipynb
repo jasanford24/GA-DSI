{
 "cells": [
  {
   "cell_type": "markdown",
   "metadata": {
    "collapsed": true
   },
   "source": [
    "# Capstone"
   ]
  },
  {
   "cell_type": "markdown",
   "metadata": {},
   "source": [
    "### Stock Data Source\n",
    "\n",
    "*Plan to replace this in the future with a self updating pull using pandas_datareader.data<br>*\n",
    "\n",
    "- Dow Jones Data Source\n",
    "https://fred.stlouisfed.org/series/DJIA/downloaddata\n",
    "\n",
    "- SP500 Data Source\n",
    "https://fred.stlouisfed.org/series/SP500/downloaddata"
   ]
  },
  {
   "cell_type": "markdown",
   "metadata": {},
   "source": [
    "## Imports"
   ]
  },
  {
   "cell_type": "code",
   "execution_count": 1,
   "metadata": {
    "collapsed": false,
    "hide_input": false
   },
   "outputs": [
    {
     "name": "stderr",
     "output_type": "stream",
     "text": [
      "/Users/Jesse/anaconda/lib/python2.7/site-packages/sklearn/cross_validation.py:44: DeprecationWarning: This module was deprecated in version 0.18 in favor of the model_selection module into which all the refactored classes and functions are moved. Also note that the interface of the new CV iterators are different from that of this module. This module will be removed in 0.20.\n",
      "  \"This module will be removed in 0.20.\", DeprecationWarning)\n",
      "/Users/Jesse/anaconda/lib/python2.7/site-packages/sklearn/grid_search.py:43: DeprecationWarning: This module was deprecated in version 0.18 in favor of the model_selection module into which all the refactored classes and functions are moved. This module will be removed in 0.20.\n",
      "  DeprecationWarning)\n"
     ]
    }
   ],
   "source": [
    "import pandas as pd\n",
    "from pandas.tseries.offsets import BDay\n",
    "import numpy as np\n",
    "import matplotlib.pyplot as plt\n",
    "import seaborn as sns\n",
    "import re\n",
    "import os\n",
    "import zipfile\n",
    "import glob\n",
    "import urllib\n",
    "import logging\n",
    "import pickle\n",
    "import time as today_time\n",
    "from random import randint\n",
    "from scipy.stats import ttest_ind\n",
    "from xgboost import XGBClassifier\n",
    "\n",
    "from sklearn import datasets, linear_model\n",
    "from sklearn.tree import DecisionTreeClassifier\n",
    "from sklearn.metrics import classification_report, roc_auc_score, roc_curve, auc, confusion_matrix, mean_squared_error, precision_score\n",
    "from sklearn.ensemble import AdaBoostClassifier, RandomForestClassifier, ExtraTreesClassifier, BaggingClassifier\n",
    "from sklearn.neighbors import KNeighborsClassifier\n",
    "from sklearn.grid_search import GridSearchCV\n",
    "from sklearn.linear_model import LogisticRegression, LogisticRegressionCV\n",
    "from sklearn.preprocessing import StandardScaler\n",
    "from sklearn.model_selection import train_test_split, cross_val_predict, cross_val_score\n",
    "\n",
    "# Deprecated yet if I use the new version it breaks my code so this stays in until I fix it.\n",
    "from sklearn.cross_validation import StratifiedKFold\n",
    "\n",
    "\n",
    "from pydub import AudioSegment\n",
    "from pydub.playback import play\n",
    "from datetime import datetime, date, time, timedelta\n",
    "import pandas_datareader.data as web\n",
    "\n",
    "\n",
    "seinfeld = AudioSegment.from_mp3(\"theme.mp3\")[:11500]\n",
    "plt.style.use('fivethirtyeight')\n",
    "%matplotlib inline"
   ]
  },
  {
   "cell_type": "markdown",
   "metadata": {},
   "source": [
    "## Logging"
   ]
  },
  {
   "cell_type": "code",
   "execution_count": 2,
   "metadata": {
    "collapsed": true,
    "hide_input": false
   },
   "outputs": [],
   "source": [
    "logging.basicConfig(level=logging.DEBUG)\n",
    "logger = logging.getLogger(__name__)\n",
    "logger.setLevel(logging.DEBUG)\n",
    "\n",
    "# create a file handler\n",
    "handler = logging.FileHandler('logfile.log')\n",
    "handler.setLevel(logging.DEBUG)\n",
    "\n",
    "# create a logging format\n",
    "formatter = logging.Formatter('%(asctime)s - %(message)s')\n",
    "handler.setFormatter(formatter)\n",
    "\n",
    "# add the handlers to the logger\n",
    "logger.addHandler(handler)"
   ]
  },
  {
   "cell_type": "markdown",
   "metadata": {},
   "source": [
    "## SP500 Download"
   ]
  },
  {
   "cell_type": "code",
   "execution_count": 3,
   "metadata": {
    "collapsed": false,
    "hide_input": false,
    "scrolled": true
   },
   "outputs": [],
   "source": [
    "df = pd.read_csv('/Users/Jesse/Downloads/SP500.csv')\n",
    "df['VALUE'] = df['VALUE'].replace('.', np.nan)\n",
    "df.dropna(inplace=True)\n",
    "df.reset_index(drop=True, inplace=True)\n",
    "df['Date'] = pd.to_datetime(df['DATE'])\n",
    "\n",
    "df['DATE'] = [''.join(re.findall('(\\d*)', df['DATE'][x])[::2]) for x in range(len(df))]\n",
    "\n",
    "df['Date'] = df['Date'] - timedelta(days=1)\n",
    "df['Date'] = [str(df['Date'][x].year) + '{:02d}'.format(df['Date'][x].month) + '{:02d}'.format(df['Date'][x].day) for x in range(len(df))]\n",
    "\n",
    "\n",
    "\n",
    "# This whole section is a temporary bandaide.\n",
    "# Better implementation to replace the above section on TO-DO list.\n",
    "start = datetime(2015, 2, 20)\n",
    "end = datetime(2016, 11, 23)\n",
    "moob = web.DataReader('SPY', 'google', start, end)\n",
    "moob.reset_index(inplace=True)\n",
    "ddf = pd.read_csv('/Users/Jesse/Downloads/SP500.csv')\n",
    "ddf['VALUE'] = ddf['VALUE'].replace('.', np.nan)\n",
    "ddf.dropna(inplace=True)\n",
    "ddf.reset_index(drop=True, inplace=True)\n",
    "ddf['DATE'] = pd.to_datetime(ddf['DATE'])\n",
    "moob.set_index(moob['Date'], inplace=True)\n",
    "ddf.set_index(ddf['DATE'], inplace=True)\n",
    "ddf['Open'] = moob['Open']\n",
    "ddf['Close'] = moob['Close']\n",
    "ddf['day_diff'] = ddf['Close'] - ddf['Open']\n",
    "ddf.reset_index(drop=True, inplace=True)"
   ]
  },
  {
   "cell_type": "markdown",
   "metadata": {},
   "source": [
    "# Functions"
   ]
  },
  {
   "cell_type": "markdown",
   "metadata": {},
   "source": [
    "## Data Download"
   ]
  },
  {
   "cell_type": "code",
   "execution_count": 4,
   "metadata": {
    "collapsed": true
   },
   "outputs": [],
   "source": [
    "# Needs more work but pulls data from gdelt and saves it system.\n",
    "def download_data(day_of, day_before):\n",
    "    day_before_begin = 144500    # 9:45 am (EST) :  2:45 pm (GMT)\n",
    "    day_before_end   = 234500    # 6:45 pm (EST) : 11:45 pm (GMT)\n",
    "    day_of_begin     = 0         # 7:00 pm (EST) : 12:00 am (GMT)\n",
    "    day_of_end       = 143000    # 9:30 am (EST) :  2:30 pm (GMT)\n",
    "    while (day_before_begin <= day_before_end):\n",
    "        x1 = day_before + str(day_before_begin) + '.gkg.csv.zip'\n",
    "        x2 = 'http://data.gdeltproject.org/gdeltv2/' + x1\n",
    "        day_before_begin+=1500\n",
    "        if str(60) in str(day_before_begin):\n",
    "            day_before_begin+=4000\n",
    "        x3 = 'capzips/' + x1\n",
    "        urllib.urlretrieve(x2, x3)\n",
    "        \n",
    "    while (day_of_begin <= day_of_end):\n",
    "        x1 = day_of + '{:06d}'.format(day_of_begin) + '.gkg.csv.zip'\n",
    "        x2 = 'http://data.gdeltproject.org/gdeltv2/' + x1\n",
    "        day_of_begin+=1500\n",
    "        if str(60) in str(day_of_begin):\n",
    "            day_of_begin+=4000\n",
    "        x3 = 'capzips/' + x1\n",
    "        urllib.urlretrieve(x2, x3)\n",
    "    extract_zip()\n",
    "\n",
    "# Reads every zip file in the folder and extracts them then deletes the zip.\n",
    "def extract_zip():\n",
    "    for name in glob.glob('capzips/*.zip'):\n",
    "        try:\n",
    "            with zipfile.ZipFile(name, 'r') as myzip:\n",
    "                myzip.extractall('capzips/')\n",
    "                os.remove(name)\n",
    "        except:\n",
    "            os.remove(name)"
   ]
  },
  {
   "cell_type": "markdown",
   "metadata": {},
   "source": [
    "## CSV to DataFrame"
   ]
  },
  {
   "cell_type": "code",
   "execution_count": 5,
   "metadata": {
    "collapsed": true
   },
   "outputs": [],
   "source": [
    "# Opens every csv and puts the data into a dataframe\n",
    "def csv_to_df():\n",
    "    csv_df = pd.DataFrame()\n",
    "    #count=0\n",
    "    for name in glob.glob('capzips/*.csv'):\n",
    "        try:\n",
    "            logger.debug('File name: %s', name)\n",
    "            temp_df = pd.read_csv(name, header=None, sep=\"\\t\", usecols=[1,15])\n",
    "            temp_df['Date'], temp_df['TONE'] = temp_df[1], temp_df[15]\n",
    "            temp_df = temp_df[['Date', 'TONE']]\n",
    "            \n",
    "            # This section is necessary do not remove.\n",
    "            if temp_df['Date'].dtypes != 'int64':\n",
    "                temp_df.dropna(inplace=True)\n",
    "                temp_df['Date'] = temp_df['Date'].astype(int)\n",
    "        \n",
    "            csv_df = pd.concat((csv_df,temp_df), ignore_index=True)\n",
    "        except:\n",
    "            logger.debug('File is empty: %s', name)\n",
    "        #count+=1\n",
    "    return csv_df\n",
    "\n",
    "\n",
    "# Deletes the CSVs\n",
    "def delete_csv():\n",
    "    for name in glob.glob('capzips/*.csv'):\n",
    "        os.remove(name)"
   ]
  },
  {
   "cell_type": "markdown",
   "metadata": {},
   "source": [
    "## Random Functions"
   ]
  },
  {
   "cell_type": "code",
   "execution_count": 6,
   "metadata": {
    "collapsed": true
   },
   "outputs": [],
   "source": [
    "# Used to run data collection in specified time increments.\n",
    "# Current implementation takes 5 minutes to run.\n",
    "def run_time(t, x):\n",
    "    if x == 'm':\n",
    "        return t/5\n",
    "    else:\n",
    "        return (t*60)/5\n",
    "\n",
    "\n",
    "def tone_parse(cvs):\n",
    "    cvs['tone'] = [float(x.split(',')[0]) for x in cvs['TONE']]\n",
    "    cvs['positive_score'] = [float(x.split(',')[1]) for x in cvs['TONE']]\n",
    "    cvs['negative_score'] = [float(x.split(',')[2]) for x in cvs['TONE']]\n",
    "    cvs['polarity'] = [float(x.split(',')[3]) for x in cvs['TONE']]\n",
    "    cvs['activity'] = [float(x.split(',')[4]) for x in cvs['TONE']]\n",
    "    cvs['word_count'] = [int(x.split(',')[6]) for x in cvs['TONE']]\n",
    "    cvs.pop('TONE')\n",
    "    return cvs\n",
    "\n",
    "def putfirst(n,df):\n",
    "    if not isinstance(n, int):\n",
    "        print 'error: 1st arg must be an int'\n",
    "        return\n",
    "    if n < 1:\n",
    "        print 'error: 1st arg must be an int > 0'\n",
    "        return\n",
    "    if n == 1:\n",
    "       print 'nothing to do when first arg == 1'\n",
    "       return\n",
    "    if n > len(df):\n",
    "       print 'error: n exceeds the number of rows in the DataFrame'\n",
    "       return\n",
    "    df.index = range(1,n) + [0] + range(n,df.index[-1]+1)\n",
    "    df.sort(inplace=True)"
   ]
  },
  {
   "cell_type": "markdown",
   "metadata": {},
   "source": [
    "## Daily Updates"
   ]
  },
  {
   "cell_type": "code",
   "execution_count": 7,
   "metadata": {
    "collapsed": true
   },
   "outputs": [],
   "source": [
    "def today_data():\n",
    "    test_variable = today_time.strftime(\"%Y%m%d\")\n",
    "    date_variable = pd.to_datetime(test_variable) - timedelta(days=1)\n",
    "    date_variable = str(date_variable.year) + '{:02d}'.format(date_variable.month) + '{:02d}'.format(date_variable.day)\n",
    "\n",
    "    download_data(test_variable, date_variable)\n",
    "    csv_df = tone_parse(csv_to_df())\n",
    "    csv_df['Date'] = [pd.to_datetime(datetime.strptime(str(x), '%Y%m%d%H%M%S')) for x in csv_df['Date']]\n",
    "    csv_df = csv_df.set_index('Date')\n",
    "    csv_df = csv_df.resample('h').mean()\n",
    "    csv_df.dropna(inplace=True)\n",
    "    csv_df.reset_index(inplace=True)\n",
    "    temp = csv_df.columns[1:]\n",
    "    test = pd.DataFrame([np.polyfit(csv_df.index, csv_df[x],1)[0] for x in csv_df.columns[1:].tolist()]).T\n",
    "    test.columns = temp.tolist()\n",
    "    test['Date'] = test_variable\n",
    "    delete_csv()\n",
    "    update_df = pd.read_pickle('update_df.pkl')\n",
    "    update_df = pd.concat((update_df, test), ignore_index=True)\n",
    "    pd.to_pickle(update_df, 'update_df.pkl')\n",
    "\n",
    "\n",
    "def update():\n",
    "    update_df = pd.read_pickle('update_df.pkl')\n",
    "    \n",
    "    # Might be able to remove this in the future if I get a better original data collection system.\n",
    "    start = datetime(2017, 1, 1)\n",
    "    end = datetime(2017, 12, 31)\n",
    "    bt = web.DataReader('SPY', 'google', start, end)\n",
    "    bt = bt.tail(1)\n",
    "    bt.reset_index(inplace=True)\n",
    "    bt['day_diff'] = bt['Close'] - bt['Open']\n",
    "    bt['high_diff'] = bt['High'] - bt['Open']\n",
    "    \n",
    "    \n",
    "    update_df['value'][len(update_df)-1] = bt['day_diff']\n",
    "    \n",
    "    if update_df['value'][len(update_df)-1] > 0:\n",
    "        update_df['value_binary'][len(update_df)-1] = 1\n",
    "    else:\n",
    "        update_df['value_binary'][len(update_df)-1] = 0\n",
    "    \n",
    "    pd.to_pickle(update_df, 'update_df.pkl')"
   ]
  },
  {
   "cell_type": "markdown",
   "metadata": {},
   "source": [
    "# Model Functions"
   ]
  },
  {
   "cell_type": "markdown",
   "metadata": {},
   "source": [
    "## XG Boost Predict"
   ]
  },
  {
   "cell_type": "code",
   "execution_count": 8,
   "metadata": {
    "collapsed": false
   },
   "outputs": [],
   "source": [
    "def xgboost_prediction():\n",
    "    lr = XGBClassifier()\n",
    "    lr.fit(X_train, Y_train)\n",
    "    y_pred = lr.predict(X_test)\n",
    "    y_score = lr.predict_proba(X_test)\n",
    "    if y_pred[0]==0:\n",
    "        return 0\n",
    "    else:\n",
    "        return 1"
   ]
  },
  {
   "cell_type": "markdown",
   "metadata": {},
   "source": [
    "## Logistic Regression Predict"
   ]
  },
  {
   "cell_type": "code",
   "execution_count": 9,
   "metadata": {
    "collapsed": true
   },
   "outputs": [],
   "source": [
    "def logistic_regression_prediction():\n",
    "    lr = LogisticRegressionCV(Cs=35, cv=10, solver='liblinear')\n",
    "    lr.fit(X_train, Y_train)\n",
    "    y_pred = lr.predict(X_test)\n",
    "    y_score = lr.predict_proba(X_test)\n",
    "    if y_pred[0]==0:\n",
    "        return 0\n",
    "    else:\n",
    "        return 1"
   ]
  },
  {
   "cell_type": "markdown",
   "metadata": {},
   "source": [
    "## Decision Tree Predict"
   ]
  },
  {
   "cell_type": "code",
   "execution_count": 10,
   "metadata": {
    "collapsed": true
   },
   "outputs": [],
   "source": [
    "# This runs Decision Tree 10 times and takes the highest performing result as the answer.\n",
    "def decision_tree_prediction():\n",
    "    max_down = 0\n",
    "    max_up = 0\n",
    "    \n",
    "    param_grid = {\"base_estimator__criterion\" : [\"gini\", \"entropy\"],\n",
    "                  \"base_estimator__splitter\" :   [\"best\", \"random\"],\n",
    "                  \"n_estimators\": [1, 2]}\n",
    "\n",
    "    for count in range(10):\n",
    "        dtc = DecisionTreeClassifier(min_samples_leaf=10, presort=True)\n",
    "        ABC = AdaBoostClassifier(base_estimator = dtc)\n",
    "        gs = GridSearchCV(ABC, param_grid=param_grid, n_jobs=-1)\n",
    "        gs.fit(X_train,Y_train)\n",
    "        y_pred = gs.predict_proba(X_test)\n",
    "\n",
    "\n",
    "        if y_pred[0][0] > max_down:\n",
    "            max_down = y_pred[0][0]\n",
    "        if y_pred[0][1] > max_up:\n",
    "            max_up = y_pred[0][1]\n",
    "            \n",
    "    \n",
    "    if max_down > max_up:\n",
    "        return 0\n",
    "    else:\n",
    "        return 1"
   ]
  },
  {
   "cell_type": "markdown",
   "metadata": {},
   "source": [
    "## KNeighbors Predict"
   ]
  },
  {
   "cell_type": "code",
   "execution_count": 11,
   "metadata": {
    "collapsed": true
   },
   "outputs": [],
   "source": [
    "# This runs Decision Tree 10 times and takes the highest performing result as the answer.\n",
    "def kneighbors_prediction():\n",
    "    kc = KNeighborsClassifier()\n",
    "    gs = GridSearchCV(kc, {}, cv=2)\n",
    "\n",
    "    gs.fit(X_train,Y_train)\n",
    "    y_pred = gs.predict(X_test)\n",
    "    y_score = gs.predict_proba(X_test)\n",
    "    if y_pred[0]==0:\n",
    "        return 0\n",
    "    else:\n",
    "        return 1"
   ]
  },
  {
   "cell_type": "markdown",
   "metadata": {},
   "source": [
    "## Extra Trees Predict"
   ]
  },
  {
   "cell_type": "code",
   "execution_count": 12,
   "metadata": {
    "collapsed": true
   },
   "outputs": [],
   "source": [
    "def extra_trees_prediction():\n",
    "    classif = ExtraTreesClassifier(min_samples_leaf=10)\n",
    "    gs = GridSearchCV(classif, {'n_estimators': np.arange(90,101,10),'max_features': np.arange(1,7,1)}, cv=2)\n",
    "\n",
    "    gs.fit(X_train,Y_train)\n",
    "    y_pred = gs.predict(X_test)\n",
    "    y_score = gs.predict_proba(X_test)\n",
    "    if y_pred[0]==0:\n",
    "        return 0\n",
    "    else:\n",
    "        return 1"
   ]
  },
  {
   "cell_type": "markdown",
   "metadata": {},
   "source": [
    "## Random Forest Predict\n"
   ]
  },
  {
   "cell_type": "code",
   "execution_count": 13,
   "metadata": {
    "collapsed": true
   },
   "outputs": [],
   "source": [
    "def random_forest_prediction():\n",
    "    classif = RandomForestClassifier(min_samples_leaf=10)\n",
    "    gs = GridSearchCV(classif, {'n_estimators': np.arange(90,101,10),'max_features': np.arange(1,7,1)}, cv=2)\n",
    "\n",
    "    gs.fit(X_train,Y_train)\n",
    "    y_pred = gs.predict(X_test)\n",
    "    y_score = gs.predict_proba(X_test)\n",
    "    if y_pred[0]==0:\n",
    "        return 0\n",
    "    else:\n",
    "        return 1"
   ]
  },
  {
   "cell_type": "markdown",
   "metadata": {},
   "source": [
    "## Ensemble Predict"
   ]
  },
  {
   "cell_type": "code",
   "execution_count": 14,
   "metadata": {
    "collapsed": true
   },
   "outputs": [],
   "source": [
    "def ensemble_predict():\n",
    "    if (xgboost_prediction() + logistic_regression_prediction() + decision_tree_prediction() + kneighbors_prediction() + extra_trees_prediction() + random_forest_prediction()) >=4:\n",
    "        return 1\n",
    "    else:\n",
    "        return 0"
   ]
  },
  {
   "cell_type": "markdown",
   "metadata": {},
   "source": [
    "# Backtest Main"
   ]
  },
  {
   "cell_type": "code",
   "execution_count": 15,
   "metadata": {
    "collapsed": false
   },
   "outputs": [],
   "source": [
    "def main_func(time_run):\n",
    "    if time_run == 0:\n",
    "        return \"Not enough time to finish one loop.\"\n",
    "    \n",
    "    # We good fam.\n",
    "    try:\n",
    "        final_df = pd.read_pickle('last_df.pkl')\n",
    "    except IOError:\n",
    "        final_df = pd.DataFrame()\n",
    "    \n",
    "    \n",
    "    # Prevents my program from running over and breaking.\n",
    "    if len(final_df)+time_run >= len(df):\n",
    "        upper_bound = len(df)-1\n",
    "    else:\n",
    "        upper_bound = len(final_df)+time_run\n",
    "    \n",
    "    # Main for loop that downloads, cleans, and stores relevant data.\n",
    "    for p in range(len(final_df), upper_bound):\n",
    "        # Downloads the data from the internet for the specified date.\n",
    "        download_data(df['DATE'][p], df['Date'][p])\n",
    "        \n",
    "        \n",
    "        # --------- TONE Section -------- #\n",
    "        csv_df = tone_parse(csv_to_df())\n",
    "        csv_df['Date'] = [pd.to_datetime(datetime.strptime(str(x), '%Y%m%d%H%M%S')) for x in csv_df['Date']]\n",
    "        csv_df = csv_df.set_index('Date')\n",
    "        csv_df = csv_df.resample('h').mean()\n",
    "        csv_df.dropna(inplace=True)\n",
    "        csv_df.reset_index(inplace=True)\n",
    "        temp = csv_df.columns[1:]\n",
    "        test = pd.DataFrame([np.polyfit(csv_df.index, csv_df[x],1)[0] for x in csv_df.columns[1:].tolist()]).T\n",
    "        test.columns = temp.tolist()\n",
    "        # --------- TONE Section -------- #\n",
    "\n",
    "        \n",
    "        final_df = pd.concat([final_df, test], ignore_index=True)\n",
    "        delete_csv()\n",
    "        final_df['Date'] = df['DATE']\n",
    "        pd.to_pickle(final_df, 'last_df.pkl')\n",
    "        final_df = pd.read_pickle('last_df.pkl')\n",
    "    play(seinfeld)"
   ]
  },
  {
   "cell_type": "code",
   "execution_count": 16,
   "metadata": {
    "collapsed": false
   },
   "outputs": [],
   "source": [
    "# Runs main function\n",
    "# main_func(run_time(20, 'm')) # m = minutes, h = hours      1 loop = ~5 minutes"
   ]
  },
  {
   "cell_type": "code",
   "execution_count": null,
   "metadata": {
    "collapsed": false,
    "scrolled": true
   },
   "outputs": [],
   "source": []
  },
  {
   "cell_type": "code",
   "execution_count": 79,
   "metadata": {
    "collapsed": false
   },
   "outputs": [
    {
     "name": "stdout",
     "output_type": "stream",
     "text": [
      "Mean S&P500 Model Performance: 9.6056 Ignore.\n",
      "Mean S&P500  Base Performance: 6.65538 Ignore.\n",
      "Mean of Model Accuracy: 0.524834586466\n",
      "Mean of  Base Accuracy: 0.518796992481\n",
      "Model Standard Deviation: 0.034\n",
      "Number of times model is better than random chance. Out of 1000: 670\n"
     ]
    }
   ],
   "source": [
    "# Test Model Performance by finding mean scores of 100 runs.\n",
    "# Problem is this finds the mean of different Y's which have different values every time.\n",
    "# This is bad.\n",
    "\n",
    "final_results = []\n",
    "default_results = []\n",
    "test_results = []\n",
    "base_accuracy = []\n",
    "random_accuracy = []\n",
    "better_count = 0\n",
    "\n",
    "for count in range(1000):\n",
    "    X = update_df[['activity', 'negative_score', 'polarity',\\\n",
    "                   'positive_score', 'tone', 'word_count',\\\n",
    "                   'word_count_mean', 'positive_mean']]\n",
    "    y = update_df['value_binary']\n",
    "\n",
    "    X_train, X_test, Y_train, Y_test = train_test_split(X, y, test_size=0.3, stratify=y)\n",
    "    \n",
    "    \n",
    "    \n",
    "#     X_train = testDF[[1,2,3,4,5,6,8,9]][:-10]\n",
    "#     Y_train = testDF['value_binary'][:-10]\n",
    "\n",
    "#     X_test = testDF[[1,2,3,4,5,6,8,9]][-10:]\n",
    "#     Y_test = testDF['value_binary'][-10:]\n",
    "\n",
    "    \n",
    "    \n",
    "    #lr = XGBClassifier()\n",
    "    lr = LogisticRegressionCV(Cs=35, cv=10)\n",
    "    lr.fit(X_train,Y_train)\n",
    "\n",
    "    y_pred = lr.predict(X_test)\n",
    "    \n",
    "    randomguess = []\n",
    "    for numder in range(len(X_test)):\n",
    "        randomguess.append(randint(0,1))\n",
    "\n",
    "    #--------This section needs to be re-evaluated and editted--------#  Done?\n",
    "    Y_test_index = pd.DataFrame(Y_test).reset_index()\n",
    "    Y_test_and_predict = pd.concat((Y_test_index, pd.DataFrame(y_pred)),axis=1)\n",
    "\n",
    "    Y_test_and_predict = Y_test_and_predict.set_index('index')\n",
    "    Y_test_and_predict['guess'] = Y_test_and_predict[0]\n",
    "    Y_test_and_predict.pop(0)\n",
    "    fest = pd.concat((Y_test_and_predict, update_df['value']), axis=1).dropna()\n",
    "    fest.reset_index(drop=True, inplace=True)\n",
    "\n",
    "    results = 0\n",
    "    for x in range(len(fest)):\n",
    "        if fest['guess'][x] == 1:\n",
    "            if fest['value_binary'][x] == fest['guess'][x]:\n",
    "                results += abs(fest['value'][x])\n",
    "            else:\n",
    "                results -= abs(fest['value'][x])\n",
    "    \n",
    "    random_results = 0\n",
    "    for x in range(len(fest)):\n",
    "        if randomguess[x] == 1:\n",
    "            if fest['value_binary'][x] == randomguess[x]:\n",
    "                random_results += abs(fest['value'][x])\n",
    "            else:\n",
    "                random_results -= abs(fest['value'][x])\n",
    "    #---------------------------------------------------------------#\n",
    "    \n",
    "    final_results.append(results)\n",
    "    random_accuracy.append(random_results)\n",
    "    \n",
    "    conmat = confusion_matrix(Y_test, y_pred, labels=[1,0])\n",
    "    test_results.append((conmat[0][0]+conmat[1][1])/float(len(Y_test)))\n",
    "    \n",
    "    #if conmat[0][0] + conmat[0][1] > conmat[1][0] + conmat[1][1]:\n",
    "    base_accuracy.append((conmat[0][0]+conmat[0][1])/float(len(Y_test)))\n",
    "    #else:\n",
    "    #    base_accuracy.append((conmat[1][0]+conmat[1][1])/float(len(Y_test)))\n",
    "    \n",
    "    right_pos = [x for x in fest['value'] if x > 0]\n",
    "    right_neg = [x for x in fest['value'] if x < 0]\n",
    "    dresults = np.sum(right_pos) - abs(np.sum(right_neg))\n",
    "    default_results.append(dresults)\n",
    "    \n",
    "    if results >= dresults:\n",
    "        better_count+=1\n",
    "print \"Mean S&P500 Model Performance:\", np.mean(final_results), \"Ignore.\"\n",
    "print \"Mean S&P500  Base Performance:\", np.mean(default_results), \"Ignore.\"\n",
    "print 'Mean of Model Accuracy:', np.mean(test_results)\n",
    "print 'Mean of  Base Accuracy:', np.mean(base_accuracy)\n",
    "print 'Model Standard Deviation:', np.std(test_results).round(3)\n",
    "print 'Number of times model is better than random chance. Out of 1000:', better_count"
   ]
  },
  {
   "cell_type": "code",
   "execution_count": 214,
   "metadata": {
    "collapsed": false
   },
   "outputs": [
    {
     "data": {
      "text/plain": [
       "0.045454545454545414"
      ]
     },
     "execution_count": 214,
     "metadata": {},
     "output_type": "execute_result"
    }
   ],
   "source": [
    "for x in range(len(test_results)):\n",
    "    t_score = test_results[x] - base_accuracy[x]\n",
    "np.sum(t_score)"
   ]
  },
  {
   "cell_type": "code",
   "execution_count": 485,
   "metadata": {
    "collapsed": false
   },
   "outputs": [
    {
     "data": {
      "text/plain": [
       "2.0899999999999181"
      ]
     },
     "execution_count": 485,
     "metadata": {},
     "output_type": "execute_result"
    }
   ],
   "source": [
    "for x in range(len(final_results)):\n",
    "    t_score = final_results[x] - default_results[x]\n",
    "np.sum(t_score)"
   ]
  },
  {
   "cell_type": "code",
   "execution_count": 484,
   "metadata": {
    "collapsed": false
   },
   "outputs": [
    {
     "data": {
      "text/plain": [
       "Ttest_indResult(statistic=19.90214950132987, pvalue=1.4918316571797486e-80)"
      ]
     },
     "execution_count": 484,
     "metadata": {},
     "output_type": "execute_result"
    }
   ],
   "source": [
    "ttest_ind(final_results, random_accuracy)"
   ]
  },
  {
   "cell_type": "code",
   "execution_count": 486,
   "metadata": {
    "collapsed": false
   },
   "outputs": [
    {
     "data": {
      "text/plain": [
       "3.4935299999999923"
      ]
     },
     "execution_count": 486,
     "metadata": {},
     "output_type": "execute_result"
    }
   ],
   "source": [
    "np.mean(random_accuracy)"
   ]
  },
  {
   "cell_type": "code",
   "execution_count": 487,
   "metadata": {
    "collapsed": false
   },
   "outputs": [
    {
     "name": "stdout",
     "output_type": "stream",
     "text": [
      "       predicted_over  predicted_under\n",
      "over               41               29\n",
      "under              37               28\n",
      "             precision    recall  f1-score   support\n",
      "\n",
      "          0       0.49      0.43      0.46        65\n",
      "          1       0.53      0.59      0.55        70\n",
      "\n",
      "avg / total       0.51      0.51      0.51       135\n",
      "\n"
     ]
    }
   ],
   "source": [
    "conmat = np.array(confusion_matrix(Y_test, y_pred, labels=[1,0]))\n",
    "confusion = pd.DataFrame(conmat, index=['over', 'under'],\n",
    "                            columns=['predicted_over','predicted_under'])\n",
    "\n",
    "print(confusion)\n",
    "print classification_report(Y_test,y_pred)"
   ]
  },
  {
   "cell_type": "markdown",
   "metadata": {},
   "source": [
    "# Decision Tree"
   ]
  },
  {
   "cell_type": "code",
   "execution_count": 100,
   "metadata": {
    "collapsed": false,
    "scrolled": true
   },
   "outputs": [
    {
     "name": "stdout",
     "output_type": "stream",
     "text": [
      "       predicted_over  predicted_under\n",
      "over                0                1\n",
      "under               0                0\n"
     ]
    }
   ],
   "source": [
    "# Test Model Performance by finding mean scores of 100 runs.\n",
    "# Problem is this finds the mean of different Y's which have different values every time.\n",
    "# This is bad.\n",
    "\n",
    "update_df = pd.read_pickle('update_df.pkl')\n",
    "update_df['word_count_mean'] = update_df['word_count'].rolling(window=7, center=False).mean()\n",
    "update_df['positive_mean'] = update_df['positive_score'].rolling(window=7, center=False).mean()\n",
    "update_df = update_df.ix[:][6:]\n",
    "update_df.reset_index(drop=True, inplace=True)\n",
    "\n",
    "max_down = 0\n",
    "max_up = 0\n",
    "Y_pred = []\n",
    "a=-1\n",
    "b=0\n",
    "\n",
    "param_grid = {\"base_estimator__criterion\" : [\"gini\", \"entropy\"],\n",
    "              \"base_estimator__splitter\" :   [\"best\", \"random\"],\n",
    "              \"n_estimators\": [1, 2]}\n",
    "\n",
    "for dcount in range(1):\n",
    "    for count in range(10):\n",
    "        if dcount == 0:\n",
    "            X_train = update_df[['activity', 'negative_score', 'polarity',\\\n",
    "                                 'positive_score', 'tone', 'word_count',\\\n",
    "                                 'word_count_mean', 'positive_mean']][:-1]\n",
    "            Y_train = update_df['value_binary'][:-1]\n",
    "\n",
    "            X_test = update_df[['activity', 'negative_score', 'polarity',\\\n",
    "                                'positive_score', 'tone', 'word_count',\\\n",
    "                                'word_count_mean', 'positive_mean']][-1:]\n",
    "            Y_test = update_df['value_binary'][-1:]\n",
    "\n",
    "        else:\n",
    "            X_train = update_df[['activity', 'negative_score',\\\n",
    "                                 'polarity', 'positive_score',\\\n",
    "                                 'tone', 'word_count']][:a]\n",
    "            Y_train = update_df['value_binary'][:a]\n",
    "\n",
    "            X_test = update_df[['activity', 'negative_score',\\\n",
    "                                 'polarity', 'positive_score',\\\n",
    "                                 'tone', 'word_count']][a:b]\n",
    "            Y_test = update_df['value_binary'][a:b]\n",
    "\n",
    "        \n",
    "        dtc = DecisionTreeClassifier(min_samples_leaf=10, presort=True)\n",
    "        ABC = AdaBoostClassifier(base_estimator = dtc)\n",
    "        gs = GridSearchCV(ABC, param_grid=param_grid, n_jobs=-1)\n",
    "        gs.fit(X_train,Y_train)\n",
    "        y_pred = gs.predict_proba(X_test)\n",
    "        \n",
    "        \n",
    "#         lr = LogisticRegressionCV(Cs=20, cv=2)\n",
    "#         lr.fit(X_train, Y_train)\n",
    "#         y_pred = lr.predict(X_test)\n",
    "#         y_score = lr.decision_function(X_test)\n",
    "\n",
    "\n",
    "        if y_pred[0][0] > max_down:\n",
    "            max_down = y_pred[0][0]\n",
    "        if y_pred[0][1] > max_up:\n",
    "            max_up = y_pred[0][1]\n",
    "    \n",
    "    a-=1    \n",
    "    b-=1\n",
    "    \n",
    "    if max_down > max_up:\n",
    "        Y_pred.append(0)\n",
    "    else:\n",
    "        Y_pred.append(1)\n",
    "\n",
    "a+=1\n",
    "Y_test = update_df['value_binary'][a:]\n",
    "Y_pred.reverse()\n",
    "conmat = np.array(confusion_matrix(Y_test, Y_pred, labels=[1,0]))\n",
    "confusion = pd.DataFrame(conmat, index=['over', 'under'],\n",
    "                            columns=['predicted_over','predicted_under'])\n",
    "\n",
    "print confusion"
   ]
  },
  {
   "cell_type": "markdown",
   "metadata": {
    "collapsed": false
   },
   "source": [
    "# Logistic Regression"
   ]
  },
  {
   "cell_type": "code",
   "execution_count": 103,
   "metadata": {
    "collapsed": false
   },
   "outputs": [
    {
     "name": "stdout",
     "output_type": "stream",
     "text": [
      "       predicted_over  predicted_under\n",
      "over               18                2\n",
      "under               7                3\n",
      "             precision    recall  f1-score   support\n",
      "\n",
      "        0.0       0.60      0.30      0.40        10\n",
      "        1.0       0.72      0.90      0.80        20\n",
      "\n",
      "avg / total       0.68      0.70      0.67        30\n",
      "\n"
     ]
    }
   ],
   "source": [
    "#Single Logistic Regression model.\n",
    "X_train = update_df[['activity', 'negative_score',\\\n",
    "                     'polarity', 'positive_score',\\\n",
    "                     'tone', 'word_count', 'word_count_mean',\\\n",
    "                     'positive_mean']][:-30]\n",
    "Y_train = update_df['value_binary'][:-30]\n",
    "\n",
    "X_test = update_df[['activity', 'negative_score',\\\n",
    "                     'polarity', 'positive_score',\\\n",
    "                     'tone', 'word_count', 'word_count_mean',\\\n",
    "                     'positive_mean']][-30:]\n",
    "Y_test = update_df['value_binary'][-30:]\n",
    "\n",
    "\n",
    "# lr = XGBClassifier()\n",
    "lr = LogisticRegressionCV(Cs=35, cv=10, solver='liblinear')\n",
    "lr.fit(X_train, Y_train)\n",
    "y_pred = lr.predict(X_test)\n",
    "y_score = lr.decision_function(X_test)\n",
    "\n",
    "\n",
    "# dtc = DecisionTreeClassifier(min_samples_leaf=10, presort=True)\n",
    "# ABC = AdaBoostClassifier(base_estimator = dtc)\n",
    "# gs = GridSearchCV(ABC, param_grid=param_grid, n_jobs=-1)\n",
    "# gs.fit(X_train,Y_train)\n",
    "# y_pred = gs.predict(X_test)\n",
    "\n",
    "\n",
    "\n",
    "\n",
    "conmat = np.array(confusion_matrix(Y_test, y_pred, labels=[1,0]))\n",
    "confusion = pd.DataFrame(conmat, index=['over', 'under'],\n",
    "                            columns=['predicted_over','predicted_under'])\n",
    "\n",
    "print(confusion)\n",
    "print classification_report(Y_test,y_pred)"
   ]
  },
  {
   "cell_type": "code",
   "execution_count": 104,
   "metadata": {
    "collapsed": false
   },
   "outputs": [
    {
     "name": "stdout",
     "output_type": "stream",
     "text": [
      "ROC Area Under Curve Score: 0.61\n"
     ]
    },
    {
     "data": {
      "image/png": "[encoded data removed]",
      "text/plain": [
       "<matplotlib.figure.Figure at 0x11c6a8710>"
      ]
     },
     "metadata": {},
     "output_type": "display_data"
    }
   ],
   "source": [
    "print 'ROC Area Under Curve Score:', roc_auc_score(Y_test, y_score)\n",
    "\"\"\" Plot AUC\"\"\"\n",
    "\n",
    "FPR = dict()\n",
    "TPR = dict()\n",
    "ROC_AUC = dict()\n",
    "\n",
    "# For class 1, find the area under the curve\n",
    "FPR[1], TPR[1], _ = roc_curve(Y_test, y_score)\n",
    "ROC_AUC[1] = auc(FPR[1], TPR[1])\n",
    "\n",
    "# Plot of a ROC curve for class 1 (has_cancer)\n",
    "plt.figure(figsize=[11,9])\n",
    "plt.plot(FPR[1], TPR[1], label='ROC curve (area = %0.2f)' % ROC_AUC[1], linewidth=4)\n",
    "plt.plot([0, 1], [0, 1], 'k--', linewidth=4)\n",
    "plt.xlim([0.0, 1.0])\n",
    "plt.ylim([0.0, 1.05])\n",
    "plt.xlabel('False Positive Rate', fontsize=18)\n",
    "plt.ylabel('True Positive Rate', fontsize=18)\n",
    "plt.title('Receiver operating characteristic for high/low income', fontsize=18)\n",
    "plt.legend(loc=\"lower right\")\n",
    "plt.show()"
   ]
  },
  {
   "cell_type": "code",
   "execution_count": 105,
   "metadata": {
    "collapsed": false,
    "scrolled": true
   },
   "outputs": [
    {
     "data": {
      "text/html": [
       "<div>\n",
       "<table border=\"1\" class=\"dataframe\">\n",
       "  <thead>\n",
       "    <tr style=\"text-align: right;\">\n",
       "      <th></th>\n",
       "      <th>features</th>\n",
       "      <th>coef</th>\n",
       "    </tr>\n",
       "  </thead>\n",
       "  <tbody>\n",
       "    <tr>\n",
       "      <th>5</th>\n",
       "      <td>word_count</td>\n",
       "      <td>0.047174</td>\n",
       "    </tr>\n",
       "    <tr>\n",
       "      <th>6</th>\n",
       "      <td>word_count_mean</td>\n",
       "      <td>0.0385347</td>\n",
       "    </tr>\n",
       "    <tr>\n",
       "      <th>2</th>\n",
       "      <td>polarity</td>\n",
       "      <td>0.000689431</td>\n",
       "    </tr>\n",
       "    <tr>\n",
       "      <th>3</th>\n",
       "      <td>positive_score</td>\n",
       "      <td>0.000584617</td>\n",
       "    </tr>\n",
       "    <tr>\n",
       "      <th>4</th>\n",
       "      <td>tone</td>\n",
       "      <td>0.000479803</td>\n",
       "    </tr>\n",
       "    <tr>\n",
       "      <th>1</th>\n",
       "      <td>negative_score</td>\n",
       "      <td>0.000104814</td>\n",
       "    </tr>\n",
       "    <tr>\n",
       "      <th>7</th>\n",
       "      <td>positive_mean</td>\n",
       "      <td>-6.37815e-05</td>\n",
       "    </tr>\n",
       "    <tr>\n",
       "      <th>0</th>\n",
       "      <td>activity</td>\n",
       "      <td>-0.000807619</td>\n",
       "    </tr>\n",
       "  </tbody>\n",
       "</table>\n",
       "</div>"
      ],
      "text/plain": [
       "          features         coef\n",
       "5       word_count     0.047174\n",
       "6  word_count_mean    0.0385347\n",
       "2         polarity  0.000689431\n",
       "3   positive_score  0.000584617\n",
       "4             tone  0.000479803\n",
       "1   negative_score  0.000104814\n",
       "7    positive_mean -6.37815e-05\n",
       "0         activity -0.000807619"
      ]
     },
     "execution_count": 105,
     "metadata": {},
     "output_type": "execute_result"
    }
   ],
   "source": [
    "coef = pd.DataFrame([X.columns.values.tolist(), lr.coef_[0].tolist()], index=['features', 'coef']).T\n",
    "coef.sort_values(by='coef', ascending=False)"
   ]
  },
  {
   "cell_type": "code",
   "execution_count": null,
   "metadata": {
    "collapsed": false
   },
   "outputs": [],
   "source": []
  },
  {
   "cell_type": "code",
   "execution_count": 107,
   "metadata": {
    "collapsed": false
   },
   "outputs": [
    {
     "name": "stdout",
     "output_type": "stream",
     "text": [
      "       predicted_over  predicted_under\n",
      "over               18                2\n",
      "under               7                3\n",
      "             precision    recall  f1-score   support\n",
      "\n",
      "        0.0       0.60      0.30      0.40        10\n",
      "        1.0       0.72      0.90      0.80        20\n",
      "\n",
      "avg / total       0.68      0.70      0.67        30\n",
      "\n"
     ]
    }
   ],
   "source": [
    "# This method of optimization decreases precision and increases False Negatives and decreases True Positives\n",
    "\n",
    "logreg = LogisticRegression(solver='liblinear')\n",
    "C_vals = [0.0001, 0.001, 0.01, 0.1, .15, .25, .275, .33, 0.5, .66, 0.75, 1.0, 2.5, 5.0, 10.0, 100.0, 1000.0]\n",
    "penalties = ['l1','l2']\n",
    "\n",
    "gs = GridSearchCV(logreg, {'penalty': penalties, 'C': C_vals}, verbose=False, cv=35)\n",
    "gs.fit(X_train, Y_train)\n",
    "\n",
    "logreg = LogisticRegression(C=gs.best_params_['C'],penalty=gs.best_params_['penalty'])\n",
    "cv_model = logreg.fit(X_train, Y_train)\n",
    "cv_pred = cv_model.predict(X_test)\n",
    "\n",
    "conmat = np.array(confusion_matrix(Y_test, cv_pred, labels=[1,0]))\n",
    "confusion = pd.DataFrame(conmat, index=['over', 'under'],\n",
    "                            columns=['predicted_over','predicted_under'])\n",
    "print(confusion)\n",
    "print classification_report(Y_test, cv_pred)"
   ]
  },
  {
   "cell_type": "markdown",
   "metadata": {},
   "source": [
    "# Cluster Models."
   ]
  },
  {
   "cell_type": "code",
   "execution_count": 108,
   "metadata": {
    "collapsed": false
   },
   "outputs": [
    {
     "name": "stdout",
     "output_type": "stream",
     "text": [
      "Decision Tree Score:\t0.532 ± 0.243\n",
      "Random Forest Score:\t0.539 ± 0.231\n",
      "Extra Trees Score:\t0.475 ± 0.256\n",
      "Nearest Neighbor Score:\t0.543 ± 0.219\n",
      "\n",
      "Decision Tree Bagging Score:\t0.557 ± 0.216\n",
      "Random Forest Bagging Score:\t0.553 ± 0.229\n",
      "Extra Trees Bagging Score:\t0.538 ± 0.228\n",
      "Nearest Neighbor Bagging Score:\t0.542 ± 0.22\n"
     ]
    }
   ],
   "source": [
    "X = update_df[['activity', 'negative_score',\\\n",
    "                     'polarity', 'positive_score',\\\n",
    "                     'tone', 'word_count', 'word_count_mean',\\\n",
    "                     'positive_mean']][:-1]\n",
    "y = update_df['value_binary'][:-1]\n",
    "\n",
    "cv = StratifiedKFold(y, n_folds=100, shuffle=True, random_state=69)\n",
    "\n",
    "dt = DecisionTreeClassifier()\n",
    "rf = RandomForestClassifier()\n",
    "et = ExtraTreesClassifier()\n",
    "kc = KNeighborsClassifier()\n",
    "\n",
    "bdt = BaggingClassifier(dt)\n",
    "brf = BaggingClassifier(rf)\n",
    "bet = BaggingClassifier(et)\n",
    "bkc = BaggingClassifier(kc)\n",
    "\n",
    "cdt = cross_val_score(dt, X, y, cv=cv, n_jobs=-1)\n",
    "crf = cross_val_score(rf, X, y, cv=cv, n_jobs=-1)\n",
    "cet = cross_val_score(et, X, y, cv=cv, n_jobs=-1)\n",
    "ckc = cross_val_score(kc, X, y, cv=cv, n_jobs=-1)\n",
    "\n",
    "cbdt = cross_val_score(bdt, X, y, cv=cv, n_jobs=-1)\n",
    "cbrf = cross_val_score(brf, X, y, cv=cv, n_jobs=-1)\n",
    "cbet = cross_val_score(bet, X, y, cv=cv, n_jobs=-1)\n",
    "cbkc = cross_val_score(bkc, X, y, cv=cv, n_jobs=-1)\n",
    "\n",
    "\n",
    "print(\"{} Score:\\t{:0.3} ± {:0.3}\".format(\"Decision Tree\", cdt.mean().round(3), cdt.std().round(3)))\n",
    "print(\"{} Score:\\t{:0.3} ± {:0.3}\".format(\"Random Forest\", crf.mean().round(3), crf.std().round(3)))\n",
    "print(\"{} Score:\\t{:0.3} ± {:0.3}\".format(\"Extra Trees\", cet.mean().round(3), cet.std().round(3)))\n",
    "print(\"{} Score:\\t{:0.3} ± {:0.3}\".format(\"Nearest Neighbor\", ckc.mean().round(3), ckc.std().round(3)))\n",
    "print \n",
    "print(\"{} Score:\\t{:0.3} ± {:0.3}\".format(\"Decision Tree Bagging\", cbdt.mean().round(3), cbdt.std().round(3)))\n",
    "print(\"{} Score:\\t{:0.3} ± {:0.3}\".format(\"Random Forest Bagging\", cbrf.mean().round(3), cbrf.std().round(3)))\n",
    "print(\"{} Score:\\t{:0.3} ± {:0.3}\".format(\"Extra Trees Bagging\", cbet.mean().round(3), cbet.std().round(3)))\n",
    "print(\"{} Score:\\t{:0.3} ± {:0.3}\".format(\"Nearest Neighbor Bagging\", cbkc.mean().round(3), cbkc.std().round(3)))"
   ]
  },
  {
   "cell_type": "markdown",
   "metadata": {},
   "source": [
    "Decision Tree Score:\t0.57 ± 0.229\n",
    "Random Forest Score:\t0.49 ± 0.242\n",
    "Extra Trees Score:\t0.526 ± 0.245\n",
    "Nearest Neighbor Score:\t0.565 ± 0.254\n",
    "\n",
    "Decision Tree Bagging Score:\t0.522 ± 0.245\n",
    "Random Forest Bagging Score:\t0.541 ± 0.248\n",
    "Extra Trees Bagging Score:\t0.506 ± 0.226\n",
    "Nearest Neighbor Bagging Score:\t0.544 ± 0.246"
   ]
  },
  {
   "cell_type": "code",
   "execution_count": 123,
   "metadata": {
    "collapsed": false
   },
   "outputs": [
    {
     "data": {
      "text/html": [
       "<div>\n",
       "<table border=\"1\" class=\"dataframe\">\n",
       "  <thead>\n",
       "    <tr style=\"text-align: right;\">\n",
       "      <th></th>\n",
       "      <th>dt_importance</th>\n",
       "      <th>rf_importance</th>\n",
       "      <th>et_importance</th>\n",
       "    </tr>\n",
       "  </thead>\n",
       "  <tbody>\n",
       "    <tr>\n",
       "      <th>positive_mean</th>\n",
       "      <td>0.199219</td>\n",
       "      <td>0.114836</td>\n",
       "      <td>0.137168</td>\n",
       "    </tr>\n",
       "    <tr>\n",
       "      <th>word_count</th>\n",
       "      <td>0.188449</td>\n",
       "      <td>0.101858</td>\n",
       "      <td>0.127099</td>\n",
       "    </tr>\n",
       "    <tr>\n",
       "      <th>polarity</th>\n",
       "      <td>0.147181</td>\n",
       "      <td>0.119414</td>\n",
       "      <td>0.125191</td>\n",
       "    </tr>\n",
       "    <tr>\n",
       "      <th>tone</th>\n",
       "      <td>0.121672</td>\n",
       "      <td>0.102973</td>\n",
       "      <td>0.117606</td>\n",
       "    </tr>\n",
       "    <tr>\n",
       "      <th>word_count_mean</th>\n",
       "      <td>0.116747</td>\n",
       "      <td>0.122269</td>\n",
       "      <td>0.130807</td>\n",
       "    </tr>\n",
       "    <tr>\n",
       "      <th>positive_score</th>\n",
       "      <td>0.083995</td>\n",
       "      <td>0.155316</td>\n",
       "      <td>0.116527</td>\n",
       "    </tr>\n",
       "    <tr>\n",
       "      <th>negative_score</th>\n",
       "      <td>0.081259</td>\n",
       "      <td>0.125351</td>\n",
       "      <td>0.113964</td>\n",
       "    </tr>\n",
       "    <tr>\n",
       "      <th>activity</th>\n",
       "      <td>0.061477</td>\n",
       "      <td>0.157983</td>\n",
       "      <td>0.131638</td>\n",
       "    </tr>\n",
       "  </tbody>\n",
       "</table>\n",
       "</div>"
      ],
      "text/plain": [
       "                 dt_importance  rf_importance  et_importance\n",
       "positive_mean         0.199219       0.114836       0.137168\n",
       "word_count            0.188449       0.101858       0.127099\n",
       "polarity              0.147181       0.119414       0.125191\n",
       "tone                  0.121672       0.102973       0.117606\n",
       "word_count_mean       0.116747       0.122269       0.130807\n",
       "positive_score        0.083995       0.155316       0.116527\n",
       "negative_score        0.081259       0.125351       0.113964\n",
       "activity              0.061477       0.157983       0.131638"
      ]
     },
     "execution_count": 123,
     "metadata": {},
     "output_type": "execute_result"
    },
    {
     "data": {
      "image/png": "[encoded data removed]",
      "text/plain": [
       "<matplotlib.figure.Figure at 0x11c6a8b90>"
      ]
     },
     "metadata": {},
     "output_type": "display_data"
    }
   ],
   "source": [
    "dt.fit(X, y)\n",
    "rf.fit(X, y)\n",
    "et.fit(X, y)\n",
    "\n",
    "importances = pd.DataFrame(zip(dt.feature_importances_,\n",
    "                               rf.feature_importances_,\n",
    "                               et.feature_importances_),\n",
    "                           index=X.columns,\n",
    "                           columns=['dt_importance',\n",
    "                                    'rf_importance',\n",
    "                                    'et_importance']).sort_values('dt_importance',\n",
    "                                                                   ascending=False)\n",
    "\n",
    "                           \n",
    "importances.plot(kind='bar', figsize=(15,8))\n",
    "importances.head(10)"
   ]
  },
  {
   "cell_type": "code",
   "execution_count": 734,
   "metadata": {
    "collapsed": false
   },
   "outputs": [
    {
     "name": "stdout",
     "output_type": "stream",
     "text": [
      "       predicted_over  predicted_under\n",
      "over               10                3\n",
      "under               3                4\n",
      "             precision    recall  f1-score   support\n",
      "\n",
      "          0       0.57      0.57      0.57         7\n",
      "          1       0.77      0.77      0.77        13\n",
      "\n",
      "avg / total       0.70      0.70      0.70        20\n",
      "\n",
      "ROC Area Under Curve Score: 0.714285714286\n"
     ]
    },
    {
     "data": {
      "image/png": "[encoded data removed]",
      "text/plain": [
       "<matplotlib.figure.Figure at 0x11b2e62d0>"
      ]
     },
     "metadata": {},
     "output_type": "display_data"
    }
   ],
   "source": [
    "# GridSearch ExtraTrees. Unused.\n",
    "\n",
    "gs2 = GridSearchCV(ExtraTreesClassifier(min_samples_leaf=10),\n",
    "                  {'n_estimators': np.arange(90,100,10),\n",
    "                  'max_features': np.arange(1,5,1)},\n",
    "                  cv=10)\n",
    "gs2.fit(X_train,Y_train)\n",
    "y_pred2 = gs2.predict_proba(X_test)\n",
    "tempDF = pd.DataFrame(y_pred2)\n",
    "tempDF['actual'] = np.array(Y_test)\n",
    "tempDF['threshold'] = tempDF[1].map(lambda x: 0 if x < 0.5 else 1)\n",
    "\n",
    "\n",
    "\n",
    "conmat = np.array(confusion_matrix(Y_test, tempDF['threshold'], labels=[1,0]))\n",
    "confusion = pd.DataFrame(conmat, index=['over', 'under'],\n",
    "                            columns=['predicted_over','predicted_under'])\n",
    "\n",
    "print(confusion)\n",
    "print classification_report(Y_test, tempDF['threshold'])\n",
    "\n",
    "print 'ROC Area Under Curve Score:', roc_auc_score(Y_test, tempDF[1])\n",
    "\"\"\" Plot AUC\"\"\"\n",
    "\n",
    "FPR = dict()\n",
    "TPR = dict()\n",
    "ROC_AUC = dict()\n",
    "\n",
    "# For class 1, find the area under the curve\n",
    "FPR[1], TPR[1], _ = roc_curve(Y_test, tempDF[1])\n",
    "ROC_AUC[1] = auc(FPR[1], TPR[1])\n",
    "\n",
    "# Plot of a ROC curve for class 1\n",
    "plt.figure(figsize=[11,9])\n",
    "plt.plot(FPR[1], TPR[1], label='ROC curve (area = %0.2f)' % ROC_AUC[1], linewidth=4)\n",
    "plt.plot([0, 1], [0, 1], 'k--', linewidth=4)\n",
    "plt.xlim([0.0, 1.0])\n",
    "plt.ylim([0.0, 1.05])\n",
    "plt.xlabel('False Positive Rate', fontsize=18)\n",
    "plt.ylabel('True Positive Rate', fontsize=18)\n",
    "plt.title('Stock Prediction', fontsize=18)\n",
    "plt.legend(loc=\"lower right\")\n",
    "plt.show()"
   ]
  },
  {
   "cell_type": "code",
   "execution_count": null,
   "metadata": {
    "collapsed": false
   },
   "outputs": [],
   "source": []
  },
  {
   "cell_type": "code",
   "execution_count": null,
   "metadata": {
    "collapsed": false
   },
   "outputs": [],
   "source": []
  },
  {
   "cell_type": "code",
   "execution_count": null,
   "metadata": {
    "collapsed": false
   },
   "outputs": [],
   "source": []
  },
  {
   "cell_type": "markdown",
   "metadata": {},
   "source": [
    "# Testing Model Results"
   ]
  },
  {
   "cell_type": "code",
   "execution_count": 115,
   "metadata": {
    "collapsed": false
   },
   "outputs": [
    {
     "name": "stdout",
     "output_type": "stream",
     "text": [
      "S&P500 Model Performance: 8.69\n",
      "S&P500  Base Performance: 6.02\n",
      "          Model Accuracy: 0.625\n",
      "           Base Accuracy: 0.55\n"
     ]
    }
   ],
   "source": [
    "# Tests model and compares with value change.\n",
    "# Rewrite this section to make decisions based on the 5 models\n",
    "# and then sketch win/loss based off of the ensemble.\n",
    "\n",
    "final_results = []\n",
    "default_results = []\n",
    "model_accuracy = []\n",
    "base_accuracy = []\n",
    "\n",
    "\n",
    "number_of_days = -40\n",
    "\n",
    "for count in range(1):\n",
    "    \n",
    "    X_train = update_df[['activity', 'negative_score',\\\n",
    "                     'polarity', 'positive_score',\\\n",
    "                     'tone', 'word_count', 'word_count_mean',\\\n",
    "                     'positive_mean']][:number_of_days]\n",
    "    Y_train = update_df['value_binary'][:number_of_days]\n",
    "\n",
    "    X_test = update_df[['activity', 'negative_score',\\\n",
    "                     'polarity', 'positive_score',\\\n",
    "                     'tone', 'word_count', 'word_count_mean',\\\n",
    "                     'positive_mean']][number_of_days:]\n",
    "    Y_test = update_df['value_binary'][number_of_days:]\n",
    "\n",
    "    \n",
    "    \n",
    "    #lr = XGBClassifier()\n",
    "    lr = LogisticRegressionCV(Cs=35, cv=10, solver='liblinear')\n",
    "    lr.fit(X_train,Y_train)\n",
    "    y_pred = lr.predict(X_test)\n",
    "    \n",
    "\n",
    "    \n",
    "    #--------This section needs to be re-evaluated and editted--------#  Done?\n",
    "    Y_test_index = pd.DataFrame(Y_test).reset_index()\n",
    "    Y_test_and_predict = pd.concat((Y_test_index, pd.DataFrame(y_pred)),axis=1)\n",
    "\n",
    "    Y_test_and_predict = Y_test_and_predict.set_index('index')\n",
    "    Y_test_and_predict['guess'] = Y_test_and_predict[0]\n",
    "    Y_test_and_predict.pop(0)\n",
    "    \n",
    "    \n",
    "    fest = pd.concat((Y_test_and_predict, update_df['value'][number_of_days:]), axis=1).dropna()\n",
    "    #fest = pd.concat((fest, update_df['high_diff'][-20:]), axis=1).dropna()\n",
    "    fest.reset_index(drop=True, inplace=True)\n",
    "    \n",
    "    results = 0\n",
    "    for x in range(len(fest)):\n",
    "        if fest['guess'][x] == 1:\n",
    "            if fest['value_binary'][x] == fest['guess'][x]:\n",
    "                    results += abs(fest['value'][x]) \n",
    "            else:\n",
    "                    results -= abs(fest['value'][x])\n",
    "#         else:\n",
    "#             if fest['high_diff'][x] >= .5:\n",
    "#                 results+=.5\n",
    "#             elif abs(fest['value'][x]) >= .5:  # Best case scenario\n",
    "#                 results-=.5\n",
    "#             else:\n",
    "#                 results-=abs(fest['value'][x])\n",
    "    #---------------------------------------------------------------#\n",
    "    \n",
    "    final_results.append(results)\n",
    "    \n",
    "    conmat = confusion_matrix(Y_test, y_pred, labels=[1,0])\n",
    "    \n",
    "    model_accuracy.append((conmat[0][0]+conmat[1][1])/float(len(Y_test)))\n",
    "    base_accuracy.append((conmat[0][0]+conmat[0][1])/float(len(Y_test)))\n",
    "    \n",
    "    default_results.append(fest['value'].sum())\n",
    "\n",
    "print \"S&P500 Model Performance:\", np.mean(final_results)\n",
    "print \"S&P500  Base Performance:\", np.mean(default_results)\n",
    "print '          Model Accuracy:', np.mean(model_accuracy)\n",
    "print '           Base Accuracy:', np.mean(base_accuracy)"
   ]
  },
  {
   "cell_type": "code",
   "execution_count": null,
   "metadata": {
    "collapsed": false
   },
   "outputs": [],
   "source": []
  },
  {
   "cell_type": "markdown",
   "metadata": {},
   "source": [
    "# Predict Main"
   ]
  },
  {
   "cell_type": "code",
   "execution_count": 122,
   "metadata": {
    "collapsed": false
   },
   "outputs": [
    {
     "name": "stdout",
     "output_type": "stream",
     "text": [
      "Predicted Down\n"
     ]
    }
   ],
   "source": [
    "update_df = pd.read_pickle('update_df.pkl')\n",
    "update_df['word_count_mean'] = update_df['word_count'].rolling(window=7, center=False).mean()\n",
    "update_df['positive_mean'] = update_df['positive_score'].rolling(window=7, center=False).mean()\n",
    "update_df = update_df.ix[:][6:]\n",
    "update_df.reset_index(drop=True, inplace=True)\n",
    "\n",
    "X_train = update_df[['activity', 'negative_score', 'polarity',\\\n",
    "                   'positive_score', 'tone', 'word_count',\\\n",
    "                   'word_count_mean', 'positive_mean']][:-1]\n",
    "Y_train = update_df['value_binary'][:-1]\n",
    "X_test = update_df[['activity', 'negative_score', 'polarity',\\\n",
    "                   'positive_score', 'tone', 'word_count',\\\n",
    "                   'word_count_mean', 'positive_mean']][-1:]\n",
    "\n",
    "\n",
    "if ensemble_predict() == 1:\n",
    "    print \"Predicted Up\"\n",
    "else:\n",
    "    print \"Predicted Down\""
   ]
  },
  {
   "cell_type": "code",
   "execution_count": 51,
   "metadata": {
    "collapsed": false
   },
   "outputs": [
    {
     "name": "stdout",
     "output_type": "stream",
     "text": [
      "       predicted_over  predicted_under\n",
      "over               11                8\n",
      "under               5                7\n",
      "             precision    recall  f1-score   support\n",
      "\n",
      "        0.0       0.47      0.58      0.52        12\n",
      "        1.0       0.69      0.58      0.63        19\n",
      "\n",
      "avg / total       0.60      0.58      0.59        31\n",
      "\n"
     ]
    }
   ],
   "source": [
    "update_df = pd.read_pickle('update_df.pkl')\n",
    "update_df['word_count_mean'] = update_df['word_count'].rolling(window=7, center=False).mean()\n",
    "update_df['positive_mean'] = update_df['positive_score'].rolling(window=7, center=False).mean()\n",
    "update_df = update_df.ix[:][6:]\n",
    "update_df.reset_index(drop=True, inplace=True)\n",
    "\n",
    "\n",
    "a = -2\n",
    "b = -1\n",
    "guesses = []\n",
    "\n",
    "X_train = update_df[['activity', 'negative_score',\\\n",
    "                         'polarity', 'positive_score',\\\n",
    "                         'tone', 'word_count']][:-1]\n",
    "Y_train = update_df['value_binary'][:-1]\n",
    "X_test = update_df[['activity', 'negative_score', 'polarity', 'positive_score', 'tone', 'word_count']][-1:]\n",
    "\n",
    "#------------------------#\n",
    "guesses.append(ensemble_predict())\n",
    "#------------------------#\n",
    "\n",
    "for count in range(30):\n",
    "    X_train = update_df[['activity', 'negative_score',\\\n",
    "                         'polarity', 'positive_score',\\\n",
    "                         'tone', 'word_count']][:a]\n",
    "    Y_train = update_df['value_binary'][:a]\n",
    "    X_test = update_df[['activity', 'negative_score', 'polarity', 'positive_score', 'tone', 'word_count']][a:b]\n",
    "\n",
    "    #------------------------#\n",
    "    guesses.append(ensemble_predict())\n",
    "    #------------------------#\n",
    "    \n",
    "    a-=1\n",
    "    b-=1\n",
    "\n",
    "a+=1\n",
    "Y_test = update_df['value_binary'][a:]\n",
    "guesses.reverse()\n",
    "conmat = np.array(confusion_matrix(Y_test, guesses, labels=[1,0]))\n",
    "confusion = pd.DataFrame(conmat, index=['over', 'under'],\n",
    "                            columns=['predicted_over','predicted_under'])\n",
    "\n",
    "print confusion\n",
    "print classification_report(Y_test,guesses)"
   ]
  },
  {
   "cell_type": "code",
   "execution_count": null,
   "metadata": {
    "collapsed": false
   },
   "outputs": [],
   "source": []
  },
  {
   "cell_type": "code",
   "execution_count": 23,
   "metadata": {
    "collapsed": false
   },
   "outputs": [],
   "source": [
    "# This runs Decision Tree 10 times and takes the highest performing result as the answer.\n",
    "def decision_tree_prediction_temp():\n",
    "    max_down = 0\n",
    "    max_up = 0\n",
    "    \n",
    "    param_grid = {\"base_estimator__criterion\" : [\"gini\", \"entropy\"],\n",
    "                  \"base_estimator__splitter\" :   [\"best\", \"random\"],\n",
    "                  \"n_estimators\": [1, 2]}\n",
    "\n",
    "    for count in range(10):\n",
    "        dtc = DecisionTreeClassifier(min_samples_leaf=10, presort=True)\n",
    "        ABC = AdaBoostClassifier(base_estimator = dtc)\n",
    "        gs = GridSearchCV(ABC, param_grid=param_grid, n_jobs=-1)\n",
    "        gs.fit(X_train,Y_train)\n",
    "        y_pred = gs.predict_proba(X_test)\n",
    "\n",
    "\n",
    "        if y_pred[0][0] > max_down:\n",
    "            max_down = y_pred[0][0]\n",
    "        if y_pred[0][1] > max_up:\n",
    "            max_up = y_pred[0][1]\n",
    "\n",
    "    if max_up > .8:\n",
    "        return 1\n",
    "    else:\n",
    "        return 0"
   ]
  },
  {
   "cell_type": "markdown",
   "metadata": {
    "collapsed": false
   },
   "source": [
    "# Update"
   ]
  },
  {
   "cell_type": "code",
   "execution_count": 139,
   "metadata": {
    "collapsed": false
   },
   "outputs": [
    {
     "name": "stdout",
     "output_type": "stream",
     "text": [
      "Predicted Up\n"
     ]
    }
   ],
   "source": [
    "update_df = pd.read_pickle('update_df.pkl')\n",
    "\n",
    "# # Grabs the latest day's info and puts it into the dataset.\n",
    "# if update_df['Date'][len(update_df)-1] != today_time.strftime(\"%Y%m%d\"):\n",
    "\n",
    "# # The runs the function that adds 'value' and 'value_binary to the dataset.\n",
    "# if update_df['value_binary'][len(update_df)-1] != 0 and update_df['value_binary'][len(update_df)-1] != 1:\n",
    "#     if int(today_time.strftime(\"%H%M\")) > 1730:\n",
    "\n",
    "\n",
    "\n",
    "\n",
    "today_data()\n",
    "\n",
    "update_df = pd.read_pickle('update_df.pkl')\n",
    "update_df['word_count_mean'] = update_df['word_count'].rolling(window=7, center=False).mean()\n",
    "update_df['positive_mean'] = update_df['positive_score'].rolling(window=7, center=False).mean()\n",
    "update_df = update_df.ix[:][6:]\n",
    "update_df.reset_index(drop=True, inplace=True)\n",
    "\n",
    "X_train = update_df[['activity', 'negative_score', 'polarity',\\\n",
    "                   'positive_score', 'tone', 'word_count',\\\n",
    "                   'word_count_mean', 'positive_mean']][:-1]\n",
    "Y_train = update_df['value_binary'][:-1]\n",
    "X_test = update_df[['activity', 'negative_score', 'polarity',\\\n",
    "                   'positive_score', 'tone', 'word_count',\\\n",
    "                   'word_count_mean', 'positive_mean']][-1:]\n",
    "\n",
    "\n",
    "if ensemble_predict() == 1:\n",
    "    print \"Predicted Up\"\n",
    "else:\n",
    "    print \"Predicted Down\""
   ]
  },
  {
   "cell_type": "code",
   "execution_count": 137,
   "metadata": {
    "collapsed": false
   },
   "outputs": [
    {
     "name": "stderr",
     "output_type": "stream",
     "text": [
      "/Users/Jesse/anaconda/lib/python2.7/site-packages/ipykernel/__main__.py:36: SettingWithCopyWarning: \n",
      "A value is trying to be set on a copy of a slice from a DataFrame\n",
      "\n",
      "See the caveats in the documentation: http://pandas.pydata.org/pandas-docs/stable/indexing.html#indexing-view-versus-copy\n",
      "/Users/Jesse/anaconda/lib/python2.7/site-packages/ipykernel/__main__.py:39: SettingWithCopyWarning: \n",
      "A value is trying to be set on a copy of a slice from a DataFrame\n",
      "\n",
      "See the caveats in the documentation: http://pandas.pydata.org/pandas-docs/stable/indexing.html#indexing-view-versus-copy\n"
     ]
    }
   ],
   "source": [
    "update_df = pd.read_pickle('update_df.pkl')\n",
    "update()"
   ]
  },
  {
   "cell_type": "code",
   "execution_count": 138,
   "metadata": {
    "collapsed": false
   },
   "outputs": [
    {
     "data": {
      "text/html": [
       "<div>\n",
       "<table border=\"1\" class=\"dataframe\">\n",
       "  <thead>\n",
       "    <tr style=\"text-align: right;\">\n",
       "      <th></th>\n",
       "      <th>Date</th>\n",
       "      <th>activity</th>\n",
       "      <th>negative_score</th>\n",
       "      <th>polarity</th>\n",
       "      <th>positive_score</th>\n",
       "      <th>tone</th>\n",
       "      <th>value</th>\n",
       "      <th>value_binary</th>\n",
       "      <th>word_count</th>\n",
       "    </tr>\n",
       "  </thead>\n",
       "  <tbody>\n",
       "    <tr>\n",
       "      <th>462</th>\n",
       "      <td>20170111</td>\n",
       "      <td>-0.011718</td>\n",
       "      <td>-0.002851</td>\n",
       "      <td>-0.005247</td>\n",
       "      <td>-0.002396</td>\n",
       "      <td>0.000454</td>\n",
       "      <td>0.74</td>\n",
       "      <td>1.0</td>\n",
       "      <td>1.366671</td>\n",
       "    </tr>\n",
       "    <tr>\n",
       "      <th>463</th>\n",
       "      <td>20170112</td>\n",
       "      <td>-0.009486</td>\n",
       "      <td>-0.005279</td>\n",
       "      <td>-0.004030</td>\n",
       "      <td>0.001249</td>\n",
       "      <td>0.006528</td>\n",
       "      <td>0.03</td>\n",
       "      <td>1.0</td>\n",
       "      <td>0.553377</td>\n",
       "    </tr>\n",
       "    <tr>\n",
       "      <th>464</th>\n",
       "      <td>20170113</td>\n",
       "      <td>0.000301</td>\n",
       "      <td>-0.008417</td>\n",
       "      <td>-0.011215</td>\n",
       "      <td>-0.002797</td>\n",
       "      <td>0.005620</td>\n",
       "      <td>0.32</td>\n",
       "      <td>1.0</td>\n",
       "      <td>0.961057</td>\n",
       "    </tr>\n",
       "    <tr>\n",
       "      <th>465</th>\n",
       "      <td>20170117</td>\n",
       "      <td>0.000309</td>\n",
       "      <td>-0.001694</td>\n",
       "      <td>-0.002564</td>\n",
       "      <td>-0.000869</td>\n",
       "      <td>0.000825</td>\n",
       "      <td>-0.06</td>\n",
       "      <td>0.0</td>\n",
       "      <td>1.490124</td>\n",
       "    </tr>\n",
       "    <tr>\n",
       "      <th>466</th>\n",
       "      <td>20170118</td>\n",
       "      <td>-0.011999</td>\n",
       "      <td>-0.003801</td>\n",
       "      <td>-0.002861</td>\n",
       "      <td>0.000940</td>\n",
       "      <td>0.004740</td>\n",
       "      <td>0.21</td>\n",
       "      <td>1.0</td>\n",
       "      <td>1.845289</td>\n",
       "    </tr>\n",
       "  </tbody>\n",
       "</table>\n",
       "</div>"
      ],
      "text/plain": [
       "         Date  activity  negative_score  polarity  positive_score      tone  \\\n",
       "462  20170111 -0.011718       -0.002851 -0.005247       -0.002396  0.000454   \n",
       "463  20170112 -0.009486       -0.005279 -0.004030        0.001249  0.006528   \n",
       "464  20170113  0.000301       -0.008417 -0.011215       -0.002797  0.005620   \n",
       "465  20170117  0.000309       -0.001694 -0.002564       -0.000869  0.000825   \n",
       "466  20170118 -0.011999       -0.003801 -0.002861        0.000940  0.004740   \n",
       "\n",
       "     value  value_binary  word_count  \n",
       "462   0.74           1.0    1.366671  \n",
       "463   0.03           1.0    0.553377  \n",
       "464   0.32           1.0    0.961057  \n",
       "465  -0.06           0.0    1.490124  \n",
       "466   0.21           1.0    1.845289  "
      ]
     },
     "execution_count": 138,
     "metadata": {},
     "output_type": "execute_result"
    }
   ],
   "source": [
    "update_df = pd.read_pickle('update_df.pkl')\n",
    "update_df.tail()"
   ]
  },
  {
   "cell_type": "code",
   "execution_count": null,
   "metadata": {
    "collapsed": false
   },
   "outputs": [],
   "source": []
  },
  {
   "cell_type": "code",
   "execution_count": 96,
   "metadata": {
    "collapsed": false
   },
   "outputs": [
    {
     "data": {
      "text/html": [
       "<div>\n",
       "<table border=\"1\" class=\"dataframe\">\n",
       "  <thead>\n",
       "    <tr style=\"text-align: right;\">\n",
       "      <th></th>\n",
       "      <th>Open</th>\n",
       "      <th>High</th>\n",
       "      <th>Low</th>\n",
       "      <th>Close</th>\n",
       "      <th>Volume</th>\n",
       "    </tr>\n",
       "    <tr>\n",
       "      <th>Date</th>\n",
       "      <th></th>\n",
       "      <th></th>\n",
       "      <th></th>\n",
       "      <th></th>\n",
       "      <th></th>\n",
       "    </tr>\n",
       "  </thead>\n",
       "  <tbody>\n",
       "    <tr>\n",
       "      <th>2016-12-29</th>\n",
       "      <td>206.10</td>\n",
       "      <td>206.47</td>\n",
       "      <td>205.51</td>\n",
       "      <td>206.02</td>\n",
       "      <td>1773088</td>\n",
       "    </tr>\n",
       "    <tr>\n",
       "      <th>2016-12-30</th>\n",
       "      <td>206.37</td>\n",
       "      <td>206.43</td>\n",
       "      <td>204.51</td>\n",
       "      <td>205.31</td>\n",
       "      <td>4251400</td>\n",
       "    </tr>\n",
       "    <tr>\n",
       "      <th>2017-01-03</th>\n",
       "      <td>206.68</td>\n",
       "      <td>207.33</td>\n",
       "      <td>205.56</td>\n",
       "      <td>206.74</td>\n",
       "      <td>4750181</td>\n",
       "    </tr>\n",
       "    <tr>\n",
       "      <th>2017-01-04</th>\n",
       "      <td>207.20</td>\n",
       "      <td>208.18</td>\n",
       "      <td>207.12</td>\n",
       "      <td>207.96</td>\n",
       "      <td>4622614</td>\n",
       "    </tr>\n",
       "    <tr>\n",
       "      <th>2017-01-05</th>\n",
       "      <td>207.75</td>\n",
       "      <td>208.04</td>\n",
       "      <td>207.01</td>\n",
       "      <td>207.80</td>\n",
       "      <td>2772065</td>\n",
       "    </tr>\n",
       "  </tbody>\n",
       "</table>\n",
       "</div>"
      ],
      "text/plain": [
       "              Open    High     Low   Close   Volume\n",
       "Date                                               \n",
       "2016-12-29  206.10  206.47  205.51  206.02  1773088\n",
       "2016-12-30  206.37  206.43  204.51  205.31  4251400\n",
       "2017-01-03  206.68  207.33  205.56  206.74  4750181\n",
       "2017-01-04  207.20  208.18  207.12  207.96  4622614\n",
       "2017-01-05  207.75  208.04  207.01  207.80  2772065"
      ]
     },
     "execution_count": 96,
     "metadata": {},
     "output_type": "execute_result"
    }
   ],
   "source": [
    "start = datetime(2016, 12, 15)\n",
    "end = datetime(2017, 12, 31)\n",
    "bt = web.DataReader('VOO', 'google', start, end)\n",
    "bt.tail(5)"
   ]
  },
  {
   "cell_type": "code",
   "execution_count": null,
   "metadata": {
    "collapsed": false
   },
   "outputs": [],
   "source": []
  },
  {
   "cell_type": "code",
   "execution_count": null,
   "metadata": {
    "collapsed": false
   },
   "outputs": [],
   "source": []
  },
  {
   "cell_type": "code",
   "execution_count": null,
   "metadata": {
    "collapsed": false
   },
   "outputs": [],
   "source": [
    "#   Get the shifted slopes.  \n",
    "# Set up a system backtest confidence levels and compare to number of times the model gets it right and wrong.\n",
    "# See if there is a correlation of high confidence scores being correct more often.\n",
    "# Possibly set it up 4 tiers, High confidence, medium confidence, low confidence, no confidence\n",
    "# And see the performance of placing higher bids on higher confidences."
   ]
  },
  {
   "cell_type": "code",
   "execution_count": null,
   "metadata": {
    "collapsed": false
   },
   "outputs": [],
   "source": []
  },
  {
   "cell_type": "code",
   "execution_count": null,
   "metadata": {
    "collapsed": false
   },
   "outputs": [],
   "source": []
  },
  {
   "cell_type": "code",
   "execution_count": null,
   "metadata": {
    "collapsed": false
   },
   "outputs": [],
   "source": []
  },
  {
   "cell_type": "code",
   "execution_count": null,
   "metadata": {
    "collapsed": false
   },
   "outputs": [],
   "source": []
  },
  {
   "cell_type": "code",
   "execution_count": null,
   "metadata": {
    "collapsed": false
   },
   "outputs": [],
   "source": []
  },
  {
   "cell_type": "code",
   "execution_count": null,
   "metadata": {
    "collapsed": false
   },
   "outputs": [],
   "source": []
  },
  {
   "cell_type": "code",
   "execution_count": null,
   "metadata": {
    "collapsed": false
   },
   "outputs": [],
   "source": []
  },
  {
   "cell_type": "code",
   "execution_count": null,
   "metadata": {
    "collapsed": true
   },
   "outputs": [],
   "source": []
  },
  {
   "cell_type": "code",
   "execution_count": null,
   "metadata": {
    "collapsed": true
   },
   "outputs": [],
   "source": []
  },
  {
   "cell_type": "markdown",
   "metadata": {},
   "source": [
    "# Ensemble Prediction"
   ]
  },
  {
   "cell_type": "code",
   "execution_count": 129,
   "metadata": {
    "collapsed": false
   },
   "outputs": [
    {
     "name": "stdout",
     "output_type": "stream",
     "text": [
      "      predicted_up  predicted_down\n",
      "Up              11               8\n",
      "Down             6               6\n",
      "             precision    recall  f1-score   support\n",
      "\n",
      "        0.0       0.43      0.50      0.46        12\n",
      "        1.0       0.65      0.58      0.61        19\n",
      "\n",
      "avg / total       0.56      0.55      0.55        31\n",
      "\n"
     ]
    }
   ],
   "source": [
    "update_df = pd.read_pickle('update_df.pkl')\n",
    "update_df['word_count_mean'] = update_df['word_count'].rolling(window=7, center=False).mean()\n",
    "update_df['positive_mean'] = update_df['positive_score'].rolling(window=7, center=False).mean()\n",
    "update_df = update_df.ix[:][6:]\n",
    "update_df.reset_index(drop=True, inplace=True)\n",
    "\n",
    "\n",
    "a = -2\n",
    "b = -1\n",
    "guesses = []\n",
    "\n",
    "X_train = update_df[['activity', 'negative_score', 'polarity',\\\n",
    "                   'positive_score', 'tone', 'word_count',\\\n",
    "                   'word_count_mean', 'positive_mean']][:-1]\n",
    "Y_train = update_df['value_binary'][:-1]\n",
    "X_test = update_df[['activity', 'negative_score', 'polarity',\\\n",
    "                   'positive_score', 'tone', 'word_count',\\\n",
    "                   'word_count_mean', 'positive_mean']][-1:]\n",
    "\n",
    "#------------------------#\n",
    "guesses.append(ensemble_predict())\n",
    "#------------------------#\n",
    "\n",
    "for count in range(30):\n",
    "    X_train = update_df[['activity', 'negative_score', 'polarity',\\\n",
    "                   'positive_score', 'tone', 'word_count',\\\n",
    "                   'word_count_mean', 'positive_mean']][:a]\n",
    "    Y_train = update_df['value_binary'][:a]\n",
    "    X_test = update_df[['activity', 'negative_score', 'polarity',\\\n",
    "                   'positive_score', 'tone', 'word_count',\\\n",
    "                   'word_count_mean', 'positive_mean']][a:b]\n",
    "\n",
    "    #------------------------#\n",
    "    guesses.append(ensemble_predict())\n",
    "    #------------------------#\n",
    "    \n",
    "    a-=1\n",
    "    b-=1\n",
    "\n",
    "a+=1\n",
    "Y_test = update_df['value_binary'][a:]\n",
    "guesses.reverse()\n",
    "conmat = np.array(confusion_matrix(Y_test, guesses, labels=[1,0]))\n",
    "confusion = pd.DataFrame(conmat, index=['Up', 'Down'],\n",
    "                            columns=['predicted_up','predicted_down'])\n",
    "\n",
    "print confusion\n",
    "print classification_report(Y_test,guesses)"
   ]
  },
  {
   "cell_type": "code",
   "execution_count": null,
   "metadata": {
    "collapsed": false
   },
   "outputs": [],
   "source": []
  },
  {
   "cell_type": "code",
   "execution_count": 87,
   "metadata": {
    "collapsed": false
   },
   "outputs": [
    {
     "name": "stderr",
     "output_type": "stream",
     "text": [
      "/Users/Jesse/anaconda/lib/python2.7/site-packages/ipykernel/__main__.py:15: FutureWarning: sort(....) is deprecated, use sort_index(.....)\n"
     ]
    }
   ],
   "source": [
    "mean_accuracy = []\n",
    "\n",
    "update_df = pd.read_pickle('update_df.pkl')\n",
    "update_df['word_count_mean'] = update_df['word_count'].rolling(window=7, center=False).mean()\n",
    "update_df['positive_mean'] = update_df['positive_score'].rolling(window=7, center=False).mean()\n",
    "update_df = update_df[:-1]\n",
    "update_df.dropna(inplace=True)\n",
    "update_df.reset_index(drop=True, inplace=True)\n",
    "\n",
    "for count in range(len(update_df)):\n",
    "    guesses = []\n",
    "\n",
    "    X_train = update_df[['activity', 'negative_score', 'polarity',\\\n",
    "                       'positive_score', 'tone', 'word_count',\\\n",
    "                       'word_count_mean', 'positive_mean']][:-1]\n",
    "    Y_train = update_df['value_binary'][:-1]\n",
    "    X_test = update_df[['activity', 'negative_score', 'polarity',\\\n",
    "                       'positive_score', 'tone', 'word_count',\\\n",
    "                       'word_count_mean', 'positive_mean']][-1:]\n",
    "    Y_test = update_df['value_binary'][-1:]\n",
    "    \n",
    "    #------------------------#\n",
    "    guesses.append(ensemble_predict())\n",
    "    #------------------------#\n",
    "\n",
    "    mean_accuracy.append(precision_score(Y_test, guesses))\n",
    "    \n",
    "    putfirst(len(update_df), update_df)"
   ]
  },
  {
   "cell_type": "code",
   "execution_count": 89,
   "metadata": {
    "collapsed": false
   },
   "outputs": [
    {
     "data": {
      "text/plain": [
       "0.30973451327433627"
      ]
     },
     "execution_count": 89,
     "metadata": {},
     "output_type": "execute_result"
    }
   ],
   "source": [
    "np.mean(mean_accuracy)"
   ]
  },
  {
   "cell_type": "code",
   "execution_count": null,
   "metadata": {
    "collapsed": false
   },
   "outputs": [],
   "source": []
  },
  {
   "cell_type": "code",
   "execution_count": null,
   "metadata": {
    "collapsed": false
   },
   "outputs": [],
   "source": []
  },
  {
   "cell_type": "code",
   "execution_count": null,
   "metadata": {
    "collapsed": false
   },
   "outputs": [],
   "source": []
  },
  {
   "cell_type": "code",
   "execution_count": null,
   "metadata": {
    "collapsed": false
   },
   "outputs": [],
   "source": []
  },
  {
   "cell_type": "code",
   "execution_count": 133,
   "metadata": {
    "collapsed": false
   },
   "outputs": [
    {
     "ename": "PandasError",
     "evalue": "DataFrame constructor not properly called!",
     "output_type": "error",
     "traceback": [
      "\u001b[0;31m--------------------------------------------------------------------------\u001b[0m",
      "\u001b[0;31mPandasError\u001b[0m                              Traceback (most recent call last)",
      "\u001b[0;32m<ipython-input-133-8c72c1054ae8>\u001b[0m in \u001b[0;36m<module>\u001b[0;34m()\u001b[0m\n\u001b[1;32m     20\u001b[0m     \u001b[0;31m#--------This section needs to be re-evaluated and editted--------#  Done?\u001b[0m\u001b[0;34m\u001b[0m\u001b[0;34m\u001b[0m\u001b[0m\n\u001b[1;32m     21\u001b[0m     \u001b[0mY_test_index\u001b[0m \u001b[0;34m=\u001b[0m \u001b[0mpd\u001b[0m\u001b[0;34m.\u001b[0m\u001b[0mDataFrame\u001b[0m\u001b[0;34m(\u001b[0m\u001b[0mY_test\u001b[0m\u001b[0;34m)\u001b[0m\u001b[0;34m.\u001b[0m\u001b[0mreset_index\u001b[0m\u001b[0;34m(\u001b[0m\u001b[0;34m)\u001b[0m\u001b[0;34m\u001b[0m\u001b[0m\n\u001b[0;32m---> 22\u001b[0;31m     \u001b[0mY_test_and_predict\u001b[0m \u001b[0;34m=\u001b[0m \u001b[0mpd\u001b[0m\u001b[0;34m.\u001b[0m\u001b[0mconcat\u001b[0m\u001b[0;34m(\u001b[0m\u001b[0;34m(\u001b[0m\u001b[0mY_test_index\u001b[0m\u001b[0;34m,\u001b[0m \u001b[0mpd\u001b[0m\u001b[0;34m.\u001b[0m\u001b[0mDataFrame\u001b[0m\u001b[0;34m(\u001b[0m\u001b[0my_pred\u001b[0m\u001b[0;34m)\u001b[0m\u001b[0;34m)\u001b[0m\u001b[0;34m,\u001b[0m\u001b[0maxis\u001b[0m\u001b[0;34m=\u001b[0m\u001b[0;36m1\u001b[0m\u001b[0;34m)\u001b[0m\u001b[0;34m\u001b[0m\u001b[0m\n\u001b[0m\u001b[1;32m     23\u001b[0m \u001b[0;34m\u001b[0m\u001b[0m\n\u001b[1;32m     24\u001b[0m     \u001b[0mY_test_and_predict\u001b[0m \u001b[0;34m=\u001b[0m \u001b[0mY_test_and_predict\u001b[0m\u001b[0;34m.\u001b[0m\u001b[0mset_index\u001b[0m\u001b[0;34m(\u001b[0m\u001b[0;34m'index'\u001b[0m\u001b[0;34m)\u001b[0m\u001b[0;34m\u001b[0m\u001b[0m\n",
      "\u001b[0;32m/Users/Jesse/anaconda/lib/python2.7/site-packages/pandas/core/frame.pyc\u001b[0m in \u001b[0;36m__init__\u001b[0;34m(self, data, index, columns, dtype, copy)\u001b[0m\n\u001b[1;32m    301\u001b[0m                                          copy=False)\n\u001b[1;32m    302\u001b[0m             \u001b[0;32melse\u001b[0m\u001b[0;34m:\u001b[0m\u001b[0;34m\u001b[0m\u001b[0m\n\u001b[0;32m--> 303\u001b[0;31m                 \u001b[0;32mraise\u001b[0m \u001b[0mPandasError\u001b[0m\u001b[0;34m(\u001b[0m\u001b[0;34m'DataFrame constructor not properly called!'\u001b[0m\u001b[0;34m)\u001b[0m\u001b[0;34m\u001b[0m\u001b[0m\n\u001b[0m\u001b[1;32m    304\u001b[0m \u001b[0;34m\u001b[0m\u001b[0m\n\u001b[1;32m    305\u001b[0m         \u001b[0mNDFrame\u001b[0m\u001b[0;34m.\u001b[0m\u001b[0m__init__\u001b[0m\u001b[0;34m(\u001b[0m\u001b[0mself\u001b[0m\u001b[0;34m,\u001b[0m \u001b[0mmgr\u001b[0m\u001b[0;34m,\u001b[0m \u001b[0mfastpath\u001b[0m\u001b[0;34m=\u001b[0m\u001b[0mTrue\u001b[0m\u001b[0;34m)\u001b[0m\u001b[0;34m\u001b[0m\u001b[0m\n",
      "\u001b[0;31mPandasError\u001b[0m: DataFrame constructor not properly called!"
     ]
    }
   ],
   "source": [
    "# Tests model and compares with value change.\n",
    "# Rewrite this section to make decisions based on the 5 models\n",
    "# and then sketch win/loss based off of the ensemble.\n",
    "\n",
    "final_results = []\n",
    "default_results = []\n",
    "model_accuracy = []\n",
    "base_accuracy = []\n",
    "\n",
    "\n",
    "for count in range(10):\n",
    "    X = update_df[['activity', 'negative_score', 'polarity',\\\n",
    "                   'positive_score', 'tone', 'word_count',\\\n",
    "                   'word_count_mean', 'positive_mean']]\n",
    "    y = update_df['value_binary']\n",
    "\n",
    "    X_train, X_test, Y_train, Y_test = train_test_split(X, y, test_size=0.3, stratify=y)\n",
    "    \n",
    "    y_pred = ensemble_predict()\n",
    "\n",
    "    \n",
    "    #--------This section needs to be re-evaluated and editted--------#  Done?\n",
    "    Y_test_index = pd.DataFrame(Y_test).reset_index()\n",
    "    Y_test_and_predict = pd.concat((Y_test_index, pd.DataFrame(y_pred)),axis=1)\n",
    "\n",
    "    Y_test_and_predict = Y_test_and_predict.set_index('index')\n",
    "    Y_test_and_predict['guess'] = Y_test_and_predict[0]\n",
    "    Y_test_and_predict.pop(0)\n",
    "    \n",
    "    \n",
    "    fest = pd.concat((Y_test_and_predict, update_df['value']), axis=1).dropna()\n",
    "    fest.reset_index(drop=True, inplace=True)\n",
    "    \n",
    "    results = 0\n",
    "    for x in range(len(fest)):\n",
    "        if fest['guess'][x] == 1:\n",
    "            if fest['value_binary'][x] == fest['guess'][x]:\n",
    "                    results += abs(fest['value'][x]) \n",
    "            else:\n",
    "                    results -= abs(fest['value'][x])\n",
    "\n",
    "    #---------------------------------------------------------------#\n",
    "    \n",
    "    final_results.append(results)\n",
    "    \n",
    "    conmat = confusion_matrix(Y_test, y_pred, labels=[1,0])\n",
    "    \n",
    "    model_accuracy.append((conmat[0][0]+conmat[1][1])/float(len(Y_test)))\n",
    "    base_accuracy.append((conmat[0][0]+conmat[0][1])/float(len(Y_test)))\n",
    "    \n",
    "    default_results.append(fest['value'].sum())\n",
    "\n",
    "print \"S&P500 Model Performance:\", np.mean(final_results)\n",
    "print \"S&P500  Base Performance:\", np.mean(default_results)\n",
    "print '          Model Accuracy:', np.mean(model_accuracy)\n",
    "print '           Base Accuracy:', np.mean(base_accuracy)"
   ]
  }
 ],
 "metadata": {
  "anaconda-cloud": {},
  "kernelspec": {
   "display_name": "Python [Root]",
   "language": "python",
   "name": "Python [Root]"
  },
  "language_info": {
   "codemirror_mode": {
    "name": "ipython",
    "version": 2
   },
   "file_extension": ".py",
   "mimetype": "text/x-python",
   "name": "python",
   "nbconvert_exporter": "python",
   "pygments_lexer": "ipython2",
   "version": "2.7.12"
  },
  "toc": {
   "nav_menu": {
    "height": "120px",
    "width": "252px"
   },
   "navigate_menu": true,
   "number_sections": false,
   "sideBar": true,
   "threshold": 4,
   "toc_cell": false,
   "toc_position": {
    "height": "620px",
    "left": "0px",
    "right": "1102px",
    "top": "106px",
    "width": "159px"
   },
   "toc_section_display": "block",
   "toc_window_display": true
  }
 },
 "nbformat": 4,
 "nbformat_minor": 0
}
